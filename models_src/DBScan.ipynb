{
 "cells": [
  {
   "cell_type": "code",
   "execution_count": 1,
   "metadata": {},
   "outputs": [],
   "source": [
    "import ast\n",
    "import warnings\n",
    "import pandas as pd\n",
    "import numpy as np\n",
    "import plotly.graph_objects as go\n",
    "from sklearn.cluster import DBSCAN\n",
    "from sklearn.preprocessing import StandardScaler"
   ]
  },
  {
   "cell_type": "code",
   "execution_count": 2,
   "metadata": {},
   "outputs": [],
   "source": [
    "warnings.filterwarnings('ignore')\n",
    "\n",
    "SUBMIT_INPUT_PATH = \"../src/raw_data/submit.csv\"\n",
    "SUBMIT_OUTPUT_PATH = \"../src/submits/submit2.csv\"\n",
    "DATA_PATH = \"../src/test_denoised\""
   ]
  },
  {
   "cell_type": "markdown",
   "metadata": {},
   "source": [
    "# Кластеризация"
   ]
  },
  {
   "cell_type": "code",
   "execution_count": 24,
   "metadata": {},
   "outputs": [],
   "source": [
    "def preprocess_data(filename, data_path, eps_value=0.0005):\n",
    "    df = pd.read_csv(f'{data_path}/{filename}', names=['time', 'pressure'], sep='\\\\s+')\n",
    "\n",
    "    scaler = StandardScaler()\n",
    "    df[['time_scaled', 'pressure_scaled']] = scaler.fit_transform(df[['time', 'pressure']])\n",
    "\n",
    "    dbscan = DBSCAN(eps=eps_value, min_samples=20)\n",
    "    df['cluster'] = dbscan.fit_predict(df[['time_scaled', 'pressure_scaled']])\n",
    "    df['cluster'] = df['cluster'].apply(lambda x: 1 if x == -1 else 0)\n",
    "\n",
    "    return df"
   ]
  },
  {
   "cell_type": "markdown",
   "metadata": {},
   "source": [
    "## Функции постаброботки:"
   ]
  },
  {
   "cell_type": "code",
   "execution_count": 37,
   "metadata": {},
   "outputs": [],
   "source": [
    "# фильтрация кластеров\n",
    "def filter_clusters(df):\n",
    "    df['segment_id'] = (df['cluster'] != df['cluster'].shift()).cumsum()\n",
    "    segment_sizes = df.groupby('segment_id')['cluster'].transform('sum')\n",
    "    \n",
    "    df['clean_cluster'] = np.where((df['cluster'] == 1) & (segment_sizes >= 40), 1, 0)\n",
    "\n",
    "    df['delta_pressure'] = df['pressure'].diff().rolling(15, center=True).mean()\n",
    "    df['final_cluster'] = 0\n",
    "\n",
    "    df.loc[(df['clean_cluster'] == 1) & (df['delta_pressure'] < 0), 'final_cluster'] = 1\n",
    "    df.loc[(df['clean_cluster'] == 1) & (df['delta_pressure'] > 0), 'final_cluster'] = 2\n",
    "\n",
    "    return df\n",
    "\n",
    "# объединение близких кластреров одного вида\n",
    "def merge_clusters(df, gap_threshold=50):\n",
    "    merged_cluster = df['final_cluster'].copy()\n",
    "    prev_cluster = None\n",
    "    prev_index = None\n",
    "\n",
    "    for i in range(len(df)):\n",
    "        current_cluster = df.loc[i, 'final_cluster']\n",
    "\n",
    "        if current_cluster != 0:  \n",
    "            if (prev_cluster == current_cluster and \n",
    "                (i - prev_index) <= gap_threshold and \n",
    "                (df.loc[prev_index+1:i-1, 'final_cluster'] == 0).all()):  \n",
    "                \n",
    "                merged_cluster.iloc[prev_index:i] = current_cluster  \n",
    "\n",
    "            prev_cluster = current_cluster\n",
    "            prev_index = i  \n",
    "\n",
    "    df['final_cluster'] = merged_cluster\n",
    "    df['segment_id'] = (df['final_cluster'] != df['final_cluster'].shift()).cumsum()\n",
    "\n",
    "    return df\n",
    "\n",
    "# обработка краевых точек\n",
    "def process_boundary_clusters(df):\n",
    "    first_valid_idx = df[df['final_cluster'] != 0].index.min()\n",
    "    if first_valid_idx and first_valid_idx <= 20:  \n",
    "        df.loc[:first_valid_idx - 1, 'final_cluster'] = df.loc[first_valid_idx, 'final_cluster']\n",
    "        df.loc[:first_valid_idx - 1, 'segment_id'] = df.loc[first_valid_idx, 'segment_id']\n",
    "\n",
    "    last_valid_idx = df[df['final_cluster'] != 0].index.max()\n",
    "    if last_valid_idx and last_valid_idx >= len(df) - 20:  \n",
    "        df.loc[last_valid_idx + 1:, 'final_cluster'] = df.loc[last_valid_idx, 'final_cluster']\n",
    "        df.loc[last_valid_idx + 1:, 'segment_id'] = df.loc[last_valid_idx, 'segment_id']\n",
    "\n",
    "    return df\n",
    "\n",
    "# выделение сегментов паттернов \n",
    "def extract_segments(df):\n",
    "    drop_segments, recovery_segments = [], []\n",
    "\n",
    "    for _, group in df.groupby('segment_id'):\n",
    "        cluster_type = group['final_cluster'].iloc[0]\n",
    "        start_time, end_time = group['time'].iloc[0], group['time'].iloc[-1]\n",
    "\n",
    "        if cluster_type == 1 and df.loc[df[\"time\"] == start_time, \"pressure\"].values[0] > 0.75 and df.loc[df[\"time\"] == end_time, \"pressure\"].values[0] < 0.75:\n",
    "            drop_segments.append([start_time, end_time])\n",
    "        elif cluster_type == 2 and df.loc[df[\"time\"] == start_time, \"pressure\"].values[0] < 0.75 and df.loc[df[\"time\"] == end_time, \"pressure\"].values[0] > 0.75:\n",
    "            recovery_segments.append([start_time, end_time])\n",
    "\n",
    "    def merge_intervals(segments, gap_threshold=50):\n",
    "        merged = []\n",
    "        for interval in segments:\n",
    "            if not merged or interval[0] - merged[-1][1] > gap_threshold:\n",
    "                merged.append(interval)\n",
    "            else:\n",
    "                merged[-1][1] = interval[1]\n",
    "        return merged\n",
    "\n",
    "    return merge_intervals(drop_segments), merge_intervals(recovery_segments)\n",
    "\n"
   ]
  },
  {
   "cell_type": "markdown",
   "metadata": {},
   "source": [
    "## Обработка файла: кластеризация -> постаброботка (фильтрация -> объединение кластеров -> обработка краевых точек -> выделение паттернов)"
   ]
  },
  {
   "cell_type": "code",
   "execution_count": 38,
   "metadata": {},
   "outputs": [],
   "source": [
    "def process_file(filename, data_path):\n",
    "    df = preprocess_data(filename, data_path)   \n",
    "    df = filter_clusters(df)                   \n",
    "    df = merge_clusters(df, gap_threshold=50)   \n",
    "    df = process_boundary_clusters(df)         \n",
    "    drop_segments, recovery_segments = extract_segments(df) \n",
    "\n",
    "    return filename, recovery_segments, drop_segments, df"
   ]
  },
  {
   "cell_type": "markdown",
   "metadata": {},
   "source": [
    "# Инференс"
   ]
  },
  {
   "cell_type": "code",
   "execution_count": 39,
   "metadata": {},
   "outputs": [],
   "source": [
    "def build_submit(input_path, data_path, output_path):\n",
    "    submit_df = pd.read_csv(input_path)\n",
    "    results = []\n",
    "    \n",
    "    for file in submit_df['file']:\n",
    "        filename, recovery, drop, df_clust = process_file(file, data_path)\n",
    "        results.append({'file': filename, 'recovery': recovery, 'drop': drop})\n",
    "    \n",
    "    output_df = pd.DataFrame(results)\n",
    "    output_df.to_csv(output_path, index=False)"
   ]
  },
  {
   "cell_type": "code",
   "execution_count": 40,
   "metadata": {},
   "outputs": [],
   "source": [
    "build_submit(SUBMIT_INPUT_PATH, DATA_PATH, SUBMIT_OUTPUT_PATH)"
   ]
  },
  {
   "cell_type": "markdown",
   "metadata": {},
   "source": [
    "# Визуализация "
   ]
  },
  {
   "cell_type": "markdown",
   "metadata": {},
   "source": [
    "## Функции отрисовки"
   ]
  },
  {
   "cell_type": "code",
   "execution_count": 5,
   "metadata": {},
   "outputs": [],
   "source": [
    "def plot_data(clust_df, filename):\n",
    "    clust_df = clust_df[['time', 'pressure', 'final_cluster']]\n",
    "    clust_df.rename(columns={'final_cluster': 'cluster'}, inplace=True)\n",
    "\n",
    "    fig = go.Figure()\n",
    "    colors = {0: \"blue\", 1: \"red\", 2: \"green\"}\n",
    "\n",
    "    for cluster in clust_df[\"cluster\"].unique():\n",
    "        cluster_data = clust_df[clust_df[\"cluster\"] == cluster]\n",
    "        marker_symbol = \"circle\" if cluster != 0 else \"x\"\n",
    "        fig.add_trace(go.Scatter(\n",
    "            x=cluster_data[\"time\"], \n",
    "            y=cluster_data[\"pressure\"],\n",
    "            mode=\"markers\",\n",
    "            marker=dict(size=6, symbol=marker_symbol, color=colors.get(cluster, \"black\")),\n",
    "            name=f\"Cluster {cluster}\"\n",
    "        ))\n",
    "\n",
    "    fig.update_layout(\n",
    "        title=f\"DBSCAN Clustering ({filename})\",\n",
    "        xaxis_title=\"Time\",\n",
    "        yaxis_title=\"Pressure\",\n",
    "        showlegend=True\n",
    "    )\n",
    "\n",
    "    fig.show()"
   ]
  },
  {
   "cell_type": "code",
   "execution_count": 6,
   "metadata": {},
   "outputs": [],
   "source": [
    "def plot_data_from_submit(clust_df, filename, submit_file):\n",
    "    submit_df = pd.read_csv(submit_file)\n",
    "    file_entry = submit_df[submit_df['file'] == filename]\n",
    "    \n",
    "    recovery_intervals = ast.literal_eval(file_entry.iloc[0]['recovery'])\n",
    "    drop_intervals = ast.literal_eval(file_entry.iloc[0]['drop'])\n",
    "    \n",
    "    clust_df = clust_df[['time', 'pressure']]\n",
    "    clust_df['cluster'] = 0 \n",
    "    \n",
    "    for start, end in drop_intervals:\n",
    "        clust_df.loc[(clust_df['time'] >= start) & (clust_df['time'] <= end), 'cluster'] = 1\n",
    "    \n",
    "    for start, end in recovery_intervals:\n",
    "        clust_df.loc[(clust_df['time'] >= start) & (clust_df['time'] <= end), 'cluster'] = 2\n",
    "    \n",
    "    fig = go.Figure()\n",
    "    colors = {0: \"blue\", 1: \"red\", 2: \"green\"}\n",
    "\n",
    "    for cluster in clust_df[\"cluster\"].unique():\n",
    "        cluster_data = clust_df[clust_df[\"cluster\"] == cluster]\n",
    "        marker_symbol = \"circle\" if cluster != 0 else \"x\"\n",
    "        fig.add_trace(go.Scatter(\n",
    "            x=cluster_data[\"time\"], \n",
    "            y=cluster_data[\"pressure\"],\n",
    "            mode=\"markers\",\n",
    "            marker=dict(size=6, symbol=marker_symbol, color=colors.get(cluster, \"black\")),\n",
    "            name=f\"Cluster {cluster}\"\n",
    "        ))\n",
    "\n",
    "    fig.update_layout(\n",
    "        title=f\"Intervals from submit ({filename})\",\n",
    "        xaxis_title=\"Time\",\n",
    "        yaxis_title=\"Pressure\",\n",
    "        showlegend=True\n",
    "    )\n",
    "\n",
    "    fig.show()"
   ]
  },
  {
   "cell_type": "markdown",
   "metadata": {},
   "source": [
    "## Загрузка файла"
   ]
  },
  {
   "cell_type": "markdown",
   "metadata": {},
   "source": [
    "Интересные файлы:"
   ]
  },
  {
   "cell_type": "code",
   "execution_count": 41,
   "metadata": {},
   "outputs": [],
   "source": [
    "#0  13  37  "
   ]
  },
  {
   "cell_type": "code",
   "execution_count": 42,
   "metadata": {},
   "outputs": [],
   "source": [
    "labels_df = pd.read_csv(SUBMIT_INPUT_PATH, sep = ',')\n",
    "filename = labels_df['file'][5] # 0 - 37\n",
    "\n",
    "df = pd.read_csv(f'../src/test_denoised/{filename}', names = ['time', 'pressure'], sep = '\\\\s+')"
   ]
  },
  {
   "cell_type": "markdown",
   "metadata": {},
   "source": [
    "## Сырая кластеризация"
   ]
  },
  {
   "cell_type": "code",
   "execution_count": 43,
   "metadata": {},
   "outputs": [
    {
     "data": {
      "application/vnd.plotly.v1+json": {
       "config": {
        "plotlyServerURL": "https://plot.ly"
       },
       "data": [
        {
         "marker": {
          "color": "red",
          "size": 6,
          "symbol": "circle"
         },
         "mode": "markers",
         "name": "Cluster 1",
         "type": "scatter",
         "x": {
          "bdata": "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",
          "dtype": "f8"
         },
         "y": {
          "bdata": "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",
          "dtype": "f8"
         }
        },
        {
         "marker": {
          "color": "green",
          "size": 6,
          "symbol": "circle"
         },
         "mode": "markers",
         "name": "Cluster 2",
         "type": "scatter",
         "x": {
          "bdata": "Yd9OIiKcjkDSU+QQEaGOQGHfTiIipo5ABYcXRESsjkAurBvv7rCOQNJT5BARtY5AlBKCVVW5jkAAAAAAAL6OQAWHF0REwo5AlBKCVVXHjkDNzMzMzMqOQAAAAAAA0I5AmpmZmZkIkEDNzMzMzAqQQLb2PlVVDZBAAAAAAAAQkEAAAAAAABOQQOSiWkREFZBAAAAAAAAYkEAcXaW7uxqQQGZmZmZmHZBASgnBqqofkEDpKXKIiCCQQDMzMzMzIpBAF9aNd3ckkEBKCcGqqiSQQE+Q2O7uJpBAT5DY7u4pkEDNzMzMzCyQQH089N3dL5BASgnBqqoykEDNzMzMzDSQQM3MzMzMNpBAZmZmZmY9kEAcXaW7uz+QQH089N3dQpBAF9aNd3dFkEAX1o13d0iQQAAAAAAAS5BAsW8nERFOkEAX1o13d1CQQAAAAAAAU5BAT5DY7u5VkECamZmZmXiXQE+Q2O7ue5dAtvY+VVV8l0AcXaW7u36XQA==",
          "dtype": "f8"
         },
         "y": {
          "bdata": "HooCfSJPtj8vpS4Zx0i2P9R+aydKQrY/ZmZmZmZmtj9nmUUotoK2PzuL3qmAe7Y/l4xjJHuEtj/T2jS214K2P4Pg8e1dg7Y/o+cWuhKBtj/KiXYVUn62P6fMzTeie7Y/OzWXGwx1tD9Q4QhSKXa0P739uWjIeLQ/Z0P+mUF8tD8L7gc8MIC0P16ezhWlhLQ/F/VJ7rCJtD808nnFU4+0PyPXTSmvlbQ/LgPOUrKctD9TdvpBXaS0P96P2y+frLQ/ptJPOLu1tD+DwTV39L+0PwKAY8+ey7Q/JA7ZQLrYtD8Q6bevA+e0PzntKTkn9rQ/fjhIiPIFtT9lU67wLhe1P4TXLm04LLU/Jv+Tv3tHtT8WF0flJmq1PzTz5JoCmbU/wqG3eHjPtT9J2o0+5gO2P9k+5C1XP7Y/RGtFm+Pctj/swDkjSnu3Pz4jERrBxrk/u0VgrG9gwj/+Q/rt68CJP11PdF34wYk/oDiAft+/iT8W+mAZG7qJPw==",
          "dtype": "f8"
         }
        }
       ],
       "layout": {
        "showlegend": true,
        "template": {
         "data": {
          "bar": [
           {
            "error_x": {
             "color": "#2a3f5f"
            },
            "error_y": {
             "color": "#2a3f5f"
            },
            "marker": {
             "line": {
              "color": "#E5ECF6",
              "width": 0.5
             },
             "pattern": {
              "fillmode": "overlay",
              "size": 10,
              "solidity": 0.2
             }
            },
            "type": "bar"
           }
          ],
          "barpolar": [
           {
            "marker": {
             "line": {
              "color": "#E5ECF6",
              "width": 0.5
             },
             "pattern": {
              "fillmode": "overlay",
              "size": 10,
              "solidity": 0.2
             }
            },
            "type": "barpolar"
           }
          ],
          "carpet": [
           {
            "aaxis": {
             "endlinecolor": "#2a3f5f",
             "gridcolor": "white",
             "linecolor": "white",
             "minorgridcolor": "white",
             "startlinecolor": "#2a3f5f"
            },
            "baxis": {
             "endlinecolor": "#2a3f5f",
             "gridcolor": "white",
             "linecolor": "white",
             "minorgridcolor": "white",
             "startlinecolor": "#2a3f5f"
            },
            "type": "carpet"
           }
          ],
          "choropleth": [
           {
            "colorbar": {
             "outlinewidth": 0,
             "ticks": ""
            },
            "type": "choropleth"
           }
          ],
          "contour": [
           {
            "colorbar": {
             "outlinewidth": 0,
             "ticks": ""
            },
            "colorscale": [
             [
              0,
              "#0d0887"
             ],
             [
              0.1111111111111111,
              "#46039f"
             ],
             [
              0.2222222222222222,
              "#7201a8"
             ],
             [
              0.3333333333333333,
              "#9c179e"
             ],
             [
              0.4444444444444444,
              "#bd3786"
             ],
             [
              0.5555555555555556,
              "#d8576b"
             ],
             [
              0.6666666666666666,
              "#ed7953"
             ],
             [
              0.7777777777777778,
              "#fb9f3a"
             ],
             [
              0.8888888888888888,
              "#fdca26"
             ],
             [
              1,
              "#f0f921"
             ]
            ],
            "type": "contour"
           }
          ],
          "contourcarpet": [
           {
            "colorbar": {
             "outlinewidth": 0,
             "ticks": ""
            },
            "type": "contourcarpet"
           }
          ],
          "heatmap": [
           {
            "colorbar": {
             "outlinewidth": 0,
             "ticks": ""
            },
            "colorscale": [
             [
              0,
              "#0d0887"
             ],
             [
              0.1111111111111111,
              "#46039f"
             ],
             [
              0.2222222222222222,
              "#7201a8"
             ],
             [
              0.3333333333333333,
              "#9c179e"
             ],
             [
              0.4444444444444444,
              "#bd3786"
             ],
             [
              0.5555555555555556,
              "#d8576b"
             ],
             [
              0.6666666666666666,
              "#ed7953"
             ],
             [
              0.7777777777777778,
              "#fb9f3a"
             ],
             [
              0.8888888888888888,
              "#fdca26"
             ],
             [
              1,
              "#f0f921"
             ]
            ],
            "type": "heatmap"
           }
          ],
          "histogram": [
           {
            "marker": {
             "pattern": {
              "fillmode": "overlay",
              "size": 10,
              "solidity": 0.2
             }
            },
            "type": "histogram"
           }
          ],
          "histogram2d": [
           {
            "colorbar": {
             "outlinewidth": 0,
             "ticks": ""
            },
            "colorscale": [
             [
              0,
              "#0d0887"
             ],
             [
              0.1111111111111111,
              "#46039f"
             ],
             [
              0.2222222222222222,
              "#7201a8"
             ],
             [
              0.3333333333333333,
              "#9c179e"
             ],
             [
              0.4444444444444444,
              "#bd3786"
             ],
             [
              0.5555555555555556,
              "#d8576b"
             ],
             [
              0.6666666666666666,
              "#ed7953"
             ],
             [
              0.7777777777777778,
              "#fb9f3a"
             ],
             [
              0.8888888888888888,
              "#fdca26"
             ],
             [
              1,
              "#f0f921"
             ]
            ],
            "type": "histogram2d"
           }
          ],
          "histogram2dcontour": [
           {
            "colorbar": {
             "outlinewidth": 0,
             "ticks": ""
            },
            "colorscale": [
             [
              0,
              "#0d0887"
             ],
             [
              0.1111111111111111,
              "#46039f"
             ],
             [
              0.2222222222222222,
              "#7201a8"
             ],
             [
              0.3333333333333333,
              "#9c179e"
             ],
             [
              0.4444444444444444,
              "#bd3786"
             ],
             [
              0.5555555555555556,
              "#d8576b"
             ],
             [
              0.6666666666666666,
              "#ed7953"
             ],
             [
              0.7777777777777778,
              "#fb9f3a"
             ],
             [
              0.8888888888888888,
              "#fdca26"
             ],
             [
              1,
              "#f0f921"
             ]
            ],
            "type": "histogram2dcontour"
           }
          ],
          "mesh3d": [
           {
            "colorbar": {
             "outlinewidth": 0,
             "ticks": ""
            },
            "type": "mesh3d"
           }
          ],
          "parcoords": [
           {
            "line": {
             "colorbar": {
              "outlinewidth": 0,
              "ticks": ""
             }
            },
            "type": "parcoords"
           }
          ],
          "pie": [
           {
            "automargin": true,
            "type": "pie"
           }
          ],
          "scatter": [
           {
            "fillpattern": {
             "fillmode": "overlay",
             "size": 10,
             "solidity": 0.2
            },
            "type": "scatter"
           }
          ],
          "scatter3d": [
           {
            "line": {
             "colorbar": {
              "outlinewidth": 0,
              "ticks": ""
             }
            },
            "marker": {
             "colorbar": {
              "outlinewidth": 0,
              "ticks": ""
             }
            },
            "type": "scatter3d"
           }
          ],
          "scattercarpet": [
           {
            "marker": {
             "colorbar": {
              "outlinewidth": 0,
              "ticks": ""
             }
            },
            "type": "scattercarpet"
           }
          ],
          "scattergeo": [
           {
            "marker": {
             "colorbar": {
              "outlinewidth": 0,
              "ticks": ""
             }
            },
            "type": "scattergeo"
           }
          ],
          "scattergl": [
           {
            "marker": {
             "colorbar": {
              "outlinewidth": 0,
              "ticks": ""
             }
            },
            "type": "scattergl"
           }
          ],
          "scattermap": [
           {
            "marker": {
             "colorbar": {
              "outlinewidth": 0,
              "ticks": ""
             }
            },
            "type": "scattermap"
           }
          ],
          "scattermapbox": [
           {
            "marker": {
             "colorbar": {
              "outlinewidth": 0,
              "ticks": ""
             }
            },
            "type": "scattermapbox"
           }
          ],
          "scatterpolar": [
           {
            "marker": {
             "colorbar": {
              "outlinewidth": 0,
              "ticks": ""
             }
            },
            "type": "scatterpolar"
           }
          ],
          "scatterpolargl": [
           {
            "marker": {
             "colorbar": {
              "outlinewidth": 0,
              "ticks": ""
             }
            },
            "type": "scatterpolargl"
           }
          ],
          "scatterternary": [
           {
            "marker": {
             "colorbar": {
              "outlinewidth": 0,
              "ticks": ""
             }
            },
            "type": "scatterternary"
           }
          ],
          "surface": [
           {
            "colorbar": {
             "outlinewidth": 0,
             "ticks": ""
            },
            "colorscale": [
             [
              0,
              "#0d0887"
             ],
             [
              0.1111111111111111,
              "#46039f"
             ],
             [
              0.2222222222222222,
              "#7201a8"
             ],
             [
              0.3333333333333333,
              "#9c179e"
             ],
             [
              0.4444444444444444,
              "#bd3786"
             ],
             [
              0.5555555555555556,
              "#d8576b"
             ],
             [
              0.6666666666666666,
              "#ed7953"
             ],
             [
              0.7777777777777778,
              "#fb9f3a"
             ],
             [
              0.8888888888888888,
              "#fdca26"
             ],
             [
              1,
              "#f0f921"
             ]
            ],
            "type": "surface"
           }
          ],
          "table": [
           {
            "cells": {
             "fill": {
              "color": "#EBF0F8"
             },
             "line": {
              "color": "white"
             }
            },
            "header": {
             "fill": {
              "color": "#C8D4E3"
             },
             "line": {
              "color": "white"
             }
            },
            "type": "table"
           }
          ]
         },
         "layout": {
          "annotationdefaults": {
           "arrowcolor": "#2a3f5f",
           "arrowhead": 0,
           "arrowwidth": 1
          },
          "autotypenumbers": "strict",
          "coloraxis": {
           "colorbar": {
            "outlinewidth": 0,
            "ticks": ""
           }
          },
          "colorscale": {
           "diverging": [
            [
             0,
             "#8e0152"
            ],
            [
             0.1,
             "#c51b7d"
            ],
            [
             0.2,
             "#de77ae"
            ],
            [
             0.3,
             "#f1b6da"
            ],
            [
             0.4,
             "#fde0ef"
            ],
            [
             0.5,
             "#f7f7f7"
            ],
            [
             0.6,
             "#e6f5d0"
            ],
            [
             0.7,
             "#b8e186"
            ],
            [
             0.8,
             "#7fbc41"
            ],
            [
             0.9,
             "#4d9221"
            ],
            [
             1,
             "#276419"
            ]
           ],
           "sequential": [
            [
             0,
             "#0d0887"
            ],
            [
             0.1111111111111111,
             "#46039f"
            ],
            [
             0.2222222222222222,
             "#7201a8"
            ],
            [
             0.3333333333333333,
             "#9c179e"
            ],
            [
             0.4444444444444444,
             "#bd3786"
            ],
            [
             0.5555555555555556,
             "#d8576b"
            ],
            [
             0.6666666666666666,
             "#ed7953"
            ],
            [
             0.7777777777777778,
             "#fb9f3a"
            ],
            [
             0.8888888888888888,
             "#fdca26"
            ],
            [
             1,
             "#f0f921"
            ]
           ],
           "sequentialminus": [
            [
             0,
             "#0d0887"
            ],
            [
             0.1111111111111111,
             "#46039f"
            ],
            [
             0.2222222222222222,
             "#7201a8"
            ],
            [
             0.3333333333333333,
             "#9c179e"
            ],
            [
             0.4444444444444444,
             "#bd3786"
            ],
            [
             0.5555555555555556,
             "#d8576b"
            ],
            [
             0.6666666666666666,
             "#ed7953"
            ],
            [
             0.7777777777777778,
             "#fb9f3a"
            ],
            [
             0.8888888888888888,
             "#fdca26"
            ],
            [
             1,
             "#f0f921"
            ]
           ]
          },
          "colorway": [
           "#636efa",
           "#EF553B",
           "#00cc96",
           "#ab63fa",
           "#FFA15A",
           "#19d3f3",
           "#FF6692",
           "#B6E880",
           "#FF97FF",
           "#FECB52"
          ],
          "font": {
           "color": "#2a3f5f"
          },
          "geo": {
           "bgcolor": "white",
           "lakecolor": "white",
           "landcolor": "#E5ECF6",
           "showlakes": true,
           "showland": true,
           "subunitcolor": "white"
          },
          "hoverlabel": {
           "align": "left"
          },
          "hovermode": "closest",
          "mapbox": {
           "style": "light"
          },
          "paper_bgcolor": "white",
          "plot_bgcolor": "#E5ECF6",
          "polar": {
           "angularaxis": {
            "gridcolor": "white",
            "linecolor": "white",
            "ticks": ""
           },
           "bgcolor": "#E5ECF6",
           "radialaxis": {
            "gridcolor": "white",
            "linecolor": "white",
            "ticks": ""
           }
          },
          "scene": {
           "xaxis": {
            "backgroundcolor": "#E5ECF6",
            "gridcolor": "white",
            "gridwidth": 2,
            "linecolor": "white",
            "showbackground": true,
            "ticks": "",
            "zerolinecolor": "white"
           },
           "yaxis": {
            "backgroundcolor": "#E5ECF6",
            "gridcolor": "white",
            "gridwidth": 2,
            "linecolor": "white",
            "showbackground": true,
            "ticks": "",
            "zerolinecolor": "white"
           },
           "zaxis": {
            "backgroundcolor": "#E5ECF6",
            "gridcolor": "white",
            "gridwidth": 2,
            "linecolor": "white",
            "showbackground": true,
            "ticks": "",
            "zerolinecolor": "white"
           }
          },
          "shapedefaults": {
           "line": {
            "color": "#2a3f5f"
           }
          },
          "ternary": {
           "aaxis": {
            "gridcolor": "white",
            "linecolor": "white",
            "ticks": ""
           },
           "baxis": {
            "gridcolor": "white",
            "linecolor": "white",
            "ticks": ""
           },
           "bgcolor": "#E5ECF6",
           "caxis": {
            "gridcolor": "white",
            "linecolor": "white",
            "ticks": ""
           }
          },
          "title": {
           "x": 0.05
          },
          "xaxis": {
           "automargin": true,
           "gridcolor": "white",
           "linecolor": "white",
           "ticks": "",
           "title": {
            "standoff": 15
           },
           "zerolinecolor": "white",
           "zerolinewidth": 2
          },
          "yaxis": {
           "automargin": true,
           "gridcolor": "white",
           "linecolor": "white",
           "ticks": "",
           "title": {
            "standoff": 15
           },
           "zerolinecolor": "white",
           "zerolinewidth": 2
          }
         }
        },
        "title": {
         "text": "DBSCAN Clustering (17859c48-3b19-48d6-a79b-793390e70803)"
        },
        "xaxis": {
         "title": {
          "text": "Time"
         }
        },
        "yaxis": {
         "title": {
          "text": "Pressure"
         }
        }
       }
      }
     },
     "metadata": {},
     "output_type": "display_data"
    }
   ],
   "source": [
    "filename, recovery, drop, clust_df = process_file(filename, DATA_PATH)\n",
    "plot_data(clust_df, filename)"
   ]
  },
  {
   "cell_type": "markdown",
   "metadata": {},
   "source": [
    "## Обработанная кластеризация"
   ]
  },
  {
   "cell_type": "code",
   "execution_count": 44,
   "metadata": {},
   "outputs": [
    {
     "data": {
      "application/vnd.plotly.v1+json": {
       "config": {
        "plotlyServerURL": "https://plot.ly"
       },
       "data": [
        {
         "marker": {
          "color": "red",
          "size": 6,
          "symbol": "circle"
         },
         "mode": "markers",
         "name": "Cluster 1",
         "type": "scatter",
         "x": {
          "bdata": "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",
          "dtype": "f8"
         },
         "y": {
          "bdata": "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",
          "dtype": "f8"
         }
        },
        {
         "marker": {
          "color": "blue",
          "size": 6,
          "symbol": "x"
         },
         "mode": "markers",
         "name": "Cluster 0",
         "type": "scatter",
         "x": {
          "bdata": "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",
          "dtype": "f8"
         },
         "y": {
          "bdata": "HooCfSJPtj8vpS4Zx0i2P9R+aydKQrY/ZmZmZmZmtj9nmUUotoK2PzuL3qmAe7Y/l4xjJHuEtj/T2jS214K2P4Pg8e1dg7Y/o+cWuhKBtj/KiXYVUn62P6fMzTeie7Y/C5jArbt5tj/iP91AgXe2P/yrx32rdbY/qtbCLLRztj9ybagY52+2P2KBr+jWa7Y/exLYnINntj9Q3zKny2K2P54j8l1KXbY/qaPjamRXtj9wXwfOGVG2P1+YTBWMSrY/kbqdfeVBtj8T1zGuuDi2P5uOAG4WL7Y/liL5SiAltj/isDTwoxq2P+p6ouvCD7Y/GsIxy54Etj9yhuKON/m1P6lorP2d7bU/vmiPF9LhtT+xhovc09W1PzljmBO0ybU/6LzGLlG9tT/AkxYuq7C1P+LJbmb0o7U/uqC+ZU6XtT8gm+RH/Iq1PxO54Az+frU/IEPHDipxtT+6FcJqLGG1P09Xdyy2SbU/MdP2r6w0tT+iKNAn8iS1P0Skpl1MM7U/nMB0WrdBtT8+PEuQEVC1P3Noke18P7U/KowtBDkotT/Dg2bXvRW1P3XniedsAbU/W3ufqkIDtT+hndMs0O60P2u3XWiu07Q/B5j5Dn7itD9jQWFQptG0P9LkYgys47Q/ufscHy3OtD9K0cq9wKy0P6yOHOkMjLQ/3zMSoRFstD/Kh6Bq9Gq0PwA7N23GabQ/IR0ewvhptD+qgHueP220P5avy/CfbrQ/hLndy31ytD8LQnkfR3O0Pzs1lxsMdbQ/UOEIUil2tD+9/bloyHi0P2dD/plBfLQ/C+4HPDCAtD9ens4VpYS0Pxf1Se6wibQ/NPJ5xVOPtD8j100pr5W0Py4DzlKynLQ/U3b6QV2ktD/ej9svn6y0P6bSTzi7tbQ/g8E1d/S/tD8CgGPPnsu0PyQO2UC62LQ/EOm3rwPntD857Sk5J/a0P344SIjyBbU/ZVOu8C4XtT+E1y5tOCy1Pyb/k797R7U/FhdH5SZqtT808+SaApm1P8Kht3h4z7U/SdqNPuYDtj/ZPuQtVz+2P0RrRZvj3LY/7MA5I0p7tz8+IxEawca5P7tFYKxvYMI/IvyLoDGTyD8ixmte1VnHP5jbvdwnR70/ycaDLXb7uD9dwqG3eHi3P+AtkKD4MbY/+KQTCaaatT972uGvyRq1P2dHqu/8orQ/34eDhChftD/AJJUp5iC0P1IpdjQO9bM/4iNiSiTRsz+U2/Y96q+zP/sEUIwsmbM/rI2xE16Csz8TtwpioGuzP1JjQswlVbM/GXPXEvJBsz+wj05d+SyzP7WjOEcdHbM/S5F8JZASsz+yZmSQuwizPwSQ2sTJ/bI/8RKc+kDysj8hWivaHOeyP3ke3J2127I/RL+2fvrPsj8xQni0ccSyP/ziUpW2uLI/paFGIcmssj8sflNYqaCyP5J4eTpXlLI/IPDAAMKHsj9CJhk5C3uyP4zZklURbrI/aksd5PVgsj/de7jkuFOyPy7KbJBJRrI/E9cxrrg4sj/WARB39SqyP3dKB+v/HLI/rVEP0egOsj92FygpsACyP9SbUfNV8rE/fH+D9urjsT+5/If029exP+Oo3EQtzbE/t5p1xvfFsT8l5llJK76xPwnE6/oFu7E/FR+fkJ23sT+mJyzxgLKxP9kkP+JXrLE/2lNyTuyhsT933PC76ZaxP1oO9FDbhrE/iXrBpzl5sT+DM/j7xWyxP7vwg/OpY7E/bCV0l8RZsT8z4Zf6eVOxP/MBgc6kTbE/pDZxcr9DsT/XM4Rjlj2xP5PDJ51IMLE/byu9NhsrsT8tliL5SiCxPw+Z8iGoGrE/hlrTvOMUsT+Q2sTJ/Q6xP+W5vg8HCbE/g/jAjv8CsT8AVdy4xfywP8cQABx79rA/2CssuB/wsD/HZHH/kemwPwD9vn/z4rA/GLMlqyLcsD96yJQPQdWwP2+cFOY9zrA/+S6lLhnHsD9h304iwr+wPxPvAE9auLA/Wr3D7dCwsD80Spf+JamwP+30g7pIobA/OV6B6EmZsD/QJodPOpGwP0UNpmH4iLA/mRHeHoSAsD+A1CZO7newP/xVgO82b7A/VvXyO01msD+Osn4zMV2wP1ouG53zU7A/TifZ6nJKsD8hPrDjv0CwP9JyoIfaNrA/YcWp1sIssD8YldQJaCKwP/jhICHKF7A/bO19qgoNsD9S1QRR9wGwPyy2SUVj7a8/3j6rzJTWrz/fwU8cQL+vP3UDBd7Jp68/x4Ds9e6Prz9Ce/Xx0HevP/vNxHQhVq8/nGotzEI7rz+Q3Jp0WyKvP++P96qVCa8/aYoAp3fxrj95HtydtduuP6X5Y1qbxq4/Fk890uC2rj/yCkRPyqSuP5rudVJflq4/8rImFviKrj/0Nctlo3OuP/z/OGHCaK4/20yFeCRerj//XZ8561OuP46wqIjTSa4/scHCSZo/rj9AFMyYgjWuP89m1edqK64/XrneNlMhrj9ZTdcTXReuP1Thz/BmDa4/4zPZP08Drj/ex9EcWfmtP9lbyvli760/1O/C1mzlrT/Pg7uzdtutP8oXtJCA0a0/WWq932jHrT/ovMYuUb2tP3cP0H05s60/myDqPgCprT++MQQAx56tP3UBLzNslK0/wY9q2O+JrT+g3LbvUX+tP4ApAwe0dK0/iPNwAtNprT+Qvd798V6tP8AEbt3NU60/hQoOL4hIrT/dzr7yID2tP14QkZp2Ma0/cxB0tKolrT+wjXiymxmtPxaInpRJDa0/pP/lWrQArT/GNT6T/fOsP6SnyCHi5qw/q5Z0lIPZrD/aAkLr4cusPzHsMCb9vaw/sVJBRdWvrD/t9IO6SKGsP+XS+IVXkqw/cm9+w0SDrD9PBkfJq3OsP1QaMbPPY6w/gqs8gbBTrD8AN4sXC0OsP6c/+5EiMqw/dsWM8PYgrD8Bh1ClZg+sP0mERrBx/as/uf5dnznrqz9R9pZyvtirP6YpApzexas/I9qOqbuyqz9cxk0NNJ+rPypxHeOKi6s/tFcfD313qz/S/DGtTWOrP63ddqG5Tqs/sDvdeeI5qz9HWFTE6SSrPwby7PKtD6s/7ginBS/6qj/+nIL8bOSqPzauf9dnzqo/lzyelh+4qj+Lic3HtaGqPzwSL0/niqo/gVmhSPdzqj/vHTUmxFyqPxke+1ksRao/19zR/3Itqj9S19r7VBWqP2CQ9GkV/ak/l8YvvJLkqT/2eYzyzMupP6YnLPGAsqk/flLt0/GYqT/rO78oQX+pPxNhw9MrZak/qMe2DDhLqT/DtkWZDTKpP1n4+lqXGqk/d50N+WcGqT+jeJW1TfGoP4UjSKXY0ag/gLdAguLHqD9lGHeDaK2oP983vvbMkqg/MNrjhXR4qD+PjUC8rl+oP8eePZepSag/pDUGnRA6qD+rJLIPsiyoP1BSYAFMGag/UFJgAUwZqD9QUmABTBmoP1BSYAFMGag/UFJgAUwZqD9QUmABTBmoP1BSYAFMGag/UFJgAUwZqD9QUmABTBmoP1BSYAFMGag/UFJgAUwZqD9QUmABTBmoP1BSYAFMGag/UFJgAUwZqD9QUmABTBmoP527XS9NEag/Ece6uI0GqD802NR5VPynP+un/6z58ac/e/oI/OHnpz91jgHZ692nP9xj6UMX1Kc/1/fhICHKpz/Si9r9KsCnP80f09o0tqc/yLPLtz6spz9XBtUGJ6KnP+ZY3lUPmKc/Cmr4FtaNpz8texLYnIOnP+RKPQtCeac/MNl4sMVupz97Z7RVSWSnP+9yEd+JWac/Y35uaMpOpz98D5ccd0qnP0Hw+PauQac/Fr1TAfc8pz8EG9e/6zOnPxkbutkfKKc/wtmtZTIcpz9smKHxRBCnP6kVpu81BKc/elG7XwX4pj90CvKzkeumPxNJ9DKK5aY/8pVASuzapj9NEHUfgNSmP1Xa4hqfyaY/bZBJRs7Cpj/FVPoJZ7emP7H8+bZgqaY/nKT5Y1qbpj8cCwqDMo2mP1itTPilfqY/lE+PbRlwpj9ksOJUa2GmP1yOVyB6UqY/6SrdXWdDpj8KhnMNMzSmP1NeK6G7JKY/MPXzpiIVpj81Cd6QRgWmP8/b2OxI9aU//WzkuinlpT++vAD76NSlP6mJPh9lxKU/k1Z8Q+GzpT+loNtLGqOlP0ypS8YxkqU/hnDMsieBpT9V9l0R/G+lP7g6AOKuXqU/G3+ismFNpT+nQGZn0TulPzICKhxBKqU/UYL+Qo8YpT8FwePbuwalP02+2ebG9KQ/KXrgY7DipD8FNufgmdCkP3Ww/s9hvqQ/eekmMQispD8R4V8EjZmkPz6XqUnwhqQ//gsEATJ0pD9TP28qUmGkPzwx68VQTqQ/ueF30y07pD9eDybFxyekP5j75ChAFKQ/+WTFcHUApD+ES8ecZ+yjPzav6qwW2KM/EZAvoYLDoz8T7pV5q66jP9OHLqhvmaM/T135LM+Doz9e8dQjDW6jPyvB4nDmV6M/Y9LfS+FBoz/EYP4KmSujP/xx++WTFaM/NIP4wI7/oj8cmrLTD+qiP0d1OpD11KI/IVZ/hGHAoj+sPIGwU6yiP3nnUIaqmKI/HhX/d0SFoj+3DDhLyXKiP/LTuDe/YaI/xOqPMAxYoj849uy5TE2iPy1DHOviNqI/ATW1bK0voj/yI37FGi6iP1Ev+DQnL6I/HHxhMlUwoj8LtaZ5xymiP4QsCyb+KKI/urpjsU0qoj+FB82ueyuiP7yVJTrLLKI/00uMZfoloj86IXTQJRyiP3wKgPEMGqI/6Etvfy4aoj+YUSy3tBqiP4sbt5ifG6I/pmJjXkccoj+mYmNeRxyiPxDJkGPrGaI/Q8ajVMIToj9+5UF6ihyiPzrJVpdTAqI/rVEP0egOoj+u1LMglPehP7sKKT+p9qE/hXzQs1n1oT92a5kMx/OhP7lUpS2u8aE/geuKGeHtoT86lnfVA+ahP6lorP2d7aE/c4I2OXzSoT+SWiiZnNqhP08+PbZlwKE/mUnUCz7NoT+2EyUhkbahP3JPV3cstqE/msx4W+m1oT9XCKuxhLWhPxNE3QcgtaE/0H8PXru0oT+Mu0G0VrShP0n3cwrys6E/BTOmYI2zoT/Bbti2KLOhP36qCg3EsqE/OuY8Y1+yoT+L4H8r2bGhP0ccsoF0saE/BFjk1w+xoT9UUiegibChPxGOWfYksKE/zcmLTMCvoT8exM4UOq+hP9r/AGvVrqE/K/pDM0+uoT9cHJWbqKWhPxh9BWnGoqE//DVZox6ioT9NMJxrmKGhP3WtvU9VoaE/MunvpfCgoT/uJCL8i6ChPz8fZcQFoKE/+1qXGqGfoT+3lslwPJ+hP3TS+8bXnqE/pfRMLzGWoT9hVb38TpOhP7FPAMXIkqE/AkpDjUKSoT8qx2Rx/5GhP1JEhlW8kaE/D4C4q1eRoT9fevtz0ZChP7B0PjxLkKE/bLBwkuaPoT+9qrNaYI+hPw2l9iLajqE/8l1KXTKOoT9r1a4JaY2hP+RME7afjKE/XcR3YtaLoT/+uP3yyYqhP6hSswdagaE/eo7Idyl1oT/fiO5Z12ihP0WDFDyFXKE/Fr8prFRQoT+/fR04Z0ShP0C/79+8OKE/LUKxFTQtoT/xR1Fn7iGhP7ZN8bioFqE/DhKifEELoT9n1lJA2v+gP2+gwDv59KA/Tu0MU1vqoD8Ic7uX++SgP9xkVBnG3aA/E5uPa0PFoD//dW7ajNOgP/CJdap8z6A/SwSqfxDJoD+qtwa2SrCgP6PIWkOpvaA/1A/qIoWyoD+2ErpL4qygP/cgBORLqKA/PUM4ZtmToD89Qzhm2ZOgP4dOz7uxoKA/nE6y1eWUoD+xTpXvGYmgP+/Lme0KfaA/LEme6/twoD+RQ8TNqWSgP/c96q9XWKA/hbUxdsJLoD8TLXk8LT+gP8kh4uZUMqA/E9VbA1sloD/xRuaRPxigP2R3gZICC6A/1cxaCkj7nz8zpfW3BOCfP7n6sUl+xJ8/QFBu2/eonz8/HY8ZqIyfPz7qr1dYcJ8/jrETXoJTnz8G9phIaTafP6a3PxcNGZ8/l3Mprir7nj+wrDQpBd2ePxrggmxZvp4/rJDyk2qfnj+OO6WD9X+eP5ljeVc9YJ4/9YWQ8/4/nj94JclzfR+eP/zEAfT7/p0/gGQ6dHrenT8EBHP0+L2dP7AgzVg0nZ0/M8AF2bJ8nT+P4hx1dFydP5oK8Ui8PJ0/HaopyTocnT/yQ6URM/ucPxfYYyKl2Zw/ZOlDF9S3nD84g79fzJacP1Yo0v2cgpw/3X2OjxZnnD9dNGQ8SiWcP0g0gSIWMZw/HM78ag4QnD+gbTXrjO+bP0yKj0/Izps/SaEsfH2tmz+WsgxxrIubPzS+Ly5VaZs/WVLuPsdHmz8Y7IZtizKbP5AwDFhyFZs/KlPMQdDRmj+MFMrC19eaP5SGGoUks5o/xXWMKy6Omj/1ZP7RN2maP9VZLbDHRJo/jdE6qpogmj+kVMITev2ZP0Jg5dAi25k/xf8dUaG6mT/QJ/Ik6ZqZP2LYYUz6e5k/RYMUPIVcmT/JIk28AzyZP9NKIZBLHJk/RaD6B5EMmT9X6lkQyvuYP0CEuHL2zpg/QIS4cvbOmD9AhLhy9s6YP0CEuHL2zpg/QIS4cvbOmD9AhLhy9s6YP0CEuHL2zpg/QIS4cvbOmD9AhLhy9s6YP0CEuHL2zpg/QIS4cvbOmD9AhLhy9s6YP0CEuHL2zpg/QIS4cvbOmD9AhLhy9s6YP0CEuHL2zpg/QIS4cvbOmD9AhLhy9s6YP0CEuHL2zpg/QIS4cvbOmD9AhLhy9s6YP0CEuHL2zpg/QIS4cvbOmD9AhLhy9s6YP0CEuHL2zpg/QIS4cvbOmD9AhLhy9s6YP0CEuHL2zpg/QIS4cvbOmD9AhLhy9s6YP0CEuHL2zpg/QIS4cvbOmD9AhLhy9s6YP0CEuHL2zpg/QIS4cvbOmD9AhLhy9s6YP0CEuHL2zpg/QIS4cvbOmD9AhLhy9s6YP0CEuHL2zpg/QIS4cvbOmD9AhLhy9s6YP0CEuHL2zpg/QIS4cvbOmD9AhLhy9s6YP0CEuHL2zpg/QIS4cvbOmD9AhLhy9s6YP0CEuHL2zpg/QIS4cvbOmD9AhLhy9s6YP0CEuHL2zpg/QIS4cvbOmD8rUfaWcr6YP7NcNjrnp5g/Llc/NsmPmD/RzmkWaHeYPyNMUS6NX5g/s3kcBvNXmD8e4EkLl1WYP7/Uz5uKVJg/OEw0SMFTmD/ZQLrYtFKYP3o1QGmoUZg/86ykFd9QmD9Ep+fdWFCYP70eTIqPT5g/NZawNsZOmD+uDRXj/E2YPyeFeY8zTZg/oPzdO2pMmD8ZdELooEuYP5LrppTXSpg/C2MLQQ5KmD+D2m/tREmYP/xR1Jl7SJg/dck4RrJHmD/uQJ3y6EaYPykIHt/eNZg/QL6ECg4vmD+V8e8zLhyYP5d0lIPZBJg/iuYBLPLrlz99WG/UCtOXP5lH/mDguZc/ZDxKJTyhlz9YrrfNVIiXP3OdRloqb5c/Zw+0AkNWlz+C/kKPGD2XP57t0RvuI5c/utxgqMMKlz8mxjL9EvGWP2oy422l15Y//pjWprG9lj+T/8nfvaOWPydmvRjKiZY/DcfzGVBvlj9ywRn8/WKWP9pxw++mW5Y/gJ9x4UBIlj/ECyJS0y6WP/lmmxvTE5Y/f7xXrUz4lT8GEhQ/xtyVP7Tk8bT8wJU/izTxDvCklT+zfjMxXYiVP9rIdVPKa5U/KpDZWfROlT95Vz1gHjKVPxoZ5C7CFJU/utqK/WX3lD+DGVOwxtmUP5xSXiuhu5Q/tYtppnudlD/OxHQhVn+UPzj4wmSqYJQ/yqgyjLtBlD9cWaKzzCKUPxaHM7+aA5Q/+THmriXkkz/b3JiesMSTP+YEbXL4pJM/GapiKv2Ekz9MT1jiAWWTP6hxb37DRJM/A5SGGoUkkz+HM7+aAwSTPzNQGf8+45I/32xzY3rCkj/cgxCQL6GSPwEYz6Chf5I/dqbQeY1dkj8UsvM2NjuSPys1e6AVGJI/krJF0m70kT8hrTHohNCRPwGiYMYUrJE/ChSxiGGHkT/Bi76CNGORPwCMZ9DQP5E/75HNVfMckT88o61KIvuQP0fLgR5q25A/YASNmUS9kD+wy/CfbqCQP3gKuVLPgpA/TKQ0m8dhkD8eiCzSxDuQPyf6fJQRF5A/veMUHcnljz80EqERbFyPP19FRgckYY8/BtmyfF2Gjz9XBtUGJ6KPPyzTLxFvnY8/3j6rzJTWjz+6SnfX2ZCPPzhLyXISSo8/BkZe1sQCjz92NXnKarqOPzYf14aKcY4/l/26050njj+a0CSxpNyNP+2d0VYlkY0/73A7NCxGjT9CPujZrPqMP/QWD+85sIw/tABtq1lnjD+D+wEPDCCMP7ABEeLK2Ys/3QcgtYmTiz8w1cxaCkiLP4OieQCL/Io/saiI00m2ij+9UwH3PH+KP4AQyZBj64k/tU5cjlcgij+ygt+GGK+JP8CTFi6rsIk/z6RN1T2yiT88wf7r3LSJP6ndrwJ8t4k/xf8dUaG6iT8yHM9nQL2JP/Ayw0ZZv4k//kP67evAiT9dT3Rd+MGJP6A4gH7fv4k/FvpgGRu6iT/PpE3VPbKJP6RxqN+FrYk/jLtBtFa0iT8zT64pkNmJP4AQyZBj64k/PPTdrSzRiT/C+dSxSumJP58FobyPo4k/mzkktVAyiT+bOSS1UDKJP5s5JLVQMok/mzkktVAyiT+bOSS1UDKJP5s5JLVQMok/mzkktVAyiT+bOSS1UDKJP5s5JLVQMok/mzkktVAyiT+bOSS1UDKJP5s5JLVQMok/mzkktVAyiT+bOSS1UDKJP5s5JLVQMok/mzkktVAyiT+bOSS1UDKJP5s5JLVQMok/mzkktVAyiT+bOSS1UDKJP5s5JLVQMok/mzkktVAyiT+bOSS1UDKJP5s5JLVQMok/mzkktVAyiT+bOSS1UDKJP5s5JLVQMok/mzkktVAyiT+bOSS1UDKJP5s5JLVQMok/mzkktVAyiT+bOSS1UDKJP5s5JLVQMok/mzkktVAyiT+bOSS1UDKJP5s5JLVQMok/mzkktVAyiT+bOSS1UDKJP5s5JLVQMok/mzkktVAyiT+bOSS1UDKJP5s5JLVQMok/mzkktVAyiT+bOSS1UDKJP5s5JLVQMok/mzkktVAyiT+bOSS1UDKJP5s5JLVQMok/mzkktVAyiT+aBkXzABaJP9dQai+i7Yg/R3Nk5ZfBiD9ZiuQrgZSIP2qhZHJqZ4g/fLjkuFM6iD9y4NVyZyaIP8x/SL99HYg/AFgdOdIZiD+SO2wiMxeIPyUfuwuUFIg/deYeEr73hz8QPL69a9CHPzBkdavnpIc/UIwsmWN5hz8RqWkX00yHP4HLY83IIIc/QuigSzj0hj8DBd7Jp8eGP0onEkw1s4Y/v7UTJSGRhj+BBTBl4ICGP6aZ7nVSX4Y/F+/H7ZdPhj/siEM2kC6GP+bpXFFKCIY/ZR2OrtLdhT/jUL8LW7OFP2KE8GjjiIU/+aBns+pzhT/mIynpYWiFP/3ZjxSRYYU/dJtwr8xbhT/qXFFKCFaFPxAk7xzKUIU/NeuM74tLhT9bsirCTUaFPzB/hcyVQYU/VkYjn1c8hT8rE36pnzeFP1HaG3xhMoU/Jqd2hqkthT/7c9GQ8SiFPyE7b2OzI4U/9gfKbfsehT/M1CR4QxqFP6Ghf4KLFYU/x2gdVU0QhT+cNXhflQuFP8L8FTJXBoU/l8lwPJ8BhT+8kA4PYfyEP5JdaRmp94Q/tyQH7GryhD+N8WH2su2EP7K4/8h06IQ/2H+dmzbjhD/+Rjtu+N2EP9MTlnhA2YQ/+dozSwLUhD8fotEdxM6EP0Rpb/CFyYQ/GjbK+s3EhD8//WfNj7+EPxXKwtfXuoQ/OpFgqpm1hD8PXru04bCEP+UqFr8prIQ/af0tAfinhD8+yogLQKOEP8OcoE0On4Q/SG+4j9yahD/MQdDRqpaEPwAapUv/koQ/NPJ5xVOPhD+5xJEHIouEP+2cZoF2h4Q/IXU7+8qDhD+mR1M9mX+EPyoaa39ne4Q/y9sRTgtehD8HJjeKrDWEPw==",
          "dtype": "f8"
         }
        }
       ],
       "layout": {
        "showlegend": true,
        "template": {
         "data": {
          "bar": [
           {
            "error_x": {
             "color": "#2a3f5f"
            },
            "error_y": {
             "color": "#2a3f5f"
            },
            "marker": {
             "line": {
              "color": "#E5ECF6",
              "width": 0.5
             },
             "pattern": {
              "fillmode": "overlay",
              "size": 10,
              "solidity": 0.2
             }
            },
            "type": "bar"
           }
          ],
          "barpolar": [
           {
            "marker": {
             "line": {
              "color": "#E5ECF6",
              "width": 0.5
             },
             "pattern": {
              "fillmode": "overlay",
              "size": 10,
              "solidity": 0.2
             }
            },
            "type": "barpolar"
           }
          ],
          "carpet": [
           {
            "aaxis": {
             "endlinecolor": "#2a3f5f",
             "gridcolor": "white",
             "linecolor": "white",
             "minorgridcolor": "white",
             "startlinecolor": "#2a3f5f"
            },
            "baxis": {
             "endlinecolor": "#2a3f5f",
             "gridcolor": "white",
             "linecolor": "white",
             "minorgridcolor": "white",
             "startlinecolor": "#2a3f5f"
            },
            "type": "carpet"
           }
          ],
          "choropleth": [
           {
            "colorbar": {
             "outlinewidth": 0,
             "ticks": ""
            },
            "type": "choropleth"
           }
          ],
          "contour": [
           {
            "colorbar": {
             "outlinewidth": 0,
             "ticks": ""
            },
            "colorscale": [
             [
              0,
              "#0d0887"
             ],
             [
              0.1111111111111111,
              "#46039f"
             ],
             [
              0.2222222222222222,
              "#7201a8"
             ],
             [
              0.3333333333333333,
              "#9c179e"
             ],
             [
              0.4444444444444444,
              "#bd3786"
             ],
             [
              0.5555555555555556,
              "#d8576b"
             ],
             [
              0.6666666666666666,
              "#ed7953"
             ],
             [
              0.7777777777777778,
              "#fb9f3a"
             ],
             [
              0.8888888888888888,
              "#fdca26"
             ],
             [
              1,
              "#f0f921"
             ]
            ],
            "type": "contour"
           }
          ],
          "contourcarpet": [
           {
            "colorbar": {
             "outlinewidth": 0,
             "ticks": ""
            },
            "type": "contourcarpet"
           }
          ],
          "heatmap": [
           {
            "colorbar": {
             "outlinewidth": 0,
             "ticks": ""
            },
            "colorscale": [
             [
              0,
              "#0d0887"
             ],
             [
              0.1111111111111111,
              "#46039f"
             ],
             [
              0.2222222222222222,
              "#7201a8"
             ],
             [
              0.3333333333333333,
              "#9c179e"
             ],
             [
              0.4444444444444444,
              "#bd3786"
             ],
             [
              0.5555555555555556,
              "#d8576b"
             ],
             [
              0.6666666666666666,
              "#ed7953"
             ],
             [
              0.7777777777777778,
              "#fb9f3a"
             ],
             [
              0.8888888888888888,
              "#fdca26"
             ],
             [
              1,
              "#f0f921"
             ]
            ],
            "type": "heatmap"
           }
          ],
          "histogram": [
           {
            "marker": {
             "pattern": {
              "fillmode": "overlay",
              "size": 10,
              "solidity": 0.2
             }
            },
            "type": "histogram"
           }
          ],
          "histogram2d": [
           {
            "colorbar": {
             "outlinewidth": 0,
             "ticks": ""
            },
            "colorscale": [
             [
              0,
              "#0d0887"
             ],
             [
              0.1111111111111111,
              "#46039f"
             ],
             [
              0.2222222222222222,
              "#7201a8"
             ],
             [
              0.3333333333333333,
              "#9c179e"
             ],
             [
              0.4444444444444444,
              "#bd3786"
             ],
             [
              0.5555555555555556,
              "#d8576b"
             ],
             [
              0.6666666666666666,
              "#ed7953"
             ],
             [
              0.7777777777777778,
              "#fb9f3a"
             ],
             [
              0.8888888888888888,
              "#fdca26"
             ],
             [
              1,
              "#f0f921"
             ]
            ],
            "type": "histogram2d"
           }
          ],
          "histogram2dcontour": [
           {
            "colorbar": {
             "outlinewidth": 0,
             "ticks": ""
            },
            "colorscale": [
             [
              0,
              "#0d0887"
             ],
             [
              0.1111111111111111,
              "#46039f"
             ],
             [
              0.2222222222222222,
              "#7201a8"
             ],
             [
              0.3333333333333333,
              "#9c179e"
             ],
             [
              0.4444444444444444,
              "#bd3786"
             ],
             [
              0.5555555555555556,
              "#d8576b"
             ],
             [
              0.6666666666666666,
              "#ed7953"
             ],
             [
              0.7777777777777778,
              "#fb9f3a"
             ],
             [
              0.8888888888888888,
              "#fdca26"
             ],
             [
              1,
              "#f0f921"
             ]
            ],
            "type": "histogram2dcontour"
           }
          ],
          "mesh3d": [
           {
            "colorbar": {
             "outlinewidth": 0,
             "ticks": ""
            },
            "type": "mesh3d"
           }
          ],
          "parcoords": [
           {
            "line": {
             "colorbar": {
              "outlinewidth": 0,
              "ticks": ""
             }
            },
            "type": "parcoords"
           }
          ],
          "pie": [
           {
            "automargin": true,
            "type": "pie"
           }
          ],
          "scatter": [
           {
            "fillpattern": {
             "fillmode": "overlay",
             "size": 10,
             "solidity": 0.2
            },
            "type": "scatter"
           }
          ],
          "scatter3d": [
           {
            "line": {
             "colorbar": {
              "outlinewidth": 0,
              "ticks": ""
             }
            },
            "marker": {
             "colorbar": {
              "outlinewidth": 0,
              "ticks": ""
             }
            },
            "type": "scatter3d"
           }
          ],
          "scattercarpet": [
           {
            "marker": {
             "colorbar": {
              "outlinewidth": 0,
              "ticks": ""
             }
            },
            "type": "scattercarpet"
           }
          ],
          "scattergeo": [
           {
            "marker": {
             "colorbar": {
              "outlinewidth": 0,
              "ticks": ""
             }
            },
            "type": "scattergeo"
           }
          ],
          "scattergl": [
           {
            "marker": {
             "colorbar": {
              "outlinewidth": 0,
              "ticks": ""
             }
            },
            "type": "scattergl"
           }
          ],
          "scattermap": [
           {
            "marker": {
             "colorbar": {
              "outlinewidth": 0,
              "ticks": ""
             }
            },
            "type": "scattermap"
           }
          ],
          "scattermapbox": [
           {
            "marker": {
             "colorbar": {
              "outlinewidth": 0,
              "ticks": ""
             }
            },
            "type": "scattermapbox"
           }
          ],
          "scatterpolar": [
           {
            "marker": {
             "colorbar": {
              "outlinewidth": 0,
              "ticks": ""
             }
            },
            "type": "scatterpolar"
           }
          ],
          "scatterpolargl": [
           {
            "marker": {
             "colorbar": {
              "outlinewidth": 0,
              "ticks": ""
             }
            },
            "type": "scatterpolargl"
           }
          ],
          "scatterternary": [
           {
            "marker": {
             "colorbar": {
              "outlinewidth": 0,
              "ticks": ""
             }
            },
            "type": "scatterternary"
           }
          ],
          "surface": [
           {
            "colorbar": {
             "outlinewidth": 0,
             "ticks": ""
            },
            "colorscale": [
             [
              0,
              "#0d0887"
             ],
             [
              0.1111111111111111,
              "#46039f"
             ],
             [
              0.2222222222222222,
              "#7201a8"
             ],
             [
              0.3333333333333333,
              "#9c179e"
             ],
             [
              0.4444444444444444,
              "#bd3786"
             ],
             [
              0.5555555555555556,
              "#d8576b"
             ],
             [
              0.6666666666666666,
              "#ed7953"
             ],
             [
              0.7777777777777778,
              "#fb9f3a"
             ],
             [
              0.8888888888888888,
              "#fdca26"
             ],
             [
              1,
              "#f0f921"
             ]
            ],
            "type": "surface"
           }
          ],
          "table": [
           {
            "cells": {
             "fill": {
              "color": "#EBF0F8"
             },
             "line": {
              "color": "white"
             }
            },
            "header": {
             "fill": {
              "color": "#C8D4E3"
             },
             "line": {
              "color": "white"
             }
            },
            "type": "table"
           }
          ]
         },
         "layout": {
          "annotationdefaults": {
           "arrowcolor": "#2a3f5f",
           "arrowhead": 0,
           "arrowwidth": 1
          },
          "autotypenumbers": "strict",
          "coloraxis": {
           "colorbar": {
            "outlinewidth": 0,
            "ticks": ""
           }
          },
          "colorscale": {
           "diverging": [
            [
             0,
             "#8e0152"
            ],
            [
             0.1,
             "#c51b7d"
            ],
            [
             0.2,
             "#de77ae"
            ],
            [
             0.3,
             "#f1b6da"
            ],
            [
             0.4,
             "#fde0ef"
            ],
            [
             0.5,
             "#f7f7f7"
            ],
            [
             0.6,
             "#e6f5d0"
            ],
            [
             0.7,
             "#b8e186"
            ],
            [
             0.8,
             "#7fbc41"
            ],
            [
             0.9,
             "#4d9221"
            ],
            [
             1,
             "#276419"
            ]
           ],
           "sequential": [
            [
             0,
             "#0d0887"
            ],
            [
             0.1111111111111111,
             "#46039f"
            ],
            [
             0.2222222222222222,
             "#7201a8"
            ],
            [
             0.3333333333333333,
             "#9c179e"
            ],
            [
             0.4444444444444444,
             "#bd3786"
            ],
            [
             0.5555555555555556,
             "#d8576b"
            ],
            [
             0.6666666666666666,
             "#ed7953"
            ],
            [
             0.7777777777777778,
             "#fb9f3a"
            ],
            [
             0.8888888888888888,
             "#fdca26"
            ],
            [
             1,
             "#f0f921"
            ]
           ],
           "sequentialminus": [
            [
             0,
             "#0d0887"
            ],
            [
             0.1111111111111111,
             "#46039f"
            ],
            [
             0.2222222222222222,
             "#7201a8"
            ],
            [
             0.3333333333333333,
             "#9c179e"
            ],
            [
             0.4444444444444444,
             "#bd3786"
            ],
            [
             0.5555555555555556,
             "#d8576b"
            ],
            [
             0.6666666666666666,
             "#ed7953"
            ],
            [
             0.7777777777777778,
             "#fb9f3a"
            ],
            [
             0.8888888888888888,
             "#fdca26"
            ],
            [
             1,
             "#f0f921"
            ]
           ]
          },
          "colorway": [
           "#636efa",
           "#EF553B",
           "#00cc96",
           "#ab63fa",
           "#FFA15A",
           "#19d3f3",
           "#FF6692",
           "#B6E880",
           "#FF97FF",
           "#FECB52"
          ],
          "font": {
           "color": "#2a3f5f"
          },
          "geo": {
           "bgcolor": "white",
           "lakecolor": "white",
           "landcolor": "#E5ECF6",
           "showlakes": true,
           "showland": true,
           "subunitcolor": "white"
          },
          "hoverlabel": {
           "align": "left"
          },
          "hovermode": "closest",
          "mapbox": {
           "style": "light"
          },
          "paper_bgcolor": "white",
          "plot_bgcolor": "#E5ECF6",
          "polar": {
           "angularaxis": {
            "gridcolor": "white",
            "linecolor": "white",
            "ticks": ""
           },
           "bgcolor": "#E5ECF6",
           "radialaxis": {
            "gridcolor": "white",
            "linecolor": "white",
            "ticks": ""
           }
          },
          "scene": {
           "xaxis": {
            "backgroundcolor": "#E5ECF6",
            "gridcolor": "white",
            "gridwidth": 2,
            "linecolor": "white",
            "showbackground": true,
            "ticks": "",
            "zerolinecolor": "white"
           },
           "yaxis": {
            "backgroundcolor": "#E5ECF6",
            "gridcolor": "white",
            "gridwidth": 2,
            "linecolor": "white",
            "showbackground": true,
            "ticks": "",
            "zerolinecolor": "white"
           },
           "zaxis": {
            "backgroundcolor": "#E5ECF6",
            "gridcolor": "white",
            "gridwidth": 2,
            "linecolor": "white",
            "showbackground": true,
            "ticks": "",
            "zerolinecolor": "white"
           }
          },
          "shapedefaults": {
           "line": {
            "color": "#2a3f5f"
           }
          },
          "ternary": {
           "aaxis": {
            "gridcolor": "white",
            "linecolor": "white",
            "ticks": ""
           },
           "baxis": {
            "gridcolor": "white",
            "linecolor": "white",
            "ticks": ""
           },
           "bgcolor": "#E5ECF6",
           "caxis": {
            "gridcolor": "white",
            "linecolor": "white",
            "ticks": ""
           }
          },
          "title": {
           "x": 0.05
          },
          "xaxis": {
           "automargin": true,
           "gridcolor": "white",
           "linecolor": "white",
           "ticks": "",
           "title": {
            "standoff": 15
           },
           "zerolinecolor": "white",
           "zerolinewidth": 2
          },
          "yaxis": {
           "automargin": true,
           "gridcolor": "white",
           "linecolor": "white",
           "ticks": "",
           "title": {
            "standoff": 15
           },
           "zerolinecolor": "white",
           "zerolinewidth": 2
          }
         }
        },
        "title": {
         "text": "Intervals from submit (17859c48-3b19-48d6-a79b-793390e70803)"
        },
        "xaxis": {
         "title": {
          "text": "Time"
         }
        },
        "yaxis": {
         "title": {
          "text": "Pressure"
         }
        }
       }
      }
     },
     "metadata": {},
     "output_type": "display_data"
    }
   ],
   "source": [
    "plot_data_from_submit(clust_df, filename, SUBMIT_OUTPUT_PATH)"
   ]
  },
  {
   "cell_type": "markdown",
   "metadata": {},
   "source": [
    "## Все файлы:"
   ]
  },
  {
   "cell_type": "code",
   "execution_count": 11,
   "metadata": {},
   "outputs": [],
   "source": [
    "# for filename in labels_df['file']:\n",
    "#    df = pd.read_csv(f'../src/test_denoised/{filename}', names = ['time', 'pressure'], sep = '\\\\s+')\n",
    "#    plot_data_from_submit(df, filename, SUBMIT_OUTPUT_PATH)\n",
    "#    break"
   ]
  }
 ],
 "metadata": {
  "kernelspec": {
   "display_name": "Python 3",
   "language": "python",
   "name": "python3"
  },
  "language_info": {
   "codemirror_mode": {
    "name": "ipython",
    "version": 3
   },
   "file_extension": ".py",
   "mimetype": "text/x-python",
   "name": "python",
   "nbconvert_exporter": "python",
   "pygments_lexer": "ipython3",
   "version": "3.9.6"
  }
 },
 "nbformat": 4,
 "nbformat_minor": 2
}
