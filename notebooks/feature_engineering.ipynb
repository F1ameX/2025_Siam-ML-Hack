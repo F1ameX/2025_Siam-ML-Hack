{
 "cells": [
  {
   "cell_type": "code",
   "execution_count": 45,
   "metadata": {},
   "outputs": [],
   "source": [
    "import pandas as pd \n",
    "import ast\n",
    "from sklearn.preprocessing import MinMaxScaler\n",
    "import os\n",
    "\n",
    "os.chdir('C:/Users/shara/Projects/2025_Siam-ML-Hack')"
   ]
  },
  {
   "cell_type": "code",
   "execution_count": 52,
   "metadata": {},
   "outputs": [
    {
     "name": "stdout",
     "output_type": "stream",
     "text": [
      "           time  pressure  recovery_flag  drop_flag\n",
      "0      0.000000  0.297505              0          0\n",
      "1      0.000003  0.297505              0          0\n",
      "2      0.000055  0.297931              0          0\n",
      "3      0.000058  0.297931              0          0\n",
      "4      0.000125  0.297931              0          0\n",
      "...         ...       ...            ...        ...\n",
      "30997  0.999915  0.108552              0          0\n",
      "30998  0.999953  0.108445              0          0\n",
      "30999  0.999957  0.108445              0          0\n",
      "31000  0.999986  0.108445              0          0\n",
      "31001  1.000000  0.107379              0          0\n",
      "\n",
      "[31002 rows x 4 columns]\n"
     ]
    },
    {
     "name": "stderr",
     "output_type": "stream",
     "text": [
      "c:\\Users\\shara\\AppData\\Local\\Programs\\Python\\Python312\\Lib\\site-packages\\sklearn\\base.py:493: UserWarning: X does not have valid feature names, but MinMaxScaler was fitted with feature names\n",
      "  warnings.warn(\n",
      "c:\\Users\\shara\\AppData\\Local\\Programs\\Python\\Python312\\Lib\\site-packages\\sklearn\\base.py:493: UserWarning: X does not have valid feature names, but MinMaxScaler was fitted with feature names\n",
      "  warnings.warn(\n",
      "c:\\Users\\shara\\AppData\\Local\\Programs\\Python\\Python312\\Lib\\site-packages\\sklearn\\base.py:493: UserWarning: X does not have valid feature names, but MinMaxScaler was fitted with feature names\n",
      "  warnings.warn(\n",
      "c:\\Users\\shara\\AppData\\Local\\Programs\\Python\\Python312\\Lib\\site-packages\\sklearn\\base.py:493: UserWarning: X does not have valid feature names, but MinMaxScaler was fitted with feature names\n",
      "  warnings.warn(\n",
      "c:\\Users\\shara\\AppData\\Local\\Programs\\Python\\Python312\\Lib\\site-packages\\sklearn\\base.py:493: UserWarning: X does not have valid feature names, but MinMaxScaler was fitted with feature names\n",
      "  warnings.warn(\n",
      "c:\\Users\\shara\\AppData\\Local\\Programs\\Python\\Python312\\Lib\\site-packages\\sklearn\\base.py:493: UserWarning: X does not have valid feature names, but MinMaxScaler was fitted with feature names\n",
      "  warnings.warn(\n",
      "c:\\Users\\shara\\AppData\\Local\\Programs\\Python\\Python312\\Lib\\site-packages\\sklearn\\base.py:493: UserWarning: X does not have valid feature names, but MinMaxScaler was fitted with feature names\n",
      "  warnings.warn(\n",
      "c:\\Users\\shara\\AppData\\Local\\Programs\\Python\\Python312\\Lib\\site-packages\\sklearn\\base.py:493: UserWarning: X does not have valid feature names, but MinMaxScaler was fitted with feature names\n",
      "  warnings.warn(\n"
     ]
    }
   ],
   "source": [
    "\n",
    "def add_feature(row):\n",
    "    base_path = \"src/raw_data\"\n",
    "    \n",
    "    file_name = row.iloc[0]\n",
    "    recovery_range = ast.literal_eval(row.iloc[1])\n",
    "    drop_range = ast.literal_eval(row.iloc[2])\n",
    "\n",
    "    train_path = os.path.join(base_path, \"train\", file_name)\n",
    "    test_path = os.path.join(base_path, \"test\", file_name)\n",
    "\n",
    "    if os.path.exists(train_path):\n",
    "        file_path = train_path\n",
    "    else: \n",
    "        file_path = test_path\n",
    "\n",
    "    df = pd.read_csv(file_path, names=[\"time\", \"pressure\"], header=None, sep=\"\\t\")\n",
    "\n",
    "    scaler = MinMaxScaler()\n",
    "    df[['time', 'pressure']] = scaler.fit_transform(df[['time', 'pressure']])\n",
    "\n",
    "    df['recovery_flag'] = 0\n",
    "    df['drop_flag'] = 0\n",
    "\n",
    "    for start, end in recovery_range:\n",
    "        norm_start, norm_end = scaler.transform([[start, df['pressure'].min()]])[0][0], scaler.transform([[end, df['pressure'].min()]])[0][0]\n",
    "        df.loc[(df['time'] >= norm_start) & (df['time'] <= norm_end), 'recovery_flag'] = 1\n",
    "\n",
    "    for start, end in drop_range:\n",
    "        norm_start, norm_end = scaler.transform([[start, df['pressure'].min()]])[0][0], scaler.transform([[end, df['pressure'].min()]])[0][0]\n",
    "        df.loc[(df['time'] >= norm_start) & (df['time'] <= norm_end), 'drop_flag'] = 1\n",
    "\n",
    "    print(df)\n",
    "    return df\n",
    "\n",
    "\n",
    "ground_truth = pd.read_csv('src/raw_data/ground_truth.csv')\n",
    "row = ground_truth.iloc[0]\n",
    "df_result = add_feature(row)"
   ]
  },
  {
   "cell_type": "code",
   "execution_count": null,
   "metadata": {},
   "outputs": [],
   "source": []
  }
 ],
 "metadata": {
  "kernelspec": {
   "display_name": "Python 3",
   "language": "python",
   "name": "python3"
  },
  "language_info": {
   "codemirror_mode": {
    "name": "ipython",
    "version": 3
   },
   "file_extension": ".py",
   "mimetype": "text/x-python",
   "name": "python",
   "nbconvert_exporter": "python",
   "pygments_lexer": "ipython3",
   "version": "3.12.0"
  }
 },
 "nbformat": 4,
 "nbformat_minor": 2
}
