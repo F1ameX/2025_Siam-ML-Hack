{
 "cells": [
  {
   "cell_type": "code",
   "execution_count": 87,
   "metadata": {},
   "outputs": [],
   "source": [
    "import pandas as pd\n",
    "import numpy as np\n",
    "import os\n",
    "import plotly.express as px"
   ]
  },
  {
   "cell_type": "code",
   "execution_count": null,
   "metadata": {},
   "outputs": [],
   "source": [
    "os.chdir('../')"
   ]
  },
  {
   "cell_type": "code",
   "execution_count": 58,
   "metadata": {},
   "outputs": [
    {
     "data": {
      "text/html": [
       "<div>\n",
       "<style scoped>\n",
       "    .dataframe tbody tr th:only-of-type {\n",
       "        vertical-align: middle;\n",
       "    }\n",
       "\n",
       "    .dataframe tbody tr th {\n",
       "        vertical-align: top;\n",
       "    }\n",
       "\n",
       "    .dataframe thead th {\n",
       "        text-align: right;\n",
       "    }\n",
       "</style>\n",
       "<table border=\"1\" class=\"dataframe\">\n",
       "  <thead>\n",
       "    <tr style=\"text-align: right;\">\n",
       "      <th></th>\n",
       "      <th>time</th>\n",
       "      <th>pressure</th>\n",
       "    </tr>\n",
       "  </thead>\n",
       "  <tbody>\n",
       "    <tr>\n",
       "      <th>0</th>\n",
       "      <td>0.000000</td>\n",
       "      <td>105.163700</td>\n",
       "    </tr>\n",
       "    <tr>\n",
       "      <th>1</th>\n",
       "      <td>0.026111</td>\n",
       "      <td>105.163700</td>\n",
       "    </tr>\n",
       "    <tr>\n",
       "      <th>2</th>\n",
       "      <td>0.555000</td>\n",
       "      <td>105.202413</td>\n",
       "    </tr>\n",
       "    <tr>\n",
       "      <th>3</th>\n",
       "      <td>0.589444</td>\n",
       "      <td>105.202413</td>\n",
       "    </tr>\n",
       "    <tr>\n",
       "      <th>4</th>\n",
       "      <td>1.262500</td>\n",
       "      <td>105.202413</td>\n",
       "    </tr>\n",
       "    <tr>\n",
       "      <th>...</th>\n",
       "      <td>...</td>\n",
       "      <td>...</td>\n",
       "    </tr>\n",
       "    <tr>\n",
       "      <th>30997</th>\n",
       "      <td>10126.679722</td>\n",
       "      <td>88.013598</td>\n",
       "    </tr>\n",
       "    <tr>\n",
       "      <th>30998</th>\n",
       "      <td>10127.058889</td>\n",
       "      <td>88.003919</td>\n",
       "    </tr>\n",
       "    <tr>\n",
       "      <th>30999</th>\n",
       "      <td>10127.102222</td>\n",
       "      <td>88.003919</td>\n",
       "    </tr>\n",
       "    <tr>\n",
       "      <th>31000</th>\n",
       "      <td>10127.395833</td>\n",
       "      <td>88.003919</td>\n",
       "    </tr>\n",
       "    <tr>\n",
       "      <th>31001</th>\n",
       "      <td>10127.536389</td>\n",
       "      <td>87.907135</td>\n",
       "    </tr>\n",
       "  </tbody>\n",
       "</table>\n",
       "<p>31002 rows × 2 columns</p>\n",
       "</div>"
      ],
      "text/plain": [
       "               time    pressure\n",
       "0          0.000000  105.163700\n",
       "1          0.026111  105.163700\n",
       "2          0.555000  105.202413\n",
       "3          0.589444  105.202413\n",
       "4          1.262500  105.202413\n",
       "...             ...         ...\n",
       "30997  10126.679722   88.013598\n",
       "30998  10127.058889   88.003919\n",
       "30999  10127.102222   88.003919\n",
       "31000  10127.395833   88.003919\n",
       "31001  10127.536389   87.907135\n",
       "\n",
       "[31002 rows x 2 columns]"
      ]
     },
     "execution_count": 58,
     "metadata": {},
     "output_type": "execute_result"
    }
   ],
   "source": [
    "filename = pd.read_csv('src/raw_data/ground_truth.csv')['file'][0]\n",
    "recovery = pd.read_csv('src/raw_data/ground_truth.csv')['recovery'][0]\n",
    "drop = pd.read_csv('src/raw_data/ground_truth.csv')['drop'][0]\n",
    "\n",
    "df = pd.read_csv(f'src/raw_data/train/{filename}', sep = '\\\\s+', header = None, names = ['time', 'pressure'])\n",
    "df"
   ]
  },
  {
   "cell_type": "code",
   "execution_count": 59,
   "metadata": {},
   "outputs": [],
   "source": [
    "import ast\n",
    "\n",
    "recovery = ast.literal_eval(recovery)\n",
    "drop = ast.literal_eval(drop)"
   ]
  },
  {
   "cell_type": "code",
   "execution_count": 92,
   "metadata": {},
   "outputs": [
    {
     "name": "stderr",
     "output_type": "stream",
     "text": [
      "/var/folders/2t/hqc5fcbd6931nt_0wxntlmyr0000gn/T/ipykernel_73066/123895989.py:4: FutureWarning: Calling float on a single element Series is deprecated and will raise a TypeError in the future. Use float(ser.iloc[0]) instead\n",
      "  y1 = float(df[df['time'] == x1]['pressure'])\n",
      "/var/folders/2t/hqc5fcbd6931nt_0wxntlmyr0000gn/T/ipykernel_73066/123895989.py:7: FutureWarning: Calling float on a single element Series is deprecated and will raise a TypeError in the future. Use float(ser.iloc[0]) instead\n",
      "  y2 = float(df[df['time'] == x2]['pressure'])\n"
     ]
    }
   ],
   "source": [
    "x1, x2 = recovery[0]\n",
    "\n",
    "x1 = float(min(df[(df['time'] > x1 - 1) & (df['time'] < x1 + 1)]['time']))\n",
    "y1 = float(df[df['time'] == x1]['pressure'])\n",
    "\n",
    "x2 = float(min(df[(df['time'] > x2 - 1) & (df['time'] < x2 + 1)]['time']))\n",
    "y2 = float(df[df['time'] == x2]['pressure'])"
   ]
  },
  {
   "cell_type": "code",
   "execution_count": 93,
   "metadata": {},
   "outputs": [
    {
     "data": {
      "text/plain": [
       "((2419.980556, 79.022376), (2437.424444, 126.252906))"
      ]
     },
     "execution_count": 93,
     "metadata": {},
     "output_type": "execute_result"
    }
   ],
   "source": [
    "(x1, y1), (x2, y2)"
   ]
  },
  {
   "cell_type": "code",
   "execution_count": 94,
   "metadata": {},
   "outputs": [],
   "source": [
    "def log_func(x, A, B):\n",
    "    return A + B * np.log(x)\n",
    "\n",
    "\n",
    "B = (y2 - y1) / (np.log(x2) - np.log(x1))\n",
    "A = y1 - B * np.log(x1)\n",
    "\n",
    "x_values = np.linspace(x1, x2, 100)\n",
    "y_values = log_func(x_values, A, B)"
   ]
  },
  {
   "cell_type": "code",
   "execution_count": 98,
   "metadata": {},
   "outputs": [],
   "source": [
    "def plot_data(df, selected_file):\n",
    "    fig = px.line(df, x=\"time\", y=\"pressure\", title=f\"Visualization of {selected_file} (Reduced Data)\", markers=True)\n",
    "    fig.update_layout(xaxis_title=\"Time\", yaxis_title=\"Pressure\", template=\"plotly_white\")\n",
    "\n",
    "    fig.update_layout(\n",
    "        xaxis=dict(rangeslider=dict(visible=True), type=\"linear\"),\n",
    "        yaxis=dict(fixedrange=False),\n",
    "        legend=dict(title=\"Legend\", x=0.99, y=0.99, xanchor=\"right\", yanchor=\"top\")\n",
    "    )\n",
    "\n",
    "    log_df = pd.DataFrame({\"time\": x_values, \"pressure\": y_values})\n",
    "    fig.add_trace(px.line(log_df, x=\"time\", y=\"pressure\").data[0])\n",
    "    \n",
    "    fig.show()"
   ]
  },
  {
   "cell_type": "code",
   "execution_count": 102,
   "metadata": {},
   "outputs": [
    {
     "ename": "ValueError",
     "evalue": "Mime type rendering requires nbformat>=4.2.0 but it is not installed",
     "output_type": "error",
     "traceback": [
      "\u001b[31m---------------------------------------------------------------------------\u001b[39m",
      "\u001b[31mValueError\u001b[39m                                Traceback (most recent call last)",
      "\u001b[36mCell\u001b[39m\u001b[36m \u001b[39m\u001b[32mIn[102]\u001b[39m\u001b[32m, line 1\u001b[39m\n\u001b[32m----> \u001b[39m\u001b[32m1\u001b[39m \u001b[43mplot_data\u001b[49m\u001b[43m(\u001b[49m\u001b[43mdf\u001b[49m\u001b[43m,\u001b[49m\u001b[43m \u001b[49m\u001b[33;43m'\u001b[39;49m\u001b[33;43mrofl\u001b[39;49m\u001b[33;43m'\u001b[39;49m\u001b[43m)\u001b[49m\n",
      "\u001b[36mCell\u001b[39m\u001b[36m \u001b[39m\u001b[32mIn[98]\u001b[39m\u001b[32m, line 14\u001b[39m, in \u001b[36mplot_data\u001b[39m\u001b[34m(df, selected_file)\u001b[39m\n\u001b[32m     11\u001b[39m log_df = pd.DataFrame({\u001b[33m\"\u001b[39m\u001b[33mtime\u001b[39m\u001b[33m\"\u001b[39m: x_values, \u001b[33m\"\u001b[39m\u001b[33mpressure\u001b[39m\u001b[33m\"\u001b[39m: y_values})\n\u001b[32m     12\u001b[39m fig.add_trace(px.line(log_df, x=\u001b[33m\"\u001b[39m\u001b[33mtime\u001b[39m\u001b[33m\"\u001b[39m, y=\u001b[33m\"\u001b[39m\u001b[33mpressure\u001b[39m\u001b[33m\"\u001b[39m).data[\u001b[32m0\u001b[39m])\n\u001b[32m---> \u001b[39m\u001b[32m14\u001b[39m \u001b[43mfig\u001b[49m\u001b[43m.\u001b[49m\u001b[43mshow\u001b[49m\u001b[43m(\u001b[49m\u001b[43m)\u001b[49m\n",
      "\u001b[36mFile \u001b[39m\u001b[32m/Library/Frameworks/Python.framework/Versions/3.12/lib/python3.12/site-packages/plotly/basedatatypes.py:3398\u001b[39m, in \u001b[36mBaseFigure.show\u001b[39m\u001b[34m(self, *args, **kwargs)\u001b[39m\n\u001b[32m   3365\u001b[39m \u001b[38;5;250m\u001b[39m\u001b[33;03m\"\"\"\u001b[39;00m\n\u001b[32m   3366\u001b[39m \u001b[33;03mShow a figure using either the default renderer(s) or the renderer(s)\u001b[39;00m\n\u001b[32m   3367\u001b[39m \u001b[33;03mspecified by the renderer argument\u001b[39;00m\n\u001b[32m   (...)\u001b[39m\u001b[32m   3394\u001b[39m \u001b[33;03mNone\u001b[39;00m\n\u001b[32m   3395\u001b[39m \u001b[33;03m\"\"\"\u001b[39;00m\n\u001b[32m   3396\u001b[39m \u001b[38;5;28;01mimport\u001b[39;00m\u001b[38;5;250m \u001b[39m\u001b[34;01mplotly\u001b[39;00m\u001b[34;01m.\u001b[39;00m\u001b[34;01mio\u001b[39;00m\u001b[38;5;250m \u001b[39m\u001b[38;5;28;01mas\u001b[39;00m\u001b[38;5;250m \u001b[39m\u001b[34;01mpio\u001b[39;00m\n\u001b[32m-> \u001b[39m\u001b[32m3398\u001b[39m \u001b[38;5;28;01mreturn\u001b[39;00m \u001b[43mpio\u001b[49m\u001b[43m.\u001b[49m\u001b[43mshow\u001b[49m\u001b[43m(\u001b[49m\u001b[38;5;28;43mself\u001b[39;49m\u001b[43m,\u001b[49m\u001b[43m \u001b[49m\u001b[43m*\u001b[49m\u001b[43margs\u001b[49m\u001b[43m,\u001b[49m\u001b[43m \u001b[49m\u001b[43m*\u001b[49m\u001b[43m*\u001b[49m\u001b[43mkwargs\u001b[49m\u001b[43m)\u001b[49m\n",
      "\u001b[36mFile \u001b[39m\u001b[32m/Library/Frameworks/Python.framework/Versions/3.12/lib/python3.12/site-packages/plotly/io/_renderers.py:396\u001b[39m, in \u001b[36mshow\u001b[39m\u001b[34m(fig, renderer, validate, **kwargs)\u001b[39m\n\u001b[32m    391\u001b[39m         \u001b[38;5;28;01mraise\u001b[39;00m \u001b[38;5;167;01mValueError\u001b[39;00m(\n\u001b[32m    392\u001b[39m             \u001b[33m\"\u001b[39m\u001b[33mMime type rendering requires ipython but it is not installed\u001b[39m\u001b[33m\"\u001b[39m\n\u001b[32m    393\u001b[39m         )\n\u001b[32m    395\u001b[39m     \u001b[38;5;28;01mif\u001b[39;00m \u001b[38;5;129;01mnot\u001b[39;00m nbformat \u001b[38;5;129;01mor\u001b[39;00m LooseVersion(nbformat.__version__) < LooseVersion(\u001b[33m\"\u001b[39m\u001b[33m4.2.0\u001b[39m\u001b[33m\"\u001b[39m):\n\u001b[32m--> \u001b[39m\u001b[32m396\u001b[39m         \u001b[38;5;28;01mraise\u001b[39;00m \u001b[38;5;167;01mValueError\u001b[39;00m(\n\u001b[32m    397\u001b[39m             \u001b[33m\"\u001b[39m\u001b[33mMime type rendering requires nbformat>=4.2.0 but it is not installed\u001b[39m\u001b[33m\"\u001b[39m\n\u001b[32m    398\u001b[39m         )\n\u001b[32m    400\u001b[39m     ipython_display.display(bundle, raw=\u001b[38;5;28;01mTrue\u001b[39;00m)\n\u001b[32m    402\u001b[39m \u001b[38;5;66;03m# external renderers\u001b[39;00m\n",
      "\u001b[31mValueError\u001b[39m: Mime type rendering requires nbformat>=4.2.0 but it is not installed"
     ]
    }
   ],
   "source": [
    "plot_data(df, 'rofl')"
   ]
  },
  {
   "cell_type": "code",
   "execution_count": null,
   "metadata": {},
   "outputs": [],
   "source": []
  }
 ],
 "metadata": {
  "kernelspec": {
   "display_name": "Python 3",
   "language": "python",
   "name": "python3"
  },
  "language_info": {
   "codemirror_mode": {
    "name": "ipython",
    "version": 3
   },
   "file_extension": ".py",
   "mimetype": "text/x-python",
   "name": "python",
   "nbconvert_exporter": "python",
   "pygments_lexer": "ipython3",
   "version": "3.12.0"
  }
 },
 "nbformat": 4,
 "nbformat_minor": 2
}
