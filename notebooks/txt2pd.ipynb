{
 "cells": [
  {
   "cell_type": "code",
   "execution_count": 2,
   "id": "initial_id",
   "metadata": {
    "ExecuteTime": {
     "end_time": "2025-03-01T08:22:02.799901Z",
     "start_time": "2025-03-01T08:22:02.793986Z"
    },
    "collapsed": true
   },
   "outputs": [],
   "source": [
    "import os\n",
    "import warnings\n",
    "import pandas as pd"
   ]
  },
  {
   "cell_type": "code",
   "execution_count": 3,
   "id": "a29cbbc4cdc54614",
   "metadata": {
    "ExecuteTime": {
     "end_time": "2025-03-01T08:22:17.636423Z",
     "start_time": "2025-03-01T08:22:17.624616Z"
    },
    "collapsed": false
   },
   "outputs": [],
   "source": [
    "os.chdir('../')\n",
    "warnings.filterwarnings('ignore')"
   ]
  },
  {
   "cell_type": "code",
   "execution_count": 4,
   "id": "4baf5639ee722c38",
   "metadata": {
    "ExecuteTime": {
     "end_time": "2025-03-01T08:23:06.810081Z",
     "start_time": "2025-03-01T08:23:06.788815Z"
    },
    "collapsed": false
   },
   "outputs": [
    {
     "data": {
      "text/html": [
       "<div>\n",
       "<style scoped>\n",
       "    .dataframe tbody tr th:only-of-type {\n",
       "        vertical-align: middle;\n",
       "    }\n",
       "\n",
       "    .dataframe tbody tr th {\n",
       "        vertical-align: top;\n",
       "    }\n",
       "\n",
       "    .dataframe thead th {\n",
       "        text-align: right;\n",
       "    }\n",
       "</style>\n",
       "<table border=\"1\" class=\"dataframe\">\n",
       "  <thead>\n",
       "    <tr style=\"text-align: right;\">\n",
       "      <th></th>\n",
       "      <th>file</th>\n",
       "      <th>recovery</th>\n",
       "      <th>drop</th>\n",
       "    </tr>\n",
       "  </thead>\n",
       "  <tbody>\n",
       "    <tr>\n",
       "      <th>0</th>\n",
       "      <td>00e03657-8e1e-4c8c-a724-1d3c77b48510</td>\n",
       "      <td>[[2420.9805555555554, 2438.4241666666667], [31...</td>\n",
       "      <td>[[3454.6875, 3764.9605555555554]]</td>\n",
       "    </tr>\n",
       "    <tr>\n",
       "      <th>1</th>\n",
       "      <td>00e4dba2-36d2-42b4-beb1-c55aed75f506</td>\n",
       "      <td>[]</td>\n",
       "      <td>[[13285.465, 19439.800555555557]]</td>\n",
       "    </tr>\n",
       "    <tr>\n",
       "      <th>2</th>\n",
       "      <td>00f035b7-ad7a-4f30-9081-522a3c10805b</td>\n",
       "      <td>[]</td>\n",
       "      <td>[[0.0, 42.75]]</td>\n",
       "    </tr>\n",
       "    <tr>\n",
       "      <th>3</th>\n",
       "      <td>01a0c034-6afc-4e73-95fa-621f702a0b7d</td>\n",
       "      <td>[]</td>\n",
       "      <td>[[0.0, 491.98305555555555]]</td>\n",
       "    </tr>\n",
       "    <tr>\n",
       "      <th>4</th>\n",
       "      <td>01a530d3-6496-4515-9fbb-4f44e298fd29</td>\n",
       "      <td>[]</td>\n",
       "      <td>[[4921.376666666667, 6209.231666666667]]</td>\n",
       "    </tr>\n",
       "  </tbody>\n",
       "</table>\n",
       "</div>"
      ],
      "text/plain": [
       "                                   file  \\\n",
       "0  00e03657-8e1e-4c8c-a724-1d3c77b48510   \n",
       "1  00e4dba2-36d2-42b4-beb1-c55aed75f506   \n",
       "2  00f035b7-ad7a-4f30-9081-522a3c10805b   \n",
       "3  01a0c034-6afc-4e73-95fa-621f702a0b7d   \n",
       "4  01a530d3-6496-4515-9fbb-4f44e298fd29   \n",
       "\n",
       "                                            recovery  \\\n",
       "0  [[2420.9805555555554, 2438.4241666666667], [31...   \n",
       "1                                                 []   \n",
       "2                                                 []   \n",
       "3                                                 []   \n",
       "4                                                 []   \n",
       "\n",
       "                                       drop  \n",
       "0         [[3454.6875, 3764.9605555555554]]  \n",
       "1         [[13285.465, 19439.800555555557]]  \n",
       "2                            [[0.0, 42.75]]  \n",
       "3               [[0.0, 491.98305555555555]]  \n",
       "4  [[4921.376666666667, 6209.231666666667]]  "
      ]
     },
     "execution_count": 4,
     "metadata": {},
     "output_type": "execute_result"
    }
   ],
   "source": [
    "label = pd.read_csv('src/raw_data/ground_truth.csv')\n",
    "label.head(5)"
   ]
  },
  {
   "cell_type": "code",
   "execution_count": 5,
   "id": "d28f15587b0f4c6b",
   "metadata": {
    "ExecuteTime": {
     "end_time": "2025-03-01T08:23:09.440331Z",
     "start_time": "2025-03-01T08:23:09.419381Z"
    },
    "collapsed": false
   },
   "outputs": [
    {
     "name": "stdout",
     "output_type": "stream",
     "text": [
      "<class 'pandas.core.frame.DataFrame'>\n",
      "RangeIndex: 100 entries, 0 to 99\n",
      "Data columns (total 3 columns):\n",
      " #   Column    Non-Null Count  Dtype \n",
      "---  ------    --------------  ----- \n",
      " 0   file      100 non-null    object\n",
      " 1   recovery  100 non-null    object\n",
      " 2   drop      100 non-null    object\n",
      "dtypes: object(3)\n",
      "memory usage: 2.5+ KB\n"
     ]
    }
   ],
   "source": [
    "label.info()"
   ]
  },
  {
   "cell_type": "code",
   "execution_count": 6,
   "id": "d3c72b93a8958153",
   "metadata": {
    "ExecuteTime": {
     "end_time": "2025-03-01T08:36:01.068980Z",
     "start_time": "2025-03-01T08:36:01.026959Z"
    },
    "collapsed": false
   },
   "outputs": [],
   "source": [
    "import os\n",
    "\n",
    "filename = label['file'][0]\n",
    "with open(os.path.join('src/raw_data/train', filename), 'r') as file:\n",
    "    file_data = file.read().split('\\n')\n",
    "\n",
    "file_data.remove('')\n",
    "\n",
    "times = []\n",
    "pressure = []\n",
    "for i in range(len(file_data)):\n",
    "    file_data[i] = file_data[i].split('\\t')\n",
    "    times.append(file_data[i][0])\n",
    "    pressure.append(file_data[i][1])\n",
    "\n",
    "times.sort()\n",
    "pressure.sort()\n",
    "file_df = pd.DataFrame(data={'time': times, 'pressure': pressure})"
   ]
  },
  {
   "cell_type": "code",
   "execution_count": 7,
   "id": "c600b815cc6a3e55",
   "metadata": {
    "collapsed": false
   },
   "outputs": [
    {
     "data": {
      "text/html": [
       "<div>\n",
       "<style scoped>\n",
       "    .dataframe tbody tr th:only-of-type {\n",
       "        vertical-align: middle;\n",
       "    }\n",
       "\n",
       "    .dataframe tbody tr th {\n",
       "        vertical-align: top;\n",
       "    }\n",
       "\n",
       "    .dataframe thead th {\n",
       "        text-align: right;\n",
       "    }\n",
       "</style>\n",
       "<table border=\"1\" class=\"dataframe\">\n",
       "  <thead>\n",
       "    <tr style=\"text-align: right;\">\n",
       "      <th></th>\n",
       "      <th>time</th>\n",
       "      <th>pressure</th>\n",
       "    </tr>\n",
       "  </thead>\n",
       "  <tbody>\n",
       "    <tr>\n",
       "      <th>0</th>\n",
       "      <td>0.000000</td>\n",
       "      <td>100.005119</td>\n",
       "    </tr>\n",
       "    <tr>\n",
       "      <th>1</th>\n",
       "      <td>0.026111</td>\n",
       "      <td>100.005119</td>\n",
       "    </tr>\n",
       "    <tr>\n",
       "      <th>2</th>\n",
       "      <td>0.555000</td>\n",
       "      <td>100.005119</td>\n",
       "    </tr>\n",
       "    <tr>\n",
       "      <th>3</th>\n",
       "      <td>0.589444</td>\n",
       "      <td>100.005119</td>\n",
       "    </tr>\n",
       "    <tr>\n",
       "      <th>4</th>\n",
       "      <td>1.262500</td>\n",
       "      <td>100.005119</td>\n",
       "    </tr>\n",
       "    <tr>\n",
       "      <th>...</th>\n",
       "      <td>...</td>\n",
       "      <td>...</td>\n",
       "    </tr>\n",
       "    <tr>\n",
       "      <th>30997</th>\n",
       "      <td>9997.987500</td>\n",
       "      <td>99.995441</td>\n",
       "    </tr>\n",
       "    <tr>\n",
       "      <th>30998</th>\n",
       "      <td>9998.450556</td>\n",
       "      <td>99.995441</td>\n",
       "    </tr>\n",
       "    <tr>\n",
       "      <th>30999</th>\n",
       "      <td>9998.492222</td>\n",
       "      <td>99.995441</td>\n",
       "    </tr>\n",
       "    <tr>\n",
       "      <th>31000</th>\n",
       "      <td>9999.329444</td>\n",
       "      <td>99.995441</td>\n",
       "    </tr>\n",
       "    <tr>\n",
       "      <th>31001</th>\n",
       "      <td>9999.413056</td>\n",
       "      <td>99.995441</td>\n",
       "    </tr>\n",
       "  </tbody>\n",
       "</table>\n",
       "<p>31002 rows × 2 columns</p>\n",
       "</div>"
      ],
      "text/plain": [
       "              time    pressure\n",
       "0         0.000000  100.005119\n",
       "1         0.026111  100.005119\n",
       "2         0.555000  100.005119\n",
       "3         0.589444  100.005119\n",
       "4         1.262500  100.005119\n",
       "...            ...         ...\n",
       "30997  9997.987500   99.995441\n",
       "30998  9998.450556   99.995441\n",
       "30999  9998.492222   99.995441\n",
       "31000  9999.329444   99.995441\n",
       "31001  9999.413056   99.995441\n",
       "\n",
       "[31002 rows x 2 columns]"
      ]
     },
     "execution_count": 7,
     "metadata": {},
     "output_type": "execute_result"
    }
   ],
   "source": [
    "file_df"
   ]
  },
  {
   "cell_type": "code",
   "execution_count": null,
   "id": "af451cde",
   "metadata": {},
   "outputs": [],
   "source": []
  },
  {
   "cell_type": "code",
   "execution_count": null,
   "id": "17ae088f",
   "metadata": {},
   "outputs": [],
   "source": []
  }
 ],
 "metadata": {
  "kernelspec": {
   "display_name": "Python 3",
   "language": "python",
   "name": "python3"
  },
  "language_info": {
   "codemirror_mode": {
    "name": "ipython",
    "version": 3
   },
   "file_extension": ".py",
   "mimetype": "text/x-python",
   "name": "python",
   "nbconvert_exporter": "python",
   "pygments_lexer": "ipython3",
   "version": "3.12.0"
  }
 },
 "nbformat": 4,
 "nbformat_minor": 5
}
