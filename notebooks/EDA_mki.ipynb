{
 "cells": [
  {
   "cell_type": "code",
   "execution_count": 96,
   "metadata": {},
   "outputs": [],
   "source": [
    "import os\n",
    "import numpy as np\n",
    "import pandas as pd\n",
    "import plotly.express as px\n",
    "import plotly.graph_objects as go\n",
    "from sklearn.metrics import mean_absolute_error"
   ]
  },
  {
   "cell_type": "markdown",
   "metadata": {},
   "source": [
    "# Вспомогательные функции"
   ]
  },
  {
   "cell_type": "markdown",
   "metadata": {},
   "source": [
    "## Функция для отрисовки графика размеченных данных"
   ]
  },
  {
   "cell_type": "code",
   "execution_count": 69,
   "metadata": {},
   "outputs": [],
   "source": [
    "def plot_annotated_data(df, gt_df, selected_file):\n",
    "    events = gt_df[gt_df[\"file\"] == selected_file][[\"recovery\", \"drop\"]].values[0]\n",
    "    recovery_intervals = eval(events[0]) if isinstance(events[0], str) else []\n",
    "    drop_intervals = eval(events[1]) if isinstance(events[1], str) else []\n",
    "\n",
    "    fig = px.line(df, x=\"time\", y=\"pressure\", title=f\"Visualization of {selected_file} (Reduced Data)\", markers=True)\n",
    "    fig.update_layout(xaxis_title=\"Time\", yaxis_title=\"Pressure\", template=\"plotly_white\")\n",
    "\n",
    "    for start, end in recovery_intervals:\n",
    "        fig.add_vrect(x0=start, x1=end, fillcolor=\"green\", opacity=0.3, layer=\"below\", line_width=0, name=\"Recovery\")\n",
    "        fig.add_trace(go.Scatter(x=[start, end], y=[df[\"pressure\"].max(), df[\"pressure\"].max()],\n",
    "                                    mode=\"lines\", line=dict(color=\"green\", width=4), name=\"Recovery (Bold)\"))\n",
    "\n",
    "    for start, end in drop_intervals:\n",
    "        fig.add_vrect(x0=start, x1=end, fillcolor=\"red\", opacity=0.3, layer=\"below\", line_width=0, name=\"Drop\")\n",
    "        fig.add_trace(go.Scatter(x=[start, end], y=[df[\"pressure\"].min(), df[\"pressure\"].min()],\n",
    "                                    mode=\"lines\", line=dict(color=\"red\", width=4), name=\"Drop (Bold)\"))\n",
    "\n",
    "    fig.update_layout(\n",
    "        xaxis=dict(rangeslider=dict(visible=True), type=\"linear\"),\n",
    "        yaxis=dict(fixedrange=False),\n",
    "        legend=dict(title=\"Legend\", x=0.99, y=0.99, xanchor=\"right\", yanchor=\"top\")\n",
    "        )\n",
    "\n",
    "    fig.show()"
   ]
  },
  {
   "cell_type": "markdown",
   "metadata": {},
   "source": [
    "## Функция для отрисовки графика неразмеченных данных"
   ]
  },
  {
   "cell_type": "code",
   "execution_count": 151,
   "metadata": {},
   "outputs": [],
   "source": [
    "def plot_data(df, selected_file):\n",
    "    fig = px.line(df, x=\"time\", y=\"pressure\", title=f\"Visualization of {selected_file} (Reduced Data)\", markers=True)\n",
    "    fig.update_layout(xaxis_title=\"Time\", yaxis_title=\"Pressure\", template=\"plotly_white\")\n",
    "\n",
    "    fig.update_layout(\n",
    "        xaxis=dict(rangeslider=dict(visible=True), type=\"linear\"),\n",
    "        yaxis=dict(fixedrange=False),\n",
    "        legend=dict(title=\"Legend\", x=0.99, y=0.99, xanchor=\"right\", yanchor=\"top\")\n",
    "        )\n",
    "\n",
    "    fig.show()"
   ]
  },
  {
   "cell_type": "markdown",
   "metadata": {},
   "source": [
    "## Функция для вычисления MAE по частотному спектру"
   ]
  },
  {
   "cell_type": "code",
   "execution_count": 97,
   "metadata": {},
   "outputs": [],
   "source": [
    "def fft_mae(df, df_reduced):\n",
    "    fft_original = np.abs(np.fft.fft(df[\"pressure\"]))\n",
    "    fft_reduced = np.abs(np.fft.fft(df_reduced[\"pressure\"]))\n",
    "    \n",
    "    min_len = min(len(fft_original), len(fft_reduced))\n",
    "    return mean_absolute_error(fft_original[:min_len], fft_reduced[:min_len])"
   ]
  },
  {
   "cell_type": "markdown",
   "metadata": {},
   "source": [
    "# EDA"
   ]
  },
  {
   "cell_type": "markdown",
   "metadata": {},
   "source": [
    "## Анализ размеченных данных"
   ]
  },
  {
   "cell_type": "code",
   "execution_count": 71,
   "metadata": {},
   "outputs": [],
   "source": [
    "train_dir = \"../src/raw_data/train\"\n",
    "ground_truth_path = \"../src/raw_data/ground_truth.csv\"\n",
    "\n",
    "gt_df = pd.read_csv(ground_truth_path)\n",
    "annotated_files = gt_df[\"file\"].tolist()"
   ]
  },
  {
   "cell_type": "code",
   "execution_count": 110,
   "metadata": {},
   "outputs": [],
   "source": [
    "selected_file = annotated_files[4]\n",
    "file_path = os.path.join(train_dir, selected_file)"
   ]
  },
  {
   "cell_type": "code",
   "execution_count": 111,
   "metadata": {},
   "outputs": [],
   "source": [
    "df = pd.read_csv(file_path, sep=\"\\\\s+\", header=None, names=[\"time\", \"pressure\"])"
   ]
  },
  {
   "cell_type": "markdown",
   "metadata": {},
   "source": [
    "### Понижение размерности"
   ]
  },
  {
   "cell_type": "markdown",
   "metadata": {},
   "source": [
    "Отклонение давления соседних записей:"
   ]
  },
  {
   "cell_type": "code",
   "execution_count": 112,
   "metadata": {},
   "outputs": [
    {
     "name": "stdout",
     "output_type": "stream",
     "text": [
      "Max diff: 62.909517\n",
      "Min diff: 0.0\n"
     ]
    }
   ],
   "source": [
    "pressure_diffs = df[\"pressure\"].diff().abs().dropna()\n",
    "\n",
    "max_pressure_diff = pressure_diffs.max()\n",
    "min_pressure_diff = pressure_diffs.min()\n",
    "\n",
    "print(f\"Max diff: {max_pressure_diff}\")\n",
    "print(f\"Min diff: {min_pressure_diff}\")"
   ]
  },
  {
   "cell_type": "code",
   "execution_count": 146,
   "metadata": {},
   "outputs": [
    {
     "data": {
      "text/plain": [
       "count    16928.000000\n",
       "mean         0.527282\n",
       "std          0.921540\n",
       "min          0.006111\n",
       "25%          0.025834\n",
       "50%          0.642361\n",
       "75%          0.906389\n",
       "max         80.460556\n",
       "Name: time, dtype: float64"
      ]
     },
     "execution_count": 146,
     "metadata": {},
     "output_type": "execute_result"
    }
   ],
   "source": [
    "pressure_diffs.describe()"
   ]
  },
  {
   "cell_type": "markdown",
   "metadata": {},
   "source": [
    "Отклонение времени соседних записей:"
   ]
  },
  {
   "cell_type": "code",
   "execution_count": 147,
   "metadata": {},
   "outputs": [
    {
     "name": "stdout",
     "output_type": "stream",
     "text": [
      "Max diff: 80.460556\n",
      "Min diff: 0.006110999999691558\n"
     ]
    }
   ],
   "source": [
    "pressure_diffs = df[\"time\"].diff().dropna()\n",
    "\n",
    "max_pressure_diff = pressure_diffs.max()\n",
    "min_pressure_diff = pressure_diffs.min()\n",
    "\n",
    "mean_time_diff = pressure_diffs.mean()\n",
    "print(f\"Max diff: {max_pressure_diff}\")\n",
    "print(f\"Min diff: {min_pressure_diff}\")"
   ]
  },
  {
   "cell_type": "code",
   "execution_count": 116,
   "metadata": {},
   "outputs": [
    {
     "data": {
      "text/html": [
       "<div>\n",
       "<style scoped>\n",
       "    .dataframe tbody tr th:only-of-type {\n",
       "        vertical-align: middle;\n",
       "    }\n",
       "\n",
       "    .dataframe tbody tr th {\n",
       "        vertical-align: top;\n",
       "    }\n",
       "\n",
       "    .dataframe thead th {\n",
       "        text-align: right;\n",
       "    }\n",
       "</style>\n",
       "<table border=\"1\" class=\"dataframe\">\n",
       "  <thead>\n",
       "    <tr style=\"text-align: right;\">\n",
       "      <th></th>\n",
       "      <th>time</th>\n",
       "      <th>pressure</th>\n",
       "    </tr>\n",
       "  </thead>\n",
       "  <tbody>\n",
       "    <tr>\n",
       "      <th>0</th>\n",
       "      <td>0.000000</td>\n",
       "      <td>38.335304</td>\n",
       "    </tr>\n",
       "    <tr>\n",
       "      <th>1</th>\n",
       "      <td>0.031111</td>\n",
       "      <td>38.335304</td>\n",
       "    </tr>\n",
       "    <tr>\n",
       "      <th>2</th>\n",
       "      <td>0.823889</td>\n",
       "      <td>38.335304</td>\n",
       "    </tr>\n",
       "    <tr>\n",
       "      <th>3</th>\n",
       "      <td>0.840000</td>\n",
       "      <td>38.335304</td>\n",
       "    </tr>\n",
       "    <tr>\n",
       "      <th>4</th>\n",
       "      <td>1.606944</td>\n",
       "      <td>38.335304</td>\n",
       "    </tr>\n",
       "    <tr>\n",
       "      <th>...</th>\n",
       "      <td>...</td>\n",
       "      <td>...</td>\n",
       "    </tr>\n",
       "    <tr>\n",
       "      <th>16924</th>\n",
       "      <td>8923.243333</td>\n",
       "      <td>36.399626</td>\n",
       "    </tr>\n",
       "    <tr>\n",
       "      <th>16925</th>\n",
       "      <td>8924.030556</td>\n",
       "      <td>37.367465</td>\n",
       "    </tr>\n",
       "    <tr>\n",
       "      <th>16926</th>\n",
       "      <td>8924.867222</td>\n",
       "      <td>37.367465</td>\n",
       "    </tr>\n",
       "    <tr>\n",
       "      <th>16927</th>\n",
       "      <td>8924.885556</td>\n",
       "      <td>37.367465</td>\n",
       "    </tr>\n",
       "    <tr>\n",
       "      <th>16928</th>\n",
       "      <td>8925.823056</td>\n",
       "      <td>36.399626</td>\n",
       "    </tr>\n",
       "  </tbody>\n",
       "</table>\n",
       "<p>16929 rows × 2 columns</p>\n",
       "</div>"
      ],
      "text/plain": [
       "              time   pressure\n",
       "0         0.000000  38.335304\n",
       "1         0.031111  38.335304\n",
       "2         0.823889  38.335304\n",
       "3         0.840000  38.335304\n",
       "4         1.606944  38.335304\n",
       "...            ...        ...\n",
       "16924  8923.243333  36.399626\n",
       "16925  8924.030556  37.367465\n",
       "16926  8924.867222  37.367465\n",
       "16927  8924.885556  37.367465\n",
       "16928  8925.823056  36.399626\n",
       "\n",
       "[16929 rows x 2 columns]"
      ]
     },
     "execution_count": 116,
     "metadata": {},
     "output_type": "execute_result"
    }
   ],
   "source": [
    "df"
   ]
  },
  {
   "cell_type": "markdown",
   "metadata": {},
   "source": [
    "Записи, значение pressure которых отличаются от значения предыдущей записи меньше чем на threshold, будут удалены"
   ]
  },
  {
   "cell_type": "code",
   "execution_count": 149,
   "metadata": {},
   "outputs": [
    {
     "data": {
      "application/vnd.plotly.v1+json": {
       "config": {
        "plotlyServerURL": "https://plot.ly"
       },
       "data": [
        {
         "hovertemplate": "Threshold=%{x}<br>FFT MAE=%{y}<extra></extra>",
         "legendgroup": "",
         "line": {
          "color": "#636efa",
          "dash": "solid"
         },
         "marker": {
          "symbol": "circle"
         },
         "mode": "lines+markers",
         "name": "",
         "orientation": "v",
         "showlegend": false,
         "type": "scatter",
         "x": {
          "bdata": "exSuR+F6hD+7SQwCK4eGP4G3QILix4g/qJat9UVCiz+5JXLBGfyNPyb7MffafZA/RJRQdgokkj9L1ovocfSTP+2eZhlK85U/0q696DclmD+Bc50ZV4+aP9vLxjVGN50/H/DG0JkRoD9WO0H/9ayhP6wnLv90caM/CpJ/5TNjpT/YUwwWuYanP9X1c8v+4Kk/BSiZrH53rD/TeKiKPlCvP6h1qTLvOLE/Bpvt6tPxsj8hxGuCz9a0P4skEKlK7LY/Zlsr7R43uT+K5OIEory7P5gukziygr4/biaEBeLHwD8T96qfeHXCPy92oq8ETsQ/Z+hl9NFVxj8/GXAmmpHIP5PoFPePBss/osxjKWu6zT8mSl3wulnQP/c3AKJN/NE/XQrNy7vI0z/N8cf5NMPVP5Ujj99T8Nc/WNqDDylV2j/7PETERvfcP3up5NfN3N8/",
          "dtype": "f8"
         },
         "xaxis": "x",
         "y": {
          "bdata": "z55U1moSlEDPnlTWahKUQM+eVNZqEpRAz55U1moSlEDPnlTWahKUQM+eVNZqEpRAz55U1moSlEDPnlTWahKUQM+eVNZqEpRAz55U1moSlEDPnlTWahKUQM+eVNZqEpRAz55U1moSlEDPnlTWahKUQM+eVNZqEpRAz55U1moSlEDPnlTWahKUQM+eVNZqEpRAz55U1moSlEDPnlTWahKUQM+eVNZqEpRAz55U1moSlEDPnlTWahKUQM+eVNZqEpRAz55U1moSlEDPnlTWahKUQM+eVNZqEpRAz55U1moSlEDPnlTWahKUQM+eVNZqEpRAz55U1moSlEDPnlTWahKUQM+eVNZqEpRAz55U1moSlEDPnlTWahKUQM+eVNZqEpRAz55U1moSlEDPnlTWahKUQM+eVNZqEpRAz55U1moSlEDPnlTWahKUQM+eVNZqEpRA",
          "dtype": "f8"
         },
         "yaxis": "y"
        }
       ],
       "layout": {
        "legend": {
         "tracegroupgap": 0
        },
        "template": {
         "data": {
          "bar": [
           {
            "error_x": {
             "color": "#2a3f5f"
            },
            "error_y": {
             "color": "#2a3f5f"
            },
            "marker": {
             "line": {
              "color": "white",
              "width": 0.5
             },
             "pattern": {
              "fillmode": "overlay",
              "size": 10,
              "solidity": 0.2
             }
            },
            "type": "bar"
           }
          ],
          "barpolar": [
           {
            "marker": {
             "line": {
              "color": "white",
              "width": 0.5
             },
             "pattern": {
              "fillmode": "overlay",
              "size": 10,
              "solidity": 0.2
             }
            },
            "type": "barpolar"
           }
          ],
          "carpet": [
           {
            "aaxis": {
             "endlinecolor": "#2a3f5f",
             "gridcolor": "#C8D4E3",
             "linecolor": "#C8D4E3",
             "minorgridcolor": "#C8D4E3",
             "startlinecolor": "#2a3f5f"
            },
            "baxis": {
             "endlinecolor": "#2a3f5f",
             "gridcolor": "#C8D4E3",
             "linecolor": "#C8D4E3",
             "minorgridcolor": "#C8D4E3",
             "startlinecolor": "#2a3f5f"
            },
            "type": "carpet"
           }
          ],
          "choropleth": [
           {
            "colorbar": {
             "outlinewidth": 0,
             "ticks": ""
            },
            "type": "choropleth"
           }
          ],
          "contour": [
           {
            "colorbar": {
             "outlinewidth": 0,
             "ticks": ""
            },
            "colorscale": [
             [
              0,
              "#0d0887"
             ],
             [
              0.1111111111111111,
              "#46039f"
             ],
             [
              0.2222222222222222,
              "#7201a8"
             ],
             [
              0.3333333333333333,
              "#9c179e"
             ],
             [
              0.4444444444444444,
              "#bd3786"
             ],
             [
              0.5555555555555556,
              "#d8576b"
             ],
             [
              0.6666666666666666,
              "#ed7953"
             ],
             [
              0.7777777777777778,
              "#fb9f3a"
             ],
             [
              0.8888888888888888,
              "#fdca26"
             ],
             [
              1,
              "#f0f921"
             ]
            ],
            "type": "contour"
           }
          ],
          "contourcarpet": [
           {
            "colorbar": {
             "outlinewidth": 0,
             "ticks": ""
            },
            "type": "contourcarpet"
           }
          ],
          "heatmap": [
           {
            "colorbar": {
             "outlinewidth": 0,
             "ticks": ""
            },
            "colorscale": [
             [
              0,
              "#0d0887"
             ],
             [
              0.1111111111111111,
              "#46039f"
             ],
             [
              0.2222222222222222,
              "#7201a8"
             ],
             [
              0.3333333333333333,
              "#9c179e"
             ],
             [
              0.4444444444444444,
              "#bd3786"
             ],
             [
              0.5555555555555556,
              "#d8576b"
             ],
             [
              0.6666666666666666,
              "#ed7953"
             ],
             [
              0.7777777777777778,
              "#fb9f3a"
             ],
             [
              0.8888888888888888,
              "#fdca26"
             ],
             [
              1,
              "#f0f921"
             ]
            ],
            "type": "heatmap"
           }
          ],
          "histogram": [
           {
            "marker": {
             "pattern": {
              "fillmode": "overlay",
              "size": 10,
              "solidity": 0.2
             }
            },
            "type": "histogram"
           }
          ],
          "histogram2d": [
           {
            "colorbar": {
             "outlinewidth": 0,
             "ticks": ""
            },
            "colorscale": [
             [
              0,
              "#0d0887"
             ],
             [
              0.1111111111111111,
              "#46039f"
             ],
             [
              0.2222222222222222,
              "#7201a8"
             ],
             [
              0.3333333333333333,
              "#9c179e"
             ],
             [
              0.4444444444444444,
              "#bd3786"
             ],
             [
              0.5555555555555556,
              "#d8576b"
             ],
             [
              0.6666666666666666,
              "#ed7953"
             ],
             [
              0.7777777777777778,
              "#fb9f3a"
             ],
             [
              0.8888888888888888,
              "#fdca26"
             ],
             [
              1,
              "#f0f921"
             ]
            ],
            "type": "histogram2d"
           }
          ],
          "histogram2dcontour": [
           {
            "colorbar": {
             "outlinewidth": 0,
             "ticks": ""
            },
            "colorscale": [
             [
              0,
              "#0d0887"
             ],
             [
              0.1111111111111111,
              "#46039f"
             ],
             [
              0.2222222222222222,
              "#7201a8"
             ],
             [
              0.3333333333333333,
              "#9c179e"
             ],
             [
              0.4444444444444444,
              "#bd3786"
             ],
             [
              0.5555555555555556,
              "#d8576b"
             ],
             [
              0.6666666666666666,
              "#ed7953"
             ],
             [
              0.7777777777777778,
              "#fb9f3a"
             ],
             [
              0.8888888888888888,
              "#fdca26"
             ],
             [
              1,
              "#f0f921"
             ]
            ],
            "type": "histogram2dcontour"
           }
          ],
          "mesh3d": [
           {
            "colorbar": {
             "outlinewidth": 0,
             "ticks": ""
            },
            "type": "mesh3d"
           }
          ],
          "parcoords": [
           {
            "line": {
             "colorbar": {
              "outlinewidth": 0,
              "ticks": ""
             }
            },
            "type": "parcoords"
           }
          ],
          "pie": [
           {
            "automargin": true,
            "type": "pie"
           }
          ],
          "scatter": [
           {
            "fillpattern": {
             "fillmode": "overlay",
             "size": 10,
             "solidity": 0.2
            },
            "type": "scatter"
           }
          ],
          "scatter3d": [
           {
            "line": {
             "colorbar": {
              "outlinewidth": 0,
              "ticks": ""
             }
            },
            "marker": {
             "colorbar": {
              "outlinewidth": 0,
              "ticks": ""
             }
            },
            "type": "scatter3d"
           }
          ],
          "scattercarpet": [
           {
            "marker": {
             "colorbar": {
              "outlinewidth": 0,
              "ticks": ""
             }
            },
            "type": "scattercarpet"
           }
          ],
          "scattergeo": [
           {
            "marker": {
             "colorbar": {
              "outlinewidth": 0,
              "ticks": ""
             }
            },
            "type": "scattergeo"
           }
          ],
          "scattergl": [
           {
            "marker": {
             "colorbar": {
              "outlinewidth": 0,
              "ticks": ""
             }
            },
            "type": "scattergl"
           }
          ],
          "scattermap": [
           {
            "marker": {
             "colorbar": {
              "outlinewidth": 0,
              "ticks": ""
             }
            },
            "type": "scattermap"
           }
          ],
          "scattermapbox": [
           {
            "marker": {
             "colorbar": {
              "outlinewidth": 0,
              "ticks": ""
             }
            },
            "type": "scattermapbox"
           }
          ],
          "scatterpolar": [
           {
            "marker": {
             "colorbar": {
              "outlinewidth": 0,
              "ticks": ""
             }
            },
            "type": "scatterpolar"
           }
          ],
          "scatterpolargl": [
           {
            "marker": {
             "colorbar": {
              "outlinewidth": 0,
              "ticks": ""
             }
            },
            "type": "scatterpolargl"
           }
          ],
          "scatterternary": [
           {
            "marker": {
             "colorbar": {
              "outlinewidth": 0,
              "ticks": ""
             }
            },
            "type": "scatterternary"
           }
          ],
          "surface": [
           {
            "colorbar": {
             "outlinewidth": 0,
             "ticks": ""
            },
            "colorscale": [
             [
              0,
              "#0d0887"
             ],
             [
              0.1111111111111111,
              "#46039f"
             ],
             [
              0.2222222222222222,
              "#7201a8"
             ],
             [
              0.3333333333333333,
              "#9c179e"
             ],
             [
              0.4444444444444444,
              "#bd3786"
             ],
             [
              0.5555555555555556,
              "#d8576b"
             ],
             [
              0.6666666666666666,
              "#ed7953"
             ],
             [
              0.7777777777777778,
              "#fb9f3a"
             ],
             [
              0.8888888888888888,
              "#fdca26"
             ],
             [
              1,
              "#f0f921"
             ]
            ],
            "type": "surface"
           }
          ],
          "table": [
           {
            "cells": {
             "fill": {
              "color": "#EBF0F8"
             },
             "line": {
              "color": "white"
             }
            },
            "header": {
             "fill": {
              "color": "#C8D4E3"
             },
             "line": {
              "color": "white"
             }
            },
            "type": "table"
           }
          ]
         },
         "layout": {
          "annotationdefaults": {
           "arrowcolor": "#2a3f5f",
           "arrowhead": 0,
           "arrowwidth": 1
          },
          "autotypenumbers": "strict",
          "coloraxis": {
           "colorbar": {
            "outlinewidth": 0,
            "ticks": ""
           }
          },
          "colorscale": {
           "diverging": [
            [
             0,
             "#8e0152"
            ],
            [
             0.1,
             "#c51b7d"
            ],
            [
             0.2,
             "#de77ae"
            ],
            [
             0.3,
             "#f1b6da"
            ],
            [
             0.4,
             "#fde0ef"
            ],
            [
             0.5,
             "#f7f7f7"
            ],
            [
             0.6,
             "#e6f5d0"
            ],
            [
             0.7,
             "#b8e186"
            ],
            [
             0.8,
             "#7fbc41"
            ],
            [
             0.9,
             "#4d9221"
            ],
            [
             1,
             "#276419"
            ]
           ],
           "sequential": [
            [
             0,
             "#0d0887"
            ],
            [
             0.1111111111111111,
             "#46039f"
            ],
            [
             0.2222222222222222,
             "#7201a8"
            ],
            [
             0.3333333333333333,
             "#9c179e"
            ],
            [
             0.4444444444444444,
             "#bd3786"
            ],
            [
             0.5555555555555556,
             "#d8576b"
            ],
            [
             0.6666666666666666,
             "#ed7953"
            ],
            [
             0.7777777777777778,
             "#fb9f3a"
            ],
            [
             0.8888888888888888,
             "#fdca26"
            ],
            [
             1,
             "#f0f921"
            ]
           ],
           "sequentialminus": [
            [
             0,
             "#0d0887"
            ],
            [
             0.1111111111111111,
             "#46039f"
            ],
            [
             0.2222222222222222,
             "#7201a8"
            ],
            [
             0.3333333333333333,
             "#9c179e"
            ],
            [
             0.4444444444444444,
             "#bd3786"
            ],
            [
             0.5555555555555556,
             "#d8576b"
            ],
            [
             0.6666666666666666,
             "#ed7953"
            ],
            [
             0.7777777777777778,
             "#fb9f3a"
            ],
            [
             0.8888888888888888,
             "#fdca26"
            ],
            [
             1,
             "#f0f921"
            ]
           ]
          },
          "colorway": [
           "#636efa",
           "#EF553B",
           "#00cc96",
           "#ab63fa",
           "#FFA15A",
           "#19d3f3",
           "#FF6692",
           "#B6E880",
           "#FF97FF",
           "#FECB52"
          ],
          "font": {
           "color": "#2a3f5f"
          },
          "geo": {
           "bgcolor": "white",
           "lakecolor": "white",
           "landcolor": "white",
           "showlakes": true,
           "showland": true,
           "subunitcolor": "#C8D4E3"
          },
          "hoverlabel": {
           "align": "left"
          },
          "hovermode": "closest",
          "mapbox": {
           "style": "light"
          },
          "paper_bgcolor": "white",
          "plot_bgcolor": "white",
          "polar": {
           "angularaxis": {
            "gridcolor": "#EBF0F8",
            "linecolor": "#EBF0F8",
            "ticks": ""
           },
           "bgcolor": "white",
           "radialaxis": {
            "gridcolor": "#EBF0F8",
            "linecolor": "#EBF0F8",
            "ticks": ""
           }
          },
          "scene": {
           "xaxis": {
            "backgroundcolor": "white",
            "gridcolor": "#DFE8F3",
            "gridwidth": 2,
            "linecolor": "#EBF0F8",
            "showbackground": true,
            "ticks": "",
            "zerolinecolor": "#EBF0F8"
           },
           "yaxis": {
            "backgroundcolor": "white",
            "gridcolor": "#DFE8F3",
            "gridwidth": 2,
            "linecolor": "#EBF0F8",
            "showbackground": true,
            "ticks": "",
            "zerolinecolor": "#EBF0F8"
           },
           "zaxis": {
            "backgroundcolor": "white",
            "gridcolor": "#DFE8F3",
            "gridwidth": 2,
            "linecolor": "#EBF0F8",
            "showbackground": true,
            "ticks": "",
            "zerolinecolor": "#EBF0F8"
           }
          },
          "shapedefaults": {
           "line": {
            "color": "#2a3f5f"
           }
          },
          "ternary": {
           "aaxis": {
            "gridcolor": "#DFE8F3",
            "linecolor": "#A2B1C6",
            "ticks": ""
           },
           "baxis": {
            "gridcolor": "#DFE8F3",
            "linecolor": "#A2B1C6",
            "ticks": ""
           },
           "bgcolor": "white",
           "caxis": {
            "gridcolor": "#DFE8F3",
            "linecolor": "#A2B1C6",
            "ticks": ""
           }
          },
          "title": {
           "x": 0.05
          },
          "xaxis": {
           "automargin": true,
           "gridcolor": "#EBF0F8",
           "linecolor": "#EBF0F8",
           "ticks": "",
           "title": {
            "standoff": 15
           },
           "zerolinecolor": "#EBF0F8",
           "zerolinewidth": 2
          },
          "yaxis": {
           "automargin": true,
           "gridcolor": "#EBF0F8",
           "linecolor": "#EBF0F8",
           "ticks": "",
           "title": {
            "standoff": 15
           },
           "zerolinecolor": "#EBF0F8",
           "zerolinewidth": 2
          }
         }
        },
        "title": {
         "text": "Изменение ошибки FFT MAE от threshold"
        },
        "xaxis": {
         "anchor": "y",
         "domain": [
          0,
          1
         ],
         "title": {
          "text": "Threshold"
         }
        },
        "yaxis": {
         "anchor": "x",
         "domain": [
          0,
          1
         ],
         "title": {
          "text": "FFT MAE"
         }
        }
       }
      }
     },
     "metadata": {},
     "output_type": "display_data"
    }
   ],
   "source": [
    "threshold = 0.01\n",
    "\n",
    "thresholds = []\n",
    "errors = []\n",
    "\n",
    "while threshold <= mean_time_diff:\n",
    "    df_reduced = df.loc[(df[\"pressure\"].diff().abs() > threshold).fillna(True)]\n",
    "    error = fft_mae(df, df_reduced)\n",
    "    \n",
    "    thresholds.append(threshold)\n",
    "    errors.append(error)\n",
    "    \n",
    "    threshold *= 1.1\n",
    "\n",
    "df_plot = pd.DataFrame({\"Threshold\": thresholds, \"FFT MAE\": errors})\n",
    "fig = px.line(df_plot, x=\"Threshold\", y=\"FFT MAE\", markers=True,\n",
    "              title=\"Изменение ошибки FFT MAE от threshold\")\n",
    "fig.update_layout(xaxis_title=\"Threshold\", yaxis_title=\"FFT MAE\", template=\"plotly_white\")\n",
    "fig.show()"
   ]
  },
  {
   "cell_type": "code",
   "execution_count": 138,
   "metadata": {},
   "outputs": [],
   "source": [
    "threshold = 0.15\n",
    "df_reduced = df.loc[(df[\"pressure\"].diff().abs() > threshold).fillna(True)]"
   ]
  },
  {
   "cell_type": "markdown",
   "metadata": {},
   "source": [
    "Анализ графиков"
   ]
  },
  {
   "cell_type": "code",
   "execution_count": 152,
   "metadata": {},
   "outputs": [
    {
     "data": {
      "application/vnd.plotly.v1+json": {
       "config": {
        "plotlyServerURL": "https://plot.ly"
       },
       "data": [
        {
         "hovertemplate": "time=%{x}<br>pressure=%{y}<extra></extra>",
         "legendgroup": "",
         "line": {
          "color": "#636efa",
          "dash": "solid"
         },
         "marker": {
          "symbol": "circle"
         },
         "mode": "lines+markers",
         "name": "",
         "showlegend": false,
         "type": "scattergl",
         "x": {
          "bdata": "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",
          "dtype": "f8"
         },
         "xaxis": "x",
         "y": {
          "bdata": "5xvRPesqQ0DnG9E96ypDQOcb0T3rKkNA5xvRPesqQ0DnG9E96ypDQOcb0T3rKkNA5xvRPesqQ0DnG9E96ypDQOcb0T3rKkNA5xvRPesqQ0DnG9E96ypDQOcb0T3rKkNA5xvRPesqQ0DnG9E96ypDQOcb0T3rKkNA5xvRPesqQ0DnG9E96ypDQOcb0T3rKkNA5xvRPesqQ0DnG9E96ypDQOcb0T3rKkNA5xvRPesqQ0DnG9E96ypDQOcb0T3rKkNA5xvRPesqQ0DnG9E96ypDQOcb0T3rKkNA5xvRPesqQ0DnG9E96ypDQOcb0T3rKkNA5xvRPesqQ0DnG9E96ypDQOcb0T3rKkNA5xvRPesqQ0DnG9E96ypDQOcb0T3rKkNA5xvRPesqQ0DnG9E96ypDQOcb0T3rKkNA5xvRPesqQ0DnG9E96ypDQOcb0T3rKkNA5xvRPesqQ0DnG9E96ypDQOcb0T3rKkNA5xvRPesqQ0DnG9E96ypDQOcb0T3rKkNA5xvRPesqQ0DnG9E96ypDQOcb0T3rKkNA5xvRPesqQ0DnG9E96ypDQOcb0T3rKkNA5xvRPesqQ0DnG9E96ypDQOcb0T3rKkNA5xvRPesqQ0DnG9E96ypDQOcb0T3rKkNA5xvRPesqQ0DnG9E96ypDQOcb0T3rKkNA5xvRPesqQ0DnG9E96ypDQOcb0T3rKkNA5xvRPesqQ0DnG9E96ypDQOcb0T3rKkNA5xvRPesqQ0DnG9E96ypDQOcb0T3rKkNA5xvRPesqQ0DnG9E96ypDQOcb0T3rKkNA5xvRPesqQ0DnG9E96ypDQOcb0T3rKkNA5xvRPesqQ0DnG9E96ypDQOcb0T3rKkNA5xvRPesqQ0DnG9E96ypDQOcb0T3rKkNA5xvRPesqQ0DnG9E96ypDQOcb0T3rKkNA5xvRPesqQ0DnG9E96ypDQOcb0T3rKkNA5xvRPesqQ0DnG9E96ypDQOcb0T3rKkNA5xvRPesqQ0DnG9E96ypDQOcb0T3rKkNA5xvRPesqQ0DnG9E96ypDQOcb0T3rKkNA5xvRPesqQ0DnG9E96ypDQOcb0T3rKkNA5xvRPesqQ0DnG9E96ypDQOcb0T3rKkNA5xvRPesqQ0DnG9E96ypDQOcb0T3rKkNA5xvRPesqQ0DnG9E96ypDQOcb0T3rKkNA5xvRPesqQ0DnG9E96ypDQOcb0T3rKkNA5xvRPesqQ0DnG9E96ypDQOcb0T3rKkNA5xvRPesqQ0DnG9E96ypDQOcb0T3rKkNA5xvRPesqQ0DnG9E96ypDQOcb0T3rKkNA5xvRPesqQ0DnG9E96ypDQOcb0T3rKkNA5xvRPesqQ0DnG9E96ypDQOcb0T3rKkNA5xvRPesqQ0DnG9E96ypDQOcb0T3rKkNA5xvRPesqQ0DnG9E96ypDQOcb0T3rKkNA5xvRPesqQ0DnG9E96ypDQOcb0T3rKkNA5xvRPesqQ0DnG9E96ypDQOcb0T3rKkNA5xvRPesqQ0DnG9E96ypDQOcb0T3rKkNA5xvRPesqQ0DnG9E96ypDQOcb0T3rKkNA5xvRPesqQ0DnG9E96ypDQOcb0T3rKkNA5xvRPesqQ0DnG9E96ypDQOcb0T3rKkNA5xvRPesqQ0DnG9E96ypDQOcb0T3rKkNA5xvRPesqQ0DnG9E96ypDQOcb0T3rKkNA5xvRPesqQ0DnG9E96ypDQOcb0T3rKkNA5xvRPesqQ0DnG9E96ypDQOcb0T3rKkNA5xvRPesqQ0DnG9E96ypDQOcb0T3rKkNA5xvRPesqQ0DnG9E96ypDQOcb0T3rKkNA5xvRPesqQ0DnG9E96ypDQOcb0T3rKkNA5xvRPesqQ0DnG9E96ypDQOcb0T3rKkNA5xvRPesqQ0DnG9E96ypDQOcb0T3rKkNA5xvRPesqQ0DnG9E96ypDQOcb0T3rKkNA5xvRPesqQ0DnG9E96ypDQOcb0T3rKkNA5xvRPesqQ0DnG9E96ypDQOcb0T3rKkNA5xvRPesqQ0DnG9E96ypDQOcb0T3rKkNA5xvRPesqQ0DnG9E96ypDQOcb0T3rKkNA5xvRPesqQ0DnG9E96ypDQOcb0T3rKkNA5xvRPesqQ0DnG9E96ypDQOcb0T3rKkNA5xvRPesqQ0DnG9E96ypDQOcb0T3rKkNA5xvRPesqQ0DnG9E96ypDQOcb0T3rKkNA5xvRPesqQ0DnG9E96ypDQOcb0T3rKkNA5xvRPesqQ0DnG9E96ypDQOcb0T3rKkNA5xvRPesqQ0DnG9E96ypDQOcb0T3rKkNA5xvRPesqQ0DnG9E96ypDQOcb0T3rKkNA5xvRPesqQ0DnG9E96ypDQOcb0T3rKkNA5xvRPesqQ0DnG9E96ypDQOcb0T3rKkNA5xvRPesqQ0DnG9E96ypDQOcb0T3rKkNA5xvRPesqQ0DnG9E96ypDQOcb0T3rKkNA5xvRPesqQ0DnG9E96ypDQOcb0T3rKkNA5xvRPesqQ0DnG9E96ypDQOcb0T3rKkNA5xvRPesqQ0DnG9E96ypDQOcb0T3rKkNA5xvRPesqQ0DnG9E96ypDQOcb0T3rKkNA5xvRPesqQ0DnG9E96ypDQOcb0T3rKkNA5xvRPesqQ0DnG9E96ypDQOcb0T3rKkNA5xvRPesqQ0DnG9E96ypDQOcb0T3rKkNA5xvRPesqQ0DnG9E96ypDQOcb0T3rKkNA5xvRPesqQ0DnG9E96ypDQOcb0T3rKkNA5xvRPesqQ0DnG9E96ypDQOcb0T3rKkNA5xvRPesqQ0DnG9E96ypDQOcb0T3rKkNA5xvRPesqQ0DnG9E96ypDQOcb0T3rKkNA5xvRPesqQ0DnG9E96ypDQOcb0T3rKkNA5xvRPesqQ0DnG9E96ypDQOcb0T3rKkNA5xvRPesqQ0DnG9E96ypDQOcb0T3rKkNA5xvRPesqQ0DnG9E96ypDQOcb0T3rKkNA5xvRPesqQ0DnG9E96ypDQOcb0T3rKkNA5xvRPesqQ0DnG9E96ypDQOcb0T3rKkNA5xvRPesqQ0DnG9E96ypDQOcb0T3rKkNA5xvRPesqQ0DnG9E96ypDQKMFaFvNpkNAowVoW82mQ0CjBWhbzaZDQKMFaFvNpkNAowVoW82mQ0CjBWhbzaZDQKMFaFvNpkNAowVoW82mQ0CjBWhbzaZDQKMFaFvNpkNAowVoW82mQ0CjBWhbzaZDQKMFaFvNpkNAowVoW82mQ0CjBWhbzaZDQKMFaFvNpkNAowVoW82mQ0CjBWhbzaZDQKMFaFvNpkNAowVoW82mQ0CjBWhbzaZDQKMFaFvNpkNAowVoW82mQ0CjBWhbzaZDQKMFaFvNpkNAowVoW82mQ0CjBWhbzaZDQKMFaFvNpkNA5xvRPesqQ0DnG9E96ypDQOcb0T3rKkNA5xvRPesqQ0DnG9E96ypDQOcb0T3rKkNA5xvRPesqQ0DnG9E96ypDQOcb0T3rKkNA5xvRPesqQ0DnG9E96ypDQOcb0T3rKkNA5xvRPesqQ0DnG9E96ypDQOcb0T3rKkNA5xvRPesqQ0CjBWhbzaZDQKMFaFvNpkNAowVoW82mQ0CjBWhbzaZDQKMFaFvNpkNAowVoW82mQ0CjBWhbzaZDQKMFaFvNpkNAowVoW82mQ0CjBWhbzaZDQKMFaFvNpkNAowVoW82mQ0CjBWhbzaZDQKMFaFvNpkNAowVoW82mQ0CjBWhbzaZDQKMFaFvNpkNAowVoW82mQ0CjBWhbzaZDQKMFaFvNpkNAowVoW82mQ0CjBWhbzaZDQKMFaFvNpkNAowVoW82mQ0CjBWhbzaZDQKMFaFvNpkNAowVoW82mQ0CjBWhbzaZDQKMFaFvNpkNAowVoW82mQ0CjBWhbzaZDQKMFaFvNpkNAowVoW82mQ0CjBWhbzaZDQKMFaFvNpkNAowVoW82mQ0DnG9E96ypDQOcb0T3rKkNA5xvRPesqQ0DnG9E96ypDQOcb0T3rKkNA5xvRPesqQ0DnG9E96ypDQOcb0T3rKkNA5xvRPesqQ0DnG9E96ypDQOcb0T3rKkNA5xvRPesqQ0DnG9E96ypDQOcb0T3rKkNA5xvRPesqQ0DnG9E96ypDQOcb0T3rKkNA5xvRPesqQ0DnG9E96ypDQOcb0T3rKkNA5xvRPesqQ0DnG9E96ypDQOcb0T3rKkNA5xvRPesqQ0DnG9E96ypDQOcb0T3rKkNA5xvRPesqQ0DnG9E96ypDQOcb0T3rKkNA5xvRPesqQ0DnG9E96ypDQOcb0T3rKkNA5xvRPesqQ0DnG9E96ypDQOcb0T3rKkNA5xvRPesqQ0DnG9E96ypDQKMFaFvNpkNAowVoW82mQ0CjBWhbzaZDQKMFaFvNpkNAowVoW82mQ0CjBWhbzaZDQKMFaFvNpkNAowVoW82mQ0CjBWhbzaZDQKMFaFvNpkNA5xvRPesqQ0DnG9E96ypDQOcb0T3rKkNA5xvRPesqQ0DnG9E96ypDQOcb0T3rKkNA5xvRPesqQ0DnG9E96ypDQOcb0T3rKkNA5xvRPesqQ0DnG9E96ypDQOcb0T3rKkNA5xvRPesqQ0DnG9E96ypDQOcb0T3rKkNA5xvRPesqQ0DnG9E96ypDQOcb0T3rKkNA5xvRPesqQ0DnG9E96ypDQOcb0T3rKkNA5xvRPesqQ0DnG9E96ypDQKMFaFvNpkNAowVoW82mQ0CjBWhbzaZDQKMFaFvNpkNAowVoW82mQ0CjBWhbzaZDQKMFaFvNpkNAowVoW82mQ0CjBWhbzaZDQKMFaFvNpkNAowVoW82mQ0CjBWhbzaZDQKMFaFvNpkNAowVoW82mQ0CjBWhbzaZDQKMFaFvNpkNAowVoW82mQ0CjBWhbzaZDQKMFaFvNpkNAowVoW82mQ0CjBWhbzaZDQKMFaFvNpkNAowVoW82mQ0CjBWhbzaZDQKMFaFvNpkNAowVoW82mQ0CjBWhbzaZDQKMFaFvNpkNAowVoW82mQ0CjBWhbzaZDQKMFaFvNpkNAowVoW82mQ0DnG9E96ypDQOcb0T3rKkNAowVoW82mQ0CjBWhbzaZDQOcb0T3rKkNA5xvRPesqQ0DnG9E96ypDQOcb0T3rKkNA5xvRPesqQ0DnG9E96ypDQOcb0T3rKkNA5xvRPesqQ0DnG9E96ypDQOcb0T3rKkNA5xvRPesqQ0DnG9E96ypDQOcb0T3rKkNAowVoW82mQ0CjBWhbzaZDQKMFaFvNpkNAowVoW82mQ0CjBWhbzaZDQKMFaFvNpkNAowVoW82mQ0CjBWhbzaZDQKMFaFvNpkNAowVoW82mQ0CjBWhbzaZDQKMFaFvNpkNAowVoW82mQ0CjBWhbzaZDQKMFaFvNpkNAowVoW82mQ0CjBWhbzaZDQKMFaFvNpkNAowVoW82mQ0CjBWhbzaZDQKMFaFvNpkNAowVoW82mQ0CjBWhbzaZDQKMFaFvNpkNAowVoW82mQ0CjBWhbzaZDQKMFaFvNpkNAowVoW82mQ0CjBWhbzaZDQKMFaFvNpkNAowVoW82mQ0CjBWhbzaZDQKMFaFvNpkNAowVoW82mQ0CjBWhbzaZDQKMFaFvNpkNAowVoW82mQ0CjBWhbzaZDQKMFaFvNpkNAowVoW82mQ0CjBWhbzaZDQKMFaFvNpkNAowVoW82mQ0CjBWhbzaZDQKMFaFvNpkNAowVoW82mQ0CjBWhbzaZDQKMFaFvNpkNAowVoW82mQ0CjBWhbzaZDQKMFaFvNpkNAowVoW82mQ0CjBWhbzaZDQKMFaFvNpkNAowVoW82mQ0CjBWhbzaZDQKMFaFvNpkNAowVoW82mQ0CjBWhbzaZDQKMFaFvNpkNAowVoW82mQ0CjBWhbzaZDQKMFaFvNpkNAowVoW82mQ0CjBWhbzaZDQKMFaFvNpkNAowVoW82mQ0CjBWhbzaZDQKMFaFvNpkNAowVoW82mQ0CjBWhbzaZDQKMFaFvNpkNAowVoW82mQ0CjBWhbzaZDQKMFaFvNpkNAowVoW82mQ0CjBWhbzaZDQKMFaFvNpkNAowVoW82mQ0CjBWhbzaZDQKMFaFvNpkNAowVoW82mQ0CjBWhbzaZDQKMFaFvNpkNAowVoW82mQ0CjBWhbzaZDQKMFaFvNpkNAowVoW82mQ0CjBWhbzaZDQKMFaFvNpkNAowVoW82mQ0CjBWhbzaZDQKMFaFvNpkNAowVoW82mQ0CjBWhbzaZDQKMFaFvNpkNAowVoW82mQ0CjBWhbzaZDQKMFaFvNpkNAowVoW82mQ0CjBWhbzaZDQKMFaFvNpkNAowVoW82mQ0CjBWhbzaZDQKMFaFvNpkNAowVoW82mQ0CjBWhbzaZDQKMFaFvNpkNAowVoW82mQ0CjBWhbzaZDQKMFaFvNpkNAowVoW82mQ0CjBWhbzaZDQKMFaFvNpkNAowVoW82mQ0CjBWhbzaZDQKMFaFvNpkNAowVoW82mQ0CjBWhbzaZDQKMFaFvNpkNAowVoW82mQ0CjBWhbzaZDQKMFaFvNpkNAowVoW82mQ0CjBWhbzaZDQKMFaFvNpkNAowVoW82mQ0CjBWhbzaZDQKMFaFvNpkNAowVoW82mQ0CjBWhbzaZDQKMFaFvNpkNAowVoW82mQ0CjBWhbzaZDQKMFaFvNpkNAowVoW82mQ0CjBWhbzaZDQKMFaFvNpkNAowVoW82mQ0CjBWhbzaZDQKMFaFvNpkNAowVoW82mQ0CjBWhbzaZDQKMFaFvNpkNAowVoW82mQ0CjBWhbzaZDQKMFaFvNpkNAowVoW82mQ0CjBWhbzaZDQKMFaFvNpkNAowVoW82mQ0CjBWhbzaZDQKMFaFvNpkNAowVoW82mQ0CjBWhbzaZDQKMFaFvNpkNAowVoW82mQ0CjBWhbzaZDQKMFaFvNpkNAowVoW82mQ0CjBWhbzaZDQKMFaFvNpkNAowVoW82mQ0CjBWhbzaZDQKMFaFvNpkNAowVoW82mQ0CjBWhbzaZDQKMFaFvNpkNAowVoW82mQ0CjBWhbzaZDQKMFaFvNpkNAowVoW82mQ0CjBWhbzaZDQKMFaFvNpkNAowVoW82mQ0CjBWhbzaZDQKMFaFvNpkNAowVoW82mQ0CjBWhbzaZDQKMFaFvNpkNAowVoW82mQ0CjBWhbzaZDQKMFaFvNpkNAowVoW82mQ0CjBWhbzaZDQOcb0T3rKkNA5xvRPesqQ0DnG9E96ypDQOcb0T3rKkNAowVoW82mQ0CjBWhbzaZDQKMFaFvNpkNAowVoW82mQ0CjBWhbzaZDQKMFaFvNpkNAowVoW82mQ0CjBWhbzaZDQKMFaFvNpkNAowVoW82mQ0CjBWhbzaZDQKMFaFvNpkNAowVoW82mQ0CjBWhbzaZDQKMFaFvNpkNAowVoW82mQ0CjBWhbzaZDQKMFaFvNpkNAowVoW82mQ0CjBWhbzaZDQKMFaFvNpkNAowVoW82mQ0CjBWhbzaZDQKMFaFvNpkNAowVoW82mQ0CjBWhbzaZDQKMFaFvNpkNAowVoW82mQ0CjBWhbzaZDQKMFaFvNpkNAowVoW82mQ0CjBWhbzaZDQKMFaFvNpkNAowVoW82mQ0CjBWhbzaZDQKMFaFvNpkNAowVoW82mQ0CjBWhbzaZDQKMFaFvNpkNAowVoW82mQ0CjBWhbzaZDQKMFaFvNpkNAowVoW82mQ0CjBWhbzaZDQKMFaFvNpkNAowVoW82mQ0CjBWhbzaZDQKMFaFvNpkNAowVoW82mQ0CjBWhbzaZDQOcb0T3rKkNA5xvRPesqQ0DnG9E96ypDQOcb0T3rKkNA5xvRPesqQ0DnG9E96ypDQOcb0T3rKkNA5xvRPesqQ0DnG9E96ypDQOcb0T3rKkNA5xvRPesqQ0DnG9E96ypDQOcb0T3rKkNA5xvRPesqQ0DnG9E96ypDQKMFaFvNpkNAowVoW82mQ0CjBWhbzaZDQKMFaFvNpkNAowVoW82mQ0CjBWhbzaZDQKMFaFvNpkNAowVoW82mQ0CjBWhbzaZDQKMFaFvNpkNA5xvRPesqQ0DnG9E96ypDQOcb0T3rKkNA5xvRPesqQ0DnG9E96ypDQOcb0T3rKkNA5xvRPesqQ0DnG9E96ypDQOcb0T3rKkNA5xvRPesqQ0CjBWhbzaZDQKMFaFvNpkNAowVoW82mQ0CjBWhbzaZDQKMFaFvNpkNAowVoW82mQ0CjBWhbzaZDQKMFaFvNpkNAowVoW82mQ0CjBWhbzaZDQKMFaFvNpkNA5xvRPesqQ0DnG9E96ypDQOcb0T3rKkNA5xvRPesqQ0DnG9E96ypDQOcb0T3rKkNA5xvRPesqQ0DnG9E96ypDQOcb0T3rKkNA5xvRPesqQ0DnG9E96ypDQOcb0T3rKkNA5xvRPesqQ0DnG9E96ypDQOcb0T3rKkNA5xvRPesqQ0DnG9E96ypDQOcb0T3rKkNA5xvRPesqQ0DnG9E96ypDQOcb0T3rKkNAowVoW82mQ0DnG9E96ypDQOcb0T3rKkNA5xvRPesqQ0CjBWhbzaZDQKMFaFvNpkNAowVoW82mQ0CjBWhbzaZDQKMFaFvNpkNAowVoW82mQ0CjBWhbzaZDQKMFaFvNpkNAowVoW82mQ0CjBWhbzaZDQKMFaFvNpkNAowVoW82mQ0CjBWhbzaZDQKMFaFvNpkNAowVoW82mQ0CjBWhbzaZDQKMFaFvNpkNAowVoW82mQ0CjBWhbzaZDQKMFaFvNpkNAowVoW82mQ0CjBWhbzaZDQKMFaFvNpkNA5xvRPesqQ0CjBWhbzaZDQKMFaFvNpkNA5xvRPesqQ0DnG9E96ypDQOcb0T3rKkNA5xvRPesqQ0DnG9E96ypDQOcb0T3rKkNA5xvRPesqQ0DnG9E96ypDQOcb0T3rKkNA5xvRPesqQ0DnG9E96ypDQKMFaFvNpkNAowVoW82mQ0CjBWhbzaZDQKMFaFvNpkNAowVoW82mQ0CjBWhbzaZDQKMFaFvNpkNAowVoW82mQ0CjBWhbzaZDQKMFaFvNpkNAowVoW82mQ0CjBWhbzaZDQKMFaFvNpkNAowVoW82mQ0CjBWhbzaZDQKMFaFvNpkNAowVoW82mQ0CjBWhbzaZDQKMFaFvNpkNAowVoW82mQ0CjBWhbzaZDQKMFaFvNpkNAowVoW82mQ0CjBWhbzaZDQKMFaFvNpkNAowVoW82mQ0CjBWhbzaZDQKMFaFvNpkNAowVoW82mQ0CjBWhbzaZDQKMFaFvNpkNAowVoW82mQ0CjBWhbzaZDQKMFaFvNpkNAowVoW82mQ0CjBWhbzaZDQKMFaFvNpkNAowVoW82mQ0CjBWhbzaZDQKMFaFvNpkNAowVoW82mQ0CjBWhbzaZDQKMFaFvNpkNA5xvRPesqQ0DnG9E96ypDQOcb0T3rKkNA5xvRPesqQ0DnG9E96ypDQOcb0T3rKkNA5xvRPesqQ0DnG9E96ypDQOcb0T3rKkNAowVoW82mQ0CjBWhbzaZDQKMFaFvNpkNAowVoW82mQ0CjBWhbzaZDQKMFaFvNpkNAowVoW82mQ0CjBWhbzaZDQKMFaFvNpkNAowVoW82mQ0CjBWhbzaZDQKMFaFvNpkNAowVoW82mQ0CjBWhbzaZDQKMFaFvNpkNAowVoW82mQ0CjBWhbzaZDQKMFaFvNpkNAowVoW82mQ0CjBWhbzaZDQKMFaFvNpkNAowVoW82mQ0CjBWhbzaZDQKMFaFvNpkNAowVoW82mQ0CjBWhbzaZDQKMFaFvNpkNAowVoW82mQ0CjBWhbzaZDQKMFaFvNpkNAowVoW82mQ0CjBWhbzaZDQKMFaFvNpkNAowVoW82mQ0CjBWhbzaZDQKMFaFvNpkNAowVoW82mQ0CjBWhbzaZDQOcb0T3rKkNA5xvRPesqQ0DnG9E96ypDQOcb0T3rKkNA5xvRPesqQ0DnG9E96ypDQOcb0T3rKkNA5xvRPesqQ0DnG9E96ypDQOcb0T3rKkNA5xvRPesqQ0DnG9E96ypDQOcb0T3rKkNA5xvRPesqQ0DnG9E96ypDQOcb0T3rKkNA5xvRPesqQ0DnG9E96ypDQOcb0T3rKkNA5xvRPesqQ0DnG9E96ypDQKMFaFvNpkNAowVoW82mQ0CjBWhbzaZDQKMFaFvNpkNAowVoW82mQ0CjBWhbzaZDQKMFaFvNpkNAowVoW82mQ0CjBWhbzaZDQKMFaFvNpkNAowVoW82mQ0CjBWhbzaZDQKMFaFvNpkNAowVoW82mQ0CjBWhbzaZDQKMFaFvNpkNAowVoW82mQ0CjBWhbzaZDQKMFaFvNpkNAowVoW82mQ0CjBWhbzaZDQKMFaFvNpkNAowVoW82mQ0CjBWhbzaZDQKMFaFvNpkNAowVoW82mQ0CjBWhbzaZDQKMFaFvNpkNAowVoW82mQ0CjBWhbzaZDQKMFaFvNpkNAowVoW82mQ0CjBWhbzaZDQKMFaFvNpkNAowVoW82mQ0CjBWhbzaZDQKMFaFvNpkNAowVoW82mQ0CjBWhbzaZDQKMFaFvNpkNAowVoW82mQ0CjBWhbzaZDQKMFaFvNpkNAowVoW82mQ0CjBWhbzaZDQKMFaFvNpkNAowVoW82mQ0CjBWhbzaZDQKMFaFvNpkNAowVoW82mQ0CjBWhbzaZDQKMFaFvNpkNAowVoW82mQ0CjBWhbzaZDQKMFaFvNpkNAowVoW82mQ0CjBWhbzaZDQKMFaFvNpkNAowVoW82mQ0CjBWhbzaZDQKMFaFvNpkNAowVoW82mQ0CjBWhbzaZDQKMFaFvNpkNAowVoW82mQ0CjBWhbzaZDQKMFaFvNpkNAowVoW82mQ0CjBWhbzaZDQKMFaFvNpkNAowVoW82mQ0CjBWhbzaZDQKMFaFvNpkNAowVoW82mQ0CjBWhbzaZDQKMFaFvNpkNAowVoW82mQ0CjBWhbzaZDQKMFaFvNpkNAowVoW82mQ0CjBWhbzaZDQKMFaFvNpkNAowVoW82mQ0CjBWhbzaZDQKMFaFvNpkNAowVoW82mQ0CjBWhbzaZDQKMFaFvNpkNAowVoW82mQ0CjBWhbzaZDQKMFaFvNpkNAowVoW82mQ0CjBWhbzaZDQKMFaFvNpkNAowVoW82mQ0CjBWhbzaZDQKMFaFvNpkNAowVoW82mQ0CjBWhbzaZDQKMFaFvNpkNAowVoW82mQ0CjBWhbzaZDQKMFaFvNpkNAowVoW82mQ0CjBWhbzaZDQKMFaFvNpkNAowVoW82mQ0CjBWhbzaZDQKMFaFvNpkNAowVoW82mQ0CjBWhbzaZDQKMFaFvNpkNAowVoW82mQ0CjBWhbzaZDQKMFaFvNpkNAowVoW82mQ0CjBWhbzaZDQKMFaFvNpkNAowVoW82mQ0CjBWhbzaZDQKMFaFvNpkNAowVoW82mQ0CjBWhbzaZDQKMFaFvNpkNAowVoW82mQ0CjBWhbzaZDQKMFaFvNpkNAowVoW82mQ0CjBWhbzaZDQKMFaFvNpkNAowVoW82mQ0CjBWhbzaZDQKMFaFvNpkNAowVoW82mQ0CjBWhbzaZDQKMFaFvNpkNAowVoW82mQ0CjBWhbzaZDQKMFaFvNpkNAowVoW82mQ0CjBWhbzaZDQKMFaFvNpkNAowVoW82mQ0CjBWhbzaZDQKMFaFvNpkNAowVoW82mQ0CjBWhbzaZDQKMFaFvNpkNAowVoW82mQ0CjBWhbzaZDQKMFaFvNpkNAowVoW82mQ0CjBWhbzaZDQKMFaFvNpkNAowVoW82mQ0DnG9E96ypDQOcb0T3rKkNAowVoW82mQ0CjBWhbzaZDQKMFaFvNpkNA5xvRPesqQ0CjBWhbzaZDQOcb0T3rKkNA5xvRPesqQ0DnG9E96ypDQOcb0T3rKkNA5xvRPesqQ0DnG9E96ypDQOcb0T3rKkNA5xvRPesqQ0CjBWhbzaZDQKMFaFvNpkNAowVoW82mQ0CjBWhbzaZDQKMFaFvNpkNAowVoW82mQ0CjBWhbzaZDQKMFaFvNpkNAowVoW82mQ0CjBWhbzaZDQKMFaFvNpkNAowVoW82mQ0CjBWhbzaZDQKMFaFvNpkNAowVoW82mQ0CjBWhbzaZDQKMFaFvNpkNAowVoW82mQ0CjBWhbzaZDQKMFaFvNpkNAowVoW82mQ0DnG9E96ypDQOcb0T3rKkNA5xvRPesqQ0DnG9E96ypDQOcb0T3rKkNA5xvRPesqQ0DnG9E96ypDQOcb0T3rKkNA5xvRPesqQ0DnG9E96ypDQOcb0T3rKkNA5xvRPesqQ0DnG9E96ypDQOcb0T3rKkNA5xvRPesqQ0DnG9E96ypDQOcb0T3rKkNAowVoW82mQ0CjBWhbzaZDQKMFaFvNpkNAowVoW82mQ0CjBWhbzaZDQKMFaFvNpkNAowVoW82mQ0CjBWhbzaZDQKMFaFvNpkNAowVoW82mQ0CjBWhbzaZDQKMFaFvNpkNAowVoW82mQ0CjBWhbzaZDQKMFaFvNpkNAowVoW82mQ0CjBWhbzaZDQKMFaFvNpkNAowVoW82mQ0CjBWhbzaZDQKMFaFvNpkNAowVoW82mQ0CjBWhbzaZDQKMFaFvNpkNAowVoW82mQ0CjBWhbzaZDQKMFaFvNpkNAowVoW82mQ0CjBWhbzaZDQKMFaFvNpkNAowVoW82mQ0CjBWhbzaZDQKMFaFvNpkNAowVoW82mQ0DnG9E96ypDQOcb0T3rKkNA5xvRPesqQ0DnG9E96ypDQOcb0T3rKkNA5xvRPesqQ0DnG9E96ypDQOcb0T3rKkNA5xvRPesqQ0DnG9E96ypDQOcb0T3rKkNA5xvRPesqQ0DnG9E96ypDQOcb0T3rKkNA5xvRPesqQ0DnG9E96ypDQOcb0T3rKkNA5xvRPesqQ0DnG9E96ypDQOcb0T3rKkNA5xvRPesqQ0DnG9E96ypDQOcb0T3rKkNA5xvRPesqQ0DnG9E96ypDQOcb0T3rKkNA5xvRPesqQ0DnG9E96ypDQOcb0T3rKkNA5xvRPesqQ0DnG9E96ypDQOcb0T3rKkNA5xvRPesqQ0DnG9E96ypDQOcb0T3rKkNA5xvRPesqQ0DnG9E96ypDQOcb0T3rKkNA5xvRPesqQ0DnG9E96ypDQOcb0T3rKkNA5xvRPesqQ0DnG9E96ypDQOcb0T3rKkNA5xvRPesqQ0DnG9E96ypDQOcb0T3rKkNA5xvRPesqQ0DnG9E96ypDQOcb0T3rKkNA5xvRPesqQ0DnG9E96ypDQOcb0T3rKkNA5xvRPesqQ0DnG9E96ypDQOcb0T3rKkNA5xvRPesqQ0DnG9E96ypDQOcb0T3rKkNA5xvRPesqQ0DnG9E96ypDQOcb0T3rKkNA5xvRPesqQ0DnG9E96ypDQOcb0T3rKkNA5xvRPesqQ0DnG9E96ypDQOcb0T3rKkNA5xvRPesqQ0DnG9E96ypDQOcb0T3rKkNA5xvRPesqQ0DnG9E96ypDQOcb0T3rKkNA5xvRPesqQ0DnG9E96ypDQOcb0T3rKkNA5xvRPesqQ0DnG9E96ypDQOcb0T3rKkNA5xvRPesqQ0DnG9E96ypDQOcb0T3rKkNA5xvRPesqQ0DnG9E96ypDQOcb0T3rKkNA5xvRPesqQ0DnG9E96ypDQOcb0T3rKkNA5xvRPesqQ0DnG9E96ypDQOcb0T3rKkNA5xvRPesqQ0DnG9E96ypDQOcb0T3rKkNA5xvRPesqQ0DnG9E96ypDQOcb0T3rKkNA5xvRPesqQ0DnG9E96ypDQOcb0T3rKkNA5xvRPesqQ0DnG9E96ypDQOcb0T3rKkNA5xvRPesqQ0DnG9E96ypDQOcb0T3rKkNA5xvRPesqQ0DnG9E96ypDQOcb0T3rKkNA5xvRPesqQ0DnG9E96ypDQOcb0T3rKkNA5xvRPesqQ0DnG9E96ypDQOcb0T3rKkNA5xvRPesqQ0DnG9E96ypDQOcb0T3rKkNA5xvRPesqQ0DnG9E96ypDQOcb0T3rKkNA5xvRPesqQ0DnG9E96ypDQOcb0T3rKkNA5xvRPesqQ0DnG9E96ypDQOcb0T3rKkNA5xvRPesqQ0DnG9E96ypDQOcb0T3rKkNA5xvRPesqQ0DnG9E96ypDQOcb0T3rKkNA5xvRPesqQ0DnG9E96ypDQOcb0T3rKkNA5xvRPesqQ0DnG9E96ypDQOcb0T3rKkNA5xvRPesqQ0DnG9E96ypDQOcb0T3rKkNA5xvRPesqQ0DnG9E96ypDQOcb0T3rKkNA5xvRPesqQ0DnG9E96ypDQOcb0T3rKkNA5xvRPesqQ0DnG9E96ypDQOcb0T3rKkNA5xvRPesqQ0DnG9E96ypDQOcb0T3rKkNA5xvRPesqQ0DnG9E96ypDQOcb0T3rKkNA5xvRPesqQ0DnG9E96ypDQOcb0T3rKkNA5xvRPesqQ0DnG9E96ypDQOcb0T3rKkNA5xvRPesqQ0DnG9E96ypDQOcb0T3rKkNA5xvRPesqQ0DnG9E96ypDQOcb0T3rKkNA5xvRPesqQ0DnG9E96ypDQOcb0T3rKkNA5xvRPesqQ0DnG9E96ypDQOcb0T3rKkNA5xvRPesqQ0DnG9E96ypDQOcb0T3rKkNA5xvRPesqQ0DnG9E96ypDQOcb0T3rKkNA5xvRPesqQ0DnG9E96ypDQOcb0T3rKkNA5xvRPesqQ0DnG9E96ypDQOcb0T3rKkNA5xvRPesqQ0DnG9E96ypDQOcb0T3rKkNA5xvRPesqQ0DnG9E96ypDQOcb0T3rKkNA5xvRPesqQ0DnG9E96ypDQOcb0T3rKkNA5xvRPesqQ0DnG9E96ypDQOcb0T3rKkNA5xvRPesqQ0DnG9E96ypDQOcb0T3rKkNA5xvRPesqQ0DnG9E96ypDQOcb0T3rKkNA5xvRPesqQ0DnG9E96ypDQOcb0T3rKkNA5xvRPesqQ0DnG9E96ypDQOcb0T3rKkNA5xvRPesqQ0DnG9E96ypDQOcb0T3rKkNA5xvRPesqQ0DnG9E96ypDQOcb0T3rKkNA5xvRPesqQ0DnG9E96ypDQOcb0T3rKkNA5xvRPesqQ0DnG9E96ypDQOcb0T3rKkNA5xvRPesqQ0DnG9E96ypDQOcb0T3rKkNA5xvRPesqQ0DnG9E96ypDQOcb0T3rKkNA5xvRPesqQ0DnG9E96ypDQOcb0T3rKkNA5xvRPesqQ0DnG9E96ypDQOcb0T3rKkNA5xvRPesqQ0DnG9E96ypDQOcb0T3rKkNA5xvRPesqQ0DnG9E96ypDQOcb0T3rKkNA5xvRPesqQ0DnG9E96ypDQOcb0T3rKkNA5xvRPesqQ0DnG9E96ypDQOcb0T3rKkNA5xvRPesqQ0DnG9E96ypDQOcb0T3rKkNA5xvRPesqQ0DnG9E96ypDQOcb0T3rKkNA5xvRPesqQ0DnG9E96ypDQOcb0T3rKkNA5xvRPesqQ0DnG9E96ypDQOcb0T3rKkNA5xvRPesqQ0DnG9E96ypDQOcb0T3rKkNA5xvRPesqQ0DnG9E96ypDQOcb0T3rKkNA5xvRPesqQ0DnG9E96ypDQOcb0T3rKkNA5xvRPesqQ0DnG9E96ypDQOcb0T3rKkNA5xvRPesqQ0DnG9E96ypDQOcb0T3rKkNA5xvRPesqQ0DnG9E96ypDQOcb0T3rKkNA5xvRPesqQ0DnG9E96ypDQOcb0T3rKkNA5xvRPesqQ0DnG9E96ypDQOcb0T3rKkNA5xvRPesqQ0DnG9E96ypDQOcb0T3rKkNA5xvRPesqQ0DnG9E96ypDQOcb0T3rKkNA5xvRPesqQ0DnG9E96ypDQOcb0T3rKkNA5xvRPesqQ0DnG9E96ypDQOcb0T3rKkNA5xvRPesqQ0DnG9E96ypDQOcb0T3rKkNA5xvRPesqQ0DnG9E96ypDQOcb0T3rKkNA5xvRPesqQ0DnG9E96ypDQOcb0T3rKkNA5xvRPesqQ0DnG9E96ypDQOcb0T3rKkNA5xvRPesqQ0DnG9E96ypDQOcb0T3rKkNA5xvRPesqQ0DnG9E96ypDQOcb0T3rKkNA5xvRPesqQ0DnG9E96ypDQOcb0T3rKkNA5xvRPesqQ0DnG9E96ypDQOcb0T3rKkNA5xvRPesqQ0DnG9E96ypDQOcb0T3rKkNA5xvRPesqQ0DnG9E96ypDQOcb0T3rKkNA5xvRPesqQ0DnG9E96ypDQOcb0T3rKkNA5xvRPesqQ0DnG9E96ypDQOcb0T3rKkNA5xvRPesqQ0DnG9E96ypDQOcb0T3rKkNA5xvRPesqQ0DnG9E96ypDQOcb0T3rKkNA5xvRPesqQ0DnG9E96ypDQOcb0T3rKkNA5xvRPesqQ0DnG9E96ypDQOcb0T3rKkNA5xvRPesqQ0DnG9E96ypDQOcb0T3rKkNA5xvRPesqQ0DnG9E96ypDQOcb0T3rKkNA5xvRPesqQ0DnG9E96ypDQOcb0T3rKkNA5xvRPesqQ0DnG9E96ypDQOcb0T3rKkNA5xvRPesqQ0DnG9E96ypDQOcb0T3rKkNA5xvRPesqQ0DnG9E96ypDQOcb0T3rKkNA5xvRPesqQ0DnG9E96ypDQOcb0T3rKkNA5xvRPesqQ0DnG9E96ypDQOcb0T3rKkNA5xvRPesqQ0DnG9E96ypDQOcb0T3rKkNA5xvRPesqQ0DnG9E96ypDQOcb0T3rKkNA5xvRPesqQ0DnG9E96ypDQOcb0T3rKkNA5xvRPesqQ0DnG9E96ypDQOcb0T3rKkNA5xvRPesqQ0DnG9E96ypDQOcb0T3rKkNA5xvRPesqQ0DnG9E96ypDQOcb0T3rKkNA5xvRPesqQ0DnG9E96ypDQOcb0T3rKkNA5xvRPesqQ0DnG9E96ypDQOcb0T3rKkNA5xvRPesqQ0DnG9E96ypDQOcb0T3rKkNA5xvRPesqQ0DnG9E96ypDQOcb0T3rKkNA5xvRPesqQ0DnG9E96ypDQOcb0T3rKkNA5xvRPesqQ0DnG9E96ypDQOcb0T3rKkNA5xvRPesqQ0DnG9E96ypDQOcb0T3rKkNA5xvRPesqQ0DnG9E96ypDQOcb0T3rKkNA5xvRPesqQ0DnG9E96ypDQOcb0T3rKkNA5xvRPesqQ0DnG9E96ypDQOcb0T3rKkNA5xvRPesqQ0DnG9E96ypDQOcb0T3rKkNA5xvRPesqQ0DnG9E96ypDQOcb0T3rKkNA5xvRPesqQ0DnG9E96ypDQOcb0T3rKkNA5xvRPesqQ0DnG9E96ypDQOcb0T3rKkNA5xvRPesqQ0DnG9E96ypDQOcb0T3rKkNA5xvRPesqQ0DnG9E96ypDQOcb0T3rKkNA5xvRPesqQ0DnG9E96ypDQOcb0T3rKkNA5xvRPesqQ0DnG9E96ypDQOcb0T3rKkNA5xvRPesqQ0DnG9E96ypDQOcb0T3rKkNA5xvRPesqQ0DnG9E96ypDQOcb0T3rKkNA5xvRPesqQ0DnG9E96ypDQOcb0T3rKkNA5xvRPesqQ0DnG9E96ypDQOcb0T3rKkNA5xvRPesqQ0DnG9E96ypDQOcb0T3rKkNA5xvRPesqQ0DnG9E96ypDQOcb0T3rKkNA5xvRPesqQ0DnG9E96ypDQOcb0T3rKkNA5xvRPesqQ0DnG9E96ypDQOcb0T3rKkNA5xvRPesqQ0DnG9E96ypDQOcb0T3rKkNA5xvRPesqQ0DnG9E96ypDQOcb0T3rKkNA5xvRPesqQ0DnG9E96ypDQOcb0T3rKkNA5xvRPesqQ0DnG9E96ypDQOcb0T3rKkNA5xvRPesqQ0DnG9E96ypDQOcb0T3rKkNA5xvRPesqQ0DnG9E96ypDQOcb0T3rKkNA5xvRPesqQ0DnG9E96ypDQOcb0T3rKkNA5xvRPesqQ0DnG9E96ypDQOcb0T3rKkNA5xvRPesqQ0DnG9E96ypDQOcb0T3rKkNA5xvRPesqQ0DnG9E96ypDQOcb0T3rKkNA5xvRPesqQ0DnG9E96ypDQOcb0T3rKkNA5xvRPesqQ0DnG9E96ypDQOcb0T3rKkNA5xvRPesqQ0DnG9E96ypDQOcb0T3rKkNA5xvRPesqQ0DnG9E96ypDQOcb0T3rKkNA5xvRPesqQ0DnG9E96ypDQOcb0T3rKkNA5xvRPesqQ0DnG9E96ypDQOcb0T3rKkNA5xvRPesqQ0DnG9E96ypDQOcb0T3rKkNA5xvRPesqQ0DnG9E96ypDQOcb0T3rKkNA5xvRPesqQ0DnG9E96ypDQOcb0T3rKkNA5xvRPesqQ0DnG9E96ypDQOcb0T3rKkNA5xvRPesqQ0DnG9E96ypDQOcb0T3rKkNA5xvRPesqQ0DnG9E96ypDQOcb0T3rKkNA5xvRPesqQ0DnG9E96ypDQOcb0T3rKkNA5xvRPesqQ0DnG9E96ypDQOcb0T3rKkNA5xvRPesqQ0DnG9E96ypDQOcb0T3rKkNA5xvRPesqQ0DnG9E96ypDQOcb0T3rKkNA5xvRPesqQ0DnG9E96ypDQOcb0T3rKkNA5xvRPesqQ0DnG9E96ypDQOcb0T3rKkNA5xvRPesqQ0DnG9E96ypDQOcb0T3rKkNA5xvRPesqQ0DnG9E96ypDQOcb0T3rKkNA5xvRPesqQ0DnG9E96ypDQOcb0T3rKkNA5xvRPesqQ0DnG9E96ypDQOcb0T3rKkNA5xvRPesqQ0DnG9E96ypDQOcb0T3rKkNA5xvRPesqQ0DnG9E96ypDQOcb0T3rKkNA5xvRPesqQ0DnG9E96ypDQOcb0T3rKkNA5xvRPesqQ0DnG9E96ypDQOcb0T3rKkNA5xvRPesqQ0DnG9E96ypDQOcb0T3rKkNA5xvRPesqQ0DnG9E96ypDQOcb0T3rKkNA5xvRPesqQ0DnG9E96ypDQOcb0T3rKkNA5xvRPesqQ0DnG9E96ypDQOcb0T3rKkNA5xvRPesqQ0DnG9E96ypDQOcb0T3rKkNA5xvRPesqQ0DnG9E96ypDQOcb0T3rKkNA5xvRPesqQ0DnG9E96ypDQOcb0T3rKkNA5xvRPesqQ0DnG9E96ypDQOcb0T3rKkNA5xvRPesqQ0DnG9E96ypDQOcb0T3rKkNA5xvRPesqQ0DnG9E96ypDQOcb0T3rKkNA5xvRPesqQ0DnG9E96ypDQOcb0T3rKkNA5xvRPesqQ0DnG9E96ypDQOcb0T3rKkNA5xvRPesqQ0DnG9E96ypDQOcb0T3rKkNA5xvRPesqQ0DnG9E96ypDQOcb0T3rKkNA5xvRPesqQ0DnG9E96ypDQOcb0T3rKkNA5xvRPesqQ0DnG9E96ypDQOcb0T3rKkNA5xvRPesqQ0DnG9E96ypDQOcb0T3rKkNA5xvRPesqQ0DnG9E96ypDQOcb0T3rKkNA5xvRPesqQ0DnG9E96ypDQOcb0T3rKkNA5xvRPesqQ0DnG9E96ypDQOcb0T3rKkNA5xvRPesqQ0DnG9E96ypDQOcb0T3rKkNA5xvRPesqQ0DnG9E96ypDQOcb0T3rKkNA5xvRPesqQ0DnG9E96ypDQOcb0T3rKkNA5xvRPesqQ0DnG9E96ypDQOcb0T3rKkNA5xvRPesqQ0DnG9E96ypDQOcb0T3rKkNA5xvRPesqQ0DnG9E96ypDQOcb0T3rKkNA5xvRPesqQ0DnG9E96ypDQOcb0T3rKkNA5xvRPesqQ0DnG9E96ypDQOcb0T3rKkNA5xvRPesqQ0DnG9E96ypDQOcb0T3rKkNA5xvRPesqQ0DnG9E96ypDQOcb0T3rKkNA5xvRPesqQ0DnG9E96ypDQOcb0T3rKkNA5xvRPesqQ0DnG9E96ypDQOcb0T3rKkNA5xvRPesqQ0DnG9E96ypDQOcb0T3rKkNA5xvRPesqQ0DnG9E96ypDQOcb0T3rKkNA5xvRPesqQ0DnG9E96ypDQOcb0T3rKkNA5xvRPesqQ0DnG9E96ypDQOcb0T3rKkNA5xvRPesqQ0DnG9E96ypDQOcb0T3rKkNA5xvRPesqQ0DnG9E96ypDQOcb0T3rKkNA5xvRPesqQ0DnG9E96ypDQOcb0T3rKkNA5xvRPesqQ0DnG9E96ypDQOcb0T3rKkNA5xvRPesqQ0DnG9E96ypDQOcb0T3rKkNA5xvRPesqQ0DnG9E96ypDQOcb0T3rKkNA5xvRPesqQ0DnG9E96ypDQOcb0T3rKkNA5xvRPesqQ0DnG9E96ypDQOcb0T3rKkNA5xvRPesqQ0DnG9E96ypDQOcb0T3rKkNA5xvRPesqQ0DnG9E96ypDQOcb0T3rKkNA5xvRPesqQ0DnG9E96ypDQOcb0T3rKkNA5xvRPesqQ0DnG9E96ypDQOcb0T3rKkNA5xvRPesqQ0DnG9E96ypDQOcb0T3rKkNA5xvRPesqQ0DnG9E96ypDQOcb0T3rKkNA5xvRPesqQ0DnG9E96ypDQOcb0T3rKkNA5xvRPesqQ0DnG9E96ypDQOcb0T3rKkNA5xvRPesqQ0DnG9E96ypDQOcb0T3rKkNA5xvRPesqQ0DnG9E96ypDQOcb0T3rKkNA5xvRPesqQ0DnG9E96ypDQOcb0T3rKkNA5xvRPesqQ0DnG9E96ypDQOcb0T3rKkNA5xvRPesqQ0DnG9E96ypDQOcb0T3rKkNA5xvRPesqQ0DnG9E96ypDQOcb0T3rKkNA5xvRPesqQ0DnG9E96ypDQOcb0T3rKkNA5xvRPesqQ0DnG9E96ypDQOcb0T3rKkNA5xvRPesqQ0DnG9E96ypDQOcb0T3rKkNA5xvRPesqQ0DnG9E96ypDQOcb0T3rKkNA5xvRPesqQ0DnG9E96ypDQOcb0T3rKkNA5xvRPesqQ0DnG9E96ypDQOcb0T3rKkNA5xvRPesqQ0DnG9E96ypDQOcb0T3rKkNA5xvRPesqQ0DnG9E96ypDQOcb0T3rKkNA5xvRPesqQ0DnG9E96ypDQOcb0T3rKkNA5xvRPesqQ0DnG9E96ypDQOcb0T3rKkNA5xvRPesqQ0DnG9E96ypDQOcb0T3rKkNA5xvRPesqQ0DnG9E96ypDQOcb0T3rKkNA5xvRPesqQ0DnG9E96ypDQOcb0T3rKkNA5xvRPesqQ0DnG9E96ypDQOcb0T3rKkNA5xvRPesqQ0DnG9E96ypDQOcb0T3rKkNA5xvRPesqQ0DnG9E96ypDQOcb0T3rKkNA5xvRPesqQ0DnG9E96ypDQOcb0T3rKkNA5xvRPesqQ0DnG9E96ypDQOcb0T3rKkNA5xvRPesqQ0DnG9E96ypDQOcb0T3rKkNA5xvRPesqQ0DnG9E96ypDQOcb0T3rKkNA5xvRPesqQ0DnG9E96ypDQOcb0T3rKkNA5xvRPesqQ0DnG9E96ypDQOcb0T3rKkNA5xvRPesqQ0DnG9E96ypDQOcb0T3rKkNA5xvRPesqQ0DnG9E96ypDQOcb0T3rKkNA5xvRPesqQ0DnG9E96ypDQOcb0T3rKkNA5xvRPesqQ0DnG9E96ypDQOcb0T3rKkNA5xvRPesqQ0DnG9E96ypDQOcb0T3rKkNA5xvRPesqQ0DnG9E96ypDQOcb0T3rKkNA5xvRPesqQ0DnG9E96ypDQOcb0T3rKkNA5xvRPesqQ0DnG9E96ypDQOcb0T3rKkNA5xvRPesqQ0DnG9E96ypDQOcb0T3rKkNA5xvRPesqQ0DnG9E96ypDQOcb0T3rKkNA5xvRPesqQ0DnG9E96ypDQOcb0T3rKkNA5xvRPesqQ0DnG9E96ypDQOcb0T3rKkNA5xvRPesqQ0DnG9E96ypDQOcb0T3rKkNA5xvRPesqQ0DnG9E96ypDQOcb0T3rKkNA5xvRPesqQ0DnG9E96ypDQOcb0T3rKkNA5xvRPesqQ0DnG9E96ypDQOcb0T3rKkNA5xvRPesqQ0DnG9E96ypDQOcb0T3rKkNA5xvRPesqQ0DnG9E96ypDQOcb0T3rKkNA5xvRPesqQ0DnG9E96ypDQOcb0T3rKkNA5xvRPesqQ0DnG9E96ypDQOcb0T3rKkNA5xvRPesqQ0DnG9E96ypDQOcb0T3rKkNA5xvRPesqQ0DnG9E96ypDQOcb0T3rKkNA5xvRPesqQ0DnG9E96ypDQOcb0T3rKkNA5xvRPesqQ0DnG9E96ypDQOcb0T3rKkNA5xvRPesqQ0DnG9E96ypDQOcb0T3rKkNA5xvRPesqQ0DnG9E96ypDQOcb0T3rKkNA5xvRPesqQ0DnG9E96ypDQOcb0T3rKkNA5xvRPesqQ0DnG9E96ypDQOcb0T3rKkNA5xvRPesqQ0DnG9E96ypDQOcb0T3rKkNA5xvRPesqQ0DnG9E96ypDQOcb0T3rKkNA5xvRPesqQ0DnG9E96ypDQOcb0T3rKkNA5xvRPesqQ0DnG9E96ypDQOcb0T3rKkNA5xvRPesqQ0DnG9E96ypDQOcb0T3rKkNA5xvRPesqQ0DnG9E96ypDQOcb0T3rKkNA5xvRPesqQ0DnG9E96ypDQOcb0T3rKkNA5xvRPesqQ0DnG9E96ypDQOcb0T3rKkNA5xvRPesqQ0DnG9E96ypDQOcb0T3rKkNA5xvRPesqQ0DnG9E96ypDQOcb0T3rKkNA5xvRPesqQ0DnG9E96ypDQOcb0T3rKkNA5xvRPesqQ0DnG9E96ypDQOcb0T3rKkNA5xvRPesqQ0DnG9E96ypDQOcb0T3rKkNA5xvRPesqQ0DnG9E96ypDQOcb0T3rKkNA5xvRPesqQ0DnG9E96ypDQOcb0T3rKkNA5xvRPesqQ0DnG9E96ypDQOcb0T3rKkNA5xvRPesqQ0DnG9E96ypDQOcb0T3rKkNA5xvRPesqQ0DnG9E96ypDQOcb0T3rKkNA5xvRPesqQ0DnG9E96ypDQOcb0T3rKkNA5xvRPesqQ0DnG9E96ypDQOcb0T3rKkNA5xvRPesqQ0DnG9E96ypDQOcb0T3rKkNA5xvRPesqQ0DnG9E96ypDQOcb0T3rKkNA5xvRPesqQ0DnG9E96ypDQOcb0T3rKkNA5xvRPesqQ0DnG9E96ypDQOcb0T3rKkNA5xvRPesqQ0DnG9E96ypDQOcb0T3rKkNA5xvRPesqQ0DnG9E96ypDQOcb0T3rKkNA5xvRPesqQ0DnG9E96ypDQOcb0T3rKkNA5xvRPesqQ0DnG9E96ypDQOcb0T3rKkNA5xvRPesqQ0DnG9E96ypDQOcb0T3rKkNA5xvRPesqQ0DnG9E96ypDQOcb0T3rKkNA5xvRPesqQ0DnG9E96ypDQOcb0T3rKkNA5xvRPesqQ0DnG9E96ypDQOcb0T3rKkNA5xvRPesqQ0DnG9E96ypDQOcb0T3rKkNA5xvRPesqQ0DnG9E96ypDQOcb0T3rKkNA5xvRPesqQ0DnG9E96ypDQOcb0T3rKkNA5xvRPesqQ0DnG9E96ypDQOcb0T3rKkNA5xvRPesqQ0DnG9E96ypDQOcb0T3rKkNA5xvRPesqQ0DnG9E96ypDQOcb0T3rKkNA5xvRPesqQ0DnG9E96ypDQOcb0T3rKkNA5xvRPesqQ0DnG9E96ypDQOcb0T3rKkNA5xvRPesqQ0DnG9E96ypDQOcb0T3rKkNA5xvRPesqQ0DnG9E96ypDQOcb0T3rKkNA5xvRPesqQ0DnG9E96ypDQOcb0T3rKkNA5xvRPesqQ0DnG9E96ypDQOcb0T3rKkNA5xvRPesqQ0DnG9E96ypDQOcb0T3rKkNA5xvRPesqQ0DnG9E96ypDQOcb0T3rKkNA5xvRPesqQ0DnG9E96ypDQOcb0T3rKkNA5xvRPesqQ0DnG9E96ypDQOcb0T3rKkNA5xvRPesqQ0DnG9E96ypDQOcb0T3rKkNA5xvRPesqQ0DnG9E96ypDQOcb0T3rKkNA5xvRPesqQ0DnG9E96ypDQOcb0T3rKkNA5xvRPesqQ0DnG9E96ypDQOcb0T3rKkNA5xvRPesqQ0DnG9E96ypDQOcb0T3rKkNA5xvRPesqQ0DnG9E96ypDQOcb0T3rKkNA5xvRPesqQ0DnG9E96ypDQOcb0T3rKkNA5xvRPesqQ0DnG9E96ypDQOcb0T3rKkNA5xvRPesqQ0DnG9E96ypDQOcb0T3rKkNA5xvRPesqQ0DnG9E96ypDQOcb0T3rKkNA5xvRPesqQ0DnG9E96ypDQOcb0T3rKkNA5xvRPesqQ0DnG9E96ypDQOcb0T3rKkNA5xvRPesqQ0DnG9E96ypDQOcb0T3rKkNA5xvRPesqQ0DnG9E96ypDQOcb0T3rKkNA5xvRPesqQ0DnG9E96ypDQOcb0T3rKkNA5xvRPesqQ0DnG9E96ypDQOcb0T3rKkNA5xvRPesqQ0DnG9E96ypDQOcb0T3rKkNA5xvRPesqQ0DnG9E96ypDQOcb0T3rKkNA5xvRPesqQ0DnG9E96ypDQOcb0T3rKkNA5xvRPesqQ0DnG9E96ypDQOcb0T3rKkNA5xvRPesqQ0DnG9E96ypDQOcb0T3rKkNA5xvRPesqQ0DnG9E96ypDQOcb0T3rKkNA5xvRPesqQ0DnG9E96ypDQOcb0T3rKkNA5xvRPesqQ0DnG9E96ypDQOcb0T3rKkNA5xvRPesqQ0DnG9E96ypDQOcb0T3rKkNA5xvRPesqQ0DnG9E96ypDQOcb0T3rKkNA5xvRPesqQ0DnG9E96ypDQOcb0T3rKkNA5xvRPesqQ0DnG9E96ypDQOcb0T3rKkNA5xvRPesqQ0DnG9E96ypDQOcb0T3rKkNA5xvRPesqQ0DnG9E96ypDQOcb0T3rKkNA5xvRPesqQ0DnG9E96ypDQOcb0T3rKkNA5xvRPesqQ0DnG9E96ypDQOcb0T3rKkNA5xvRPesqQ0DnG9E96ypDQOcb0T3rKkNA5xvRPesqQ0DnG9E96ypDQOcb0T3rKkNA5xvRPesqQ0DnG9E96ypDQOcb0T3rKkNA5xvRPesqQ0DnG9E96ypDQOcb0T3rKkNA5xvRPesqQ0DnG9E96ypDQOcb0T3rKkNA5xvRPesqQ0DnG9E96ypDQOcb0T3rKkNA5xvRPesqQ0DnG9E96ypDQOcb0T3rKkNA5xvRPesqQ0DnG9E96ypDQOcb0T3rKkNA5xvRPesqQ0DnG9E96ypDQOcb0T3rKkNA5xvRPesqQ0DnG9E96ypDQOcb0T3rKkNA5xvRPesqQ0DnG9E96ypDQOcb0T3rKkNA5xvRPesqQ0DnG9E96ypDQOcb0T3rKkNA5xvRPesqQ0DnG9E96ypDQOcb0T3rKkNA5xvRPesqQ0DnG9E96ypDQOcb0T3rKkNA5xvRPesqQ0DnG9E96ypDQOcb0T3rKkNA5xvRPesqQ0DnG9E96ypDQOcb0T3rKkNA5xvRPesqQ0DnG9E96ypDQOcb0T3rKkNA5xvRPesqQ0DnG9E96ypDQOcb0T3rKkNA5xvRPesqQ0DnG9E96ypDQOcb0T3rKkNA5xvRPesqQ0DnG9E96ypDQOcb0T3rKkNA5xvRPesqQ0DnG9E96ypDQOcb0T3rKkNA5xvRPesqQ0DnG9E96ypDQOcb0T3rKkNA5xvRPesqQ0DnG9E96ypDQOcb0T3rKkNA5xvRPesqQ0DnG9E96ypDQOcb0T3rKkNA5xvRPesqQ0DnG9E96ypDQOcb0T3rKkNA5xvRPesqQ0DnG9E96ypDQOcb0T3rKkNA5xvRPesqQ0DnG9E96ypDQOcb0T3rKkNA5xvRPesqQ0DnG9E96ypDQOcb0T3rKkNA5xvRPesqQ0DnG9E96ypDQOcb0T3rKkNA5xvRPesqQ0DnG9E96ypDQOcb0T3rKkNA5xvRPesqQ0DnG9E96ypDQOcb0T3rKkNA5xvRPesqQ0DnG9E96ypDQOcb0T3rKkNA5xvRPesqQ0BbttYXCa9CQFu21hcJr0JAW7bWFwmvQkBbttYXCa9CQFu21hcJr0JAW7bWFwmvQkBbttYXCa9CQFu21hcJr0JA5xvRPesqQ0DnG9E96ypDQOcb0T3rKkNA5xvRPesqQ0DnG9E96ypDQOcb0T3rKkNA5xvRPesqQ0DnG9E96ypDQOcb0T3rKkNA5xvRPesqQ0DnG9E96ypDQOcb0T3rKkNA5xvRPesqQ0DnG9E96ypDQOcb0T3rKkNA5xvRPesqQ0DnG9E96ypDQOcb0T3rKkNA5xvRPesqQ0DnG9E96ypDQOcb0T3rKkNA5xvRPesqQ0DnG9E96ypDQOcb0T3rKkNA5xvRPesqQ0DnG9E96ypDQOcb0T3rKkNA5xvRPesqQ0DnG9E96ypDQOcb0T3rKkNA5xvRPesqQ0DnG9E96ypDQOcb0T3rKkNA5xvRPesqQ0DnG9E96ypDQOcb0T3rKkNA5xvRPesqQ0DnG9E96ypDQOcb0T3rKkNA5xvRPesqQ0DnG9E96ypDQOcb0T3rKkNA5xvRPesqQ0DnG9E96ypDQOcb0T3rKkNAW7bWFwmvQkBbttYXCa9CQFu21hcJr0JAW7bWFwmvQkBbttYXCa9CQFu21hcJr0JAW7bWFwmvQkBbttYXCa9CQFu21hcJr0JAW7bWFwmvQkBbttYXCa9CQFu21hcJr0JAW7bWFwmvQkBbttYXCa9CQFu21hcJr0JAW7bWFwmvQkBbttYXCa9CQFu21hcJr0JAW7bWFwmvQkBbttYXCa9CQFu21hcJr0JAW7bWFwmvQkBbttYXCa9CQFu21hcJr0JAW7bWFwmvQkBbttYXCa9CQFu21hcJr0JAW7bWFwmvQkBbttYXCa9CQFu21hcJr0JAW7bWFwmvQkBbttYXCa9CQFu21hcJr0JAW7bWFwmvQkBbttYXCa9CQFu21hcJr0JAW7bWFwmvQkBbttYXCa9CQFu21hcJr0JAW7bWFwmvQkBbttYXCa9CQFu21hcJr0JAW7bWFwmvQkBbttYXCa9CQFu21hcJr0JAW7bWFwmvQkBbttYXCa9CQFu21hcJr0JAW7bWFwmvQkBbttYXCa9CQFu21hcJr0JAW7bWFwmvQkBbttYXCa9CQFu21hcJr0JAW7bWFwmvQkBbttYXCa9CQFu21hcJr0JAW7bWFwmvQkBbttYXCa9CQFu21hcJr0JAW7bWFwmvQkBbttYXCa9CQFu21hcJr0JAW7bWFwmvQkBbttYXCa9CQFu21hcJr0JAW7bWFwmvQkBbttYXCa9CQFu21hcJr0JAW7bWFwmvQkBbttYXCa9CQFu21hcJr0JAW7bWFwmvQkBbttYXCa9CQFu21hcJr0JAW7bWFwmvQkBbttYXCa9CQFu21hcJr0JAW7bWFwmvQkBbttYXCa9CQFu21hcJr0JAW7bWFwmvQkBbttYXCa9CQFu21hcJr0JAW7bWFwmvQkBbttYXCa9CQFu21hcJr0JAW7bWFwmvQkBbttYXCa9CQFu21hcJr0JAW7bWFwmvQkBbttYXCa9CQFu21hcJr0JAW7bWFwmvQkBbttYXCa9CQFu21hcJr0JAW7bWFwmvQkBbttYXCa9CQFu21hcJr0JAW7bWFwmvQkBbttYXCa9CQFu21hcJr0JAW7bWFwmvQkBbttYXCa9CQFu21hcJr0JAW7bWFwmvQkBbttYXCa9CQFu21hcJr0JAW7bWFwmvQkBbttYXCa9CQFu21hcJr0JAW7bWFwmvQkBbttYXCa9CQFu21hcJr0JAW7bWFwmvQkBbttYXCa9CQFu21hcJr0JAW7bWFwmvQkBbttYXCa9CQFu21hcJr0JAW7bWFwmvQkBbttYXCa9CQFu21hcJr0JAW7bWFwmvQkBbttYXCa9CQFu21hcJr0JAW7bWFwmvQkBbttYXCa9CQFu21hcJr0JAW7bWFwmvQkBbttYXCa9CQFu21hcJr0JAW7bWFwmvQkBbttYXCa9CQFu21hcJr0JAW7bWFwmvQkBbttYXCa9CQFu21hcJr0JAW7bWFwmvQkBbttYXCa9CQFu21hcJr0JAW7bWFwmvQkBbttYXCa9CQFu21hcJr0JAW7bWFwmvQkBbttYXCa9CQFu21hcJr0JAW7bWFwmvQkBbttYXCa9CQFu21hcJr0JAW7bWFwmvQkBbttYXCa9CQFu21hcJr0JAW7bWFwmvQkBbttYXCa9CQFu21hcJr0JAW7bWFwmvQkBbttYXCa9CQFu21hcJr0JAW7bWFwmvQkBbttYXCa9CQFu21hcJr0JAW7bWFwmvQkBbttYXCa9CQFu21hcJr0JAW7bWFwmvQkBbttYXCa9CQFu21hcJr0JAW7bWFwmvQkBbttYXCa9CQFu21hcJr0JAW7bWFwmvQkBbttYXCa9CQFu21hcJr0JAW7bWFwmvQkBbttYXCa9CQFu21hcJr0JAW7bWFwmvQkBbttYXCa9CQFu21hcJr0JAW7bWFwmvQkBbttYXCa9CQFu21hcJr0JAW7bWFwmvQkBbttYXCa9CQFu21hcJr0JAW7bWFwmvQkBbttYXCa9CQFu21hcJr0JAW7bWFwmvQkBbttYXCa9CQFu21hcJr0JAW7bWFwmvQkBbttYXCa9CQFu21hcJr0JAW7bWFwmvQkBbttYXCa9CQFu21hcJr0JAW7bWFwmvQkBbttYXCa9CQFu21hcJr0JAW7bWFwmvQkBbttYXCa9CQFu21hcJr0JAW7bWFwmvQkBbttYXCa9CQFu21hcJr0JAW7bWFwmvQkBbttYXCa9CQFu21hcJr0JAW7bWFwmvQkBbttYXCa9CQFu21hcJr0JAW7bWFwmvQkBbttYXCa9CQFu21hcJr0JAW7bWFwmvQkBbttYXCa9CQFu21hcJr0JAW7bWFwmvQkBbttYXCa9CQFu21hcJr0JAW7bWFwmvQkBbttYXCa9CQFu21hcJr0JAW7bWFwmvQkBbttYXCa9CQFu21hcJr0JAW7bWFwmvQkBbttYXCa9CQFu21hcJr0JAW7bWFwmvQkBbttYXCa9CQFu21hcJr0JAW7bWFwmvQkCaCYZzDelKQJoJhnMN6UpAmgmGcw3pSkCpUN1c/AlHQKlQ3Vz8CUdAqVDdXPwJR0Ac6+I2Go5GQBzr4jYajkZAHOviNhqORkAc6+I2Go5GQBzr4jYajkZAHOviNhqORkCQhegQOBJGQJCF6BA4EkZAkIXoEDgSRkCQhegQOBJGQJCF6BA4EkZAkIXoEDgSRkCQhegQOBJGQJCF6BA4EkZAkIXoEDgSRkAEIO7qVZZFQAQg7upVlkVABCDu6lWWRUAEIO7qVZZFQAQg7upVlkVASDZXzXMaRUBINlfNcxpFQEg2V81zGkVASDZXzXMaRUBINlfNcxpFQEg2V81zGkVASDZXzXMaRUBINlfNcxpFQEg2V81zGkVASDZXzXMaRUBINlfNcxpFQLvQXKeRnkRAu9Bcp5GeREC70FynkZ5EQLvQXKeRnkRAu9Bcp5GeREC70FynkZ5EQLvQXKeRnkRAu9Bcp5GeREC70FynkZ5EQLvQXKeRnkRAu9Bcp5GeREC70FynkZ5EQLvQXKeRnkRAu9Bcp5GeREC70FynkZ5EQLvQXKeRnkRAu9Bcp5GeREC70FynkZ5EQLvQXKeRnkRAu9Bcp5GeREC70FynkZ5EQLvQXKeRnkRAu9Bcp5GeREC70FynkZ5EQLvQXKeRnkRAL2tiga8iREAva2KBryJEQC9rYoGvIkRAL2tiga8iREAva2KBryJEQC9rYoGvIkRAL2tiga8iREAva2KBryJEQC9rYoGvIkRAL2tiga8iREAva2KBryJEQC9rYoGvIkRAL2tiga8iREAva2KBryJEQC9rYoGvIkRAL2tiga8iREAva2KBryJEQC9rYoGvIkRAL2tiga8iREAva2KBryJEQC9rYoGvIkRAL2tiga8iREAva2KBryJEQC9rYoGvIkRAL2tiga8iREAva2KBryJEQC9rYoGvIkRAL2tiga8iREAva2KBryJEQC9rYoGvIkRAL2tiga8iREAva2KBryJEQC9rYoGvIkRAL2tiga8iREAva2KBryJEQC9rYoGvIkRAL2tiga8iREAva2KBryJEQC9rYoGvIkRAL2tiga8iREAva2KBryJEQC9rYoGvIkRAL2tiga8iREAva2KBryJEQC9rYoGvIkRAL2tiga8iREAva2KBryJEQC9rYoGvIkRAL2tiga8iREAva2KBryJEQC9rYoGvIkRAowVoW82mQ0CjBWhbzaZDQC9rYoGvIkRAL2tiga8iREAva2KBryJEQC9rYoGvIkRAowVoW82mQ0CjBWhbzaZDQKMFaFvNpkNAowVoW82mQ0CjBWhbzaZDQKMFaFvNpkNAowVoW82mQ0CjBWhbzaZDQKMFaFvNpkNAowVoW82mQ0CjBWhbzaZDQKMFaFvNpkNAowVoW82mQ0CjBWhbzaZDQKMFaFvNpkNAowVoW82mQ0CjBWhbzaZDQKMFaFvNpkNAowVoW82mQ0CjBWhbzaZDQKMFaFvNpkNAowVoW82mQ0CjBWhbzaZDQKMFaFvNpkNAowVoW82mQ0CjBWhbzaZDQKMFaFvNpkNAowVoW82mQ0CjBWhbzaZDQKMFaFvNpkNAowVoW82mQ0CjBWhbzaZDQKMFaFvNpkNAowVoW82mQ0CjBWhbzaZDQKMFaFvNpkNAowVoW82mQ0CjBWhbzaZDQKMFaFvNpkNAowVoW82mQ0CjBWhbzaZDQKMFaFvNpkNAowVoW82mQ0CjBWhbzaZDQKMFaFvNpkNAowVoW82mQ0CjBWhbzaZDQKMFaFvNpkNAowVoW82mQ0CjBWhbzaZDQKMFaFvNpkNAowVoW82mQ0CjBWhbzaZDQKMFaFvNpkNAowVoW82mQ0CjBWhbzaZDQKMFaFvNpkNAowVoW82mQ0CjBWhbzaZDQKMFaFvNpkNAowVoW82mQ0CjBWhbzaZDQKMFaFvNpkNAowVoW82mQ0CjBWhbzaZDQKMFaFvNpkNAowVoW82mQ0CjBWhbzaZDQKMFaFvNpkNAowVoW82mQ0CjBWhbzaZDQKMFaFvNpkNAowVoW82mQ0CjBWhbzaZDQKMFaFvNpkNAowVoW82mQ0CjBWhbzaZDQKMFaFvNpkNAowVoW82mQ0CjBWhbzaZDQKMFaFvNpkNAowVoW82mQ0CjBWhbzaZDQKMFaFvNpkNAowVoW82mQ0CjBWhbzaZDQKMFaFvNpkNAowVoW82mQ0CjBWhbzaZDQKMFaFvNpkNAowVoW82mQ0CjBWhbzaZDQKMFaFvNpkNAowVoW82mQ0CjBWhbzaZDQKMFaFvNpkNAowVoW82mQ0CjBWhbzaZDQKMFaFvNpkNAowVoW82mQ0CjBWhbzaZDQKMFaFvNpkNAowVoW82mQ0CjBWhbzaZDQKMFaFvNpkNAowVoW82mQ0CjBWhbzaZDQKMFaFvNpkNAowVoW82mQ0CjBWhbzaZDQKMFaFvNpkNAowVoW82mQ0CjBWhbzaZDQKMFaFvNpkNAowVoW82mQ0CjBWhbzaZDQKMFaFvNpkNAowVoW82mQ0CjBWhbzaZDQKMFaFvNpkNAowVoW82mQ0CjBWhbzaZDQKMFaFvNpkNAowVoW82mQ0CjBWhbzaZDQKMFaFvNpkNAowVoW82mQ0CjBWhbzaZDQKMFaFvNpkNAowVoW82mQ0CjBWhbzaZDQKMFaFvNpkNAowVoW82mQ0CjBWhbzaZDQKMFaFvNpkNAowVoW82mQ0CjBWhbzaZDQKMFaFvNpkNAowVoW82mQ0CjBWhbzaZDQKMFaFvNpkNAowVoW82mQ0CjBWhbzaZDQKMFaFvNpkNAowVoW82mQ0CjBWhbzaZDQKMFaFvNpkNAowVoW82mQ0CjBWhbzaZDQKMFaFvNpkNAowVoW82mQ0CjBWhbzaZDQKMFaFvNpkNAowVoW82mQ0CjBWhbzaZDQKMFaFvNpkNAowVoW82mQ0CjBWhbzaZDQKMFaFvNpkNAowVoW82mQ0CjBWhbzaZDQKMFaFvNpkNAowVoW82mQ0CjBWhbzaZDQKMFaFvNpkNAowVoW82mQ0CjBWhbzaZDQKMFaFvNpkNAowVoW82mQ0CjBWhbzaZDQKMFaFvNpkNAowVoW82mQ0CjBWhbzaZDQKMFaFvNpkNAowVoW82mQ0CjBWhbzaZDQKMFaFvNpkNAowVoW82mQ0CjBWhbzaZDQKMFaFvNpkNAowVoW82mQ0CjBWhbzaZDQKMFaFvNpkNAowVoW82mQ0CjBWhbzaZDQKMFaFvNpkNAowVoW82mQ0CjBWhbzaZDQKMFaFvNpkNAowVoW82mQ0CjBWhbzaZDQKMFaFvNpkNAowVoW82mQ0CjBWhbzaZDQKMFaFvNpkNAowVoW82mQ0CjBWhbzaZDQKMFaFvNpkNAowVoW82mQ0CjBWhbzaZDQKMFaFvNpkNAowVoW82mQ0CjBWhbzaZDQKMFaFvNpkNAowVoW82mQ0CjBWhbzaZDQKMFaFvNpkNAowVoW82mQ0CjBWhbzaZDQKMFaFvNpkNAowVoW82mQ0CjBWhbzaZDQKMFaFvNpkNAowVoW82mQ0CjBWhbzaZDQKMFaFvNpkNAowVoW82mQ0CjBWhbzaZDQKMFaFvNpkNAowVoW82mQ0CjBWhbzaZDQKMFaFvNpkNAowVoW82mQ0CjBWhbzaZDQKMFaFvNpkNAowVoW82mQ0CjBWhbzaZDQKMFaFvNpkNAowVoW82mQ0CjBWhbzaZDQKMFaFvNpkNAowVoW82mQ0CjBWhbzaZDQKMFaFvNpkNAowVoW82mQ0CjBWhbzaZDQKMFaFvNpkNAowVoW82mQ0CjBWhbzaZDQKMFaFvNpkNAowVoW82mQ0CjBWhbzaZDQKMFaFvNpkNAowVoW82mQ0CjBWhbzaZDQKMFaFvNpkNAowVoW82mQ0CjBWhbzaZDQKMFaFvNpkNAowVoW82mQ0CjBWhbzaZDQKMFaFvNpkNAowVoW82mQ0CjBWhbzaZDQKMFaFvNpkNAowVoW82mQ0CjBWhbzaZDQKMFaFvNpkNAowVoW82mQ0CjBWhbzaZDQKMFaFvNpkNAowVoW82mQ0CjBWhbzaZDQKMFaFvNpkNAowVoW82mQ0CjBWhbzaZDQKMFaFvNpkNAowVoW82mQ0CjBWhbzaZDQKMFaFvNpkNAowVoW82mQ0CjBWhbzaZDQKMFaFvNpkNAowVoW82mQ0CjBWhbzaZDQKMFaFvNpkNAowVoW82mQ0CjBWhbzaZDQKMFaFvNpkNAowVoW82mQ0CjBWhbzaZDQKMFaFvNpkNAowVoW82mQ0CjBWhbzaZDQKMFaFvNpkNAowVoW82mQ0CjBWhbzaZDQM6MfjScjVlAzox+NJyNWUAzpfW3BNxXQDOl9bcE3FdAM6X1twTcV0AlI2dhT6ZWQCUjZ2FPplZAaLCp86gyVUBosKnzqDJVQMQI4dHGtlRAxAjh0ca2VEDECOHRxrZUQMQI4dHGtlRAOKPmq+Q6VEA4o+ar5DpUQDij5qvkOlRAlPsdigK/U0CU+x2KAr9TQJT7HYoCv1NAzcggdxGBU0DNyCB3EYFTQM3IIHcRgVNAzcggdxGBU0DNyCB3EYFTQM3IIHcRgVNAKSFYVS8FU0ApIVhVLwVTQGPuWkI+x1JAY+5aQj7HUkBj7lpCPsdSQJ27XS9NiVJAnbtdL02JUkCdu10vTYlSQJ27XS9NiVJAnbtdL02JUkC/RpIgXEtSQL9GkiBcS1JAv0aSIFxLUkCdu10vTYlSQJ27XS9NiVJAnbtdL02JUkC/RpIgXEtSQL9GkiBcS1JA/tXjvtV4VED+1eO+1XhUQP7V477VeFRALuOmBppwVUAu46YGmnBVQC7jpgaacFVAlPsdigK/U0CU+x2KAr9TQJT7HYoCv1NAY+5aQj7HUkBj7lpCPsdSQGPuWkI+x1JAnbtdL02JUkCdu10vTYlSQJ27XS9NiVJAv0aSIFxLUkC/RpIgXEtSQL9GkiBcS1JAv0aSIFxLUkD5E5UNaw1SQPkTlQ1rDVJAM+GX+nnPUUAz4Zf6ec9RQDPhl/p5z1FAM+GX+nnPUUAz4Zf6ec9RQDPhl/p5z1FAM+GX+nnPUUAz4Zf6ec9RQDPhl/p5z1FAM+GX+nnPUUBtrprniJFRQG2umueIkVFAba6a54iRUUBtrprniJFRQG2umueIkVFAba6a54iRUUBtrprniJFRQG2umueIkVFAjznP2JdTUUCPOc/Yl1NRQI85z9iXU1FAjznP2JdTUUCPOc/Yl1NRQI85z9iXU1FAjznP2JdTUUCPOc/Yl1NRQI85z9iXU1FAjznP2JdTUUCPOc/Yl1NRQI85z9iXU1FAjznP2JdTUUDIBtLFphVRQMgG0sWmFVFAyAbSxaYVUUDIBtLFphVRQMgG0sWmFVFAyAbSxaYVUUDIBtLFphVRQMgG0sWmFVFAyAbSxaYVUUAC1NSytddQQALU1LK111BAAtTUsrXXUEAC1NSytddQQALU1LK111BAAtTUsrXXUEAC1NSytddQQALU1LK111BAAtTUsrXXUEAC1NSytddQQALU1LK111BAAtTUsrXXUEAC1NSytddQQALU1LK111BAAtTUsrXXUEAC1NSytddQQALU1LK111BAAtTUsrXXUEAC1NSytddQQALU1LK111BAJF8JpMSZUEAkXwmkxJlQQCRfCaTEmVBAJF8JpMSZUEAkXwmkxJlQQCRfCaTEmVBAJF8JpMSZUEAkXwmkxJlQQCRfCaTEmVBAJF8JpMSZUEAkXwmkxJlQQCRfCaTEmVBAJF8JpMSZUEAkXwmkxJlQQCRfCaTEmVBAJF8JpMSZUEAkXwmkxJlQQCRfCaTEmVBAJF8JpMSZUEAkXwmkxJlQQCRfCaTEmVBAJF8JpMSZUEAkXwmkxJlQQCRfCaTEmVBAJF8JpMSZUEAkXwmkxJlQQCRfCaTEmVBAXiwMkdNbUEBeLAyR01tQQF4sDJHTW1BAXiwMkdNbUEBeLAyR01tQQF4sDJHTW1BAXiwMkdNbUEBeLAyR01tQQF4sDJHTW1BAXiwMkdNbUEBeLAyR01tQQF4sDJHTW1BAXiwMkdNbUEBeLAyR01tQQF4sDJHTW1BAXiwMkdNbUEBeLAyR01tQQF4sDJHTW1BAXiwMkdNbUEBeLAyR01tQQF4sDJHTW1BAXiwMkdNbUEBeLAyR01tQQF4sDJHTW1BAXiwMkdNbUEBeLAyR01tQQF4sDJHTW1BAXiwMkdNbUECY+Q5+4h1QQJj5Dn7iHVBAmPkOfuIdUECY+Q5+4h1QQJj5Dn7iHVBAmPkOfuIdUECY+Q5+4h1QQJj5Dn7iHVBAmPkOfuIdUECY+Q5+4h1QQJj5Dn7iHVBAmPkOfuIdUECY+Q5+4h1QQJj5Dn7iHVBAmPkOfuIdUECY+Q5+4h1QQJj5Dn7iHVBA6KOMuABET0Doo4y4AERPQOijjLgARE9A6KOMuABET0Doo4y4AERPQOijjLgARE9A6KOMuABET0Doo4y4AERPQOijjLgARE9A6KOMuABET0Doo4y4AERPQOijjLgARE9A6KOMuABET0Doo4y4AERPQOijjLgARE9A6KOMuABET0Doo4y4AERPQOijjLgARE9A6KOMuABET0Doo4y4AERPQOijjLgARE9A6KOMuABET0Doo4y4AERPQOijjLgARE9A6KOMuABET0BcPpKSHshOQFw+kpIeyE5AXD6Skh7ITkBcPpKSHshOQFw+kpIeyE5AXD6Skh7ITkBcPpKSHshOQFw+kpIeyE5AXD6Skh7ITkBcPpKSHshOQFw+kpIeyE5AXD6Skh7ITkBcPpKSHshOQFw+kpIeyE5AXD6Skh7ITkBcPpKSHshOQFw+kpIeyE5AXD6Skh7ITkBcPpKSHshOQM/Yl2w8TE5Az9iXbDxMTkDP2JdsPExOQM/Yl2w8TE5Az9iXbDxMTkDP2JdsPExOQM/Yl2w8TE5Az9iXbDxMTkDP2JdsPExOQM/Yl2w8TE5Az9iXbDxMTkDP2JdsPExOQM/Yl2w8TE5Az9iXbDxMTkDP2JdsPExOQM/Yl2w8TE5Az9iXbDxMTkDP2JdsPExOQM/Yl2w8TE5AE+8AT1rQTUAT7wBPWtBNQBPvAE9a0E1AE+8AT1rQTUAT7wBPWtBNQBPvAE9a0E1AE+8AT1rQTUAT7wBPWtBNQBPvAE9a0E1AE+8AT1rQTUAT7wBPWtBNQBPvAE9a0E1AE+8AT1rQTUAT7wBPWtBNQBPvAE9a0E1AE+8AT1rQTUAT7wBPWtBNQBPvAE9a0E1AE+8AT1rQTUAT7wBPWtBNQBPvAE9a0E1AE+8AT1rQTUAT7wBPWtBNQBPvAE9a0E1AE+8AT1rQTUCHiQYpeFRNQIeJBil4VE1Ah4kGKXhUTUCHiQYpeFRNQIeJBil4VE1Ah4kGKXhUTUCHiQYpeFRNQIeJBil4VE1Ah4kGKXhUTUCHiQYpeFRNQIeJBil4VE1Ah4kGKXhUTUCHiQYpeFRNQIeJBil4VE1Ah4kGKXhUTUCHiQYpeFRNQIeJBil4VE1Ah4kGKXhUTUCHiQYpeFRNQIeJBil4VE1Ah4kGKXhUTUCHiQYpeFRNQIeJBil4VE1Ah4kGKXhUTUCHiQYpeFRNQIeJBil4VE1Ah4kGKXhUTUCHiQYpeFRNQIeJBil4VE1A+yMMA5bYTED7IwwDlthMQPsjDAOW2ExA+yMMA5bYTED7IwwDlthMQPsjDAOW2ExA+yMMA5bYTED7IwwDlthMQPsjDAOW2ExA+yMMA5bYTED7IwwDlthMQPsjDAOW2ExA+yMMA5bYTED7IwwDlthMQPsjDAOW2ExA+yMMA5bYTED7IwwDlthMQPsjDAOW2ExA+yMMA5bYTED7IwwDlthMQPsjDAOW2ExA+yMMA5bYTED7IwwDlthMQPsjDAOW2ExA+yMMA5bYTED7IwwDlthMQPsjDAOW2ExA+yMMA5bYTED7IwwDlthMQG6+Ed2zXExAbr4R3bNcTEBuvhHds1xMQG6+Ed2zXExA+yMMA5bYTEBuvhHds1xMQG6+Ed2zXExAbr4R3bNcTEBuvhHds1xMQG6+Ed2zXExAbr4R3bNcTEBuvhHds1xMQG6+Ed2zXExAbr4R3bNcTEBuvhHds1xMQG6+Ed2zXExAbr4R3bNcTEBuvhHds1xMQG6+Ed2zXExAbr4R3bNcTEBuvhHds1xMQG6+Ed2zXExAbr4R3bNcTEBuvhHds1xMQG6+Ed2zXExAbr4R3bNcTEBuvhHds1xMQG6+Ed2zXExAbr4R3bNcTEBuvhHds1xMQG6+Ed2zXExAbr4R3bNcTEBuvhHds1xMQG6+Ed2zXExAbr4R3bNcTEBuvhHds1xMQG6+Ed2zXExAbr4R3bNcTEBuvhHds1xMQG6+Ed2zXExAstR6v9HgS0Cy1Hq/0eBLQLLUer/R4EtAstR6v9HgS0Cy1Hq/0eBLQLLUer/R4EtAstR6v9HgS0Cy1Hq/0eBLQCZvgJnvZEtAJm+Ame9kS0Amb4CZ72RLQCZvgJnvZEtAJm+Ame9kS0Amb4CZ72RLQCZvgJnvZEtAJm+Ame9kS0Amb4CZ72RLQCZvgJnvZEtAJm+Ame9kS0Amb4CZ72RLQCZvgJnvZEtAJm+Ame9kS0Amb4CZ72RLQCZvgJnvZEtAmgmGcw3pSkCaCYZzDelKQJoJhnMN6UpAJm+Ame9kS0Amb4CZ72RLQCZvgJnvZEtAJm+Ame9kS0CaCYZzDelKQJoJhnMN6UpAmgmGcw3pSkCaCYZzDelKQJoJhnMN6UpAmgmGcw3pSkCaCYZzDelKQJoJhnMN6UpAmgmGcw3pSkCaCYZzDelKQJoJhnMN6UpAmgmGcw3pSkCaCYZzDelKQJoJhnMN6UpAmgmGcw3pSkCaCYZzDelKQJoJhnMN6UpAmgmGcw3pSkCaCYZzDelKQJoJhnMN6UpAmgmGcw3pSkCaCYZzDelKQN4f71UrbUpA3h/vVSttSkDeH+9VK21KQN4f71UrbUpA3h/vVSttSkDeH+9VK21KQN4f71UrbUpA3h/vVSttSkDeH+9VK21KQN4f71UrbUpA3h/vVSttSkDeH+9VK21KQN4f71UrbUpA3h/vVSttSkDeH+9VK21KQN4f71UrbUpA3h/vVSttSkDeH+9VK21KQN4f71UrbUpA3h/vVSttSkDeH+9VK21KQN4f71UrbUpA3h/vVSttSkDeH+9VK21KQN4f71UrbUpA3h/vVSttSkDeH+9VK21KQN4f71UrbUpA3h/vVSttSkDeH+9VK21KQN4f71UrbUpA3h/vVSttSkDeH+9VK21KQN4f71UrbUpA3h/vVSttSkBSuvQvSfFJQFK69C9J8UlAUrr0L0nxSUBSuvQvSfFJQFK69C9J8UlAUrr0L0nxSUBSuvQvSfFJQFK69C9J8UlAUrr0L0nxSUBSuvQvSfFJQFK69C9J8UlAUrr0L0nxSUBSuvQvSfFJQFK69C9J8UlAUrr0L0nxSUBSuvQvSfFJQFK69C9J8UlAUrr0L0nxSUBSuvQvSfFJQFK69C9J8UlAUrr0L0nxSUBSuvQvSfFJQFK69C9J8UlAUrr0L0nxSUBSuvQvSfFJQFK69C9J8UlAUrr0L0nxSUBSuvQvSfFJQFK69C9J8UlAUrr0L0nxSUBSuvQvSfFJQFK69C9J8UlAUrr0L0nxSUBSuvQvSfFJQFK69C9J8UlAUrr0L0nxSUDFVPoJZ3VJQMVU+glndUlAxVT6CWd1SUDFVPoJZ3VJQFK69C9J8UlAUrr0L0nxSUDFVPoJZ3VJQMVU+glndUlAxVT6CWd1SUDFVPoJZ3VJQMVU+glndUlAxVT6CWd1SUBSuvQvSfFJQFK69C9J8UlAUrr0L0nxSUBSuvQvSfFJQMVU+glndUlAxVT6CWd1SUDFVPoJZ3VJQMVU+glndUlAxVT6CWd1SUDFVPoJZ3VJQMVU+glndUlAxVT6CWd1SUDFVPoJZ3VJQMVU+glndUlAxVT6CWd1SUDFVPoJZ3VJQMVU+glndUlAxVT6CWd1SUDFVPoJZ3VJQMVU+glndUlAxVT6CWd1SUDFVPoJZ3VJQMVU+glndUlAxVT6CWd1SUDFVPoJZ3VJQMVU+glndUlAxVT6CWd1SUDFVPoJZ3VJQMVU+glndUlAxVT6CWd1SUDFVPoJZ3VJQMVU+glndUlAxVT6CWd1SUDFVPoJZ3VJQMVU+glndUlAxVT6CWd1SUDFVPoJZ3VJQMVU+glndUlAxVT6CWd1SUDFVPoJZ3VJQMVU+glndUlAxVT6CWd1SUDFVPoJZ3VJQMVU+glndUlAxVT6CWd1SUDFVPoJZ3VJQMVU+glndUlAxVT6CWd1SUDFVPoJZ3VJQMVU+glndUlAxVT6CWd1SUDFVPoJZ3VJQMVU+glndUlAxVT6CWd1SUDFVPoJZ3VJQMVU+glndUlAxVT6CWd1SUDFVPoJZ3VJQMVU+glndUlAxVT6CWd1SUDFVPoJZ3VJQMVU+glndUlAxVT6CWd1SUDFVPoJZ3VJQMVU+glndUlAUrr0L0nxSUBSuvQvSfFJQFK69C9J8UlAUrr0L0nxSUBSuvQvSfFJQFK69C9J8UlAxVT6CWd1SUDFVPoJZ3VJQFK69C9J8UlAUrr0L0nxSUBSuvQvSfFJQFK69C9J8UlAUrr0L0nxSUBSuvQvSfFJQFK69C9J8UlAUrr0L0nxSUBSuvQvSfFJQFK69C9J8UlAUrr0L0nxSUBSuvQvSfFJQFK69C9J8UlAUrr0L0nxSUBSuvQvSfFJQFK69C9J8UlAUrr0L0nxSUBSuvQvSfFJQFK69C9J8UlAUrr0L0nxSUBSuvQvSfFJQFK69C9J8UlAUrr0L0nxSUBSuvQvSfFJQN4f71UrbUpA3h/vVSttSkDeH+9VK21KQN4f71UrbUpA3h/vVSttSkDeH+9VK21KQN4f71UrbUpA3h/vVSttSkDeH+9VK21KQN4f71UrbUpA3h/vVSttSkDeH+9VK21KQN4f71UrbUpA3h/vVSttSkDeH+9VK21KQN4f71UrbUpA3h/vVSttSkCaCYZzDelKQJoJhnMN6UpAmgmGcw3pSkCaCYZzDelKQJoJhnMN6UpAmgmGcw3pSkDeH+9VK21KQN4f71UrbUpA3h/vVSttSkDeH+9VK21KQJoJhnMN6UpAmgmGcw3pSkCaCYZzDelKQJoJhnMN6UpAmgmGcw3pSkCaCYZzDelKQJoJhnMN6UpAmgmGcw3pSkCaCYZzDelKQJoJhnMN6UpAmgmGcw3pSkCaCYZzDelKQJoJhnMN6UpAmgmGcw3pSkAmb4CZ72RLQCZvgJnvZEtAJm+Ame9kS0Amb4CZ72RLQCZvgJnvZEtAJm+Ame9kS0Amb4CZ72RLQCZvgJnvZEtAJm+Ame9kS0Amb4CZ72RLQCZvgJnvZEtAJm+Ame9kS0Amb4CZ72RLQCZvgJnvZEtAJm+Ame9kS0Amb4CZ72RLQCZvgJnvZEtAJm+Ame9kS0Amb4CZ72RLQCZvgJnvZEtAJm+Ame9kS0Cy1Hq/0eBLQLLUer/R4EtAstR6v9HgS0Cy1Hq/0eBLQLLUer/R4EtAstR6v9HgS0Cy1Hq/0eBLQLLUer/R4EtAstR6v9HgS0Cy1Hq/0eBLQLLUer/R4EtAstR6v9HgS0Cy1Hq/0eBLQLLUer/R4EtAstR6v9HgS0Cy1Hq/0eBLQLLUer/R4EtAstR6v9HgS0Cy1Hq/0eBLQLLUer/R4EtAbr4R3bNcTEBuvhHds1xMQG6+Ed2zXExAbr4R3bNcTEBuvhHds1xMQG6+Ed2zXExAbr4R3bNcTEBuvhHds1xMQG6+Ed2zXExAbr4R3bNcTEBuvhHds1xMQG6+Ed2zXExAbr4R3bNcTEBuvhHds1xMQPsjDAOW2ExA+yMMA5bYTED7IwwDlthMQPsjDAOW2ExA+yMMA5bYTED7IwwDlthMQPsjDAOW2ExA+yMMA5bYTED7IwwDlthMQPsjDAOW2ExA+yMMA5bYTED7IwwDlthMQPsjDAOW2ExA+yMMA5bYTED7IwwDlthMQPsjDAOW2ExA+yMMA5bYTED7IwwDlthMQPsjDAOW2ExA+yMMA5bYTED7IwwDlthMQPsjDAOW2ExA+yMMA5bYTED7IwwDlthMQPsjDAOW2ExA+yMMA5bYTED7IwwDlthMQPsjDAOW2ExAh4kGKXhUTUCHiQYpeFRNQPsjDAOW2ExA+yMMA5bYTECHiQYpeFRNQIeJBil4VE1Ah4kGKXhUTUCHiQYpeFRNQIeJBil4VE1Ah4kGKXhUTUCHiQYpeFRNQIeJBil4VE1Ah4kGKXhUTUCHiQYpeFRNQIeJBil4VE1Abr4R3bNcTEBuvhHds1xMQGPuWkI+x1JAY+5aQj7HUkBj7lpCPsdSQMgG0sWmFVFAyAbSxaYVUUDIBtLFphVRQCRfCaTEmVBAJF8JpMSZUEBeLAyR01tQQF4sDJHTW1BAXiwMkdNbUECY+Q5+4h1QQJj5Dn7iHVBAmPkOfuIdUECY+Q5+4h1QQJj5Dn7iHVBAmPkOfuIdUECY+Q5+4h1QQJj5Dn7iHVBAmPkOfuIdUECY+Q5+4h1QQJj5Dn7iHVBAmPkOfuIdUECY+Q5+4h1QQJj5Dn7iHVBAmPkOfuIdUECY+Q5+4h1QQJj5Dn7iHVBAmPkOfuIdUECY+Q5+4h1QQJj5Dn7iHVBAmPkOfuIdUECY+Q5+4h1QQJj5Dn7iHVBAmPkOfuIdUECY+Q5+4h1QQJj5Dn7iHVBAmPkOfuIdUEA4o+ar5DpUQDij5qvkOlRA+ROVDWsNUkD5E5UNaw1SQI85z9iXU1FAjznP2JdTUUCPOc/Yl1NRQI85z9iXU1FAyAbSxaYVUUDIBtLFphVRQMgG0sWmFVFAyAbSxaYVUUAC1NSytddQQALU1LK111BAAtTUsrXXUEAC1NSytddQQALU1LK111BAAtTUsrXXUEAC1NSytddQQALU1LK111BAJF8JpMSZUEAkXwmkxJlQQCRfCaTEmVBAJF8JpMSZUEAkXwmkxJlQQCRfCaTEmVBAJF8JpMSZUEAkXwmkxJlQQCRfCaTEmVBAJF8JpMSZUEAkXwmkxJlQQCRfCaTEmVBAJF8JpMSZUEAkXwmkxJlQQCRfCaTEmVBAJF8JpMSZUEAkXwmkxJlQQCRfCaTEmVBAJF8JpMSZUEAkXwmkxJlQQCRfCaTEmVBAJF8JpMSZUEAkXwmkxJlQQCRfCaTEmVBAJF8JpMSZUEAkXwmkxJlQQCRfCaTEmVBAJF8JpMSZUEAkXwmkxJlQQCRfCaTEmVBAJF8JpMSZUEAkXwmkxJlQQCRfCaTEmVBAJF8JpMSZUEAkXwmkxJlQQCRfCaTEmVBAJF8JpMSZUEAkXwmkxJlQQCRfCaTEmVBAJF8JpMSZUEAkXwmkxJlQQCRfCaTEmVBAJF8JpMSZUEAkXwmkxJlQQCRfCaTEmVBAJF8JpMSZUEAkXwmkxJlQQCRfCaTEmVBAJF8JpMSZUEAkXwmkxJlQQCRfCaTEmVBAJF8JpMSZUEAkXwmkxJlQQCRfCaTEmVBAJF8JpMSZUEAkXwmkxJlQQCRfCaTEmVBAJF8JpMSZUEAkXwmkxJlQQCRfCaTEmVBAJF8JpMSZUEAkXwmkxJlQQCRfCaTEmVBAJF8JpMSZUEAkXwmkxJlQQCRfCaTEmVBAAtTUsrXXUEAC1NSytddQQALU1LK111BAAtTUsrXXUEAC1NSytddQQALU1LK111BAAtTUsrXXUEAC1NSytddQQALU1LK111BAAtTUsrXXUEAC1NSytddQQALU1LK111BAAtTUsrXXUEAC1NSytddQQALU1LK111BAAtTUsrXXUEAC1NSytddQQALU1LK111BAAtTUsrXXUEAC1NSytddQQALU1LK111BAAtTUsrXXUEAC1NSytddQQALU1LK111BAAtTUsrXXUEAC1NSytddQQALU1LK111BAAtTUsrXXUEAC1NSytddQQALU1LK111BAAtTUsrXXUEAC1NSytddQQALU1LK111BAAtTUsrXXUEAC1NSytddQQALU1LK111BAAtTUsrXXUEAC1NSytddQQALU1LK111BAAtTUsrXXUEDIBtLFphVRQMgG0sWmFVFAyAbSxaYVUUDIBtLFphVRQMgG0sWmFVFAyAbSxaYVUUDIBtLFphVRQMgG0sWmFVFAyAbSxaYVUUDIBtLFphVRQMgG0sWmFVFAyAbSxaYVUUDIBtLFphVRQMgG0sWmFVFAyAbSxaYVUUDIBtLFphVRQMgG0sWmFVFAyAbSxaYVUUDIBtLFphVRQMgG0sWmFVFAyAbSxaYVUUDIBtLFphVRQMgG0sWmFVFAyAbSxaYVUUDIBtLFphVRQMgG0sWmFVFAyAbSxaYVUUDIBtLFphVRQMgG0sWmFVFAyAbSxaYVUUDIBtLFphVRQMgG0sWmFVFAyAbSxaYVUUDIBtLFphVRQMgG0sWmFVFAyAbSxaYVUUDIBtLFphVRQI85z9iXU1FAjznP2JdTUUCPOc/Yl1NRQI85z9iXU1FAjznP2JdTUUCPOc/Yl1NRQI85z9iXU1FAjznP2JdTUUCPOc/Yl1NRQI85z9iXU1FAjznP2JdTUUCPOc/Yl1NRQI85z9iXU1FAjznP2JdTUUCPOc/Yl1NRQI85z9iXU1FAjznP2JdTUUCPOc/Yl1NRQI85z9iXU1FAjznP2JdTUUCPOc/Yl1NRQI85z9iXU1FAjznP2JdTUUCPOc/Yl1NRQMgG0sWmFVFAyAbSxaYVUUD5E5UNaw1SQJi9bDttKlZA/tXjvtV4VED+1eO+1XhUQFouG53z/FNAzcggdxGBU0DNyCB3EYFTQM3IIHcRgVNAKSFYVS8FU0ApIVhVLwVTQCkhWFUvBVNAY+5aQj7HUkBj7lpCPsdSQGPuWkI+x1JAY+5aQj7HUkBj7lpCPsdSQGPuWkI+x1JAnbtdL02JUkCdu10vTYlSQJ27XS9NiVJAnbtdL02JUkC/RpIgXEtSQL9GkiBcS1JAv0aSIFxLUkC/RpIgXEtSQL9GkiBcS1JA+ROVDWsNUkD5E5UNaw1SQPkTlQ1rDVJA+ROVDWsNUkD5E5UNaw1SQDPhl/p5z1FAM+GX+nnPUUAz4Zf6ec9RQDPhl/p5z1FAM+GX+nnPUUAz4Zf6ec9RQDPhl/p5z1FAM+GX+nnPUUAz4Zf6ec9RQDPhl/p5z1FAM+GX+nnPUUAz4Zf6ec9RQDPhl/p5z1FAM+GX+nnPUUAz4Zf6ec9RQDPhl/p5z1FAM+GX+nnPUUAz4Zf6ec9RQDPhl/p5z1FAM+GX+nnPUUAz4Zf6ec9RQDPhl/p5z1FAM+GX+nnPUUAz4Zf6ec9RQDPhl/p5z1FAba6a54iRUUBtrprniJFRQG2umueIkVFAba6a54iRUUBtrprniJFRQG2umueIkVFAba6a54iRUUBtrprniJFRQG2umueIkVFAba6a54iRUUBtrprniJFRQG2umueIkVFAba6a54iRUUBtrprniJFRQG2umueIkVFAba6a54iRUUBtrprniJFRQG2umueIkVFAba6a54iRUUBtrprniJFRQG2umueIkVFAba6a54iRUUBtrprniJFRQG2umueIkVFAba6a54iRUUBtrprniJFRQG2umueIkVFAba6a54iRUUBtrprniJFRQG2umueIkVFAba6a54iRUUBtrprniJFRQG2umueIkVFAba6a54iRUUBtrprniJFRQG2umueIkVFAba6a54iRUUBtrprniJFRQG2umueIkVFAba6a54iRUUBtrprniJFRQG2umueIkVFAba6a54iRUUBtrprniJFRQG2umueIkVFAba6a54iRUUBtrprniJFRQG2umueIkVFAba6a54iRUUBtrprniJFRQG2umueIkVFAba6a54iRUUBtrprniJFRQG2umueIkVFAba6a54iRUUBtrprniJFRQG2umueIkVFAba6a54iRUUBtrprniJFRQG2umueIkVFAba6a54iRUUBtrprniJFRQG2umueIkVFAba6a54iRUUBtrprniJFRQG2umueIkVFAba6a54iRUUBtrprniJFRQG2umueIkVFAba6a54iRUUBtrprniJFRQG2umueIkVFAba6a54iRUUBtrprniJFRQG2umueIkVFAba6a54iRUUBtrprniJFRQG2umueIkVFAba6a54iRUUBtrprniJFRQG2umueIkVFAba6a54iRUUBtrprniJFRQG2umueIkVFAba6a54iRUUBtrprniJFRQG2umueIkVFAM+GX+nnPUUAz4Zf6ec9RQDPhl/p5z1FAM+GX+nnPUUAz4Zf6ec9RQDPhl/p5z1FAM+GX+nnPUUAz4Zf6ec9RQDPhl/p5z1FAM+GX+nnPUUAz4Zf6ec9RQG2umueIkVFAba6a54iRUUBtrprniJFRQG2umueIkVFAba6a54iRUUBtrprniJFRQDPhl/p5z1FAM+GX+nnPUUAz4Zf6ec9RQDPhl/p5z1FAM+GX+nnPUUAz4Zf6ec9RQDPhl/p5z1FAM+GX+nnPUUAz4Zf6ec9RQDPhl/p5z1FAM+GX+nnPUUAz4Zf6ec9RQDPhl/p5z1FAM+GX+nnPUUAz4Zf6ec9RQDPhl/p5z1FAM+GX+nnPUUAz4Zf6ec9RQDPhl/p5z1FAM+GX+nnPUUAz4Zf6ec9RQDPhl/p5z1FAM+GX+nnPUUAz4Zf6ec9RQDPhl/p5z1FAM+GX+nnPUUAz4Zf6ec9RQDPhl/p5z1FAM+GX+nnPUUAz4Zf6ec9RQDPhl/p5z1FAM+GX+nnPUUAz4Zf6ec9RQDPhl/p5z1FAM+GX+nnPUUAz4Zf6ec9RQDPhl/p5z1FAM+GX+nnPUUAz4Zf6ec9RQDPhl/p5z1FAM+GX+nnPUUAz4Zf6ec9RQDPhl/p5z1FAM+GX+nnPUUAz4Zf6ec9RQDPhl/p5z1FAM+GX+nnPUUAz4Zf6ec9RQDPhl/p5z1FAM+GX+nnPUUAz4Zf6ec9RQDPhl/p5z1FAM+GX+nnPUUAz4Zf6ec9RQDPhl/p5z1FAM+GX+nnPUUAz4Zf6ec9RQDPhl/p5z1FAM+GX+nnPUUAz4Zf6ec9RQDPhl/p5z1FAM+GX+nnPUUAz4Zf6ec9RQDPhl/p5z1FAM+GX+nnPUUAz4Zf6ec9RQDPhl/p5z1FAM+GX+nnPUUAz4Zf6ec9RQDPhl/p5z1FAM+GX+nnPUUAz4Zf6ec9RQDPhl/p5z1FAM+GX+nnPUUAz4Zf6ec9RQDPhl/p5z1FAM+GX+nnPUUAz4Zf6ec9RQDPhl/p5z1FAM+GX+nnPUUAz4Zf6ec9RQDPhl/p5z1FAM+GX+nnPUUAz4Zf6ec9RQDPhl/p5z1FAM+GX+nnPUUAz4Zf6ec9RQDPhl/p5z1FAM+GX+nnPUUAz4Zf6ec9RQDPhl/p5z1FAM+GX+nnPUUAz4Zf6ec9RQDPhl/p5z1FAM+GX+nnPUUAz4Zf6ec9RQDPhl/p5z1FAM+GX+nnPUUAz4Zf6ec9RQDPhl/p5z1FAM+GX+nnPUUAz4Zf6ec9RQDPhl/p5z1FAM+GX+nnPUUAz4Zf6ec9RQDPhl/p5z1FAM+GX+nnPUUAz4Zf6ec9RQDPhl/p5z1FAM+GX+nnPUUAz4Zf6ec9RQDPhl/p5z1FAM+GX+nnPUUAz4Zf6ec9RQDPhl/p5z1FAM+GX+nnPUUAz4Zf6ec9RQDPhl/p5z1FAM+GX+nnPUUAz4Zf6ec9RQDPhl/p5z1FAM+GX+nnPUUAz4Zf6ec9RQDPhl/p5z1FAM+GX+nnPUUAz4Zf6ec9RQDPhl/p5z1FAM+GX+nnPUUAz4Zf6ec9RQDPhl/p5z1FAM+GX+nnPUUAz4Zf6ec9RQDPhl/p5z1FAM+GX+nnPUUAz4Zf6ec9RQDPhl/p5z1FAM+GX+nnPUUAz4Zf6ec9RQDPhl/p5z1FAM+GX+nnPUUAz4Zf6ec9RQDPhl/p5z1FAM+GX+nnPUUAz4Zf6ec9RQDPhl/p5z1FAM+GX+nnPUUAz4Zf6ec9RQDPhl/p5z1FAM+GX+nnPUUAz4Zf6ec9RQDPhl/p5z1FA+ROVDWsNUkD5E5UNaw1SQPkTlQ1rDVJA+ROVDWsNUkD5E5UNaw1SQPkTlQ1rDVJA+ROVDWsNUkD5E5UNaw1SQPkTlQ1rDVJA+ROVDWsNUkD5E5UNaw1SQPkTlQ1rDVJA+ROVDWsNUkD5E5UNaw1SQPkTlQ1rDVJA+ROVDWsNUkD5E5UNaw1SQPkTlQ1rDVJA+ROVDWsNUkD5E5UNaw1SQPkTlQ1rDVJA+ROVDWsNUkD5E5UNaw1SQPkTlQ1rDVJA+ROVDWsNUkD5E5UNaw1SQPkTlQ1rDVJA+ROVDWsNUkD5E5UNaw1SQPkTlQ1rDVJA+ROVDWsNUkD5E5UNaw1SQPkTlQ1rDVJA+ROVDWsNUkD5E5UNaw1SQPkTlQ1rDVJA+ROVDWsNUkD5E5UNaw1SQPkTlQ1rDVJA+ROVDWsNUkD5E5UNaw1SQPkTlQ1rDVJA+ROVDWsNUkD5E5UNaw1SQPkTlQ1rDVJA+ROVDWsNUkD5E5UNaw1SQPkTlQ1rDVJA+ROVDWsNUkD5E5UNaw1SQPkTlQ1rDVJA+ROVDWsNUkD5E5UNaw1SQPkTlQ1rDVJA+ROVDWsNUkD5E5UNaw1SQPkTlQ1rDVJA+ROVDWsNUkD5E5UNaw1SQPkTlQ1rDVJA+ROVDWsNUkD5E5UNaw1SQPkTlQ1rDVJA+ROVDWsNUkD5E5UNaw1SQPkTlQ1rDVJA+ROVDWsNUkD5E5UNaw1SQPkTlQ1rDVJA+ROVDWsNUkD5E5UNaw1SQPkTlQ1rDVJA+ROVDWsNUkD5E5UNaw1SQPkTlQ1rDVJA+ROVDWsNUkD5E5UNaw1SQPkTlQ1rDVJA+ROVDWsNUkD5E5UNaw1SQPkTlQ1rDVJA+ROVDWsNUkD5E5UNaw1SQPkTlQ1rDVJA+ROVDWsNUkD5E5UNaw1SQPkTlQ1rDVJA+ROVDWsNUkD5E5UNaw1SQPkTlQ1rDVJA+ROVDWsNUkD5E5UNaw1SQPkTlQ1rDVJAv0aSIFxLUkC/RpIgXEtSQL9GkiBcS1JAv0aSIFxLUkC/RpIgXEtSQL9GkiBcS1JAv0aSIFxLUkC/RpIgXEtSQL9GkiBcS1JAv0aSIFxLUkC/RpIgXEtSQL9GkiBcS1JAv0aSIFxLUkC/RpIgXEtSQL9GkiBcS1JAv0aSIFxLUkC/RpIgXEtSQL9GkiBcS1JAv0aSIFxLUkC/RpIgXEtSQL9GkiBcS1JAv0aSIFxLUkC/RpIgXEtSQL9GkiBcS1JAv0aSIFxLUkC/RpIgXEtSQL9GkiBcS1JAv0aSIFxLUkC/RpIgXEtSQL9GkiBcS1JAv0aSIFxLUkC/RpIgXEtSQL9GkiBcS1JAv0aSIFxLUkC/RpIgXEtSQL9GkiBcS1JAv0aSIFxLUkC/RpIgXEtSQL9GkiBcS1JAv0aSIFxLUkC/RpIgXEtSQL9GkiBcS1JAv0aSIFxLUkC/RpIgXEtSQL9GkiBcS1JAv0aSIFxLUkC/RpIgXEtSQL9GkiBcS1JAv0aSIFxLUkC/RpIgXEtSQL9GkiBcS1JAv0aSIFxLUkC/RpIgXEtSQL9GkiBcS1JAv0aSIFxLUkC/RpIgXEtSQL9GkiBcS1JAv0aSIFxLUkC/RpIgXEtSQL9GkiBcS1JAv0aSIFxLUkC/RpIgXEtSQL9GkiBcS1JAv0aSIFxLUkC/RpIgXEtSQL9GkiBcS1JAv0aSIFxLUkC/RpIgXEtSQL9GkiBcS1JAv0aSIFxLUkC/RpIgXEtSQL9GkiBcS1JAv0aSIFxLUkC/RpIgXEtSQL9GkiBcS1JAv0aSIFxLUkC/RpIgXEtSQL9GkiBcS1JAv0aSIFxLUkC/RpIgXEtSQL9GkiBcS1JAv0aSIFxLUkC/RpIgXEtSQL9GkiBcS1JAv0aSIFxLUkC/RpIgXEtSQL9GkiBcS1JAv0aSIFxLUkC/RpIgXEtSQL9GkiBcS1JAv0aSIFxLUkC/RpIgXEtSQL9GkiBcS1JAv0aSIFxLUkC/RpIgXEtSQL9GkiBcS1JAv0aSIFxLUkC/RpIgXEtSQL9GkiBcS1JAv0aSIFxLUkC/RpIgXEtSQL9GkiBcS1JAv0aSIFxLUkC/RpIgXEtSQL9GkiBcS1JAv0aSIFxLUkC/RpIgXEtSQL9GkiBcS1JAv0aSIFxLUkCdu10vTYlSQJ27XS9NiVJAnbtdL02JUkCdu10vTYlSQJ27XS9NiVJAnbtdL02JUkCdu10vTYlSQJ27XS9NiVJAnbtdL02JUkCdu10vTYlSQJ27XS9NiVJAnbtdL02JUkCdu10vTYlSQJ27XS9NiVJAnbtdL02JUkCdu10vTYlSQJ27XS9NiVJAnbtdL02JUkCdu10vTYlSQJ27XS9NiVJAnbtdL02JUkCdu10vTYlSQJ27XS9NiVJAnbtdL02JUkCdu10vTYlSQJ27XS9NiVJAnbtdL02JUkCdu10vTYlSQJ27XS9NiVJAnbtdL02JUkCdu10vTYlSQJ27XS9NiVJAnbtdL02JUkCdu10vTYlSQJ27XS9NiVJAnbtdL02JUkCdu10vTYlSQJ27XS9NiVJAnbtdL02JUkCdu10vTYlSQJ27XS9NiVJAnbtdL02JUkCdu10vTYlSQJ27XS9NiVJAnbtdL02JUkCdu10vTYlSQJ27XS9NiVJAnbtdL02JUkCdu10vTYlSQJ27XS9NiVJAnbtdL02JUkCdu10vTYlSQJ27XS9NiVJAnbtdL02JUkCdu10vTYlSQJ27XS9NiVJAnbtdL02JUkCdu10vTYlSQJ27XS9NiVJAnbtdL02JUkCdu10vTYlSQJ27XS9NiVJAnbtdL02JUkCdu10vTYlSQJ27XS9NiVJAnbtdL02JUkCdu10vTYlSQJ27XS9NiVJAnbtdL02JUkCdu10vTYlSQJ27XS9NiVJAnbtdL02JUkCdu10vTYlSQJ27XS9NiVJAnbtdL02JUkCdu10vTYlSQJ27XS9NiVJAnbtdL02JUkCdu10vTYlSQJ27XS9NiVJAnbtdL02JUkCdu10vTYlSQJ27XS9NiVJAnbtdL02JUkCdu10vTYlSQJ27XS9NiVJAnbtdL02JUkCdu10vTYlSQJ27XS9NiVJAnbtdL02JUkCdu10vTYlSQJ27XS9NiVJAnbtdL02JUkCdu10vTYlSQJ27XS9NiVJAnbtdL02JUkCdu10vTYlSQJ27XS9NiVJAnbtdL02JUkCdu10vTYlSQJ27XS9NiVJAnbtdL02JUkCdu10vTYlSQJ27XS9NiVJAnbtdL02JUkCdu10vTYlSQJ27XS9NiVJAnbtdL02JUkCdu10vTYlSQJ27XS9NiVJAnbtdL02JUkCdu10vTYlSQJ27XS9NiVJAnbtdL02JUkCdu10vTYlSQJ27XS9NiVJAnbtdL02JUkCdu10vTYlSQJ27XS9NiVJAnbtdL02JUkBj7lpCPsdSQGPuWkI+x1JAY+5aQj7HUkBj7lpCPsdSQGPuWkI+x1JAY+5aQj7HUkBj7lpCPsdSQGPuWkI+x1JAY+5aQj7HUkBj7lpCPsdSQGPuWkI+x1JAY+5aQj7HUkBj7lpCPsdSQGPuWkI+x1JAY+5aQj7HUkBj7lpCPsdSQGPuWkI+x1JAY+5aQj7HUkBj7lpCPsdSQGPuWkI+x1JAY+5aQj7HUkBj7lpCPsdSQGPuWkI+x1JAY+5aQj7HUkBj7lpCPsdSQGPuWkI+x1JAY+5aQj7HUkBj7lpCPsdSQGPuWkI+x1JAY+5aQj7HUkBj7lpCPsdSQGPuWkI+x1JAY+5aQj7HUkBj7lpCPsdSQGPuWkI+x1JAY+5aQj7HUkBj7lpCPsdSQGPuWkI+x1JAY+5aQj7HUkBj7lpCPsdSQGPuWkI+x1JAY+5aQj7HUkBj7lpCPsdSQGPuWkI+x1JAY+5aQj7HUkBj7lpCPsdSQGPuWkI+x1JAY+5aQj7HUkBj7lpCPsdSQGPuWkI+x1JAY+5aQj7HUkBj7lpCPsdSQGPuWkI+x1JAY+5aQj7HUkBj7lpCPsdSQGPuWkI+x1JAY+5aQj7HUkBj7lpCPsdSQGPuWkI+x1JAY+5aQj7HUkBj7lpCPsdSQGPuWkI+x1JAY+5aQj7HUkBj7lpCPsdSQGPuWkI+x1JAY+5aQj7HUkBj7lpCPsdSQGPuWkI+x1JAY+5aQj7HUkBj7lpCPsdSQGPuWkI+x1JAY+5aQj7HUkBj7lpCPsdSQGPuWkI+x1JAY+5aQj7HUkBj7lpCPsdSQGPuWkI+x1JAY+5aQj7HUkBj7lpCPsdSQGPuWkI+x1JAY+5aQj7HUkBj7lpCPsdSQGPuWkI+x1JAY+5aQj7HUkBj7lpCPsdSQGPuWkI+x1JAY+5aQj7HUkBj7lpCPsdSQGPuWkI+x1JAY+5aQj7HUkBj7lpCPsdSQGPuWkI+x1JAY+5aQj7HUkBj7lpCPsdSQGPuWkI+x1JAY+5aQj7HUkBj7lpCPsdSQGPuWkI+x1JAY+5aQj7HUkBj7lpCPsdSQGPuWkI+x1JAY+5aQj7HUkBj7lpCPsdSQGPuWkI+x1JAY+5aQj7HUkBj7lpCPsdSQGPuWkI+x1JAY+5aQj7HUkBj7lpCPsdSQGPuWkI+x1JAY+5aQj7HUkBj7lpCPsdSQGPuWkI+x1JAY+5aQj7HUkBj7lpCPsdSQGPuWkI+x1JAY+5aQj7HUkBj7lpCPsdSQGPuWkI+x1JAY+5aQj7HUkBj7lpCPsdSQGPuWkI+x1JAY+5aQj7HUkBj7lpCPsdSQGPuWkI+x1JAY+5aQj7HUkBj7lpCPsdSQGPuWkI+x1JAY+5aQj7HUkBj7lpCPsdSQGPuWkI+x1JAY+5aQj7HUkBj7lpCPsdSQGPuWkI+x1JAY+5aQj7HUkBj7lpCPsdSQGPuWkI+x1JAKSFYVS8FU0ApIVhVLwVTQCkhWFUvBVNAKSFYVS8FU0ApIVhVLwVTQCkhWFUvBVNAKSFYVS8FU0ApIVhVLwVTQCkhWFUvBVNAKSFYVS8FU0ApIVhVLwVTQCkhWFUvBVNAKSFYVS8FU0ApIVhVLwVTQCkhWFUvBVNAKSFYVS8FU0ApIVhVLwVTQCkhWFUvBVNAKSFYVS8FU0ApIVhVLwVTQCkhWFUvBVNAKSFYVS8FU0ApIVhVLwVTQCkhWFUvBVNAKSFYVS8FU0ApIVhVLwVTQCkhWFUvBVNAKSFYVS8FU0ApIVhVLwVTQCkhWFUvBVNAKSFYVS8FU0ApIVhVLwVTQCkhWFUvBVNAKSFYVS8FU0ApIVhVLwVTQCkhWFUvBVNAKSFYVS8FU0ApIVhVLwVTQCkhWFUvBVNAKSFYVS8FU0ApIVhVLwVTQCkhWFUvBVNAKSFYVS8FU0ApIVhVLwVTQCkhWFUvBVNAKSFYVS8FU0ApIVhVLwVTQCkhWFUvBVNAKSFYVS8FU0ApIVhVLwVTQCkhWFUvBVNAKSFYVS8FU0ApIVhVLwVTQCkhWFUvBVNAKSFYVS8FU0ApIVhVLwVTQCkhWFUvBVNAKSFYVS8FU0ApIVhVLwVTQCkhWFUvBVNAKSFYVS8FU0ApIVhVLwVTQCkhWFUvBVNAKSFYVS8FU0ApIVhVLwVTQCkhWFUvBVNAKSFYVS8FU0ApIVhVLwVTQCkhWFUvBVNAKSFYVS8FU0ApIVhVLwVTQCkhWFUvBVNAKSFYVS8FU0ApIVhVLwVTQCkhWFUvBVNAKSFYVS8FU0ApIVhVLwVTQCkhWFUvBVNAKSFYVS8FU0ApIVhVLwVTQCkhWFUvBVNAKSFYVS8FU0ApIVhVLwVTQCkhWFUvBVNAKSFYVS8FU0ApIVhVLwVTQCkhWFUvBVNAKSFYVS8FU0ApIVhVLwVTQCkhWFUvBVNAKSFYVS8FU0ApIVhVLwVTQCkhWFUvBVNAKSFYVS8FU0ApIVhVLwVTQCkhWFUvBVNAKSFYVS8FU0ApIVhVLwVTQCkhWFUvBVNAKSFYVS8FU0ApIVhVLwVTQCkhWFUvBVNAKSFYVS8FU0ApIVhVLwVTQCkhWFUvBVNAKSFYVS8FU0ApIVhVLwVTQCkhWFUvBVNAKSFYVS8FU0ApIVhVLwVTQCkhWFUvBVNAKSFYVS8FU0ApIVhVLwVTQCkhWFUvBVNAKSFYVS8FU0ApIVhVLwVTQCkhWFUvBVNAKSFYVS8FU0ApIVhVLwVTQCkhWFUvBVNAKSFYVS8FU0ApIVhVLwVTQCkhWFUvBVNAKSFYVS8FU0ApIVhVLwVTQCkhWFUvBVNAKSFYVS8FU0ApIVhVLwVTQCkhWFUvBVNAKSFYVS8FU0DNyCB3EYFTQM3IIHcRgVNAzcggdxGBU0DNyCB3EYFTQM3IIHcRgVNAzcggdxGBU0DNyCB3EYFTQM3IIHcRgVNAzcggdxGBU0DNyCB3EYFTQM3IIHcRgVNAzcggdxGBU0DNyCB3EYFTQM3IIHcRgVNAzcggdxGBU0DNyCB3EYFTQM3IIHcRgVNAzcggdxGBU0DNyCB3EYFTQM3IIHcRgVNAzcggdxGBU0DNyCB3EYFTQM3IIHcRgVNAKSFYVS8FU0ApIVhVLwVTQCkhWFUvBVNAKSFYVS8FU0ApIVhVLwVTQM3IIHcRgVNAzcggdxGBU0DNyCB3EYFTQCkhWFUvBVNAKSFYVS8FU0ApIVhVLwVTQCkhWFUvBVNAKSFYVS8FU0DNyCB3EYFTQM3IIHcRgVNAzcggdxGBU0DNyCB3EYFTQM3IIHcRgVNAzcggdxGBU0DNyCB3EYFTQM3IIHcRgVNAzcggdxGBU0DNyCB3EYFTQM3IIHcRgVNAzcggdxGBU0DNyCB3EYFTQM3IIHcRgVNAzcggdxGBU0DNyCB3EYFTQM3IIHcRgVNAzcggdxGBU0DNyCB3EYFTQM3IIHcRgVNAzcggdxGBU0DNyCB3EYFTQM3IIHcRgVNAzcggdxGBU0DNyCB3EYFTQM3IIHcRgVNAzcggdxGBU0DNyCB3EYFTQM3IIHcRgVNAzcggdxGBU0DNyCB3EYFTQM3IIHcRgVNAzcggdxGBU0DNyCB3EYFTQM3IIHcRgVNAzcggdxGBU0DNyCB3EYFTQM3IIHcRgVNAzcggdxGBU0DNyCB3EYFTQM3IIHcRgVNAzcggdxGBU0DNyCB3EYFTQM3IIHcRgVNAzcggdxGBU0DNyCB3EYFTQM3IIHcRgVNAzcggdxGBU0DNyCB3EYFTQM3IIHcRgVNAzcggdxGBU0DNyCB3EYFTQM3IIHcRgVNAzcggdxGBU0DNyCB3EYFTQM3IIHcRgVNAzcggdxGBU0DNyCB3EYFTQM3IIHcRgVNAzcggdxGBU0DNyCB3EYFTQM3IIHcRgVNAzcggdxGBU0DNyCB3EYFTQM3IIHcRgVNAzcggdxGBU0DNyCB3EYFTQM3IIHcRgVNAzcggdxGBU0DNyCB3EYFTQM3IIHcRgVNAzcggdxGBU0DNyCB3EYFTQM3IIHcRgVNAzcggdxGBU0DNyCB3EYFTQM3IIHcRgVNAzcggdxGBU0DNyCB3EYFTQM3IIHcRgVNAzcggdxGBU0DNyCB3EYFTQM3IIHcRgVNAzcggdxGBU0DNyCB3EYFTQM3IIHcRgVNAzcggdxGBU0DNyCB3EYFTQM3IIHcRgVNAzcggdxGBU0DNyCB3EYFTQM3IIHcRgVNAzcggdxGBU0DNyCB3EYFTQM3IIHcRgVNAzcggdxGBU0DNyCB3EYFTQM3IIHcRgVNAzcggdxGBU0DNyCB3EYFTQM3IIHcRgVNAzcggdxGBU0DNyCB3EYFTQM3IIHcRgVNAzcggdxGBU0DNyCB3EYFTQM3IIHcRgVNAzcggdxGBU0DNyCB3EYFTQM3IIHcRgVNAzcggdxGBU0DNyCB3EYFTQM3IIHcRgVNAzcggdxGBU0DNyCB3EYFTQM3IIHcRgVNAzcggdxGBU0DNyCB3EYFTQM3IIHcRgVNAzcggdxGBU0DNyCB3EYFTQM3IIHcRgVNAzcggdxGBU0DNyCB3EYFTQM3IIHcRgVNAzcggdxGBU0DNyCB3EYFTQM3IIHcRgVNAzcggdxGBU0DNyCB3EYFTQM3IIHcRgVNAzcggdxGBU0DNyCB3EYFTQM3IIHcRgVNAzcggdxGBU0DNyCB3EYFTQM3IIHcRgVNAzcggdxGBU0DNyCB3EYFTQM3IIHcRgVNAzcggdxGBU0DNyCB3EYFTQM3IIHcRgVNAzcggdxGBU0DNyCB3EYFTQM3IIHcRgVNAzcggdxGBU0DNyCB3EYFTQM3IIHcRgVNAzcggdxGBU0DNyCB3EYFTQM3IIHcRgVNAzcggdxGBU0DNyCB3EYFTQM3IIHcRgVNAzcggdxGBU0DNyCB3EYFTQM3IIHcRgVNAzcggdxGBU0DNyCB3EYFTQM3IIHcRgVNAzcggdxGBU0DNyCB3EYFTQM3IIHcRgVNAzcggdxGBU0DNyCB3EYFTQM3IIHcRgVNAzcggdxGBU0DNyCB3EYFTQM3IIHcRgVNAzcggdxGBU0DNyCB3EYFTQM3IIHcRgVNAzcggdxGBU0DNyCB3EYFTQM3IIHcRgVNAzcggdxGBU0DNyCB3EYFTQM3IIHcRgVNAzcggdxGBU0DNyCB3EYFTQM3IIHcRgVNAzcggdxGBU0DNyCB3EYFTQM3IIHcRgVNAzcggdxGBU0DNyCB3EYFTQM3IIHcRgVNAzcggdxGBU0DNyCB3EYFTQM3IIHcRgVNAzcggdxGBU0DNyCB3EYFTQM3IIHcRgVNAzcggdxGBU0DNyCB3EYFTQM3IIHcRgVNAzcggdxGBU0DNyCB3EYFTQM3IIHcRgVNAzcggdxGBU0DNyCB3EYFTQM3IIHcRgVNAzcggdxGBU0DNyCB3EYFTQM3IIHcRgVNAzcggdxGBU0DNyCB3EYFTQM3IIHcRgVNAzcggdxGBU0DNyCB3EYFTQM3IIHcRgVNAzcggdxGBU0DNyCB3EYFTQM3IIHcRgVNAzcggdxGBU0DNyCB3EYFTQM3IIHcRgVNAzcggdxGBU0DNyCB3EYFTQM3IIHcRgVNAzcggdxGBU0DNyCB3EYFTQM3IIHcRgVNAzcggdxGBU0DNyCB3EYFTQM3IIHcRgVNAzcggdxGBU0DNyCB3EYFTQM3IIHcRgVNAzcggdxGBU0DNyCB3EYFTQM3IIHcRgVNAzcggdxGBU0DNyCB3EYFTQM3IIHcRgVNAzcggdxGBU0DNyCB3EYFTQM3IIHcRgVNAzcggdxGBU0DNyCB3EYFTQM3IIHcRgVNAzcggdxGBU0DNyCB3EYFTQM3IIHcRgVNAzcggdxGBU0DNyCB3EYFTQM3IIHcRgVNAzcggdxGBU0DNyCB3EYFTQM3IIHcRgVNAzcggdxGBU0DNyCB3EYFTQM3IIHcRgVNAzcggdxGBU0DNyCB3EYFTQM3IIHcRgVNAzcggdxGBU0DNyCB3EYFTQM3IIHcRgVNAzcggdxGBU0DNyCB3EYFTQM3IIHcRgVNAzcggdxGBU0DNyCB3EYFTQM3IIHcRgVNAzcggdxGBU0DNyCB3EYFTQM3IIHcRgVNAzcggdxGBU0DNyCB3EYFTQM3IIHcRgVNAzcggdxGBU0DNyCB3EYFTQM3IIHcRgVNAzcggdxGBU0DNyCB3EYFTQM3IIHcRgVNAzcggdxGBU0DNyCB3EYFTQM3IIHcRgVNAzcggdxGBU0DNyCB3EYFTQM3IIHcRgVNAzcggdxGBU0DNyCB3EYFTQM3IIHcRgVNAzcggdxGBU0DNyCB3EYFTQM3IIHcRgVNAzcggdxGBU0DNyCB3EYFTQM3IIHcRgVNAzcggdxGBU0DNyCB3EYFTQM3IIHcRgVNAzcggdxGBU0DNyCB3EYFTQM3IIHcRgVNAzcggdxGBU0DNyCB3EYFTQM3IIHcRgVNAzcggdxGBU0DNyCB3EYFTQM3IIHcRgVNAzcggdxGBU0DNyCB3EYFTQM3IIHcRgVNAzcggdxGBU0DNyCB3EYFTQM3IIHcRgVNAzcggdxGBU0DNyCB3EYFTQM3IIHcRgVNAzcggdxGBU0DNyCB3EYFTQM3IIHcRgVNAzcggdxGBU0DNyCB3EYFTQM3IIHcRgVNAzcggdxGBU0DNyCB3EYFTQM3IIHcRgVNAzcggdxGBU0DNyCB3EYFTQM3IIHcRgVNAzcggdxGBU0DNyCB3EYFTQM3IIHcRgVNAzcggdxGBU0DNyCB3EYFTQM3IIHcRgVNAzcggdxGBU0DNyCB3EYFTQM3IIHcRgVNAzcggdxGBU0DNyCB3EYFTQM3IIHcRgVNAzcggdxGBU0DNyCB3EYFTQM3IIHcRgVNAzcggdxGBU0DNyCB3EYFTQM3IIHcRgVNAzcggdxGBU0DNyCB3EYFTQM3IIHcRgVNAzcggdxGBU0DNyCB3EYFTQM3IIHcRgVNAzcggdxGBU0DNyCB3EYFTQM3IIHcRgVNAzcggdxGBU0DNyCB3EYFTQM3IIHcRgVNAzcggdxGBU0DNyCB3EYFTQM3IIHcRgVNAzcggdxGBU0DNyCB3EYFTQM3IIHcRgVNAzcggdxGBU0DNyCB3EYFTQM3IIHcRgVNAzcggdxGBU0DNyCB3EYFTQM3IIHcRgVNAzcggdxGBU0DNyCB3EYFTQM3IIHcRgVNAzcggdxGBU0DNyCB3EYFTQM3IIHcRgVNAzcggdxGBU0DNyCB3EYFTQM3IIHcRgVNAzcggdxGBU0DNyCB3EYFTQM3IIHcRgVNAzcggdxGBU0DNyCB3EYFTQM3IIHcRgVNAzcggdxGBU0DNyCB3EYFTQM3IIHcRgVNAzcggdxGBU0DNyCB3EYFTQM3IIHcRgVNAzcggdxGBU0DNyCB3EYFTQM3IIHcRgVNAzcggdxGBU0DNyCB3EYFTQM3IIHcRgVNAzcggdxGBU0DNyCB3EYFTQM3IIHcRgVNAzcggdxGBU0DNyCB3EYFTQM3IIHcRgVNAzcggdxGBU0DNyCB3EYFTQM3IIHcRgVNAzcggdxGBU0DNyCB3EYFTQM3IIHcRgVNAzcggdxGBU0DNyCB3EYFTQM3IIHcRgVNAlPsdigK/U0CU+x2KAr9TQM3IIHcRgVNAzcggdxGBU0DNyCB3EYFTQM3IIHcRgVNAzcggdxGBU0DNyCB3EYFTQM3IIHcRgVNAzcggdxGBU0DNyCB3EYFTQM3IIHcRgVNAzcggdxGBU0DNyCB3EYFTQM3IIHcRgVNAzcggdxGBU0DNyCB3EYFTQM3IIHcRgVNAzcggdxGBU0DNyCB3EYFTQM3IIHcRgVNAzcggdxGBU0DNyCB3EYFTQM3IIHcRgVNAzcggdxGBU0DNyCB3EYFTQM3IIHcRgVNAzcggdxGBU0DNyCB3EYFTQM3IIHcRgVNAzcggdxGBU0DNyCB3EYFTQM3IIHcRgVNAzcggdxGBU0DNyCB3EYFTQJT7HYoCv1NAlPsdigK/U0CU+x2KAr9TQJT7HYoCv1NAlPsdigK/U0CU+x2KAr9TQJT7HYoCv1NAlPsdigK/U0CU+x2KAr9TQJT7HYoCv1NAlPsdigK/U0CU+x2KAr9TQJT7HYoCv1NAlPsdigK/U0CU+x2KAr9TQJT7HYoCv1NAlPsdigK/U0CU+x2KAr9TQJT7HYoCv1NAlPsdigK/U0CU+x2KAr9TQJT7HYoCv1NAlPsdigK/U0CU+x2KAr9TQJT7HYoCv1NAlPsdigK/U0CU+x2KAr9TQJT7HYoCv1NAlPsdigK/U0CU+x2KAr9TQJT7HYoCv1NAlPsdigK/U0CU+x2KAr9TQJT7HYoCv1NAlPsdigK/U0CU+x2KAr9TQJT7HYoCv1NAlPsdigK/U0CU+x2KAr9TQJT7HYoCv1NAlPsdigK/U0CU+x2KAr9TQJT7HYoCv1NAlPsdigK/U0CU+x2KAr9TQJT7HYoCv1NAlPsdigK/U0CU+x2KAr9TQJT7HYoCv1NAlPsdigK/U0CU+x2KAr9TQJT7HYoCv1NAlPsdigK/U0CU+x2KAr9TQJT7HYoCv1NAlPsdigK/U0CU+x2KAr9TQJT7HYoCv1NAlPsdigK/U0CU+x2KAr9TQJT7HYoCv1NAlPsdigK/U0CU+x2KAr9TQJT7HYoCv1NAlPsdigK/U0CU+x2KAr9TQJT7HYoCv1NAlPsdigK/U0CU+x2KAr9TQJT7HYoCv1NAlPsdigK/U0CU+x2KAr9TQJT7HYoCv1NAlPsdigK/U0CU+x2KAr9TQJT7HYoCv1NAlPsdigK/U0CU+x2KAr9TQJT7HYoCv1NAlPsdigK/U0CU+x2KAr9TQJT7HYoCv1NAlPsdigK/U0CU+x2KAr9TQJT7HYoCv1NAlPsdigK/U0CU+x2KAr9TQJT7HYoCv1NAlPsdigK/U0CU+x2KAr9TQJT7HYoCv1NAlPsdigK/U0CU+x2KAr9TQJT7HYoCv1NAlPsdigK/U0CU+x2KAr9TQJT7HYoCv1NAlPsdigK/U0CU+x2KAr9TQJT7HYoCv1NAlPsdigK/U0CU+x2KAr9TQJT7HYoCv1NAlPsdigK/U0CU+x2KAr9TQJT7HYoCv1NAlPsdigK/U0CU+x2KAr9TQJT7HYoCv1NAlPsdigK/U0CU+x2KAr9TQJT7HYoCv1NAlPsdigK/U0CU+x2KAr9TQJT7HYoCv1NAlPsdigK/U0CU+x2KAr9TQJT7HYoCv1NAlPsdigK/U0CU+x2KAr9TQJT7HYoCv1NAlPsdigK/U0CU+x2KAr9TQJT7HYoCv1NAlPsdigK/U0CU+x2KAr9TQJT7HYoCv1NAlPsdigK/U0CU+x2KAr9TQJT7HYoCv1NAlPsdigK/U0CU+x2KAr9TQJT7HYoCv1NAlPsdigK/U0CU+x2KAr9TQJT7HYoCv1NAlPsdigK/U0CU+x2KAr9TQJT7HYoCv1NAlPsdigK/U0CU+x2KAr9TQJT7HYoCv1NAlPsdigK/U0CU+x2KAr9TQJT7HYoCv1NAlPsdigK/U0CU+x2KAr9TQJT7HYoCv1NAlPsdigK/U0CU+x2KAr9TQJT7HYoCv1NAlPsdigK/U0CU+x2KAr9TQJT7HYoCv1NAlPsdigK/U0CU+x2KAr9TQJT7HYoCv1NAlPsdigK/U0CU+x2KAr9TQJT7HYoCv1NAlPsdigK/U0CU+x2KAr9TQJT7HYoCv1NAlPsdigK/U0CU+x2KAr9TQJT7HYoCv1NAlPsdigK/U0CU+x2KAr9TQJT7HYoCv1NAlPsdigK/U0CU+x2KAr9TQJT7HYoCv1NAlPsdigK/U0CU+x2KAr9TQJT7HYoCv1NAlPsdigK/U0CU+x2KAr9TQJT7HYoCv1NAlPsdigK/U0CU+x2KAr9TQJT7HYoCv1NAlPsdigK/U0CU+x2KAr9TQJT7HYoCv1NAlPsdigK/U0CU+x2KAr9TQJT7HYoCv1NAlPsdigK/U0CU+x2KAr9TQJT7HYoCv1NAlPsdigK/U0CU+x2KAr9TQJT7HYoCv1NAlPsdigK/U0CU+x2KAr9TQJT7HYoCv1NAlPsdigK/U0CU+x2KAr9TQJT7HYoCv1NAlPsdigK/U0CU+x2KAr9TQJT7HYoCv1NAlPsdigK/U0CU+x2KAr9TQJT7HYoCv1NAlPsdigK/U0CU+x2KAr9TQJT7HYoCv1NAlPsdigK/U0CU+x2KAr9TQJT7HYoCv1NAlPsdigK/U0CU+x2KAr9TQJT7HYoCv1NAlPsdigK/U0CU+x2KAr9TQJT7HYoCv1NAlPsdigK/U0CU+x2KAr9TQJT7HYoCv1NAlPsdigK/U0CU+x2KAr9TQJT7HYoCv1NAlPsdigK/U0CU+x2KAr9TQJT7HYoCv1NAlPsdigK/U0CU+x2KAr9TQJT7HYoCv1NAlPsdigK/U0CU+x2KAr9TQJT7HYoCv1NAlPsdigK/U0CU+x2KAr9TQJT7HYoCv1NAlPsdigK/U0CU+x2KAr9TQJT7HYoCv1NAlPsdigK/U0CU+x2KAr9TQJT7HYoCv1NAlPsdigK/U0CU+x2KAr9TQJT7HYoCv1NAlPsdigK/U0CU+x2KAr9TQJT7HYoCv1NAlPsdigK/U0CU+x2KAr9TQJT7HYoCv1NAlPsdigK/U0CU+x2KAr9TQJT7HYoCv1NAlPsdigK/U0CU+x2KAr9TQJT7HYoCv1NAlPsdigK/U0CU+x2KAr9TQJT7HYoCv1NAlPsdigK/U0CU+x2KAr9TQJT7HYoCv1NAlPsdigK/U0CU+x2KAr9TQJT7HYoCv1NAlPsdigK/U0CU+x2KAr9TQJT7HYoCv1NAlPsdigK/U0CU+x2KAr9TQJT7HYoCv1NAlPsdigK/U0CU+x2KAr9TQJT7HYoCv1NAlPsdigK/U0CU+x2KAr9TQJT7HYoCv1NAlPsdigK/U0CU+x2KAr9TQJT7HYoCv1NAlPsdigK/U0CU+x2KAr9TQJT7HYoCv1NAWi4bnfP8U0BaLhud8/xTQJT7HYoCv1NAlPsdigK/U0CU+x2KAr9TQJT7HYoCv1NAlPsdigK/U0CU+x2KAr9TQJT7HYoCv1NAlPsdigK/U0CU+x2KAr9TQJT7HYoCv1NAlPsdigK/U0CU+x2KAr9TQJT7HYoCv1NAlPsdigK/U0CU+x2KAr9TQJT7HYoCv1NAlPsdigK/U0CU+x2KAr9TQJT7HYoCv1NAlPsdigK/U0CU+x2KAr9TQJT7HYoCv1NAlPsdigK/U0CU+x2KAr9TQJT7HYoCv1NAlPsdigK/U0CU+x2KAr9TQJT7HYoCv1NAlPsdigK/U0CU+x2KAr9TQJT7HYoCv1NAlPsdigK/U0CU+x2KAr9TQJT7HYoCv1NAlPsdigK/U0CU+x2KAr9TQJT7HYoCv1NAlPsdigK/U0CU+x2KAr9TQJT7HYoCv1NAlPsdigK/U0CU+x2KAr9TQJT7HYoCv1NAlPsdigK/U0CU+x2KAr9TQJT7HYoCv1NAlPsdigK/U0CU+x2KAr9TQJT7HYoCv1NAlPsdigK/U0CU+x2KAr9TQJT7HYoCv1NAlPsdigK/U0CU+x2KAr9TQJT7HYoCv1NAlPsdigK/U0CU+x2KAr9TQJT7HYoCv1NAlPsdigK/U0CU+x2KAr9TQJT7HYoCv1NAlPsdigK/U0CU+x2KAr9TQJT7HYoCv1NAlPsdigK/U0CU+x2KAr9TQJT7HYoCv1NAlPsdigK/U0CU+x2KAr9TQJT7HYoCv1NAlPsdigK/U0CU+x2KAr9TQJT7HYoCv1NAlPsdigK/U0CU+x2KAr9TQJT7HYoCv1NAlPsdigK/U0CU+x2KAr9TQJT7HYoCv1NAlPsdigK/U0CU+x2KAr9TQJT7HYoCv1NAlPsdigK/U0CU+x2KAr9TQJT7HYoCv1NAlPsdigK/U0CU+x2KAr9TQJT7HYoCv1NAlPsdigK/U0CU+x2KAr9TQJT7HYoCv1NAlPsdigK/U0CU+x2KAr9TQJT7HYoCv1NAlPsdigK/U0CU+x2KAr9TQJT7HYoCv1NAlPsdigK/U0DNyCB3EYFTQM3IIHcRgVNAzcggdxGBU0DNyCB3EYFTQM3IIHcRgVNAzcggdxGBU0DNyCB3EYFTQM3IIHcRgVNAzcggdxGBU0DNyCB3EYFTQM3IIHcRgVNAzcggdxGBU0DNyCB3EYFTQM3IIHcRgVNAzcggdxGBU0DNyCB3EYFTQM3IIHcRgVNAzcggdxGBU0DNyCB3EYFTQM3IIHcRgVNAzcggdxGBU0DNyCB3EYFTQJT7HYoCv1NAlPsdigK/U0CU+x2KAr9TQJT7HYoCv1NAlPsdigK/U0CU+x2KAr9TQJT7HYoCv1NAlPsdigK/U0CU+x2KAr9TQM3IIHcRgVNAzcggdxGBU0DNyCB3EYFTQM3IIHcRgVNAzcggdxGBU0DNyCB3EYFTQM3IIHcRgVNAzcggdxGBU0DNyCB3EYFTQM3IIHcRgVNAzcggdxGBU0DNyCB3EYFTQM3IIHcRgVNAzcggdxGBU0DNyCB3EYFTQM3IIHcRgVNAzcggdxGBU0DNyCB3EYFTQM3IIHcRgVNAzcggdxGBU0DNyCB3EYFTQM3IIHcRgVNAzcggdxGBU0DNyCB3EYFTQM3IIHcRgVNAzcggdxGBU0DNyCB3EYFTQM3IIHcRgVNAzcggdxGBU0DNyCB3EYFTQM3IIHcRgVNAzcggdxGBU0DNyCB3EYFTQM3IIHcRgVNAzcggdxGBU0DNyCB3EYFTQM3IIHcRgVNAzcggdxGBU0DNyCB3EYFTQM3IIHcRgVNAzcggdxGBU0DNyCB3EYFTQM3IIHcRgVNAzcggdxGBU0DNyCB3EYFTQM3IIHcRgVNAzcggdxGBU0DNyCB3EYFTQM3IIHcRgVNAzcggdxGBU0DNyCB3EYFTQM3IIHcRgVNAzcggdxGBU0DNyCB3EYFTQM3IIHcRgVNAzcggdxGBU0DNyCB3EYFTQM3IIHcRgVNAzcggdxGBU0DNyCB3EYFTQM3IIHcRgVNAzcggdxGBU0DNyCB3EYFTQM3IIHcRgVNAzcggdxGBU0DNyCB3EYFTQM3IIHcRgVNAzcggdxGBU0DNyCB3EYFTQM3IIHcRgVNAzcggdxGBU0DNyCB3EYFTQM3IIHcRgVNAzcggdxGBU0DNyCB3EYFTQM3IIHcRgVNAzcggdxGBU0DNyCB3EYFTQM3IIHcRgVNAzcggdxGBU0DNyCB3EYFTQM3IIHcRgVNAzcggdxGBU0DNyCB3EYFTQM3IIHcRgVNAzcggdxGBU0DNyCB3EYFTQM3IIHcRgVNAzcggdxGBU0DNyCB3EYFTQM3IIHcRgVNAzcggdxGBU0DNyCB3EYFTQM3IIHcRgVNAzcggdxGBU0DNyCB3EYFTQM3IIHcRgVNAzcggdxGBU0DNyCB3EYFTQM3IIHcRgVNAzcggdxGBU0DNyCB3EYFTQM3IIHcRgVNAzcggdxGBU0DNyCB3EYFTQM3IIHcRgVNAzcggdxGBU0DNyCB3EYFTQM3IIHcRgVNAzcggdxGBU0DNyCB3EYFTQM3IIHcRgVNAzcggdxGBU0DNyCB3EYFTQM3IIHcRgVNAzcggdxGBU0DNyCB3EYFTQM3IIHcRgVNAzcggdxGBU0DNyCB3EYFTQM3IIHcRgVNAzcggdxGBU0DNyCB3EYFTQM3IIHcRgVNAzcggdxGBU0DNyCB3EYFTQM3IIHcRgVNAzcggdxGBU0DNyCB3EYFTQM3IIHcRgVNAzcggdxGBU0DNyCB3EYFTQM3IIHcRgVNAzcggdxGBU0DNyCB3EYFTQM3IIHcRgVNAzcggdxGBU0DNyCB3EYFTQM3IIHcRgVNAzcggdxGBU0DNyCB3EYFTQM3IIHcRgVNAzcggdxGBU0DNyCB3EYFTQM3IIHcRgVNAzcggdxGBU0DNyCB3EYFTQM3IIHcRgVNAzcggdxGBU0DNyCB3EYFTQM3IIHcRgVNAzcggdxGBU0DNyCB3EYFTQM3IIHcRgVNAzcggdxGBU0DNyCB3EYFTQM3IIHcRgVNAzcggdxGBU0DNyCB3EYFTQM3IIHcRgVNAzcggdxGBU0DNyCB3EYFTQM3IIHcRgVNAzcggdxGBU0DNyCB3EYFTQM3IIHcRgVNAzcggdxGBU0DNyCB3EYFTQM3IIHcRgVNAzcggdxGBU0DNyCB3EYFTQM3IIHcRgVNAzcggdxGBU0DNyCB3EYFTQM3IIHcRgVNAzcggdxGBU0DNyCB3EYFTQM3IIHcRgVNAzcggdxGBU0DNyCB3EYFTQM3IIHcRgVNAzcggdxGBU0DNyCB3EYFTQM3IIHcRgVNAzcggdxGBU0DNyCB3EYFTQM3IIHcRgVNAzcggdxGBU0DNyCB3EYFTQM3IIHcRgVNAzcggdxGBU0DNyCB3EYFTQM3IIHcRgVNAzcggdxGBU0DNyCB3EYFTQM3IIHcRgVNAzcggdxGBU0DNyCB3EYFTQM3IIHcRgVNAzcggdxGBU0DNyCB3EYFTQM3IIHcRgVNAzcggdxGBU0DNyCB3EYFTQM3IIHcRgVNAzcggdxGBU0DNyCB3EYFTQM3IIHcRgVNAzcggdxGBU0DNyCB3EYFTQM3IIHcRgVNAzcggdxGBU0DNyCB3EYFTQM3IIHcRgVNAzcggdxGBU0DNyCB3EYFTQM3IIHcRgVNAzcggdxGBU0DNyCB3EYFTQM3IIHcRgVNAzcggdxGBU0DNyCB3EYFTQM3IIHcRgVNAzcggdxGBU0DNyCB3EYFTQM3IIHcRgVNAzcggdxGBU0DNyCB3EYFTQM3IIHcRgVNAzcggdxGBU0DNyCB3EYFTQM3IIHcRgVNAzcggdxGBU0DNyCB3EYFTQM3IIHcRgVNAzcggdxGBU0DNyCB3EYFTQM3IIHcRgVNAzcggdxGBU0DNyCB3EYFTQM3IIHcRgVNAzcggdxGBU0DNyCB3EYFTQM3IIHcRgVNAzcggdxGBU0DNyCB3EYFTQM3IIHcRgVNAzcggdxGBU0DNyCB3EYFTQM3IIHcRgVNAzcggdxGBU0DNyCB3EYFTQM3IIHcRgVNAzcggdxGBU0DNyCB3EYFTQM3IIHcRgVNAzcggdxGBU0DNyCB3EYFTQM3IIHcRgVNAzcggdxGBU0DNyCB3EYFTQM3IIHcRgVNAzcggdxGBU0DNyCB3EYFTQM3IIHcRgVNAzcggdxGBU0DNyCB3EYFTQM3IIHcRgVNAzcggdxGBU0DNyCB3EYFTQM3IIHcRgVNAzcggdxGBU0DNyCB3EYFTQM3IIHcRgVNAzcggdxGBU0DNyCB3EYFTQM3IIHcRgVNAzcggdxGBU0DNyCB3EYFTQM3IIHcRgVNAzcggdxGBU0DNyCB3EYFTQM3IIHcRgVNAzcggdxGBU0DNyCB3EYFTQM3IIHcRgVNAzcggdxGBU0DNyCB3EYFTQM3IIHcRgVNAzcggdxGBU0DNyCB3EYFTQM3IIHcRgVNAzcggdxGBU0DNyCB3EYFTQM3IIHcRgVNAzcggdxGBU0DNyCB3EYFTQM3IIHcRgVNAzcggdxGBU0DNyCB3EYFTQM3IIHcRgVNAzcggdxGBU0DNyCB3EYFTQM3IIHcRgVNAzcggdxGBU0DNyCB3EYFTQM3IIHcRgVNAzcggdxGBU0DNyCB3EYFTQM3IIHcRgVNAzcggdxGBU0DNyCB3EYFTQM3IIHcRgVNAzcggdxGBU0DNyCB3EYFTQM3IIHcRgVNAzcggdxGBU0DNyCB3EYFTQM3IIHcRgVNAzcggdxGBU0DNyCB3EYFTQM3IIHcRgVNAzcggdxGBU0DNyCB3EYFTQM3IIHcRgVNAzcggdxGBU0DNyCB3EYFTQM3IIHcRgVNAzcggdxGBU0DNyCB3EYFTQM3IIHcRgVNAzcggdxGBU0DNyCB3EYFTQM3IIHcRgVNAzcggdxGBU0DNyCB3EYFTQM3IIHcRgVNAzcggdxGBU0DNyCB3EYFTQM3IIHcRgVNAzcggdxGBU0DNyCB3EYFTQM3IIHcRgVNAzcggdxGBU0DNyCB3EYFTQM3IIHcRgVNAzcggdxGBU0DNyCB3EYFTQM3IIHcRgVNAzcggdxGBU0DNyCB3EYFTQM3IIHcRgVNAzcggdxGBU0DNyCB3EYFTQM3IIHcRgVNAzcggdxGBU0DNyCB3EYFTQM3IIHcRgVNAzcggdxGBU0DNyCB3EYFTQM3IIHcRgVNAzcggdxGBU0DNyCB3EYFTQM3IIHcRgVNAzcggdxGBU0DNyCB3EYFTQM3IIHcRgVNAzcggdxGBU0DNyCB3EYFTQM3IIHcRgVNAzcggdxGBU0DNyCB3EYFTQM3IIHcRgVNAzcggdxGBU0DNyCB3EYFTQM3IIHcRgVNAzcggdxGBU0DNyCB3EYFTQM3IIHcRgVNAzcggdxGBU0DNyCB3EYFTQM3IIHcRgVNAzcggdxGBU0DNyCB3EYFTQM3IIHcRgVNAzcggdxGBU0DNyCB3EYFTQM3IIHcRgVNAzcggdxGBU0DNyCB3EYFTQM3IIHcRgVNAzcggdxGBU0DNyCB3EYFTQM3IIHcRgVNAzcggdxGBU0DNyCB3EYFTQM3IIHcRgVNAzcggdxGBU0DNyCB3EYFTQM3IIHcRgVNAzcggdxGBU0DNyCB3EYFTQM3IIHcRgVNAzcggdxGBU0DNyCB3EYFTQM3IIHcRgVNAzcggdxGBU0DNyCB3EYFTQM3IIHcRgVNAzcggdxGBU0DNyCB3EYFTQM3IIHcRgVNAzcggdxGBU0DNyCB3EYFTQM3IIHcRgVNAzcggdxGBU0DNyCB3EYFTQM3IIHcRgVNAzcggdxGBU0DNyCB3EYFTQM3IIHcRgVNAzcggdxGBU0DNyCB3EYFTQM3IIHcRgVNAzcggdxGBU0DNyCB3EYFTQM3IIHcRgVNAzcggdxGBU0DNyCB3EYFTQM3IIHcRgVNAzcggdxGBU0DNyCB3EYFTQM3IIHcRgVNAzcggdxGBU0DNyCB3EYFTQM3IIHcRgVNAzcggdxGBU0DNyCB3EYFTQM3IIHcRgVNAzcggdxGBU0DNyCB3EYFTQM3IIHcRgVNAzcggdxGBU0DNyCB3EYFTQM3IIHcRgVNAzcggdxGBU0DNyCB3EYFTQM3IIHcRgVNAzcggdxGBU0DNyCB3EYFTQM3IIHcRgVNAzcggdxGBU0DNyCB3EYFTQM3IIHcRgVNAzcggdxGBU0DNyCB3EYFTQM3IIHcRgVNAzcggdxGBU0DNyCB3EYFTQM3IIHcRgVNAzcggdxGBU0DNyCB3EYFTQM3IIHcRgVNAzcggdxGBU0DNyCB3EYFTQM3IIHcRgVNAzcggdxGBU0DNyCB3EYFTQM3IIHcRgVNAzcggdxGBU0DNyCB3EYFTQM3IIHcRgVNAzcggdxGBU0DNyCB3EYFTQM3IIHcRgVNAzcggdxGBU0DNyCB3EYFTQM3IIHcRgVNAzcggdxGBU0DNyCB3EYFTQM3IIHcRgVNAzcggdxGBU0DNyCB3EYFTQM3IIHcRgVNAzcggdxGBU0DNyCB3EYFTQM3IIHcRgVNAzcggdxGBU0DNyCB3EYFTQM3IIHcRgVNAzcggdxGBU0CU+x2KAr9TQJT7HYoCv1NAlPsdigK/U0CU+x2KAr9TQJT7HYoCv1NAzcggdxGBU0DNyCB3EYFTQM3IIHcRgVNAzcggdxGBU0DNyCB3EYFTQM3IIHcRgVNAzcggdxGBU0DNyCB3EYFTQM3IIHcRgVNAzcggdxGBU0DNyCB3EYFTQM3IIHcRgVNAzcggdxGBU0DNyCB3EYFTQM3IIHcRgVNAzcggdxGBU0CU+x2KAr9TQJT7HYoCv1NAlPsdigK/U0CU+x2KAr9TQJT7HYoCv1NAlPsdigK/U0CU+x2KAr9TQJT7HYoCv1NAlPsdigK/U0CU+x2KAr9TQJT7HYoCv1NAlPsdigK/U0CU+x2KAr9TQJT7HYoCv1NAlPsdigK/U0CU+x2KAr9TQJT7HYoCv1NAlPsdigK/U0CU+x2KAr9TQJT7HYoCv1NAlPsdigK/U0CU+x2KAr9TQJT7HYoCv1NAlPsdigK/U0CU+x2KAr9TQJT7HYoCv1NAlPsdigK/U0CU+x2KAr9TQJT7HYoCv1NAlPsdigK/U0CU+x2KAr9TQJT7HYoCv1NAlPsdigK/U0CU+x2KAr9TQJT7HYoCv1NAlPsdigK/U0CU+x2KAr9TQJT7HYoCv1NAlPsdigK/U0CU+x2KAr9TQJT7HYoCv1NAlPsdigK/U0CU+x2KAr9TQJT7HYoCv1NAlPsdigK/U0CU+x2KAr9TQJT7HYoCv1NAlPsdigK/U0CU+x2KAr9TQJT7HYoCv1NAlPsdigK/U0CU+x2KAr9TQJT7HYoCv1NAlPsdigK/U0CU+x2KAr9TQJT7HYoCv1NAlPsdigK/U0CU+x2KAr9TQJT7HYoCv1NAlPsdigK/U0CU+x2KAr9TQJT7HYoCv1NAlPsdigK/U0CU+x2KAr9TQJT7HYoCv1NAlPsdigK/U0CU+x2KAr9TQJT7HYoCv1NAlPsdigK/U0CU+x2KAr9TQJT7HYoCv1NAlPsdigK/U0CU+x2KAr9TQJT7HYoCv1NAlPsdigK/U0CU+x2KAr9TQJT7HYoCv1NAlPsdigK/U0CU+x2KAr9TQJT7HYoCv1NAlPsdigK/U0CU+x2KAr9TQJT7HYoCv1NAlPsdigK/U0CU+x2KAr9TQJT7HYoCv1NAlPsdigK/U0CU+x2KAr9TQJT7HYoCv1NAlPsdigK/U0CU+x2KAr9TQJT7HYoCv1NAlPsdigK/U0CU+x2KAr9TQJT7HYoCv1NAlPsdigK/U0CU+x2KAr9TQJT7HYoCv1NAlPsdigK/U0CU+x2KAr9TQJT7HYoCv1NAlPsdigK/U0CU+x2KAr9TQJT7HYoCv1NAlPsdigK/U0CU+x2KAr9TQJT7HYoCv1NAlPsdigK/U0CU+x2KAr9TQJT7HYoCv1NAlPsdigK/U0CU+x2KAr9TQJT7HYoCv1NAlPsdigK/U0CU+x2KAr9TQJT7HYoCv1NAlPsdigK/U0CU+x2KAr9TQJT7HYoCv1NAlPsdigK/U0CU+x2KAr9TQJT7HYoCv1NAlPsdigK/U0CU+x2KAr9TQJT7HYoCv1NAlPsdigK/U0CU+x2KAr9TQJT7HYoCv1NAlPsdigK/U0CU+x2KAr9TQJT7HYoCv1NAlPsdigK/U0CU+x2KAr9TQJT7HYoCv1NAlPsdigK/U0CU+x2KAr9TQJT7HYoCv1NAlPsdigK/U0CU+x2KAr9TQJT7HYoCv1NAlPsdigK/U0CU+x2KAr9TQJT7HYoCv1NAlPsdigK/U0CU+x2KAr9TQJT7HYoCv1NAlPsdigK/U0CU+x2KAr9TQJT7HYoCv1NAlPsdigK/U0CU+x2KAr9TQJT7HYoCv1NAlPsdigK/U0CU+x2KAr9TQJT7HYoCv1NAlPsdigK/U0CU+x2KAr9TQJT7HYoCv1NAlPsdigK/U0CU+x2KAr9TQJT7HYoCv1NAlPsdigK/U0CU+x2KAr9TQJT7HYoCv1NAlPsdigK/U0CU+x2KAr9TQJT7HYoCv1NAlPsdigK/U0CU+x2KAr9TQJT7HYoCv1NAlPsdigK/U0CU+x2KAr9TQM3IIHcRgVNAzcggdxGBU0DNyCB3EYFTQM3IIHcRgVNAzcggdxGBU0DNyCB3EYFTQM3IIHcRgVNAzcggdxGBU0DNyCB3EYFTQM3IIHcRgVNAzcggdxGBU0DNyCB3EYFTQM3IIHcRgVNAzcggdxGBU0DNyCB3EYFTQM3IIHcRgVNAzcggdxGBU0DNyCB3EYFTQM3IIHcRgVNAzcggdxGBU0DNyCB3EYFTQM3IIHcRgVNAzcggdxGBU0DNyCB3EYFTQM3IIHcRgVNAzcggdxGBU0DNyCB3EYFTQM3IIHcRgVNAzcggdxGBU0DNyCB3EYFTQM3IIHcRgVNAzcggdxGBU0DNyCB3EYFTQM3IIHcRgVNAzcggdxGBU0DNyCB3EYFTQM3IIHcRgVNAzcggdxGBU0DNyCB3EYFTQM3IIHcRgVNAzcggdxGBU0DNyCB3EYFTQM3IIHcRgVNAzcggdxGBU0DNyCB3EYFTQM3IIHcRgVNAzcggdxGBU0DNyCB3EYFTQM3IIHcRgVNAzcggdxGBU0DNyCB3EYFTQM3IIHcRgVNAzcggdxGBU0DNyCB3EYFTQM3IIHcRgVNAzcggdxGBU0DNyCB3EYFTQM3IIHcRgVNAzcggdxGBU0DNyCB3EYFTQM3IIHcRgVNAzcggdxGBU0DNyCB3EYFTQM3IIHcRgVNAzcggdxGBU0DNyCB3EYFTQM3IIHcRgVNAzcggdxGBU0DNyCB3EYFTQM3IIHcRgVNAzcggdxGBU0DNyCB3EYFTQM3IIHcRgVNAzcggdxGBU0DNyCB3EYFTQM3IIHcRgVNAzcggdxGBU0DNyCB3EYFTQM3IIHcRgVNAzcggdxGBU0DNyCB3EYFTQM3IIHcRgVNAzcggdxGBU0DNyCB3EYFTQM3IIHcRgVNAzcggdxGBU0DNyCB3EYFTQM3IIHcRgVNAzcggdxGBU0DNyCB3EYFTQM3IIHcRgVNAzcggdxGBU0DNyCB3EYFTQM3IIHcRgVNAzcggdxGBU0DNyCB3EYFTQM3IIHcRgVNAzcggdxGBU0DNyCB3EYFTQM3IIHcRgVNAzcggdxGBU0DNyCB3EYFTQM3IIHcRgVNAzcggdxGBU0DNyCB3EYFTQM3IIHcRgVNAzcggdxGBU0DNyCB3EYFTQM3IIHcRgVNAzcggdxGBU0DNyCB3EYFTQM3IIHcRgVNAzcggdxGBU0DNyCB3EYFTQM3IIHcRgVNAzcggdxGBU0DNyCB3EYFTQM3IIHcRgVNAzcggdxGBU0DNyCB3EYFTQM3IIHcRgVNAzcggdxGBU0DNyCB3EYFTQM3IIHcRgVNAzcggdxGBU0DNyCB3EYFTQM3IIHcRgVNAzcggdxGBU0DNyCB3EYFTQM3IIHcRgVNAzcggdxGBU0DNyCB3EYFTQM3IIHcRgVNAzcggdxGBU0DNyCB3EYFTQM3IIHcRgVNAzcggdxGBU0DNyCB3EYFTQM3IIHcRgVNAzcggdxGBU0DNyCB3EYFTQM3IIHcRgVNAzcggdxGBU0DNyCB3EYFTQM3IIHcRgVNAzcggdxGBU0DNyCB3EYFTQM3IIHcRgVNAzcggdxGBU0DNyCB3EYFTQM3IIHcRgVNAzcggdxGBU0DNyCB3EYFTQM3IIHcRgVNAzcggdxGBU0DNyCB3EYFTQM3IIHcRgVNAzcggdxGBU0DNyCB3EYFTQM3IIHcRgVNAzcggdxGBU0DNyCB3EYFTQM3IIHcRgVNAzcggdxGBU0DNyCB3EYFTQM3IIHcRgVNAzcggdxGBU0DNyCB3EYFTQCkhWFUvBVNAKSFYVS8FU0ApIVhVLwVTQCkhWFUvBVNAKSFYVS8FU0ApIVhVLwVTQCkhWFUvBVNAKSFYVS8FU0ApIVhVLwVTQCkhWFUvBVNAKSFYVS8FU0ApIVhVLwVTQCkhWFUvBVNAKSFYVS8FU0ApIVhVLwVTQCkhWFUvBVNAKSFYVS8FU0ApIVhVLwVTQCkhWFUvBVNAKSFYVS8FU0ApIVhVLwVTQCkhWFUvBVNAY+5aQj7HUkBj7lpCPsdSQGPuWkI+x1JAY+5aQj7HUkBj7lpCPsdSQGPuWkI+x1JAY+5aQj7HUkBj7lpCPsdSQGPuWkI+x1JAY+5aQj7HUkBj7lpCPsdSQGPuWkI+x1JAY+5aQj7HUkBj7lpCPsdSQGPuWkI+x1JAY+5aQj7HUkBj7lpCPsdSQGPuWkI+x1JAY+5aQj7HUkBj7lpCPsdSQJ27XS9NiVJAnbtdL02JUkCdu10vTYlSQGPuWkI+x1JAY+5aQj7HUkBj7lpCPsdSQJ27XS9NiVJAnbtdL02JUkBj7lpCPsdSQGPuWkI+x1JAY+5aQj7HUkBj7lpCPsdSQJ27XS9NiVJAnbtdL02JUkCdu10vTYlSQJ27XS9NiVJAY+5aQj7HUkBj7lpCPsdSQGPuWkI+x1JAY+5aQj7HUkBj7lpCPsdSQGPuWkI+x1JAY+5aQj7HUkBj7lpCPsdSQGPuWkI+x1JAY+5aQj7HUkBj7lpCPsdSQGPuWkI+x1JAY+5aQj7HUkBj7lpCPsdSQGPuWkI+x1JAY+5aQj7HUkBj7lpCPsdSQGPuWkI+x1JAY+5aQj7HUkBj7lpCPsdSQGPuWkI+x1JAY+5aQj7HUkBj7lpCPsdSQGPuWkI+x1JAY+5aQj7HUkBj7lpCPsdSQGPuWkI+x1JAY+5aQj7HUkBj7lpCPsdSQGPuWkI+x1JAY+5aQj7HUkBj7lpCPsdSQGPuWkI+x1JAY+5aQj7HUkBj7lpCPsdSQGPuWkI+x1JAY+5aQj7HUkBj7lpCPsdSQGPuWkI+x1JAY+5aQj7HUkBj7lpCPsdSQGPuWkI+x1JAY+5aQj7HUkBj7lpCPsdSQGPuWkI+x1JAY+5aQj7HUkBj7lpCPsdSQGPuWkI+x1JAY+5aQj7HUkBj7lpCPsdSQGPuWkI+x1JAY+5aQj7HUkBj7lpCPsdSQGPuWkI+x1JAY+5aQj7HUkBj7lpCPsdSQGPuWkI+x1JAY+5aQj7HUkBj7lpCPsdSQGPuWkI+x1JAY+5aQj7HUkBj7lpCPsdSQGPuWkI+x1JAY+5aQj7HUkBj7lpCPsdSQGPuWkI+x1JAY+5aQj7HUkBj7lpCPsdSQGPuWkI+x1JAY+5aQj7HUkBj7lpCPsdSQGPuWkI+x1JAY+5aQj7HUkBj7lpCPsdSQGPuWkI+x1JAY+5aQj7HUkBj7lpCPsdSQGPuWkI+x1JAY+5aQj7HUkBj7lpCPsdSQGPuWkI+x1JAY+5aQj7HUkBj7lpCPsdSQCkhWFUvBVNAKSFYVS8FU0ApIVhVLwVTQCkhWFUvBVNAKSFYVS8FU0ApIVhVLwVTQCkhWFUvBVNAKSFYVS8FU0ApIVhVLwVTQCkhWFUvBVNAKSFYVS8FU0ApIVhVLwVTQCkhWFUvBVNAKSFYVS8FU0ApIVhVLwVTQCkhWFUvBVNAKSFYVS8FU0ApIVhVLwVTQCkhWFUvBVNAKSFYVS8FU0ApIVhVLwVTQCkhWFUvBVNAKSFYVS8FU0ApIVhVLwVTQCkhWFUvBVNAKSFYVS8FU0ApIVhVLwVTQCkhWFUvBVNAKSFYVS8FU0ApIVhVLwVTQCkhWFUvBVNAKSFYVS8FU0ApIVhVLwVTQCkhWFUvBVNAKSFYVS8FU0ApIVhVLwVTQCkhWFUvBVNAKSFYVS8FU0ApIVhVLwVTQCkhWFUvBVNAKSFYVS8FU0ApIVhVLwVTQCkhWFUvBVNAKSFYVS8FU0ApIVhVLwVTQM3IIHcRgVNAzcggdxGBU0DNyCB3EYFTQCkhWFUvBVNAKSFYVS8FU0ApIVhVLwVTQCkhWFUvBVNAzcggdxGBU0DNyCB3EYFTQM3IIHcRgVNAKSFYVS8FU0ApIVhVLwVTQCkhWFUvBVNAKSFYVS8FU0ApIVhVLwVTQCkhWFUvBVNAKSFYVS8FU0ApIVhVLwVTQCkhWFUvBVNAKSFYVS8FU0ApIVhVLwVTQCkhWFUvBVNAKSFYVS8FU0ApIVhVLwVTQCkhWFUvBVNAKSFYVS8FU0ApIVhVLwVTQCkhWFUvBVNAKSFYVS8FU0ApIVhVLwVTQCkhWFUvBVNAKSFYVS8FU0ApIVhVLwVTQCkhWFUvBVNAKSFYVS8FU0ApIVhVLwVTQCkhWFUvBVNAKSFYVS8FU0ApIVhVLwVTQCkhWFUvBVNAKSFYVS8FU0ApIVhVLwVTQCkhWFUvBVNAKSFYVS8FU0ApIVhVLwVTQCkhWFUvBVNAKSFYVS8FU0ApIVhVLwVTQCkhWFUvBVNAzcggdxGBU0DNyCB3EYFTQM3IIHcRgVNAzcggdxGBU0ApIVhVLwVTQCkhWFUvBVNAzcggdxGBU0DNyCB3EYFTQM3IIHcRgVNAzcggdxGBU0DNyCB3EYFTQM3IIHcRgVNAKSFYVS8FU0ApIVhVLwVTQCkhWFUvBVNAKSFYVS8FU0ApIVhVLwVTQCkhWFUvBVNAKSFYVS8FU0ApIVhVLwVTQCkhWFUvBVNAKSFYVS8FU0ApIVhVLwVTQCkhWFUvBVNAKSFYVS8FU0ApIVhVLwVTQCkhWFUvBVNAKSFYVS8FU0ApIVhVLwVTQCkhWFUvBVNAzcggdxGBU0DNyCB3EYFTQM3IIHcRgVNAzcggdxGBU0DNyCB3EYFTQM3IIHcRgVNAzcggdxGBU0DNyCB3EYFTQM3IIHcRgVNAzcggdxGBU0DNyCB3EYFTQM3IIHcRgVNAzcggdxGBU0DNyCB3EYFTQDij5qvkOlRAOKPmq+Q6VEBaLhud8/xTQFouG53z/FNAWi4bnfP8U0BaLhud8/xTQFouG53z/FNAWi4bnfP8U0BaLhud8/xTQFouG53z/FNAWi4bnfP8U0BaLhud8/xTQFouG53z/FNAWi4bnfP8U0BaLhud8/xTQFouG53z/FNAWi4bnfP8U0BaLhud8/xTQFouG53z/FNAWi4bnfP8U0BaLhud8/xTQFouG53z/FNAWi4bnfP8U0BaLhud8/xTQFouG53z/FNAWi4bnfP8U0BaLhud8/xTQFouG53z/FNAWi4bnfP8U0BaLhud8/xTQFouG53z/FNAWi4bnfP8U0BaLhud8/xTQFouG53z/FNAWi4bnfP8U0BaLhud8/xTQFouG53z/FNAWi4bnfP8U0BaLhud8/xTQFouG53z/FNAWi4bnfP8U0BaLhud8/xTQFouG53z/FNAWi4bnfP8U0BaLhud8/xTQFouG53z/FNAWi4bnfP8U0BaLhud8/xTQFouG53z/FNAWi4bnfP8U0BaLhud8/xTQFouG53z/FNAWi4bnfP8U0BaLhud8/xTQFouG53z/FNAWi4bnfP8U0BaLhud8/xTQFouG53z/FNAWi4bnfP8U0BaLhud8/xTQFouG53z/FNAWi4bnfP8U0BaLhud8/xTQFouG53z/FNAWi4bnfP8U0BaLhud8/xTQFouG53z/FNAWi4bnfP8U0BaLhud8/xTQFouG53z/FNAWi4bnfP8U0BaLhud8/xTQFouG53z/FNAWi4bnfP8U0BaLhud8/xTQFouG53z/FNAWi4bnfP8U0BaLhud8/xTQFouG53z/FNAWi4bnfP8U0BaLhud8/xTQFouG53z/FNAWi4bnfP8U0BaLhud8/xTQFouG53z/FNAWi4bnfP8U0BaLhud8/xTQFouG53z/FNAWi4bnfP8U0BaLhud8/xTQFouG53z/FNAWi4bnfP8U0BaLhud8/xTQFouG53z/FNAWi4bnfP8U0BaLhud8/xTQFouG53z/FNAWi4bnfP8U0BaLhud8/xTQFouG53z/FNAWi4bnfP8U0BaLhud8/xTQFouG53z/FNAWi4bnfP8U0BaLhud8/xTQFouG53z/FNAWi4bnfP8U0BaLhud8/xTQFouG53z/FNAWi4bnfP8U0BaLhud8/xTQFouG53z/FNAWi4bnfP8U0BaLhud8/xTQFouG53z/FNAWi4bnfP8U0BaLhud8/xTQFouG53z/FNAWi4bnfP8U0BaLhud8/xTQFouG53z/FNAWi4bnfP8U0BaLhud8/xTQFouG53z/FNAWi4bnfP8U0BaLhud8/xTQFouG53z/FNAWi4bnfP8U0BaLhud8/xTQFouG53z/FNAWi4bnfP8U0BaLhud8/xTQFouG53z/FNAWi4bnfP8U0BaLhud8/xTQFouG53z/FNAWi4bnfP8U0BaLhud8/xTQFouG53z/FNAWi4bnfP8U0BaLhud8/xTQFouG53z/FNAWi4bnfP8U0BaLhud8/xTQFouG53z/FNAWi4bnfP8U0BaLhud8/xTQFouG53z/FNAWi4bnfP8U0BaLhud8/xTQFouG53z/FNAWi4bnfP8U0BaLhud8/xTQFouG53z/FNAWi4bnfP8U0BaLhud8/xTQFouG53z/FNAWi4bnfP8U0BaLhud8/xTQFouG53z/FNAWi4bnfP8U0BaLhud8/xTQFouG53z/FNAWi4bnfP8U0BaLhud8/xTQFouG53z/FNAWi4bnfP8U0BaLhud8/xTQFouG53z/FNAWi4bnfP8U0BaLhud8/xTQFouG53z/FNAWi4bnfP8U0BaLhud8/xTQFouG53z/FNAWi4bnfP8U0BaLhud8/xTQFouG53z/FNAWi4bnfP8U0BaLhud8/xTQFouG53z/FNAWi4bnfP8U0BaLhud8/xTQFouG53z/FNAWi4bnfP8U0BaLhud8/xTQFouG53z/FNAWi4bnfP8U0BaLhud8/xTQFouG53z/FNAWi4bnfP8U0BaLhud8/xTQFouG53z/FNAWi4bnfP8U0BaLhud8/xTQFouG53z/FNAWi4bnfP8U0BaLhud8/xTQFouG53z/FNAWi4bnfP8U0BaLhud8/xTQFouG53z/FNAWi4bnfP8U0BaLhud8/xTQFouG53z/FNAWi4bnfP8U0BaLhud8/xTQFouG53z/FNAWi4bnfP8U0BaLhud8/xTQFouG53z/FNAWi4bnfP8U0BaLhud8/xTQFouG53z/FNAWi4bnfP8U0BaLhud8/xTQFouG53z/FNAWi4bnfP8U0BaLhud8/xTQFouG53z/FNAWi4bnfP8U0BaLhud8/xTQFouG53z/FNAWi4bnfP8U0BaLhud8/xTQFouG53z/FNAWi4bnfP8U0BaLhud8/xTQFouG53z/FNAWi4bnfP8U0BaLhud8/xTQFouG53z/FNAWi4bnfP8U0BaLhud8/xTQFouG53z/FNAWi4bnfP8U0BaLhud8/xTQFouG53z/FNAWi4bnfP8U0BaLhud8/xTQFouG53z/FNAWi4bnfP8U0BaLhud8/xTQFouG53z/FNAWi4bnfP8U0BaLhud8/xTQFouG53z/FNAWi4bnfP8U0BaLhud8/xTQFouG53z/FNAWi4bnfP8U0BaLhud8/xTQFouG53z/FNAWi4bnfP8U0BaLhud8/xTQFouG53z/FNAWi4bnfP8U0BaLhud8/xTQFouG53z/FNAWi4bnfP8U0BaLhud8/xTQFouG53z/FNAWi4bnfP8U0BaLhud8/xTQFouG53z/FNAWi4bnfP8U0BaLhud8/xTQFouG53z/FNAWi4bnfP8U0BaLhud8/xTQFouG53z/FNAWi4bnfP8U0BaLhud8/xTQFouG53z/FNAWi4bnfP8U0BaLhud8/xTQFouG53z/FNAWi4bnfP8U0BaLhud8/xTQFouG53z/FNAWi4bnfP8U0BaLhud8/xTQFouG53z/FNAWi4bnfP8U0BaLhud8/xTQFouG53z/FNAWi4bnfP8U0BaLhud8/xTQFouG53z/FNAWi4bnfP8U0BaLhud8/xTQFouG53z/FNAWi4bnfP8U0BaLhud8/xTQFouG53z/FNAWi4bnfP8U0BaLhud8/xTQFouG53z/FNAWi4bnfP8U0BaLhud8/xTQFouG53z/FNAWi4bnfP8U0BaLhud8/xTQFouG53z/FNAWi4bnfP8U0BaLhud8/xTQFouG53z/FNAWi4bnfP8U0BaLhud8/xTQFouG53z/FNAWi4bnfP8U0BaLhud8/xTQFouG53z/FNAWi4bnfP8U0BaLhud8/xTQFouG53z/FNAWi4bnfP8U0BaLhud8/xTQFouG53z/FNAWi4bnfP8U0BaLhud8/xTQFouG53z/FNAWi4bnfP8U0BaLhud8/xTQFouG53z/FNAWi4bnfP8U0BaLhud8/xTQFouG53z/FNAWi4bnfP8U0BaLhud8/xTQFouG53z/FNAWi4bnfP8U0BaLhud8/xTQFouG53z/FNAWi4bnfP8U0BaLhud8/xTQFouG53z/FNAWi4bnfP8U0BaLhud8/xTQFouG53z/FNAWi4bnfP8U0BaLhud8/xTQFouG53z/FNAWi4bnfP8U0BaLhud8/xTQFouG53z/FNAWi4bnfP8U0BaLhud8/xTQFouG53z/FNAWi4bnfP8U0BaLhud8/xTQFouG53z/FNAWi4bnfP8U0BaLhud8/xTQFouG53z/FNAWi4bnfP8U0BaLhud8/xTQFouG53z/FNAWi4bnfP8U0BaLhud8/xTQFouG53z/FNAWi4bnfP8U0BaLhud8/xTQFouG53z/FNAlPsdigK/U0CU+x2KAr9TQFouG53z/FNAWi4bnfP8U0BaLhud8/xTQFouG53z/FNAWi4bnfP8U0BaLhud8/xTQFouG53z/FNAWi4bnfP8U0BaLhud8/xTQJT7HYoCv1NAlPsdigK/U0CU+x2KAr9TQJT7HYoCv1NAWi4bnfP8U0BaLhud8/xTQFouG53z/FNAWi4bnfP8U0BaLhud8/xTQFouG53z/FNAWi4bnfP8U0BaLhud8/xTQFouG53z/FNAWi4bnfP8U0BaLhud8/xTQFouG53z/FNAWi4bnfP8U0BaLhud8/xTQFouG53z/FNAWi4bnfP8U0BaLhud8/xTQFouG53z/FNAWi4bnfP8U0BaLhud8/xTQFouG53z/FNAWi4bnfP8U0BaLhud8/xTQFouG53z/FNAWi4bnfP8U0CU+x2KAr9TQJT7HYoCv1NAlPsdigK/U0CU+x2KAr9TQJT7HYoCv1NAlPsdigK/U0CU+x2KAr9TQJT7HYoCv1NAlPsdigK/U0CU+x2KAr9TQJT7HYoCv1NAlPsdigK/U0CU+x2KAr9TQJT7HYoCv1NAlPsdigK/U0CU+x2KAr9TQJT7HYoCv1NAlPsdigK/U0CU+x2KAr9TQJT7HYoCv1NAlPsdigK/U0CU+x2KAr9TQJT7HYoCv1NAlPsdigK/U0CU+x2KAr9TQJT7HYoCv1NAlPsdigK/U0BaLhud8/xTQFouG53z/FNAWi4bnfP8U0BaLhud8/xTQFouG53z/FNAWi4bnfP8U0BaLhud8/xTQFouG53z/FNAWi4bnfP8U0BaLhud8/xTQFouG53z/FNAWi4bnfP8U0BaLhud8/xTQJT7HYoCv1NAlPsdigK/U0CU+x2KAr9TQJT7HYoCv1NAlPsdigK/U0CU+x2KAr9TQJT7HYoCv1NAlPsdigK/U0CU+x2KAr9TQJT7HYoCv1NAlPsdigK/U0CU+x2KAr9TQJT7HYoCv1NAlPsdigK/U0CU+x2KAr9TQJT7HYoCv1NAlPsdigK/U0CU+x2KAr9TQJT7HYoCv1NAlPsdigK/U0CU+x2KAr9TQFouG53z/FNAWi4bnfP8U0BaLhud8/xTQFouG53z/FNAWi4bnfP8U0BaLhud8/xTQFouG53z/FNAWi4bnfP8U0BaLhud8/xTQFouG53z/FNAWi4bnfP8U0BaLhud8/xTQFouG53z/FNAWi4bnfP8U0BaLhud8/xTQJT7HYoCv1NAlPsdigK/U0CU+x2KAr9TQJT7HYoCv1NAlPsdigK/U0CU+x2KAr9TQJT7HYoCv1NAlPsdigK/U0CU+x2KAr9TQJT7HYoCv1NAlPsdigK/U0CU+x2KAr9TQJT7HYoCv1NAlPsdigK/U0CU+x2KAr9TQJT7HYoCv1NAlPsdigK/U0CU+x2KAr9TQJT7HYoCv1NAlPsdigK/U0CU+x2KAr9TQJT7HYoCv1NAlPsdigK/U0CU+x2KAr9TQJT7HYoCv1NAlPsdigK/U0CU+x2KAr9TQJT7HYoCv1NAlPsdigK/U0CU+x2KAr9TQJT7HYoCv1NAlPsdigK/U0CU+x2KAr9TQJT7HYoCv1NAlPsdigK/U0CU+x2KAr9TQJT7HYoCv1NAlPsdigK/U0CU+x2KAr9TQJT7HYoCv1NAlPsdigK/U0CU+x2KAr9TQJT7HYoCv1NAlPsdigK/U0CU+x2KAr9TQJT7HYoCv1NAlPsdigK/U0CU+x2KAr9TQJT7HYoCv1NAlPsdigK/U0CU+x2KAr9TQJT7HYoCv1NAlPsdigK/U0CU+x2KAr9TQJT7HYoCv1NAlPsdigK/U0CU+x2KAr9TQJT7HYoCv1NAlPsdigK/U0CU+x2KAr9TQJT7HYoCv1NAlPsdigK/U0CU+x2KAr9TQJT7HYoCv1NAlPsdigK/U0CU+x2KAr9TQJT7HYoCv1NAlPsdigK/U0CU+x2KAr9TQJT7HYoCv1NAlPsdigK/U0CU+x2KAr9TQJT7HYoCv1NAlPsdigK/U0CU+x2KAr9TQJT7HYoCv1NAlPsdigK/U0CU+x2KAr9TQJT7HYoCv1NAlPsdigK/U0CU+x2KAr9TQJT7HYoCv1NAlPsdigK/U0CU+x2KAr9TQJT7HYoCv1NAlPsdigK/U0CU+x2KAr9TQJT7HYoCv1NAlPsdigK/U0CU+x2KAr9TQJT7HYoCv1NAlPsdigK/U0BaLhud8/xTQFouG53z/FNAWi4bnfP8U0BaLhud8/xTQFouG53z/FNAlPsdigK/U0CU+x2KAr9TQJT7HYoCv1NAlPsdigK/U0CU+x2KAr9TQJT7HYoCv1NAlPsdigK/U0CU+x2KAr9TQJT7HYoCv1NAlPsdigK/U0CU+x2KAr9TQJT7HYoCv1NAlPsdigK/U0CU+x2KAr9TQJT7HYoCv1NAlPsdigK/U0CU+x2KAr9TQJT7HYoCv1NAlPsdigK/U0CU+x2KAr9TQJT7HYoCv1NAlPsdigK/U0CU+x2KAr9TQJT7HYoCv1NAlPsdigK/U0CU+x2KAr9TQJT7HYoCv1NAlPsdigK/U0CU+x2KAr9TQJT7HYoCv1NAlPsdigK/U0CU+x2KAr9TQJT7HYoCv1NAlPsdigK/U0CU+x2KAr9TQJT7HYoCv1NAlPsdigK/U0CU+x2KAr9TQJT7HYoCv1NAlPsdigK/U0CU+x2KAr9TQJT7HYoCv1NAWi4bnfP8U0CU+x2KAr9TQJT7HYoCv1NAlPsdigK/U0CU+x2KAr9TQJT7HYoCv1NAlPsdigK/U0CU+x2KAr9TQJT7HYoCv1NAlPsdigK/U0CU+x2KAr9TQJT7HYoCv1NAlPsdigK/U0CU+x2KAr9TQJT7HYoCv1NAlPsdigK/U0CU+x2KAr9TQJT7HYoCv1NAlPsdigK/U0CU+x2KAr9TQJT7HYoCv1NAlPsdigK/U0CU+x2KAr9TQJT7HYoCv1NAlPsdigK/U0CU+x2KAr9TQJT7HYoCv1NAlPsdigK/U0CU+x2KAr9TQJT7HYoCv1NAlPsdigK/U0CU+x2KAr9TQJT7HYoCv1NAlPsdigK/U0DECOHRxrZUQMQI4dHGtlRA+dfyyvUZWED51/LK9RlYQPAXsyWrT1lA8BezJatPWUAlI2dhT6ZWQCUjZ2FPplZA9BWkGYuuVUD0FaQZi65VQIo73uS39FRAijve5Lf0VEDECOHRxrZUQMQI4dHGtlRA/tXjvtV4VED+1eO+1XhUQDij5qvkOlRAOKPmq+Q6VEA4o+ar5DpUQFouG53z/FNAWi4bnfP8U0BaLhud8/xTQFouG53z/FNAWi4bnfP8U0BaLhud8/xTQJT7HYoCv1NAlPsdigK/U0CU+x2KAr9TQJT7HYoCv1NAlPsdigK/U0CU+x2KAr9TQJT7HYoCv1NAlPsdigK/U0CU+x2KAr9TQJT7HYoCv1NAlPsdigK/U0CU+x2KAr9TQJT7HYoCv1NAlPsdigK/U0CU+x2KAr9TQJT7HYoCv1NAlPsdigK/U0CU+x2KAr9TQJT7HYoCv1NAlPsdigK/U0CU+x2KAr9TQJT7HYoCv1NAlPsdigK/U0CU+x2KAr9TQJT7HYoCv1NAlPsdigK/U0CU+x2KAr9TQM3IIHcRgVNAzcggdxGBU0DNyCB3EYFTQM3IIHcRgVNAzcggdxGBU0DNyCB3EYFTQM3IIHcRgVNAzcggdxGBU0DNyCB3EYFTQM3IIHcRgVNAzcggdxGBU0DNyCB3EYFTQM3IIHcRgVNAzcggdxGBU0DNyCB3EYFTQM3IIHcRgVNAzcggdxGBU0DNyCB3EYFTQM3IIHcRgVNAzcggdxGBU0DNyCB3EYFTQM3IIHcRgVNAzcggdxGBU0DNyCB3EYFTQM3IIHcRgVNAzcggdxGBU0DNyCB3EYFTQM3IIHcRgVNAzcggdxGBU0DNyCB3EYFTQM3IIHcRgVNAzcggdxGBU0DNyCB3EYFTQM3IIHcRgVNAzcggdxGBU0DNyCB3EYFTQM3IIHcRgVNAzcggdxGBU0DNyCB3EYFTQM3IIHcRgVNAzcggdxGBU0DNyCB3EYFTQM3IIHcRgVNAzcggdxGBU0DNyCB3EYFTQM3IIHcRgVNAKSFYVS8FU0ApIVhVLwVTQCkhWFUvBVNAKSFYVS8FU0ApIVhVLwVTQCkhWFUvBVNAKSFYVS8FU0ApIVhVLwVTQCkhWFUvBVNAKSFYVS8FU0ApIVhVLwVTQCkhWFUvBVNAKSFYVS8FU0ApIVhVLwVTQCkhWFUvBVNAKSFYVS8FU0ApIVhVLwVTQCkhWFUvBVNAKSFYVS8FU0ApIVhVLwVTQCkhWFUvBVNAKSFYVS8FU0ApIVhVLwVTQCkhWFUvBVNAKSFYVS8FU0ApIVhVLwVTQCkhWFUvBVNAKSFYVS8FU0ApIVhVLwVTQCkhWFUvBVNAKSFYVS8FU0ApIVhVLwVTQCkhWFUvBVNAKSFYVS8FU0ApIVhVLwVTQCkhWFUvBVNAKSFYVS8FU0ApIVhVLwVTQCkhWFUvBVNAKSFYVS8FU0ApIVhVLwVTQCkhWFUvBVNAKSFYVS8FU0ApIVhVLwVTQCkhWFUvBVNAKSFYVS8FU0ApIVhVLwVTQCkhWFUvBVNAKSFYVS8FU0ApIVhVLwVTQCkhWFUvBVNAKSFYVS8FU0ApIVhVLwVTQCkhWFUvBVNAKSFYVS8FU0ApIVhVLwVTQCkhWFUvBVNAKSFYVS8FU0ApIVhVLwVTQCkhWFUvBVNAKSFYVS8FU0ApIVhVLwVTQCkhWFUvBVNAKSFYVS8FU0ApIVhVLwVTQCkhWFUvBVNAKSFYVS8FU0ApIVhVLwVTQCkhWFUvBVNAKSFYVS8FU0ApIVhVLwVTQCkhWFUvBVNAKSFYVS8FU0ApIVhVLwVTQCkhWFUvBVNAKSFYVS8FU0ApIVhVLwVTQCkhWFUvBVNAKSFYVS8FU0ApIVhVLwVTQCkhWFUvBVNAKSFYVS8FU0ApIVhVLwVTQGPuWkI+x1JAY+5aQj7HUkBj7lpCPsdSQGPuWkI+x1JAY+5aQj7HUkBj7lpCPsdSQGPuWkI+x1JAY+5aQj7HUkBj7lpCPsdSQGPuWkI+x1JAY+5aQj7HUkBj7lpCPsdSQGPuWkI+x1JAY+5aQj7HUkBj7lpCPsdSQGPuWkI+x1JAY+5aQj7HUkBj7lpCPsdSQGPuWkI+x1JAY+5aQj7HUkBj7lpCPsdSQGPuWkI+x1JAY+5aQj7HUkBj7lpCPsdSQGPuWkI+x1JAY+5aQj7HUkBj7lpCPsdSQGPuWkI+x1JAY+5aQj7HUkBj7lpCPsdSQGPuWkI+x1JAY+5aQj7HUkBj7lpCPsdSQGPuWkI+x1JAY+5aQj7HUkBj7lpCPsdSQGPuWkI+x1JAY+5aQj7HUkBj7lpCPsdSQGPuWkI+x1JAY+5aQj7HUkBj7lpCPsdSQGPuWkI+x1JAY+5aQj7HUkBj7lpCPsdSQGPuWkI+x1JAY+5aQj7HUkBj7lpCPsdSQGPuWkI+x1JAY+5aQj7HUkBj7lpCPsdSQGPuWkI+x1JAY+5aQj7HUkBj7lpCPsdSQGPuWkI+x1JAY+5aQj7HUkBj7lpCPsdSQGPuWkI+x1JAY+5aQj7HUkBj7lpCPsdSQGPuWkI+x1JAY+5aQj7HUkBj7lpCPsdSQGPuWkI+x1JAY+5aQj7HUkBj7lpCPsdSQGPuWkI+x1JAY+5aQj7HUkBj7lpCPsdSQGPuWkI+x1JAY+5aQj7HUkBj7lpCPsdSQGPuWkI+x1JAY+5aQj7HUkBj7lpCPsdSQGPuWkI+x1JAY+5aQj7HUkBj7lpCPsdSQGPuWkI+x1JAY+5aQj7HUkBj7lpCPsdSQGPuWkI+x1JAY+5aQj7HUkBj7lpCPsdSQGPuWkI+x1JAY+5aQj7HUkBj7lpCPsdSQGPuWkI+x1JAKSFYVS8FU0ApIVhVLwVTQCkhWFUvBVNAKSFYVS8FU0ApIVhVLwVTQCkhWFUvBVNAKSFYVS8FU0ApIVhVLwVTQCkhWFUvBVNAKSFYVS8FU0ApIVhVLwVTQCkhWFUvBVNAKSFYVS8FU0ApIVhVLwVTQCkhWFUvBVNAKSFYVS8FU0ApIVhVLwVTQCkhWFUvBVNAKSFYVS8FU0ApIVhVLwVTQCkhWFUvBVNAKSFYVS8FU0ApIVhVLwVTQCkhWFUvBVNAKSFYVS8FU0ApIVhVLwVTQCkhWFUvBVNAKSFYVS8FU0ApIVhVLwVTQCkhWFUvBVNAKSFYVS8FU0ApIVhVLwVTQCkhWFUvBVNAKSFYVS8FU0ApIVhVLwVTQCkhWFUvBVNAKSFYVS8FU0ApIVhVLwVTQCkhWFUvBVNAKSFYVS8FU0ApIVhVLwVTQCkhWFUvBVNAKSFYVS8FU0ApIVhVLwVTQCkhWFUvBVNAKSFYVS8FU0ApIVhVLwVTQCkhWFUvBVNAKSFYVS8FU0ApIVhVLwVTQCkhWFUvBVNAKSFYVS8FU0ApIVhVLwVTQCkhWFUvBVNAKSFYVS8FU0ApIVhVLwVTQCkhWFUvBVNAKSFYVS8FU0ApIVhVLwVTQCkhWFUvBVNAKSFYVS8FU0ApIVhVLwVTQCkhWFUvBVNAKSFYVS8FU0ApIVhVLwVTQCkhWFUvBVNAKSFYVS8FU0ApIVhVLwVTQCkhWFUvBVNAKSFYVS8FU0ApIVhVLwVTQCkhWFUvBVNAKSFYVS8FU0ApIVhVLwVTQCkhWFUvBVNAKSFYVS8FU0ApIVhVLwVTQCkhWFUvBVNAKSFYVS8FU0ApIVhVLwVTQCkhWFUvBVNAKSFYVS8FU0ApIVhVLwVTQCkhWFUvBVNAKSFYVS8FU0ApIVhVLwVTQCkhWFUvBVNAKSFYVS8FU0ApIVhVLwVTQCkhWFUvBVNAKSFYVS8FU0ApIVhVLwVTQCkhWFUvBVNAKSFYVS8FU0ApIVhVLwVTQCkhWFUvBVNAKSFYVS8FU0ApIVhVLwVTQCkhWFUvBVNAKSFYVS8FU0ApIVhVLwVTQCkhWFUvBVNAKSFYVS8FU0ApIVhVLwVTQCkhWFUvBVNAKSFYVS8FU0ApIVhVLwVTQCkhWFUvBVNAKSFYVS8FU0ApIVhVLwVTQCkhWFUvBVNAKSFYVS8FU0ApIVhVLwVTQCkhWFUvBVNAKSFYVS8FU0ApIVhVLwVTQCkhWFUvBVNAKSFYVS8FU0ApIVhVLwVTQCkhWFUvBVNAKSFYVS8FU0ApIVhVLwVTQCkhWFUvBVNAKSFYVS8FU0ApIVhVLwVTQCkhWFUvBVNAKSFYVS8FU0ApIVhVLwVTQCkhWFUvBVNAKSFYVS8FU0ApIVhVLwVTQCkhWFUvBVNAKSFYVS8FU0ApIVhVLwVTQCkhWFUvBVNAKSFYVS8FU0ApIVhVLwVTQCkhWFUvBVNAKSFYVS8FU0ApIVhVLwVTQCkhWFUvBVNAKSFYVS8FU0ApIVhVLwVTQCkhWFUvBVNAKSFYVS8FU0DNyCB3EYFTQM3IIHcRgVNAzcggdxGBU0DNyCB3EYFTQM3IIHcRgVNAzcggdxGBU0DNyCB3EYFTQM3IIHcRgVNAzcggdxGBU0DNyCB3EYFTQM3IIHcRgVNAzcggdxGBU0DNyCB3EYFTQM3IIHcRgVNAzcggdxGBU0DNyCB3EYFTQM3IIHcRgVNAzcggdxGBU0DNyCB3EYFTQM3IIHcRgVNAzcggdxGBU0DNyCB3EYFTQM3IIHcRgVNAzcggdxGBU0DNyCB3EYFTQM3IIHcRgVNAzcggdxGBU0DNyCB3EYFTQM3IIHcRgVNAzcggdxGBU0DNyCB3EYFTQM3IIHcRgVNAzcggdxGBU0DNyCB3EYFTQM3IIHcRgVNAzcggdxGBU0DNyCB3EYFTQM3IIHcRgVNAzcggdxGBU0DNyCB3EYFTQM3IIHcRgVNAzcggdxGBU0DNyCB3EYFTQM3IIHcRgVNAzcggdxGBU0DNyCB3EYFTQM3IIHcRgVNAzcggdxGBU0DNyCB3EYFTQM3IIHcRgVNAzcggdxGBU0DNyCB3EYFTQM3IIHcRgVNAzcggdxGBU0DNyCB3EYFTQM3IIHcRgVNAzcggdxGBU0DNyCB3EYFTQM3IIHcRgVNAzcggdxGBU0DNyCB3EYFTQM3IIHcRgVNAzcggdxGBU0DNyCB3EYFTQM3IIHcRgVNAzcggdxGBU0DNyCB3EYFTQM3IIHcRgVNAzcggdxGBU0DNyCB3EYFTQM3IIHcRgVNAzcggdxGBU0DNyCB3EYFTQM3IIHcRgVNAzcggdxGBU0DNyCB3EYFTQM3IIHcRgVNAzcggdxGBU0DNyCB3EYFTQM3IIHcRgVNAzcggdxGBU0DNyCB3EYFTQM3IIHcRgVNAzcggdxGBU0DNyCB3EYFTQM3IIHcRgVNAzcggdxGBU0DNyCB3EYFTQM3IIHcRgVNAzcggdxGBU0DNyCB3EYFTQM3IIHcRgVNAzcggdxGBU0DNyCB3EYFTQM3IIHcRgVNAzcggdxGBU0DNyCB3EYFTQM3IIHcRgVNAzcggdxGBU0CU+x2KAr9TQJT7HYoCv1NAlPsdigK/U0CU+x2KAr9TQJT7HYoCv1NAlPsdigK/U0CU+x2KAr9TQJT7HYoCv1NAlPsdigK/U0CU+x2KAr9TQJT7HYoCv1NAzcggdxGBU0DNyCB3EYFTQM3IIHcRgVNAzcggdxGBU0DNyCB3EYFTQM3IIHcRgVNAzcggdxGBU0DNyCB3EYFTQM3IIHcRgVNAzcggdxGBU0DNyCB3EYFTQM3IIHcRgVNAzcggdxGBU0DNyCB3EYFTQM3IIHcRgVNAlPsdigK/U0CU+x2KAr9TQM3IIHcRgVNAlPsdigK/U0CU+x2KAr9TQJT7HYoCv1NAlPsdigK/U0DNyCB3EYFTQM3IIHcRgVNAzcggdxGBU0DNyCB3EYFTQJT7HYoCv1NAlPsdigK/U0CU+x2KAr9TQJT7HYoCv1NAlPsdigK/U0CU+x2KAr9TQJT7HYoCv1NAlPsdigK/U0CU+x2KAr9TQJT7HYoCv1NAlPsdigK/U0CU+x2KAr9TQJT7HYoCv1NAlPsdigK/U0CU+x2KAr9TQJT7HYoCv1NAlPsdigK/U0CU+x2KAr9TQJT7HYoCv1NAlPsdigK/U0CU+x2KAr9TQJT7HYoCv1NAlPsdigK/U0CU+x2KAr9TQJT7HYoCv1NAlPsdigK/U0CU+x2KAr9TQJT7HYoCv1NAlPsdigK/U0CU+x2KAr9TQJT7HYoCv1NAlPsdigK/U0CU+x2KAr9TQJT7HYoCv1NAlPsdigK/U0CU+x2KAr9TQJT7HYoCv1NAlPsdigK/U0CU+x2KAr9TQJT7HYoCv1NAlPsdigK/U0CU+x2KAr9TQJT7HYoCv1NAlPsdigK/U0CU+x2KAr9TQJT7HYoCv1NAlPsdigK/U0CU+x2KAr9TQJT7HYoCv1NAlPsdigK/U0CU+x2KAr9TQJT7HYoCv1NAlPsdigK/U0CU+x2KAr9TQJT7HYoCv1NAlPsdigK/U0CU+x2KAr9TQJT7HYoCv1NAlPsdigK/U0CU+x2KAr9TQJT7HYoCv1NAlPsdigK/U0CU+x2KAr9TQJT7HYoCv1NAlPsdigK/U0CU+x2KAr9TQJT7HYoCv1NAlPsdigK/U0CU+x2KAr9TQJT7HYoCv1NAlPsdigK/U0CU+x2KAr9TQJT7HYoCv1NAlPsdigK/U0CU+x2KAr9TQJT7HYoCv1NAlPsdigK/U0CU+x2KAr9TQJT7HYoCv1NAlPsdigK/U0CU+x2KAr9TQJT7HYoCv1NAlPsdigK/U0CU+x2KAr9TQJT7HYoCv1NAijve5Lf0VECKO97kt/RUQM3IIHcRgVNAzcggdxGBU0Cdu10vTYlSQJ27XS9NiVJAnbtdL02JUkCdu10vTYlSQIo73uS39FRAijve5Lf0VED+1eO+1XhUQP7V477VeFRAOKPmq+Q6VEA4o+ar5DpUQFouG53z/FNAWi4bnfP8U0CU+x2KAr9TQJT7HYoCv1NAlPsdigK/U0CU+x2KAr9TQJT7HYoCv1NAlPsdigK/U0CU+x2KAr9TQJT7HYoCv1NAlPsdigK/U0CU+x2KAr9TQJT7HYoCv1NAlPsdigK/U0CU+x2KAr9TQJT7HYoCv1NAlPsdigK/U0CU+x2KAr9TQJT7HYoCv1NAlPsdigK/U0CU+x2KAr9TQJT7HYoCv1NAlPsdigK/U0CU+x2KAr9TQJT7HYoCv1NAlPsdigK/U0CU+x2KAr9TQJT7HYoCv1NAlPsdigK/U0CU+x2KAr9TQJT7HYoCv1NAlPsdigK/U0CU+x2KAr9TQJT7HYoCv1NAlPsdigK/U0CU+x2KAr9TQJT7HYoCv1NAlPsdigK/U0CU+x2KAr9TQJT7HYoCv1NAlPsdigK/U0CU+x2KAr9TQJT7HYoCv1NAlPsdigK/U0CU+x2KAr9TQJT7HYoCv1NAlPsdigK/U0CU+x2KAr9TQJT7HYoCv1NAlPsdigK/U0CU+x2KAr9TQJT7HYoCv1NAlPsdigK/U0CU+x2KAr9TQJT7HYoCv1NAlPsdigK/U0CU+x2KAr9TQJT7HYoCv1NAlPsdigK/U0CU+x2KAr9TQJT7HYoCv1NAlPsdigK/U0CU+x2KAr9TQJT7HYoCv1NAlPsdigK/U0CU+x2KAr9TQJT7HYoCv1NAlPsdigK/U0CU+x2KAr9TQJT7HYoCv1NAlPsdigK/U0CU+x2KAr9TQJT7HYoCv1NAlPsdigK/U0CU+x2KAr9TQJT7HYoCv1NAlPsdigK/U0CU+x2KAr9TQJT7HYoCv1NAlPsdigK/U0CU+x2KAr9TQJT7HYoCv1NAlPsdigK/U0CU+x2KAr9TQJT7HYoCv1NAlPsdigK/U0CU+x2KAr9TQJT7HYoCv1NAlPsdigK/U0CU+x2KAr9TQJT7HYoCv1NAlPsdigK/U0CU+x2KAr9TQJT7HYoCv1NAlPsdigK/U0CU+x2KAr9TQJT7HYoCv1NAlPsdigK/U0CU+x2KAr9TQJT7HYoCv1NAlPsdigK/U0CU+x2KAr9TQJT7HYoCv1NAlPsdigK/U0CU+x2KAr9TQJT7HYoCv1NAlPsdigK/U0CU+x2KAr9TQJT7HYoCv1NAlPsdigK/U0CU+x2KAr9TQJT7HYoCv1NAlPsdigK/U0CU+x2KAr9TQJT7HYoCv1NAlPsdigK/U0CU+x2KAr9TQJT7HYoCv1NAlPsdigK/U0CU+x2KAr9TQJT7HYoCv1NAlPsdigK/U0CU+x2KAr9TQJT7HYoCv1NAlPsdigK/U0CU+x2KAr9TQJT7HYoCv1NAlPsdigK/U0CU+x2KAr9TQJT7HYoCv1NAlPsdigK/U0CU+x2KAr9TQJT7HYoCv1NAlPsdigK/U0CU+x2KAr9TQJT7HYoCv1NAlPsdigK/U0CU+x2KAr9TQJT7HYoCv1NAlPsdigK/U0CU+x2KAr9TQJT7HYoCv1NAlPsdigK/U0CU+x2KAr9TQJT7HYoCv1NAlPsdigK/U0CU+x2KAr9TQJT7HYoCv1NAlPsdigK/U0CU+x2KAr9TQJT7HYoCv1NAlPsdigK/U0CU+x2KAr9TQJT7HYoCv1NAlPsdigK/U0CU+x2KAr9TQJT7HYoCv1NAlPsdigK/U0CU+x2KAr9TQJT7HYoCv1NAlPsdigK/U0CU+x2KAr9TQJT7HYoCv1NAlPsdigK/U0CU+x2KAr9TQJT7HYoCv1NAlPsdigK/U0CU+x2KAr9TQJT7HYoCv1NAlPsdigK/U0CU+x2KAr9TQJT7HYoCv1NAlPsdigK/U0CU+x2KAr9TQJT7HYoCv1NAlPsdigK/U0CU+x2KAr9TQJT7HYoCv1NAlPsdigK/U0CU+x2KAr9TQJT7HYoCv1NAlPsdigK/U0CU+x2KAr9TQJT7HYoCv1NAlPsdigK/U0CU+x2KAr9TQJT7HYoCv1NAlPsdigK/U0CU+x2KAr9TQJT7HYoCv1NAlPsdigK/U0CU+x2KAr9TQJT7HYoCv1NAlPsdigK/U0CU+x2KAr9TQJT7HYoCv1NAlPsdigK/U0CU+x2KAr9TQJT7HYoCv1NAlPsdigK/U0CU+x2KAr9TQJT7HYoCv1NAlPsdigK/U0CU+x2KAr9TQJT7HYoCv1NAlPsdigK/U0CU+x2KAr9TQJT7HYoCv1NAlPsdigK/U0CU+x2KAr9TQJT7HYoCv1NAlPsdigK/U0CU+x2KAr9TQJT7HYoCv1NAlPsdigK/U0CU+x2KAr9TQJT7HYoCv1NAlPsdigK/U0CU+x2KAr9TQJT7HYoCv1NAlPsdigK/U0CU+x2KAr9TQJT7HYoCv1NAlPsdigK/U0CU+x2KAr9TQJT7HYoCv1NAlPsdigK/U0CU+x2KAr9TQJT7HYoCv1NAlPsdigK/U0CU+x2KAr9TQJT7HYoCv1NAlPsdigK/U0CU+x2KAr9TQJT7HYoCv1NAlPsdigK/U0CU+x2KAr9TQJT7HYoCv1NAlPsdigK/U0CU+x2KAr9TQJT7HYoCv1NAlPsdigK/U0CU+x2KAr9TQJT7HYoCv1NAlPsdigK/U0CU+x2KAr9TQJT7HYoCv1NAlPsdigK/U0CU+x2KAr9TQJT7HYoCv1NAlPsdigK/U0CU+x2KAr9TQJT7HYoCv1NAlPsdigK/U0CU+x2KAr9TQJT7HYoCv1NAlPsdigK/U0CU+x2KAr9TQJT7HYoCv1NAlPsdigK/U0CU+x2KAr9TQJT7HYoCv1NAlPsdigK/U0CU+x2KAr9TQJT7HYoCv1NAlPsdigK/U0CU+x2KAr9TQJT7HYoCv1NAlPsdigK/U0CU+x2KAr9TQJT7HYoCv1NAlPsdigK/U0CU+x2KAr9TQJT7HYoCv1NAlPsdigK/U0CU+x2KAr9TQJT7HYoCv1NAlPsdigK/U0CU+x2KAr9TQJT7HYoCv1NAlPsdigK/U0CU+x2KAr9TQJT7HYoCv1NAlPsdigK/U0CU+x2KAr9TQJT7HYoCv1NAlPsdigK/U0CU+x2KAr9TQJT7HYoCv1NAlPsdigK/U0CU+x2KAr9TQJT7HYoCv1NAlPsdigK/U0CU+x2KAr9TQJT7HYoCv1NAlPsdigK/U0CU+x2KAr9TQJT7HYoCv1NAlPsdigK/U0CU+x2KAr9TQJT7HYoCv1NAlPsdigK/U0CU+x2KAr9TQJT7HYoCv1NAlPsdigK/U0CU+x2KAr9TQJT7HYoCv1NAlPsdigK/U0CU+x2KAr9TQJT7HYoCv1NAlPsdigK/U0CU+x2KAr9TQJT7HYoCv1NAlPsdigK/U0CU+x2KAr9TQJT7HYoCv1NAlPsdigK/U0CU+x2KAr9TQJT7HYoCv1NAlPsdigK/U0CU+x2KAr9TQJT7HYoCv1NAlPsdigK/U0CU+x2KAr9TQJT7HYoCv1NAlPsdigK/U0CU+x2KAr9TQJT7HYoCv1NAlPsdigK/U0CU+x2KAr9TQJT7HYoCv1NAlPsdigK/U0CU+x2KAr9TQJT7HYoCv1NAlPsdigK/U0CU+x2KAr9TQJT7HYoCv1NAlPsdigK/U0CU+x2KAr9TQJT7HYoCv1NAlPsdigK/U0CU+x2KAr9TQJT7HYoCv1NAlPsdigK/U0CU+x2KAr9TQJT7HYoCv1NAlPsdigK/U0CU+x2KAr9TQJT7HYoCv1NAlPsdigK/U0CU+x2KAr9TQJT7HYoCv1NAlPsdigK/U0CU+x2KAr9TQJT7HYoCv1NAlPsdigK/U0CU+x2KAr9TQJT7HYoCv1NAlPsdigK/U0CU+x2KAr9TQJT7HYoCv1NAlPsdigK/U0CU+x2KAr9TQJT7HYoCv1NAlPsdigK/U0CU+x2KAr9TQJT7HYoCv1NAlPsdigK/U0CU+x2KAr9TQJT7HYoCv1NAlPsdigK/U0CU+x2KAr9TQJT7HYoCv1NAlPsdigK/U0CU+x2KAr9TQJT7HYoCv1NAlPsdigK/U0CU+x2KAr9TQJT7HYoCv1NAlPsdigK/U0CU+x2KAr9TQJT7HYoCv1NAlPsdigK/U0CU+x2KAr9TQJT7HYoCv1NAlPsdigK/U0CU+x2KAr9TQJT7HYoCv1NAlPsdigK/U0CU+x2KAr9TQJT7HYoCv1NAlPsdigK/U0CU+x2KAr9TQJT7HYoCv1NAlPsdigK/U0CU+x2KAr9TQJT7HYoCv1NAlPsdigK/U0CU+x2KAr9TQJT7HYoCv1NAlPsdigK/U0CU+x2KAr9TQJT7HYoCv1NAlPsdigK/U0CU+x2KAr9TQJT7HYoCv1NAlPsdigK/U0CU+x2KAr9TQJT7HYoCv1NAlPsdigK/U0CU+x2KAr9TQJT7HYoCv1NAlPsdigK/U0CU+x2KAr9TQJT7HYoCv1NAlPsdigK/U0CU+x2KAr9TQJT7HYoCv1NAlPsdigK/U0CU+x2KAr9TQJT7HYoCv1NAlPsdigK/U0CU+x2KAr9TQJT7HYoCv1NAlPsdigK/U0CU+x2KAr9TQJT7HYoCv1NAlPsdigK/U0CU+x2KAr9TQJT7HYoCv1NAlPsdigK/U0CU+x2KAr9TQJT7HYoCv1NAlPsdigK/U0CU+x2KAr9TQJT7HYoCv1NAlPsdigK/U0CU+x2KAr9TQJT7HYoCv1NAlPsdigK/U0CU+x2KAr9TQJT7HYoCv1NAlPsdigK/U0CU+x2KAr9TQJT7HYoCv1NAlPsdigK/U0CU+x2KAr9TQJT7HYoCv1NAlPsdigK/U0CU+x2KAr9TQJT7HYoCv1NAlPsdigK/U0CU+x2KAr9TQJT7HYoCv1NAlPsdigK/U0CU+x2KAr9TQJT7HYoCv1NAlPsdigK/U0CU+x2KAr9TQJT7HYoCv1NAlPsdigK/U0CU+x2KAr9TQJT7HYoCv1NAlPsdigK/U0CU+x2KAr9TQJT7HYoCv1NAlPsdigK/U0CU+x2KAr9TQJT7HYoCv1NAlPsdigK/U0CU+x2KAr9TQJT7HYoCv1NAlPsdigK/U0CU+x2KAr9TQJT7HYoCv1NAlPsdigK/U0CU+x2KAr9TQJT7HYoCv1NAlPsdigK/U0CU+x2KAr9TQJT7HYoCv1NAlPsdigK/U0CU+x2KAr9TQJT7HYoCv1NAlPsdigK/U0CU+x2KAr9TQJT7HYoCv1NAlPsdigK/U0CU+x2KAr9TQJT7HYoCv1NAlPsdigK/U0CU+x2KAr9TQJT7HYoCv1NAlPsdigK/U0CU+x2KAr9TQJT7HYoCv1NAlPsdigK/U0CU+x2KAr9TQJT7HYoCv1NAlPsdigK/U0CU+x2KAr9TQJT7HYoCv1NAlPsdigK/U0CU+x2KAr9TQJT7HYoCv1NAlPsdigK/U0CU+x2KAr9TQJT7HYoCv1NAlPsdigK/U0CU+x2KAr9TQJT7HYoCv1NAlPsdigK/U0CU+x2KAr9TQJT7HYoCv1NAlPsdigK/U0CU+x2KAr9TQJT7HYoCv1NAlPsdigK/U0CU+x2KAr9TQJT7HYoCv1NAlPsdigK/U0CU+x2KAr9TQJT7HYoCv1NAlPsdigK/U0CU+x2KAr9TQJT7HYoCv1NAlPsdigK/U0CU+x2KAr9TQJT7HYoCv1NAlPsdigK/U0CU+x2KAr9TQJT7HYoCv1NAlPsdigK/U0CU+x2KAr9TQJT7HYoCv1NAlPsdigK/U0CU+x2KAr9TQJT7HYoCv1NAlPsdigK/U0CU+x2KAr9TQJT7HYoCv1NAlPsdigK/U0CU+x2KAr9TQJT7HYoCv1NAlPsdigK/U0CU+x2KAr9TQJT7HYoCv1NAlPsdigK/U0CU+x2KAr9TQJT7HYoCv1NAlPsdigK/U0CU+x2KAr9TQJT7HYoCv1NAlPsdigK/U0CU+x2KAr9TQJT7HYoCv1NAlPsdigK/U0CU+x2KAr9TQJT7HYoCv1NAlPsdigK/U0CU+x2KAr9TQJT7HYoCv1NAlPsdigK/U0CU+x2KAr9TQJT7HYoCv1NAlPsdigK/U0CU+x2KAr9TQJT7HYoCv1NAlPsdigK/U0CU+x2KAr9TQJT7HYoCv1NAlPsdigK/U0CU+x2KAr9TQJT7HYoCv1NAlPsdigK/U0CU+x2KAr9TQJT7HYoCv1NAlPsdigK/U0CU+x2KAr9TQJT7HYoCv1NAlPsdigK/U0CU+x2KAr9TQJT7HYoCv1NAlPsdigK/U0CU+x2KAr9TQJT7HYoCv1NAlPsdigK/U0CU+x2KAr9TQJT7HYoCv1NAlPsdigK/U0CU+x2KAr9TQJT7HYoCv1NAlPsdigK/U0CU+x2KAr9TQJT7HYoCv1NAlPsdigK/U0CU+x2KAr9TQJT7HYoCv1NAlPsdigK/U0CU+x2KAr9TQJT7HYoCv1NAlPsdigK/U0CU+x2KAr9TQJT7HYoCv1NAlPsdigK/U0CU+x2KAr9TQJT7HYoCv1NAlPsdigK/U0CU+x2KAr9TQJT7HYoCv1NAlPsdigK/U0CU+x2KAr9TQJT7HYoCv1NAlPsdigK/U0CU+x2KAr9TQJT7HYoCv1NAlPsdigK/U0CU+x2KAr9TQJT7HYoCv1NAlPsdigK/U0CU+x2KAr9TQJT7HYoCv1NAlPsdigK/U0CU+x2KAr9TQJT7HYoCv1NAlPsdigK/U0CU+x2KAr9TQJT7HYoCv1NAlPsdigK/U0CU+x2KAr9TQJT7HYoCv1NAlPsdigK/U0CU+x2KAr9TQJT7HYoCv1NAlPsdigK/U0CU+x2KAr9TQJT7HYoCv1NAlPsdigK/U0CU+x2KAr9TQJT7HYoCv1NAlPsdigK/U0CU+x2KAr9TQJT7HYoCv1NAlPsdigK/U0CU+x2KAr9TQJT7HYoCv1NAlPsdigK/U0CU+x2KAr9TQJT7HYoCv1NAlPsdigK/U0CU+x2KAr9TQJT7HYoCv1NAlPsdigK/U0CU+x2KAr9TQJT7HYoCv1NAlPsdigK/U0CU+x2KAr9TQJT7HYoCv1NAlPsdigK/U0CU+x2KAr9TQJT7HYoCv1NAlPsdigK/U0CU+x2KAr9TQJT7HYoCv1NAlPsdigK/U0CU+x2KAr9TQJT7HYoCv1NAlPsdigK/U0CU+x2KAr9TQJT7HYoCv1NAlPsdigK/U0CU+x2KAr9TQJT7HYoCv1NAlPsdigK/U0CU+x2KAr9TQJT7HYoCv1NAlPsdigK/U0CU+x2KAr9TQJT7HYoCv1NAlPsdigK/U0CU+x2KAr9TQJT7HYoCv1NAlPsdigK/U0CU+x2KAr9TQJT7HYoCv1NAlPsdigK/U0CU+x2KAr9TQJT7HYoCv1NAlPsdigK/U0CU+x2KAr9TQJT7HYoCv1NAlPsdigK/U0CU+x2KAr9TQJT7HYoCv1NAlPsdigK/U0CU+x2KAr9TQJT7HYoCv1NAlPsdigK/U0CU+x2KAr9TQJT7HYoCv1NAlPsdigK/U0CU+x2KAr9TQJT7HYoCv1NAlPsdigK/U0CU+x2KAr9TQJT7HYoCv1NAlPsdigK/U0CU+x2KAr9TQJT7HYoCv1NAlPsdigK/U0CU+x2KAr9TQJT7HYoCv1NAlPsdigK/U0CU+x2KAr9TQJT7HYoCv1NAlPsdigK/U0CU+x2KAr9TQJT7HYoCv1NAlPsdigK/U0CU+x2KAr9TQJT7HYoCv1NAlPsdigK/U0CU+x2KAr9TQJT7HYoCv1NAlPsdigK/U0CU+x2KAr9TQJT7HYoCv1NAlPsdigK/U0CU+x2KAr9TQJT7HYoCv1NAlPsdigK/U0CU+x2KAr9TQJT7HYoCv1NAlPsdigK/U0CU+x2KAr9TQJT7HYoCv1NAlPsdigK/U0CU+x2KAr9TQJT7HYoCv1NAlPsdigK/U0CU+x2KAr9TQJT7HYoCv1NAlPsdigK/U0CU+x2KAr9TQJT7HYoCv1NAlPsdigK/U0CU+x2KAr9TQJT7HYoCv1NAlPsdigK/U0CU+x2KAr9TQJT7HYoCv1NAlPsdigK/U0CU+x2KAr9TQJT7HYoCv1NAlPsdigK/U0CU+x2KAr9TQJT7HYoCv1NAlPsdigK/U0CU+x2KAr9TQJT7HYoCv1NAlPsdigK/U0CU+x2KAr9TQJT7HYoCv1NAlPsdigK/U0CU+x2KAr9TQJT7HYoCv1NAlPsdigK/U0CU+x2KAr9TQJT7HYoCv1NAlPsdigK/U0CU+x2KAr9TQJT7HYoCv1NAlPsdigK/U0CU+x2KAr9TQJT7HYoCv1NAlPsdigK/U0CU+x2KAr9TQJT7HYoCv1NAlPsdigK/U0CU+x2KAr9TQJT7HYoCv1NAlPsdigK/U0CU+x2KAr9TQJT7HYoCv1NAlPsdigK/U0CU+x2KAr9TQJT7HYoCv1NAlPsdigK/U0CU+x2KAr9TQJT7HYoCv1NAlPsdigK/U0CU+x2KAr9TQJT7HYoCv1NAlPsdigK/U0CU+x2KAr9TQJT7HYoCv1NAlPsdigK/U0CU+x2KAr9TQJT7HYoCv1NAlPsdigK/U0CU+x2KAr9TQJT7HYoCv1NAlPsdigK/U0CU+x2KAr9TQJT7HYoCv1NAlPsdigK/U0CU+x2KAr9TQJT7HYoCv1NAlPsdigK/U0CU+x2KAr9TQJT7HYoCv1NAlPsdigK/U0CU+x2KAr9TQJT7HYoCv1NAlPsdigK/U0CU+x2KAr9TQJT7HYoCv1NAlPsdigK/U0CU+x2KAr9TQJT7HYoCv1NAlPsdigK/U0CU+x2KAr9TQJT7HYoCv1NAlPsdigK/U0CU+x2KAr9TQJT7HYoCv1NAlPsdigK/U0CU+x2KAr9TQJT7HYoCv1NAlPsdigK/U0CU+x2KAr9TQJT7HYoCv1NAlPsdigK/U0CU+x2KAr9TQJT7HYoCv1NAlPsdigK/U0CU+x2KAr9TQJT7HYoCv1NAlPsdigK/U0CU+x2KAr9TQJT7HYoCv1NAlPsdigK/U0CU+x2KAr9TQJT7HYoCv1NAlPsdigK/U0CU+x2KAr9TQJT7HYoCv1NAlPsdigK/U0CU+x2KAr9TQJT7HYoCv1NAlPsdigK/U0CU+x2KAr9TQJT7HYoCv1NAlPsdigK/U0CU+x2KAr9TQJT7HYoCv1NAlPsdigK/U0CU+x2KAr9TQJT7HYoCv1NAlPsdigK/U0CU+x2KAr9TQJT7HYoCv1NAlPsdigK/U0CU+x2KAr9TQJT7HYoCv1NAlPsdigK/U0CU+x2KAr9TQJT7HYoCv1NAlPsdigK/U0CU+x2KAr9TQJT7HYoCv1NAlPsdigK/U0CU+x2KAr9TQJT7HYoCv1NAlPsdigK/U0CU+x2KAr9TQJT7HYoCv1NAlPsdigK/U0CU+x2KAr9TQJT7HYoCv1NAlPsdigK/U0CU+x2KAr9TQJT7HYoCv1NAlPsdigK/U0CU+x2KAr9TQJT7HYoCv1NAlPsdigK/U0CU+x2KAr9TQJT7HYoCv1NAlPsdigK/U0CU+x2KAr9TQJT7HYoCv1NAlPsdigK/U0CU+x2KAr9TQJT7HYoCv1NAlPsdigK/U0CU+x2KAr9TQM3IIHcRgVNAzcggdxGBU0DNyCB3EYFTQM3IIHcRgVNAzcggdxGBU0DNyCB3EYFTQM3IIHcRgVNAzcggdxGBU0DNyCB3EYFTQM3IIHcRgVNAzcggdxGBU0DNyCB3EYFTQM3IIHcRgVNAzcggdxGBU0DNyCB3EYFTQM3IIHcRgVNAzcggdxGBU0DNyCB3EYFTQM3IIHcRgVNAzcggdxGBU0DNyCB3EYFTQM3IIHcRgVNAzcggdxGBU0DNyCB3EYFTQM3IIHcRgVNAzcggdxGBU0DNyCB3EYFTQM3IIHcRgVNAzcggdxGBU0DNyCB3EYFTQCkhWFUvBVNAKSFYVS8FU0ApIVhVLwVTQCkhWFUvBVNAKSFYVS8FU0ApIVhVLwVTQCkhWFUvBVNAKSFYVS8FU0ApIVhVLwVTQCkhWFUvBVNAKSFYVS8FU0ApIVhVLwVTQCkhWFUvBVNAKSFYVS8FU0ApIVhVLwVTQCkhWFUvBVNAKSFYVS8FU0ApIVhVLwVTQCkhWFUvBVNAKSFYVS8FU0ApIVhVLwVTQCkhWFUvBVNAKSFYVS8FU0ApIVhVLwVTQCkhWFUvBVNAKSFYVS8FU0ApIVhVLwVTQCkhWFUvBVNAKSFYVS8FU0ApIVhVLwVTQCkhWFUvBVNAKSFYVS8FU0ApIVhVLwVTQCkhWFUvBVNAKSFYVS8FU0ApIVhVLwVTQCkhWFUvBVNAKSFYVS8FU0ApIVhVLwVTQCkhWFUvBVNAKSFYVS8FU0ApIVhVLwVTQCkhWFUvBVNAKSFYVS8FU0ApIVhVLwVTQCkhWFUvBVNAKSFYVS8FU0ApIVhVLwVTQCkhWFUvBVNAKSFYVS8FU0ApIVhVLwVTQCkhWFUvBVNAKSFYVS8FU0ApIVhVLwVTQCkhWFUvBVNAKSFYVS8FU0ApIVhVLwVTQCkhWFUvBVNAKSFYVS8FU0ApIVhVLwVTQCkhWFUvBVNAKSFYVS8FU0ApIVhVLwVTQCkhWFUvBVNAKSFYVS8FU0ApIVhVLwVTQCkhWFUvBVNAKSFYVS8FU0ApIVhVLwVTQCkhWFUvBVNAKSFYVS8FU0ApIVhVLwVTQCkhWFUvBVNAKSFYVS8FU0ApIVhVLwVTQCkhWFUvBVNAKSFYVS8FU0ApIVhVLwVTQCkhWFUvBVNAKSFYVS8FU0ApIVhVLwVTQCkhWFUvBVNAKSFYVS8FU0ApIVhVLwVTQCkhWFUvBVNAKSFYVS8FU0ApIVhVLwVTQCkhWFUvBVNAKSFYVS8FU0ApIVhVLwVTQCkhWFUvBVNAKSFYVS8FU0ApIVhVLwVTQCkhWFUvBVNAKSFYVS8FU0ApIVhVLwVTQCkhWFUvBVNAKSFYVS8FU0ApIVhVLwVTQCkhWFUvBVNAKSFYVS8FU0ApIVhVLwVTQCkhWFUvBVNAKSFYVS8FU0Bj7lpCPsdSQGPuWkI+x1JAY+5aQj7HUkBj7lpCPsdSQGPuWkI+x1JAY+5aQj7HUkBj7lpCPsdSQGPuWkI+x1JAY+5aQj7HUkBj7lpCPsdSQGPuWkI+x1JAY+5aQj7HUkBj7lpCPsdSQGPuWkI+x1JAY+5aQj7HUkBj7lpCPsdSQGPuWkI+x1JAY+5aQj7HUkBj7lpCPsdSQGPuWkI+x1JAY+5aQj7HUkBj7lpCPsdSQGPuWkI+x1JAxuHMr+aGYEDG4cyv5oZgQFb0h2aeql1AVvSHZp6qXUDEzD6PUcNaQMTMPo9Rw1pAzox+NJyNWUDOjH40nI1ZQM6MfjScjVlAzox+NJyNWUAzpfW3BNxXQDOl9bcE3FdAj/0sliJgV0CP/SyWImBXQI/9LJYiYFdAJSNnYU+mVkAlI2dhT6ZWQCUjZ2FPplZAZLK4/8jTWECP/SyWImBXQI/9LJYiYFdAj/0sliJgV0CP/SyWImBXQCUjZ2FPplZA0opvKHzsVUDSim8ofOxVQC7jpgaacFVALuOmBppwVUAu46YGmnBVQGiwqfOoMlVAaLCp86gyVUBosKnzqDJVQMQI4dHGtlRAxAjh0ca2VEDECOHRxrZUQMQI4dHGtlRAOKPmq+Q6VEA4o+ar5DpUQDij5qvkOlRAWi4bnfP8U0BaLhud8/xTQFouG53z/FNAlPsdigK/U0DNyCB3EYFTQO9TVWggQ1NA71NVaCBDU0ApIVhVLwVTQCkhWFUvBVNAY+5aQj7HUkBj7lpCPsdSQGPuWkI+x1JAY+5aQj7HUkBj7lpCPsdSQGPuWkI+x1JAY+5aQj7HUkC/RpIgXEtSQL9GkiBcS1JAv0aSIFxLUkD5E5UNaw1SQL9GkiBcS1JAv0aSIFxLUkC/RpIgXEtSQL9GkiBcS1JAv0aSIFxLUkD5E5UNaw1SQPkTlQ1rDVJA+ROVDWsNUkC/RpIgXEtSQL9GkiBcS1JA+ROVDWsNUkD5E5UNaw1SQPkTlQ1rDVJA+ROVDWsNUkD5E5UNaw1SQPkTlQ1rDVJA+ROVDWsNUkD5E5UNaw1SQPkTlQ1rDVJA+ROVDWsNUkD5E5UNaw1SQPkTlQ1rDVJA+ROVDWsNUkD5E5UNaw1SQPkTlQ1rDVJAM+GX+nnPUUAz4Zf6ec9RQPkTlQ1rDVJAM+GX+nnPUUBtrprniJFRQG2umueIkVFAba6a54iRUUBtrprniJFRQG2umueIkVFAba6a54iRUUBtrprniJFRQG2umueIkVFAba6a54iRUUBtrprniJFRQI85z9iXU1FAjznP2JdTUUBtrprniJFRQI85z9iXU1FAjznP2JdTUUCPOc/Yl1NRQMgG0sWmFVFAAtTUsrXXUEDIBtLFphVRQMgG0sWmFVFAAtTUsrXXUEAC1NSytddQQALU1LK111BAAtTUsrXXUEAC1NSytddQQALU1LK111BAAtTUsrXXUEAC1NSytddQQALU1LK111BAAtTUsrXXUEAC1NSytddQQALU1LK111BAAtTUsrXXUEAkXwmkxJlQQCRfCaTEmVBAJF8JpMSZUEAkXwmkxJlQQCRfCaTEmVBAJF8JpMSZUEAkXwmkxJlQQCRfCaTEmVBAJF8JpMSZUEAkXwmkxJlQQCRfCaTEmVBAJF8JpMSZUEAkXwmkxJlQQCRfCaTEmVBAJF8JpMSZUEAkXwmkxJlQQCRfCaTEmVBAJF8JpMSZUEBeLAyR01tQQF4sDJHTW1BAXiwMkdNbUEBeLAyR01tQQCRfCaTEmVBAJF8JpMSZUEAkXwmkxJlQQCRfCaTEmVBAXiwMkdNbUEBeLAyR01tQQCRfCaTEmVBAJF8JpMSZUEBeLAyR01tQQF4sDJHTW1BAXiwMkdNbUEBeLAyR01tQQF4sDJHTW1BAXiwMkdNbUEBeLAyR01tQQF4sDJHTW1BAXiwMkdNbUEBeLAyR01tQQF4sDJHTW1BAmPkOfuIdUECY+Q5+4h1QQF4sDJHTW1BAXiwMkdNbUEBeLAyR01tQQF4sDJHTW1BAXiwMkdNbUEBeLAyR01tQQF4sDJHTW1BAXiwMkdNbUEBeLAyR01tQQF4sDJHTW1BAXiwMkdNbUECY+Q5+4h1QQJj5Dn7iHVBAmPkOfuIdUECY+Q5+4h1QQJj5Dn7iHVBAmPkOfuIdUECY+Q5+4h1QQJj5Dn7iHVBAmPkOfuIdUECY+Q5+4h1QQJj5Dn7iHVBAmPkOfuIdUECY+Q5+4h1QQJj5Dn7iHVBAmPkOfuIdUECY+Q5+4h1QQJj5Dn7iHVBAmPkOfuIdUECY+Q5+4h1QQJj5Dn7iHVBAmPkOfuIdUECY+Q5+4h1QQJj5Dn7iHVBAmPkOfuIdUECY+Q5+4h1QQJj5Dn7iHVBAmPkOfuIdUECkjSPW4r9PQKSNI9biv09A6KOMuABET0Doo4y4AERPQKSNI9biv09ApI0j1uK/T0Doo4y4AERPQOijjLgARE9ApI0j1uK/T0Doo4y4AERPQOijjLgARE9A6KOMuABET0Doo4y4AERPQOijjLgARE9A6KOMuABET0BcPpKSHshOQFw+kpIeyE5AXD6Skh7ITkBcPpKSHshOQFw+kpIeyE5AXD6Skh7ITkDoo4y4AERPQFw+kpIeyE5AXD6Skh7ITkBcPpKSHshOQFw+kpIeyE5AXD6Skh7ITkBcPpKSHshOQFw+kpIeyE5AXD6Skh7ITkBcPpKSHshOQFw+kpIeyE5AXD6Skh7ITkBcPpKSHshOQFw+kpIeyE5AXD6Skh7ITkBcPpKSHshOQFw+kpIeyE5AXD6Skh7ITkBcPpKSHshOQFw+kpIeyE5AXD6Skh7ITkBcPpKSHshOQFw+kpIeyE5AXD6Skh7ITkBcPpKSHshOQFw+kpIeyE5AXD6Skh7ITkBcPpKSHshOQFw+kpIeyE5AXD6Skh7ITkBcPpKSHshOQFw+kpIeyE5AXD6Skh7ITkBcPpKSHshOQFw+kpIeyE5AXD6Skh7ITkBcPpKSHshOQM/Yl2w8TE5Az9iXbDxMTkDP2JdsPExOQM/Yl2w8TE5Az9iXbDxMTkDP2JdsPExOQM/Yl2w8TE5AE+8AT1rQTUAT7wBPWtBNQM/Yl2w8TE5Az9iXbDxMTkAT7wBPWtBNQBPvAE9a0E1Az9iXbDxMTkDP2JdsPExOQM/Yl2w8TE5Az9iXbDxMTkDP2JdsPExOQM/Yl2w8TE5Az9iXbDxMTkDP2JdsPExOQM/Yl2w8TE5Az9iXbDxMTkDP2JdsPExOQBPvAE9a0E1AE+8AT1rQTUAT7wBPWtBNQBPvAE9a0E1AE+8AT1rQTUAT7wBPWtBNQBPvAE9a0E1AE+8AT1rQTUAT7wBPWtBNQBPvAE9a0E1AE+8AT1rQTUAT7wBPWtBNQBPvAE9a0E1AE+8AT1rQTUAT7wBPWtBNQBPvAE9a0E1AE+8AT1rQTUAT7wBPWtBNQBPvAE9a0E1AE+8AT1rQTUAT7wBPWtBNQBPvAE9a0E1AE+8AT1rQTUAT7wBPWtBNQBPvAE9a0E1Ah4kGKXhUTUCHiQYpeFRNQIeJBil4VE1Ah4kGKXhUTUCHiQYpeFRNQBPvAE9a0E1Ah4kGKXhUTUCHiQYpeFRNQIeJBil4VE1Ah4kGKXhUTUCHiQYpeFRNQIeJBil4VE1Ah4kGKXhUTUCHiQYpeFRNQIeJBil4VE1Ah4kGKXhUTUCHiQYpeFRNQIeJBil4VE1Ah4kGKXhUTUCHiQYpeFRNQIeJBil4VE1Ah4kGKXhUTUCHiQYpeFRNQIeJBil4VE1Ah4kGKXhUTUCHiQYpeFRNQPsjDAOW2ExA+yMMA5bYTED7IwwDlthMQPsjDAOW2ExA+yMMA5bYTED7IwwDlthMQPsjDAOW2ExA+yMMA5bYTED7IwwDlthMQPsjDAOW2ExA+yMMA5bYTED7IwwDlthMQPsjDAOW2ExA+yMMA5bYTED7IwwDlthMQPsjDAOW2ExA+yMMA5bYTEBuvhHds1xMQPsjDAOW2ExA+yMMA5bYTEBuvhHds1xMQG6+Ed2zXExAbr4R3bNcTEBuvhHds1xMQG6+Ed2zXExAbr4R3bNcTEBuvhHds1xMQG6+Ed2zXExAbr4R3bNcTEBuvhHds1xMQG6+Ed2zXExAbr4R3bNcTEBuvhHds1xMQPsjDAOW2ExAbr4R3bNcTEBuvhHds1xMQG6+Ed2zXExAbr4R3bNcTEBuvhHds1xMQG6+Ed2zXExAbr4R3bNcTECy1Hq/0eBLQLLUer/R4EtAbr4R3bNcTEBuvhHds1xMQG6+Ed2zXExAbr4R3bNcTEBuvhHds1xMQG6+Ed2zXExAbr4R3bNcTEBuvhHds1xMQG6+Ed2zXExAstR6v9HgS0Cy1Hq/0eBLQG6+Ed2zXExAbr4R3bNcTECy1Hq/0eBLQLLUer/R4EtAbr4R3bNcTECy1Hq/0eBLQLLUer/R4EtAstR6v9HgS0Cy1Hq/0eBLQLLUer/R4EtAstR6v9HgS0Cy1Hq/0eBLQLLUer/R4EtAstR6v9HgS0Cy1Hq/0eBLQLLUer/R4EtAstR6v9HgS0Cy1Hq/0eBLQCZvgJnvZEtAJm+Ame9kS0Cy1Hq/0eBLQCZvgJnvZEtAJm+Ame9kS0Cy1Hq/0eBLQLLUer/R4EtAstR6v9HgS0Cy1Hq/0eBLQLLUer/R4EtAstR6v9HgS0Cy1Hq/0eBLQLLUer/R4EtAstR6v9HgS0Cy1Hq/0eBLQLLUer/R4EtAstR6v9HgS0Cy1Hq/0eBLQLLUer/R4EtAstR6v9HgS0Cy1Hq/0eBLQLLUer/R4EtAstR6v9HgS0Amb4CZ72RLQCZvgJnvZEtAstR6v9HgS0Cy1Hq/0eBLQCZvgJnvZEtAJm+Ame9kS0Amb4CZ72RLQCZvgJnvZEtAJm+Ame9kS0Amb4CZ72RLQCZvgJnvZEtAJm+Ame9kS0Amb4CZ72RLQCZvgJnvZEtAJm+Ame9kS0CaCYZzDelKQJoJhnMN6UpAmgmGcw3pSkCaCYZzDelKQJoJhnMN6UpAmgmGcw3pSkAmb4CZ72RLQCZvgJnvZEtAmgmGcw3pSkAmb4CZ72RLQCZvgJnvZEtAmgmGcw3pSkCaCYZzDelKQJoJhnMN6UpAmgmGcw3pSkCaCYZzDelKQJoJhnMN6UpAmgmGcw3pSkCaCYZzDelKQJoJhnMN6UpAmgmGcw3pSkCaCYZzDelKQJoJhnMN6UpAmgmGcw3pSkCaCYZzDelKQJoJhnMN6UpAmgmGcw3pSkCaCYZzDelKQJoJhnMN6UpAmgmGcw3pSkCaCYZzDelKQCZvgJnvZEtAmgmGcw3pSkCaCYZzDelKQJoJhnMN6UpAmgmGcw3pSkCaCYZzDelKQJoJhnMN6UpAmgmGcw3pSkCaCYZzDelKQJoJhnMN6UpAmgmGcw3pSkCaCYZzDelKQJoJhnMN6UpAmgmGcw3pSkCaCYZzDelKQJoJhnMN6UpAmgmGcw3pSkCaCYZzDelKQJoJhnMN6UpAmgmGcw3pSkCaCYZzDelKQJoJhnMN6UpAmgmGcw3pSkCaCYZzDelKQJoJhnMN6UpAmgmGcw3pSkCaCYZzDelKQJoJhnMN6UpAmgmGcw3pSkCaCYZzDelKQJoJhnMN6UpAmgmGcw3pSkCaCYZzDelKQJoJhnMN6UpAmgmGcw3pSkCaCYZzDelKQJoJhnMN6UpAmgmGcw3pSkCaCYZzDelKQJoJhnMN6UpAmgmGcw3pSkCaCYZzDelKQJoJhnMN6UpAmgmGcw3pSkCaCYZzDelKQJoJhnMN6UpAmgmGcw3pSkCaCYZzDelKQN4f71UrbUpAmgmGcw3pSkCaCYZzDelKQJoJhnMN6UpAmgmGcw3pSkDeH+9VK21KQN4f71UrbUpA3h/vVSttSkDeH+9VK21KQJoJhnMN6UpAmgmGcw3pSkCaCYZzDelKQJoJhnMN6UpA3h/vVSttSkDeH+9VK21KQN4f71UrbUpA3h/vVSttSkDeH+9VK21KQN4f71UrbUpA3h/vVSttSkDeH+9VK21KQN4f71UrbUpA3h/vVSttSkDeH+9VK21KQFK69C9J8UlAUrr0L0nxSUDeH+9VK21KQN4f71UrbUpA3h/vVSttSkDeH+9VK21KQN4f71UrbUpA3h/vVSttSkDeH+9VK21KQN4f71UrbUpA3h/vVSttSkBSuvQvSfFJQN4f71UrbUpA3h/vVSttSkDeH+9VK21KQFK69C9J8UlAUrr0L0nxSUBSuvQvSfFJQFK69C9J8UlAUrr0L0nxSUDeH+9VK21KQN4f71UrbUpAUrr0L0nxSUBSuvQvSfFJQFK69C9J8UlAUrr0L0nxSUBSuvQvSfFJQN4f71UrbUpA3h/vVSttSkBSuvQvSfFJQN4f71UrbUpA3h/vVSttSkBSuvQvSfFJQFK69C9J8UlAUrr0L0nxSUDeH+9VK21KQN4f71UrbUpAUrr0L0nxSUBSuvQvSfFJQFK69C9J8UlAUrr0L0nxSUDFVPoJZ3VJQMVU+glndUlAxVT6CWd1SUBSuvQvSfFJQFK69C9J8UlAUrr0L0nxSUBSuvQvSfFJQFK69C9J8UlAUrr0L0nxSUBSuvQvSfFJQFK69C9J8UlAUrr0L0nxSUBSuvQvSfFJQFK69C9J8UlAUrr0L0nxSUBSuvQvSfFJQMVU+glndUlAxVT6CWd1SUBSuvQvSfFJQFK69C9J8UlAxVT6CWd1SUDFVPoJZ3VJQFK69C9J8UlAUrr0L0nxSUBSuvQvSfFJQFK69C9J8UlAUrr0L0nxSUBSuvQvSfFJQMVU+glndUlAxVT6CWd1SUBSuvQvSfFJQFK69C9J8UlAxVT6CWd1SUDFVPoJZ3VJQMVU+glndUlAxVT6CWd1SUDFVPoJZ3VJQMVU+glndUlAxVT6CWd1SUDFVPoJZ3VJQFK69C9J8UlAUrr0L0nxSUDFVPoJZ3VJQMVU+glndUlAxVT6CWd1SUDFVPoJZ3VJQMVU+glndUlAxVT6CWd1SUDFVPoJZ3VJQMVU+glndUlAxVT6CWd1SUDFVPoJZ3VJQMVU+glndUlAxVT6CWd1SUDFVPoJZ3VJQMVU+glndUlAxVT6CWd1SUDFVPoJZ3VJQMVU+glndUlAxVT6CWd1SUDFVPoJZ3VJQMVU+glndUlAxVT6CWd1SUDFVPoJZ3VJQMVU+glndUlAxVT6CWd1SUDFVPoJZ3VJQMVU+glndUlAxVT6CWd1SUDFVPoJZ3VJQMVU+glndUlAxVT6CWd1SUDFVPoJZ3VJQMVU+glndUlAxVT6CWd1SUDFVPoJZ3VJQMVU+glndUlAxVT6CWd1SUDFVPoJZ3VJQMVU+glndUlAxVT6CWd1SUDFVPoJZ3VJQMVU+glndUlAxVT6CWd1SUDFVPoJZ3VJQMVU+glndUlAxVT6CWd1SUDFVPoJZ3VJQMVU+glndUlAxVT6CWd1SUDFVPoJZ3VJQMVU+glndUlAxVT6CWd1SUDFVPoJZ3VJQMVU+glndUlAxVT6CWd1SUDFVPoJZ3VJQMVU+glndUlAxVT6CWd1SUDFVPoJZ3VJQMVU+glndUlAxVT6CWd1SUDFVPoJZ3VJQMVU+glndUlAOe//44T5SEA57//jhPlIQMVU+glndUlAxVT6CWd1SUDFVPoJZ3VJQMVU+glndUlAxVT6CWd1SUDFVPoJZ3VJQMVU+glndUlAxVT6CWd1SUDFVPoJZ3VJQMVU+glndUlAxVT6CWd1SUDFVPoJZ3VJQMVU+glndUlAxVT6CWd1SUDFVPoJZ3VJQMVU+glndUlAxVT6CWd1SUDFVPoJZ3VJQMVU+glndUlAxVT6CWd1SUA57//jhPlIQMVU+glndUlAxVT6CWd1SUDFVPoJZ3VJQMVU+glndUlAxVT6CWd1SUDFVPoJZ3VJQMVU+glndUlAxVT6CWd1SUDFVPoJZ3VJQMVU+glndUlAxVT6CWd1SUDFVPoJZ3VJQMVU+glndUlAxVT6CWd1SUDFVPoJZ3VJQDnv/+OE+UhAOe//44T5SEDFVPoJZ3VJQMVU+glndUlAOe//44T5SEA57//jhPlIQDnv/+OE+UhAOe//44T5SEDFVPoJZ3VJQMVU+glndUlAxVT6CWd1SUDFVPoJZ3VJQMVU+glndUlAxVT6CWd1SUDFVPoJZ3VJQMVU+glndUlAxVT6CWd1SUDFVPoJZ3VJQMVU+glndUlAxVT6CWd1SUDFVPoJZ3VJQMVU+glndUlAxVT6CWd1SUDFVPoJZ3VJQMVU+glndUlAOe//44T5SEDFVPoJZ3VJQMVU+glndUlAOe//44T5SEA57//jhPlIQDnv/+OE+UhAOe//44T5SEA57//jhPlIQDnv/+OE+UhAxVT6CWd1SUDFVPoJZ3VJQMVU+glndUlAxVT6CWd1SUA57//jhPlIQDnv/+OE+UhAxVT6CWd1SUDFVPoJZ3VJQMVU+glndUlAxVT6CWd1SUA57//jhPlIQDnv/+OE+UhAxVT6CWd1SUDFVPoJZ3VJQMVU+glndUlAOe//44T5SEA57//jhPlIQDnv/+OE+UhAOe//44T5SEA57//jhPlIQDnv/+OE+UhAOe//44T5SEA57//jhPlIQDnv/+OE+UhAxVT6CWd1SUDFVPoJZ3VJQMVU+glndUlAxVT6CWd1SUDFVPoJZ3VJQDnv/+OE+UhAOe//44T5SEA57//jhPlIQDnv/+OE+UhAOe//44T5SEA57//jhPlIQDnv/+OE+UhAOe//44T5SEA57//jhPlIQDnv/+OE+UhAOe//44T5SEA57//jhPlIQDnv/+OE+UhAxVT6CWd1SUDFVPoJZ3VJQMVU+glndUlAxVT6CWd1SUA57//jhPlIQDnv/+OE+UhAOe//44T5SEA57//jhPlIQDnv/+OE+UhAOe//44T5SEA57//jhPlIQMVU+glndUlAxVT6CWd1SUA57//jhPlIQDnv/+OE+UhAOe//44T5SEA57//jhPlIQDnv/+OE+UhAxVT6CWd1SUDFVPoJZ3VJQDnv/+OE+UhAOe//44T5SEA57//jhPlIQDnv/+OE+UhAOe//44T5SEA57//jhPlIQDnv/+OE+UhAOe//44T5SEA57//jhPlIQDnv/+OE+UhAOe//44T5SEA57//jhPlIQDnv/+OE+UhAOe//44T5SEA57//jhPlIQDnv/+OE+UhAOe//44T5SEA57//jhPlIQDnv/+OE+UhAOe//44T5SEA57//jhPlIQDnv/+OE+UhAOe//44T5SEA57//jhPlIQDnv/+OE+UhAOe//44T5SEA57//jhPlIQDnv/+OE+UhAOe//44T5SEA57//jhPlIQDnv/+OE+UhAOe//44T5SEA57//jhPlIQDnv/+OE+UhAOe//44T5SEA57//jhPlIQDnv/+OE+UhAOe//44T5SEA57//jhPlIQDnv/+OE+UhAOe//44T5SEB9BWnGon1IQDnv/+OE+UhAfQVpxqJ9SEB9BWnGon1IQDnv/+OE+UhAOe//44T5SEB9BWnGon1IQDnv/+OE+UhAOe//44T5SEA57//jhPlIQDnv/+OE+UhAOe//44T5SEA57//jhPlIQDnv/+OE+UhAOe//44T5SEA57//jhPlIQDnv/+OE+UhAOe//44T5SEA57//jhPlIQDnv/+OE+UhAfQVpxqJ9SEB9BWnGon1IQH0FacaifUhAfQVpxqJ9SEB9BWnGon1IQH0FacaifUhAOe//44T5SEA57//jhPlIQH0FacaifUhAfQVpxqJ9SEB9BWnGon1IQH0FacaifUhAfQVpxqJ9SEB9BWnGon1IQH0FacaifUhAfQVpxqJ9SEB9BWnGon1IQH0FacaifUhAfQVpxqJ9SEB9BWnGon1IQH0FacaifUhAfQVpxqJ9SEB9BWnGon1IQH0FacaifUhAfQVpxqJ9SEB9BWnGon1IQH0FacaifUhAfQVpxqJ9SEB9BWnGon1IQH0FacaifUhAfQVpxqJ9SEB9BWnGon1IQH0FacaifUhAfQVpxqJ9SEB9BWnGon1IQH0FacaifUhAfQVpxqJ9SEB9BWnGon1IQH0FacaifUhAfQVpxqJ9SEB9BWnGon1IQH0FacaifUhAfQVpxqJ9SEB9BWnGon1IQDnv/+OE+UhAOe//44T5SEB9BWnGon1IQH0FacaifUhAfQVpxqJ9SEB9BWnGon1IQH0FacaifUhAfQVpxqJ9SEB9BWnGon1IQH0FacaifUhAfQVpxqJ9SEB9BWnGon1IQH0FacaifUhAfQVpxqJ9SEB9BWnGon1IQH0FacaifUhAfQVpxqJ9SEB9BWnGon1IQH0FacaifUhAfQVpxqJ9SEB9BWnGon1IQH0FacaifUhAfQVpxqJ9SEB9BWnGon1IQH0FacaifUhAfQVpxqJ9SEB9BWnGon1IQH0FacaifUhAfQVpxqJ9SEB9BWnGon1IQH0FacaifUhAfQVpxqJ9SEB9BWnGon1IQH0FacaifUhAfQVpxqJ9SEB9BWnGon1IQH0FacaifUhAfQVpxqJ9SEB9BWnGon1IQH0FacaifUhAfQVpxqJ9SEB9BWnGon1IQH0FacaifUhAfQVpxqJ9SEB9BWnGon1IQH0FacaifUhAfQVpxqJ9SEB9BWnGon1IQH0FacaifUhAfQVpxqJ9SEB9BWnGon1IQH0FacaifUhAfQVpxqJ9SEB9BWnGon1IQH0FacaifUhAfQVpxqJ9SEB9BWnGon1IQH0FacaifUhA8Z9uoMABSEB9BWnGon1IQH0FacaifUhAfQVpxqJ9SEB9BWnGon1IQH0FacaifUhAfQVpxqJ9SEB9BWnGon1IQH0FacaifUhAfQVpxqJ9SEB9BWnGon1IQH0FacaifUhAfQVpxqJ9SEB9BWnGon1IQH0FacaifUhAfQVpxqJ9SEDxn26gwAFIQPGfbqDAAUhAfQVpxqJ9SEB9BWnGon1IQH0FacaifUhAfQVpxqJ9SEDxn26gwAFIQH0FacaifUhAfQVpxqJ9SEB9BWnGon1IQH0FacaifUhAfQVpxqJ9SEB9BWnGon1IQPGfbqDAAUhA8Z9uoMABSEDxn26gwAFIQPGfbqDAAUhA8Z9uoMABSEDxn26gwAFIQPGfbqDAAUhA8Z9uoMABSEDxn26gwAFIQPGfbqDAAUhA8Z9uoMABSEDxn26gwAFIQPGfbqDAAUhA8Z9uoMABSEDxn26gwAFIQPGfbqDAAUhA8Z9uoMABSEDxn26gwAFIQH0FacaifUhAfQVpxqJ9SEB9BWnGon1IQH0FacaifUhAfQVpxqJ9SEB9BWnGon1IQH0FacaifUhA8Z9uoMABSEDxn26gwAFIQPGfbqDAAUhA8Z9uoMABSEDxn26gwAFIQPGfbqDAAUhA8Z9uoMABSEDxn26gwAFIQPGfbqDAAUhA8Z9uoMABSEDxn26gwAFIQPGfbqDAAUhA8Z9uoMABSEDxn26gwAFIQPGfbqDAAUhA8Z9uoMABSEDxn26gwAFIQPGfbqDAAUhA8Z9uoMABSEDxn26gwAFIQPGfbqDAAUhA8Z9uoMABSEDxn26gwAFIQPGfbqDAAUhA8Z9uoMABSEDxn26gwAFIQPGfbqDAAUhA8Z9uoMABSEDxn26gwAFIQPGfbqDAAUhA8Z9uoMABSEDxn26gwAFIQPGfbqDAAUhA8Z9uoMABSEDxn26gwAFIQPGfbqDAAUhA8Z9uoMABSEDxn26gwAFIQPGfbqDAAUhA8Z9uoMABSEDxn26gwAFIQPGfbqDAAUhA8Z9uoMABSEDxn26gwAFIQPGfbqDAAUhA8Z9uoMABSEDxn26gwAFIQPGfbqDAAUhA8Z9uoMABSEDxn26gwAFIQPGfbqDAAUhA8Z9uoMABSEDxn26gwAFIQPGfbqDAAUhA8Z9uoMABSEDxn26gwAFIQPGfbqDAAUhA8Z9uoMABSEDxn26gwAFIQPGfbqDAAUhA8Z9uoMABSEDxn26gwAFIQPGfbqDAAUhA8Z9uoMABSEDxn26gwAFIQPGfbqDAAUhA8Z9uoMABSEDxn26gwAFIQPGfbqDAAUhA8Z9uoMABSEDxn26gwAFIQPGfbqDAAUhA8Z9uoMABSEDxn26gwAFIQPGfbqDAAUhA8Z9uoMABSEDxn26gwAFIQPGfbqDAAUhA8Z9uoMABSEDxn26gwAFIQPGfbqDAAUhA8Z9uoMABSEDxn26gwAFIQPGfbqDAAUhA8Z9uoMABSEDxn26gwAFIQPGfbqDAAUhAZDp0et6FR0Dxn26gwAFIQPGfbqDAAUhA8Z9uoMABSEBkOnR63oVHQGQ6dHrehUdA8Z9uoMABSEDxn26gwAFIQGQ6dHrehUdAZDp0et6FR0Dxn26gwAFIQPGfbqDAAUhA8Z9uoMABSEDxn26gwAFIQPGfbqDAAUhA8Z9uoMABSEDxn26gwAFIQGQ6dHrehUdAZDp0et6FR0BkOnR63oVHQPGfbqDAAUhA8Z9uoMABSEDxn26gwAFIQPGfbqDAAUhA8Z9uoMABSEDxn26gwAFIQPGfbqDAAUhA8Z9uoMABSEDxn26gwAFIQPGfbqDAAUhA8Z9uoMABSEDxn26gwAFIQPGfbqDAAUhAZDp0et6FR0BkOnR63oVHQGQ6dHrehUdAZDp0et6FR0BkOnR63oVHQGQ6dHrehUdAZDp0et6FR0BkOnR63oVHQGQ6dHrehUdA8Z9uoMABSEDxn26gwAFIQPGfbqDAAUhA8Z9uoMABSEDxn26gwAFIQPGfbqDAAUhA8Z9uoMABSEDxn26gwAFIQPGfbqDAAUhA8Z9uoMABSEBkOnR63oVHQGQ6dHrehUdAZDp0et6FR0BkOnR63oVHQPGfbqDAAUhA8Z9uoMABSEDxn26gwAFIQGQ6dHrehUdAZDp0et6FR0BkOnR63oVHQGQ6dHrehUdAZDp0et6FR0BkOnR63oVHQGQ6dHrehUdAZDp0et6FR0BkOnR63oVHQGQ6dHrehUdAZDp0et6FR0BkOnR63oVHQGQ6dHrehUdAZDp0et6FR0BkOnR63oVHQGQ6dHrehUdAZDp0et6FR0BkOnR63oVHQGQ6dHrehUdAZDp0et6FR0BkOnR63oVHQGQ6dHrehUdAZDp0et6FR0BkOnR63oVHQPGfbqDAAUhA8Z9uoMABSEDxn26gwAFIQPGfbqDAAUhA8Z9uoMABSEBkOnR63oVHQGQ6dHrehUdAZDp0et6FR0BkOnR63oVHQGQ6dHrehUdAZDp0et6FR0BkOnR63oVHQGQ6dHrehUdAZDp0et6FR0BkOnR63oVHQGQ6dHrehUdAZDp0et6FR0BkOnR63oVHQGQ6dHrehUdAZDp0et6FR0BkOnR63oVHQGQ6dHrehUdAZDp0et6FR0BkOnR63oVHQGQ6dHrehUdAqVDdXPwJR0CpUN1c/AlHQGQ6dHrehUdAZDp0et6FR0BkOnR63oVHQGQ6dHrehUdAZDp0et6FR0BkOnR63oVHQKlQ3Vz8CUdAqVDdXPwJR0CpUN1c/AlHQGQ6dHrehUdAZDp0et6FR0BkOnR63oVHQGQ6dHrehUdAZDp0et6FR0CpUN1c/AlHQKlQ3Vz8CUdAqVDdXPwJR0CpUN1c/AlHQKlQ3Vz8CUdAqVDdXPwJR0CpUN1c/AlHQKlQ3Vz8CUdAqVDdXPwJR0CpUN1c/AlHQKlQ3Vz8CUdAqVDdXPwJR0CpUN1c/AlHQKlQ3Vz8CUdAqVDdXPwJR0CpUN1c/AlHQKlQ3Vz8CUdAqVDdXPwJR0CpUN1c/AlHQKlQ3Vz8CUdAqVDdXPwJR0CpUN1c/AlHQKlQ3Vz8CUdAqVDdXPwJR0CpUN1c/AlHQKlQ3Vz8CUdAqVDdXPwJR0CpUN1c/AlHQKlQ3Vz8CUdAqVDdXPwJR0CpUN1c/AlHQKlQ3Vz8CUdAqVDdXPwJR0CpUN1c/AlHQKlQ3Vz8CUdAqVDdXPwJR0CpUN1c/AlHQKlQ3Vz8CUdAqVDdXPwJR0CpUN1c/AlHQKlQ3Vz8CUdAqVDdXPwJR0CpUN1c/AlHQKlQ3Vz8CUdAqVDdXPwJR0CpUN1c/AlHQKlQ3Vz8CUdAqVDdXPwJR0CpUN1c/AlHQKlQ3Vz8CUdAqVDdXPwJR0CpUN1c/AlHQKlQ3Vz8CUdAqVDdXPwJR0CpUN1c/AlHQKlQ3Vz8CUdAqVDdXPwJR0CpUN1c/AlHQKlQ3Vz8CUdAqVDdXPwJR0CpUN1c/AlHQKlQ3Vz8CUdAqVDdXPwJR0CpUN1c/AlHQKlQ3Vz8CUdAqVDdXPwJR0CpUN1c/AlHQKlQ3Vz8CUdAqVDdXPwJR0CpUN1c/AlHQKlQ3Vz8CUdAqVDdXPwJR0CpUN1c/AlHQKlQ3Vz8CUdAqVDdXPwJR0CpUN1c/AlHQKlQ3Vz8CUdAqVDdXPwJR0CpUN1c/AlHQKlQ3Vz8CUdAqVDdXPwJR0CpUN1c/AlHQKlQ3Vz8CUdAqVDdXPwJR0CpUN1c/AlHQKlQ3Vz8CUdAqVDdXPwJR0CpUN1c/AlHQKlQ3Vz8CUdAqVDdXPwJR0CpUN1c/AlHQKlQ3Vz8CUdAqVDdXPwJR0CpUN1c/AlHQKlQ3Vz8CUdAqVDdXPwJR0CpUN1c/AlHQKlQ3Vz8CUdAqVDdXPwJR0CpUN1c/AlHQKlQ3Vz8CUdAqVDdXPwJR0CpUN1c/AlHQKlQ3Vz8CUdAqVDdXPwJR0CpUN1c/AlHQKlQ3Vz8CUdAqVDdXPwJR0CpUN1c/AlHQKlQ3Vz8CUdAqVDdXPwJR0CpUN1c/AlHQKlQ3Vz8CUdAqVDdXPwJR0Ac6+I2Go5GQBzr4jYajkZAqVDdXPwJR0CpUN1c/AlHQKlQ3Vz8CUdAqVDdXPwJR0CpUN1c/AlHQKlQ3Vz8CUdAqVDdXPwJR0CpUN1c/AlHQKlQ3Vz8CUdAqVDdXPwJR0Ac6+I2Go5GQBzr4jYajkZAqVDdXPwJR0CpUN1c/AlHQKlQ3Vz8CUdAHOviNhqORkAc6+I2Go5GQBzr4jYajkZAqVDdXPwJR0CpUN1c/AlHQKlQ3Vz8CUdAqVDdXPwJR0CpUN1c/AlHQKlQ3Vz8CUdAqVDdXPwJR0CpUN1c/AlHQKlQ3Vz8CUdAqVDdXPwJR0CpUN1c/AlHQBzr4jYajkZAHOviNhqORkAc6+I2Go5GQBzr4jYajkZAqVDdXPwJR0CpUN1c/AlHQKlQ3Vz8CUdAqVDdXPwJR0CpUN1c/AlHQKlQ3Vz8CUdAqVDdXPwJR0Ac6+I2Go5GQBzr4jYajkZAqVDdXPwJR0CpUN1c/AlHQKlQ3Vz8CUdAHOviNhqORkAc6+I2Go5GQKlQ3Vz8CUdAqVDdXPwJR0CpUN1c/AlHQKlQ3Vz8CUdAqVDdXPwJR0CpUN1c/AlHQKlQ3Vz8CUdAqVDdXPwJR0CpUN1c/AlHQBzr4jYajkZAHOviNhqORkAc6+I2Go5GQBzr4jYajkZAHOviNhqORkAc6+I2Go5GQBzr4jYajkZAHOviNhqORkCpUN1c/AlHQKlQ3Vz8CUdAqVDdXPwJR0CpUN1c/AlHQBzr4jYajkZAHOviNhqORkAc6+I2Go5GQBzr4jYajkZAHOviNhqORkAc6+I2Go5GQBzr4jYajkZAHOviNhqORkAc6+I2Go5GQBzr4jYajkZAqVDdXPwJR0Ac6+I2Go5GQKlQ3Vz8CUdAqVDdXPwJR0Ac6+I2Go5GQBzr4jYajkZAHOviNhqORkAc6+I2Go5GQBzr4jYajkZAHOviNhqORkAc6+I2Go5GQBzr4jYajkZAHOviNhqORkAc6+I2Go5GQBzr4jYajkZAHOviNhqORkAc6+I2Go5GQBzr4jYajkZAqVDdXPwJR0CpUN1c/AlHQBzr4jYajkZAHOviNhqORkCpUN1c/AlHQBzr4jYajkZAHOviNhqORkCpUN1c/AlHQKlQ3Vz8CUdAqVDdXPwJR0CpUN1c/AlHQKlQ3Vz8CUdAqVDdXPwJR0Ac6+I2Go5GQBzr4jYajkZAqVDdXPwJR0CpUN1c/AlHQBzr4jYajkZAHOviNhqORkAc6+I2Go5GQBzr4jYajkZAHOviNhqORkAc6+I2Go5GQBzr4jYajkZAqVDdXPwJR0CpUN1c/AlHQKlQ3Vz8CUdAHOviNhqORkAc6+I2Go5GQBzr4jYajkZAHOviNhqORkAc6+I2Go5GQBzr4jYajkZAHOviNhqORkAc6+I2Go5GQBzr4jYajkZAHOviNhqORkAc6+I2Go5GQBzr4jYajkZAHOviNhqORkAc6+I2Go5GQBzr4jYajkZAHOviNhqORkAc6+I2Go5GQBzr4jYajkZAHOviNhqORkAc6+I2Go5GQBzr4jYajkZAHOviNhqORkCpUN1c/AlHQKlQ3Vz8CUdAHOviNhqORkAc6+I2Go5GQBzr4jYajkZAHOviNhqORkAc6+I2Go5GQBzr4jYajkZAHOviNhqORkAc6+I2Go5GQBzr4jYajkZAHOviNhqORkAc6+I2Go5GQBzr4jYajkZAHOviNhqORkAc6+I2Go5GQBzr4jYajkZAHOviNhqORkAc6+I2Go5GQBzr4jYajkZAHOviNhqORkCpUN1c/AlHQKlQ3Vz8CUdAHOviNhqORkAc6+I2Go5GQBzr4jYajkZAHOviNhqORkAc6+I2Go5GQBzr4jYajkZAHOviNhqORkAc6+I2Go5GQBzr4jYajkZAHOviNhqORkAc6+I2Go5GQKlQ3Vz8CUdAqVDdXPwJR0Ac6+I2Go5GQBzr4jYajkZAHOviNhqORkCpUN1c/AlHQBzr4jYajkZAqVDdXPwJR0CpUN1c/AlHQBzr4jYajkZAHOviNhqORkAc6+I2Go5GQBzr4jYajkZAHOviNhqORkAc6+I2Go5GQBzr4jYajkZAHOviNhqORkAc6+I2Go5GQBzr4jYajkZAHOviNhqORkAc6+I2Go5GQBzr4jYajkZAHOviNhqORkAc6+I2Go5GQBzr4jYajkZAHOviNhqORkAc6+I2Go5GQBzr4jYajkZAHOviNhqORkAc6+I2Go5GQBzr4jYajkZAHOviNhqORkAc6+I2Go5GQBzr4jYajkZAHOviNhqORkAc6+I2Go5GQKlQ3Vz8CUdAqVDdXPwJR0Ac6+I2Go5GQBzr4jYajkZAHOviNhqORkAc6+I2Go5GQBzr4jYajkZAHOviNhqORkAc6+I2Go5GQBzr4jYajkZAHOviNhqORkAc6+I2Go5GQBzr4jYajkZAHOviNhqORkAc6+I2Go5GQKlQ3Vz8CUdAqVDdXPwJR0CpUN1c/AlHQBzr4jYajkZAHOviNhqORkAc6+I2Go5GQBzr4jYajkZAHOviNhqORkAc6+I2Go5GQBzr4jYajkZAHOviNhqORkAc6+I2Go5GQBzr4jYajkZAHOviNhqORkAc6+I2Go5GQBzr4jYajkZAHOviNhqORkAc6+I2Go5GQBzr4jYajkZAHOviNhqORkAc6+I2Go5GQKlQ3Vz8CUdAqVDdXPwJR0CpUN1c/AlHQKlQ3Vz8CUdAqVDdXPwJR0CpUN1c/AlHQKlQ3Vz8CUdAHOviNhqORkAc6+I2Go5GQBzr4jYajkZAHOviNhqORkAc6+I2Go5GQBzr4jYajkZAHOviNhqORkAc6+I2Go5GQBzr4jYajkZAHOviNhqORkAc6+I2Go5GQBzr4jYajkZAHOviNhqORkAc6+I2Go5GQBzr4jYajkZAHOviNhqORkAc6+I2Go5GQBzr4jYajkZAHOviNhqORkAc6+I2Go5GQBzr4jYajkZAHOviNhqORkAc6+I2Go5GQBzr4jYajkZAHOviNhqORkAc6+I2Go5GQBzr4jYajkZAHOviNhqORkAc6+I2Go5GQKlQ3Vz8CUdAqVDdXPwJR0CpUN1c/AlHQKlQ3Vz8CUdAHOviNhqORkCpUN1c/AlHQKlQ3Vz8CUdAHOviNhqORkAc6+I2Go5GQBzr4jYajkZAHOviNhqORkAc6+I2Go5GQBzr4jYajkZAHOviNhqORkAc6+I2Go5GQBzr4jYajkZAHOviNhqORkAc6+I2Go5GQBzr4jYajkZAHOviNhqORkAc6+I2Go5GQBzr4jYajkZAHOviNhqORkAc6+I2Go5GQBzr4jYajkZAHOviNhqORkAc6+I2Go5GQKlQ3Vz8CUdAqVDdXPwJR0Ac6+I2Go5GQBzr4jYajkZAHOviNhqORkAc6+I2Go5GQBzr4jYajkZAHOviNhqORkAc6+I2Go5GQBzr4jYajkZAHOviNhqORkAc6+I2Go5GQBzr4jYajkZAHOviNhqORkAc6+I2Go5GQBzr4jYajkZAHOviNhqORkAc6+I2Go5GQBzr4jYajkZAHOviNhqORkAc6+I2Go5GQBzr4jYajkZAHOviNhqORkAc6+I2Go5GQBzr4jYajkZAHOviNhqORkAc6+I2Go5GQBzr4jYajkZAHOviNhqORkAc6+I2Go5GQBzr4jYajkZAHOviNhqORkAc6+I2Go5GQBzr4jYajkZAqVDdXPwJR0CpUN1c/AlHQKlQ3Vz8CUdAqVDdXPwJR0CpUN1c/AlHQBzr4jYajkZAHOviNhqORkAc6+I2Go5GQBzr4jYajkZAHOviNhqORkAc6+I2Go5GQBzr4jYajkZAHOviNhqORkAc6+I2Go5GQBzr4jYajkZAHOviNhqORkAc6+I2Go5GQBzr4jYajkZAHOviNhqORkAc6+I2Go5GQBzr4jYajkZAHOviNhqORkAc6+I2Go5GQBzr4jYajkZAHOviNhqORkAc6+I2Go5GQBzr4jYajkZAHOviNhqORkAc6+I2Go5GQBzr4jYajkZAHOviNhqORkAc6+I2Go5GQBzr4jYajkZAHOviNhqORkAc6+I2Go5GQBzr4jYajkZAHOviNhqORkAc6+I2Go5GQBzr4jYajkZAHOviNhqORkCpUN1c/AlHQKlQ3Vz8CUdAqVDdXPwJR0CpUN1c/AlHQBzr4jYajkZAHOviNhqORkAc6+I2Go5GQBzr4jYajkZAHOviNhqORkAc6+I2Go5GQBzr4jYajkZAHOviNhqORkAc6+I2Go5GQBzr4jYajkZAHOviNhqORkAc6+I2Go5GQBzr4jYajkZAHOviNhqORkAc6+I2Go5GQBzr4jYajkZAHOviNhqORkAc6+I2Go5GQBzr4jYajkZAHOviNhqORkAc6+I2Go5GQBzr4jYajkZAHOviNhqORkAc6+I2Go5GQBzr4jYajkZAHOviNhqORkAc6+I2Go5GQBzr4jYajkZAqVDdXPwJR0CpUN1c/AlHQBzr4jYajkZAHOviNhqORkAc6+I2Go5GQBzr4jYajkZAHOviNhqORkAc6+I2Go5GQBzr4jYajkZAHOviNhqORkAc6+I2Go5GQBzr4jYajkZAHOviNhqORkAc6+I2Go5GQBzr4jYajkZAHOviNhqORkAc6+I2Go5GQKlQ3Vz8CUdAqVDdXPwJR0CpUN1c/AlHQBzr4jYajkZAqVDdXPwJR0CpUN1c/AlHQBzr4jYajkZAHOviNhqORkAc6+I2Go5GQBzr4jYajkZAHOviNhqORkAc6+I2Go5GQBzr4jYajkZAHOviNhqORkCpUN1c/AlHQKlQ3Vz8CUdAHOviNhqORkAc6+I2Go5GQBzr4jYajkZAqVDdXPwJR0CpUN1c/AlHQBzr4jYajkZAHOviNhqORkAc6+I2Go5GQBzr4jYajkZAHOviNhqORkAc6+I2Go5GQBzr4jYajkZAHOviNhqORkAc6+I2Go5GQBzr4jYajkZAHOviNhqORkAc6+I2Go5GQBzr4jYajkZAHOviNhqORkAc6+I2Go5GQBzr4jYajkZAHOviNhqORkAc6+I2Go5GQKlQ3Vz8CUdAHOviNhqORkAc6+I2Go5GQBzr4jYajkZAHOviNhqORkAc6+I2Go5GQBzr4jYajkZAHOviNhqORkAc6+I2Go5GQBzr4jYajkZAHOviNhqORkAc6+I2Go5GQBzr4jYajkZAHOviNhqORkAc6+I2Go5GQBzr4jYajkZAHOviNhqORkAc6+I2Go5GQBzr4jYajkZAHOviNhqORkAc6+I2Go5GQBzr4jYajkZAHOviNhqORkCpUN1c/AlHQKlQ3Vz8CUdAqVDdXPwJR0CpUN1c/AlHQBzr4jYajkZAHOviNhqORkAc6+I2Go5GQBzr4jYajkZAHOviNhqORkAc6+I2Go5GQBzr4jYajkZAHOviNhqORkAc6+I2Go5GQBzr4jYajkZAHOviNhqORkAc6+I2Go5GQBzr4jYajkZAHOviNhqORkAc6+I2Go5GQBzr4jYajkZAHOviNhqORkAc6+I2Go5GQBzr4jYajkZAHOviNhqORkAc6+I2Go5GQBzr4jYajkZAHOviNhqORkAc6+I2Go5GQBzr4jYajkZAHOviNhqORkCpUN1c/AlHQKlQ3Vz8CUdAHOviNhqORkAc6+I2Go5GQBzr4jYajkZAHOviNhqORkAc6+I2Go5GQBzr4jYajkZAHOviNhqORkAc6+I2Go5GQBzr4jYajkZAHOviNhqORkAc6+I2Go5GQBzr4jYajkZAHOviNhqORkAc6+I2Go5GQBzr4jYajkZAHOviNhqORkAc6+I2Go5GQBzr4jYajkZAHOviNhqORkAc6+I2Go5GQBzr4jYajkZAHOviNhqORkAc6+I2Go5GQBzr4jYajkZAHOviNhqORkAc6+I2Go5GQBzr4jYajkZAHOviNhqORkAc6+I2Go5GQBzr4jYajkZAHOviNhqORkAc6+I2Go5GQBzr4jYajkZAHOviNhqORkAc6+I2Go5GQBzr4jYajkZAHOviNhqORkAc6+I2Go5GQBzr4jYajkZABCDu6lWWRUAEIO7qVZZFQAQg7upVlkVABCDu6lWWRUAc6+I2Go5GQBzr4jYajkZAHOviNhqORkAc6+I2Go5GQBzr4jYajkZAHOviNhqORkAc6+I2Go5GQBzr4jYajkZAHOviNhqORkAc6+I2Go5GQBzr4jYajkZAHOviNhqORkAc6+I2Go5GQBzr4jYajkZAHOviNhqORkAc6+I2Go5GQBzr4jYajkZAHOviNhqORkAc6+I2Go5GQBzr4jYajkZAHOviNhqORkAc6+I2Go5GQBzr4jYajkZAHOviNhqORkAEIO7qVZZFQAQg7upVlkVAHOviNhqORkAc6+I2Go5GQBzr4jYajkZAHOviNhqORkAc6+I2Go5GQBzr4jYajkZAHOviNhqORkAc6+I2Go5GQBzr4jYajkZAHOviNhqORkAc6+I2Go5GQBzr4jYajkZAHOviNhqORkAc6+I2Go5GQBzr4jYajkZAHOviNhqORkAc6+I2Go5GQBzr4jYajkZAHOviNhqORkAc6+I2Go5GQBzr4jYajkZAHOviNhqORkAc6+I2Go5GQBzr4jYajkZABCDu6lWWRUAc6+I2Go5GQBzr4jYajkZAHOviNhqORkAc6+I2Go5GQBzr4jYajkZAHOviNhqORkAc6+I2Go5GQBzr4jYajkZAHOviNhqORkAc6+I2Go5GQBzr4jYajkZAHOviNhqORkAc6+I2Go5GQBzr4jYajkZAHOviNhqORkAEIO7qVZZFQAQg7upVlkVAHOviNhqORkAc6+I2Go5GQBzr4jYajkZAHOviNhqORkAc6+I2Go5GQBzr4jYajkZAHOviNhqORkAc6+I2Go5GQBzr4jYajkZABCDu6lWWRUAEIO7qVZZFQBzr4jYajkZAHOviNhqORkAc6+I2Go5GQBzr4jYajkZABCDu6lWWRUAEIO7qVZZFQAQg7upVlkVAHOviNhqORkAc6+I2Go5GQAQg7upVlkVABCDu6lWWRUAc6+I2Go5GQBzr4jYajkZAHOviNhqORkAc6+I2Go5GQAQg7upVlkVABCDu6lWWRUAc6+I2Go5GQBzr4jYajkZAHOviNhqORkAc6+I2Go5GQBzr4jYajkZAHOviNhqORkAEIO7qVZZFQAQg7upVlkVABCDu6lWWRUAEIO7qVZZFQAQg7upVlkVAHOviNhqORkAc6+I2Go5GQAQg7upVlkVABCDu6lWWRUAEIO7qVZZFQAQg7upVlkVAHOviNhqORkAc6+I2Go5GQAQg7upVlkVABCDu6lWWRUAc6+I2Go5GQBzr4jYajkZAHOviNhqORkAc6+I2Go5GQBzr4jYajkZAHOviNhqORkAc6+I2Go5GQAQg7upVlkVABCDu6lWWRUAc6+I2Go5GQBzr4jYajkZAHOviNhqORkAc6+I2Go5GQAQg7upVlkVABCDu6lWWRUAEIO7qVZZFQAQg7upVlkVAHOviNhqORkAc6+I2Go5GQAQg7upVlkVABCDu6lWWRUAEIO7qVZZFQAQg7upVlkVABCDu6lWWRUAEIO7qVZZFQBzr4jYajkZAHOviNhqORkAc6+I2Go5GQBzr4jYajkZAHOviNhqORkAc6+I2Go5GQBzr4jYajkZAHOviNhqORkAc6+I2Go5GQBzr4jYajkZAHOviNhqORkAc6+I2Go5GQAQg7upVlkVABCDu6lWWRUAEIO7qVZZFQAQg7upVlkVABCDu6lWWRUAEIO7qVZZFQBzr4jYajkZAHOviNhqORkAc6+I2Go5GQBzr4jYajkZAHOviNhqORkAc6+I2Go5GQBzr4jYajkZAHOviNhqORkAc6+I2Go5GQBzr4jYajkZAHOviNhqORkAc6+I2Go5GQBzr4jYajkZABCDu6lWWRUAEIO7qVZZFQBzr4jYajkZAHOviNhqORkAc6+I2Go5GQBzr4jYajkZAHOviNhqORkAc6+I2Go5GQBzr4jYajkZAHOviNhqORkAc6+I2Go5GQBzr4jYajkZAHOviNhqORkAc6+I2Go5GQBzr4jYajkZAHOviNhqORkAc6+I2Go5GQBzr4jYajkZAHOviNhqORkAEIO7qVZZFQAQg7upVlkVABCDu6lWWRUAEIO7qVZZFQAQg7upVlkVABCDu6lWWRUAEIO7qVZZFQAQg7upVlkVABCDu6lWWRUAEIO7qVZZFQAQg7upVlkVAHOviNhqORkAc6+I2Go5GQAQg7upVlkVABCDu6lWWRUAc6+I2Go5GQBzr4jYajkZAHOviNhqORkAc6+I2Go5GQBzr4jYajkZAHOviNhqORkAEIO7qVZZFQBzr4jYajkZAHOviNhqORkAc6+I2Go5GQBzr4jYajkZABCDu6lWWRUAEIO7qVZZFQAQg7upVlkVAHOviNhqORkAc6+I2Go5GQBzr4jYajkZAHOviNhqORkAc6+I2Go5GQAQg7upVlkVABCDu6lWWRUAEIO7qVZZFQAQg7upVlkVABCDu6lWWRUAc6+I2Go5GQBzr4jYajkZAHOviNhqORkAc6+I2Go5GQBzr4jYajkZABCDu6lWWRUAEIO7qVZZFQBzr4jYajkZAHOviNhqORkAc6+I2Go5GQAQg7upVlkVABCDu6lWWRUAEIO7qVZZFQAQg7upVlkVAHOviNhqORkAc6+I2Go5GQAQg7upVlkVABCDu6lWWRUAEIO7qVZZFQAQg7upVlkVAHOviNhqORkAc6+I2Go5GQBzr4jYajkZAHOviNhqORkAEIO7qVZZFQAQg7upVlkVABCDu6lWWRUAEIO7qVZZFQBzr4jYajkZAHOviNhqORkAc6+I2Go5GQBzr4jYajkZAHOviNhqORkAEIO7qVZZFQAQg7upVlkVAHOviNhqORkAc6+I2Go5GQBzr4jYajkZAHOviNhqORkAEIO7qVZZFQAQg7upVlkVAHOviNhqORkAc6+I2Go5GQBzr4jYajkZAHOviNhqORkAc6+I2Go5GQBzr4jYajkZABCDu6lWWRUAEIO7qVZZFQBzr4jYajkZAHOviNhqORkAc6+I2Go5GQBzr4jYajkZAHOviNhqORkAc6+I2Go5GQBzr4jYajkZAHOviNhqORkAc6+I2Go5GQBzr4jYajkZAHOviNhqORkAc6+I2Go5GQAQg7upVlkVABCDu6lWWRUAEIO7qVZZFQBzr4jYajkZAHOviNhqORkAc6+I2Go5GQBzr4jYajkZAHOviNhqORkAEIO7qVZZFQAQg7upVlkVABCDu6lWWRUAc6+I2Go5GQBzr4jYajkZAHOviNhqORkAc6+I2Go5GQBzr4jYajkZABCDu6lWWRUAEIO7qVZZFQBzr4jYajkZAHOviNhqORkAc6+I2Go5GQBzr4jYajkZAHOviNhqORkAc6+I2Go5GQAQg7upVlkVABCDu6lWWRUAEIO7qVZZFQBzr4jYajkZAHOviNhqORkAc6+I2Go5GQBzr4jYajkZAHOviNhqORkAc6+I2Go5GQBzr4jYajkZAHOviNhqORkAEIO7qVZZFQAQg7upVlkVAHOviNhqORkAc6+I2Go5GQAQg7upVlkVAHOviNhqORkAc6+I2Go5GQBzr4jYajkZAHOviNhqORkAc6+I2Go5GQBzr4jYajkZAHOviNhqORkAc6+I2Go5GQAQg7upVlkVABCDu6lWWRUAc6+I2Go5GQBzr4jYajkZAHOviNhqORkAc6+I2Go5GQBzr4jYajkZAHOviNhqORkAc6+I2Go5GQBzr4jYajkZAHOviNhqORkAEIO7qVZZFQAQg7upVlkVAHOviNhqORkAc6+I2Go5GQAQg7upVlkVABCDu6lWWRUAc6+I2Go5GQBzr4jYajkZAHOviNhqORkAEIO7qVZZFQAQg7upVlkVABCDu6lWWRUAEIO7qVZZFQAQg7upVlkVABCDu6lWWRUAc6+I2Go5GQBzr4jYajkZAHOviNhqORkAc6+I2Go5GQBzr4jYajkZABCDu6lWWRUAEIO7qVZZFQBzr4jYajkZAHOviNhqORkAc6+I2Go5GQBzr4jYajkZAHOviNhqORkAc6+I2Go5GQBzr4jYajkZABCDu6lWWRUAc6+I2Go5GQBzr4jYajkZAHOviNhqORkAc6+I2Go5GQAQg7upVlkVABCDu6lWWRUAEIO7qVZZFQAQg7upVlkVABCDu6lWWRUAEIO7qVZZFQAQg7upVlkVABCDu6lWWRUAEIO7qVZZFQAQg7upVlkVABCDu6lWWRUAEIO7qVZZFQAQg7upVlkVABCDu6lWWRUAEIO7qVZZFQAQg7upVlkVABCDu6lWWRUAEIO7qVZZFQAQg7upVlkVABCDu6lWWRUAEIO7qVZZFQAQg7upVlkVABCDu6lWWRUAEIO7qVZZFQAQg7upVlkVABCDu6lWWRUAEIO7qVZZFQH0FacaifUhAfQVpxqJ9SEDxn26gwAFIQPGfbqDAAUhA8Z9uoMABSEDxn26gwAFIQGQ6dHrehUdAZDp0et6FR0BkOnR63oVHQGQ6dHrehUdAZDp0et6FR0BkOnR63oVHQKlQ3Vz8CUdAqVDdXPwJR0CpUN1c/AlHQKlQ3Vz8CUdAqVDdXPwJR0CpUN1c/AlHQBzr4jYajkZAHOviNhqORkCpUN1c/AlHQKlQ3Vz8CUdAqVDdXPwJR0CpUN1c/AlHQBzr4jYajkZAHOviNhqORkAc6+I2Go5GQBzr4jYajkZAHOviNhqORkAc6+I2Go5GQBzr4jYajkZAHOviNhqORkAc6+I2Go5GQBzr4jYajkZAHOviNhqORkAEIO7qVZZFQAQg7upVlkVABCDu6lWWRUAEIO7qVZZFQAQg7upVlkVABCDu6lWWRUAEIO7qVZZFQAQg7upVlkVABCDu6lWWRUAEIO7qVZZFQAQg7upVlkVABCDu6lWWRUCaCYZzDelKQJoJhnMN6UpAmgmGcw3pSkCaCYZzDelKQMVU+glndUlAxVT6CWd1SUDFVPoJZ3VJQDnv/+OE+UhAOe//44T5SEA57//jhPlIQDnv/+OE+UhAfQVpxqJ9SEB9BWnGon1IQH0FacaifUhAfQVpxqJ9SEB9BWnGon1IQH0FacaifUhA8Z9uoMABSEDxn26gwAFIQPGfbqDAAUhA8Z9uoMABSEBkOnR63oVHQGQ6dHrehUdAZDp0et6FR0Ac6+I2Go5GQBzr4jYajkZAHOviNhqORkAc6+I2Go5GQBzr4jYajkZAHOviNhqORkAc6+I2Go5GQBzr4jYajkZAHOviNhqORkAc6+I2Go5GQBzr4jYajkZAHOviNhqORkAc6+I2Go5GQAQg7upVlkVABCDu6lWWRUAEIO7qVZZFQAQg7upVlkVABCDu6lWWRUAEIO7qVZZFQAQg7upVlkVABCDu6lWWRUAEIO7qVZZFQAQg7upVlkVABCDu6lWWRUAEIO7qVZZFQAQg7upVlkVABCDu6lWWRUAEIO7qVZZFQH0FacaifUhAfQVpxqJ9SEDxn26gwAFIQPGfbqDAAUhA8Z9uoMABSEBkOnR63oVHQGQ6dHrehUdAZDp0et6FR0BkOnR63oVHQGQ6dHrehUdAZDp0et6FR0BkOnR63oVHQGQ6dHrehUdAZDp0et6FR0CpUN1c/AlHQKlQ3Vz8CUdAqVDdXPwJR0CpUN1c/AlHQKlQ3Vz8CUdAqVDdXPwJR0CpUN1c/AlHQKlQ3Vz8CUdAqVDdXPwJR0Ac6+I2Go5GQBzr4jYajkZAHOviNhqORkAc6+I2Go5GQBzr4jYajkZAHOviNhqORkAc6+I2Go5GQBzr4jYajkZAHOviNhqORkAc6+I2Go5GQBzr4jYajkZAHOviNhqORkAc6+I2Go5GQBzr4jYajkZAHOviNhqORkAc6+I2Go5GQBzr4jYajkZABCDu6lWWRUAEIO7qVZZFQAQg7upVlkVABCDu6lWWRUAEIO7qVZZFQAQg7upVlkVABCDu6lWWRUAEIO7qVZZFQAQg7upVlkVABCDu6lWWRUAEIO7qVZZFQAQg7upVlkVABCDu6lWWRUAEIO7qVZZFQAQg7upVlkVABCDu6lWWRUAEIO7qVZZFQAQg7upVlkVABCDu6lWWRUAEIO7qVZZFQAQg7upVlkVABCDu6lWWRUAEIO7qVZZFQAQg7upVlkVABCDu6lWWRUAEIO7qVZZFQAQg7upVlkVABCDu6lWWRUAEIO7qVZZFQAQg7upVlkVABCDu6lWWRUAEIO7qVZZFQAQg7upVlkVABCDu6lWWRUAEIO7qVZZFQAQg7upVlkVABCDu6lWWRUAEIO7qVZZFQAQg7upVlkVABCDu6lWWRUAEIO7qVZZFQAQg7upVlkVABCDu6lWWRUAEIO7qVZZFQAQg7upVlkVABCDu6lWWRUAEIO7qVZZFQAQg7upVlkVABCDu6lWWRUAc6+I2Go5GQBzr4jYajkZABCDu6lWWRUAEIO7qVZZFQAQg7upVlkVABCDu6lWWRUAEIO7qVZZFQAQg7upVlkVABCDu6lWWRUAEIO7qVZZFQAQg7upVlkVABCDu6lWWRUAEIO7qVZZFQBzr4jYajkZAHOviNhqORkAEIO7qVZZFQAQg7upVlkVABCDu6lWWRUAEIO7qVZZFQAQg7upVlkVABCDu6lWWRUAEIO7qVZZFQAQg7upVlkVABCDu6lWWRUAEIO7qVZZFQAQg7upVlkVABCDu6lWWRUAEIO7qVZZFQAQg7upVlkVABCDu6lWWRUAEIO7qVZZFQAQg7upVlkVABCDu6lWWRUAEIO7qVZZFQAQg7upVlkVABCDu6lWWRUAEIO7qVZZFQAQg7upVlkVABCDu6lWWRUAEIO7qVZZFQAQg7upVlkVABCDu6lWWRUAEIO7qVZZFQAQg7upVlkVABCDu6lWWRUAEIO7qVZZFQAQg7upVlkVABCDu6lWWRUAEIO7qVZZFQAQg7upVlkVAHOviNhqORkAEIO7qVZZFQAQg7upVlkVABCDu6lWWRUAEIO7qVZZFQAQg7upVlkVABCDu6lWWRUAEIO7qVZZFQAQg7upVlkVABCDu6lWWRUAEIO7qVZZFQAQg7upVlkVABCDu6lWWRUAEIO7qVZZFQAQg7upVlkVABCDu6lWWRUAEIO7qVZZFQBzr4jYajkZAHOviNhqORkAEIO7qVZZFQAQg7upVlkVAHOviNhqORkAc6+I2Go5GQAQg7upVlkVABCDu6lWWRUAEIO7qVZZFQAQg7upVlkVABCDu6lWWRUAEIO7qVZZFQAQg7upVlkVABCDu6lWWRUAEIO7qVZZFQAQg7upVlkVABCDu6lWWRUAEIO7qVZZFQAQg7upVlkVABCDu6lWWRUAEIO7qVZZFQBzr4jYajkZAHOviNhqORkAc6+I2Go5GQBzr4jYajkZAHOviNhqORkAEIO7qVZZFQAQg7upVlkVABCDu6lWWRUAEIO7qVZZFQBzr4jYajkZAHOviNhqORkAEIO7qVZZFQAQg7upVlkVABCDu6lWWRUAEIO7qVZZFQAQg7upVlkVAHOviNhqORkAc6+I2Go5GQAQg7upVlkVABCDu6lWWRUAEIO7qVZZFQBzr4jYajkZAHOviNhqORkAEIO7qVZZFQAQg7upVlkVABCDu6lWWRUAEIO7qVZZFQAQg7upVlkVABCDu6lWWRUAEIO7qVZZFQAQg7upVlkVABCDu6lWWRUAEIO7qVZZFQAQg7upVlkVABCDu6lWWRUAEIO7qVZZFQBzr4jYajkZAHOviNhqORkAc6+I2Go5GQBzr4jYajkZAHOviNhqORkAc6+I2Go5GQAQg7upVlkVAHOviNhqORkAc6+I2Go5GQBzr4jYajkZAHOviNhqORkAc6+I2Go5GQBzr4jYajkZABCDu6lWWRUAEIO7qVZZFQAQg7upVlkVABCDu6lWWRUAEIO7qVZZFQBzr4jYajkZAHOviNhqORkAEIO7qVZZFQAQg7upVlkVABCDu6lWWRUAEIO7qVZZFQBzr4jYajkZAHOviNhqORkAEIO7qVZZFQAQg7upVlkVABCDu6lWWRUAEIO7qVZZFQAQg7upVlkVABCDu6lWWRUAEIO7qVZZFQBzr4jYajkZAHOviNhqORkAc6+I2Go5GQBzr4jYajkZAHOviNhqORkAEIO7qVZZFQAQg7upVlkVABCDu6lWWRUAEIO7qVZZFQAQg7upVlkVAHOviNhqORkAc6+I2Go5GQAQg7upVlkVABCDu6lWWRUAEIO7qVZZFQAQg7upVlkVAHOviNhqORkAc6+I2Go5GQBzr4jYajkZAHOviNhqORkAEIO7qVZZFQAQg7upVlkVABCDu6lWWRUAEIO7qVZZFQAQg7upVlkVAHOviNhqORkAc6+I2Go5GQAQg7upVlkVABCDu6lWWRUAEIO7qVZZFQBzr4jYajkZAHOviNhqORkAEIO7qVZZFQBzr4jYajkZAHOviNhqORkAEIO7qVZZFQAQg7upVlkVAHOviNhqORkAc6+I2Go5GQAQg7upVlkVABCDu6lWWRUAc6+I2Go5GQBzr4jYajkZAHOviNhqORkAc6+I2Go5GQBzr4jYajkZAHOviNhqORkAc6+I2Go5GQBzr4jYajkZAHOviNhqORkAc6+I2Go5GQBzr4jYajkZAHOviNhqORkAc6+I2Go5GQBzr4jYajkZAHOviNhqORkAc6+I2Go5GQBzr4jYajkZAHOviNhqORkAEIO7qVZZFQBzr4jYajkZAHOviNhqORkAc6+I2Go5GQBzr4jYajkZAHOviNhqORkAc6+I2Go5GQAQg7upVlkVABCDu6lWWRUAc6+I2Go5GQBzr4jYajkZABCDu6lWWRUAEIO7qVZZFQBzr4jYajkZAHOviNhqORkAc6+I2Go5GQBzr4jYajkZAHOviNhqORkAc6+I2Go5GQBzr4jYajkZAHOviNhqORkAc6+I2Go5GQBzr4jYajkZAHOviNhqORkAc6+I2Go5GQBzr4jYajkZAHOviNhqORkAc6+I2Go5GQBzr4jYajkZAHOviNhqORkAc6+I2Go5GQBzr4jYajkZAHOviNhqORkAc6+I2Go5GQBzr4jYajkZAHOviNhqORkAc6+I2Go5GQBzr4jYajkZAHOviNhqORkAc6+I2Go5GQBzr4jYajkZAHOviNhqORkAc6+I2Go5GQBzr4jYajkZAHOviNhqORkAc6+I2Go5GQBzr4jYajkZAHOviNhqORkAc6+I2Go5GQBzr4jYajkZAHOviNhqORkAc6+I2Go5GQBzr4jYajkZAqVDdXPwJR0CpUN1c/AlHQBzr4jYajkZAHOviNhqORkAc6+I2Go5GQBzr4jYajkZAHOviNhqORkAEIO7qVZZFQAQg7upVlkVAHOviNhqORkAc6+I2Go5GQBzr4jYajkZAHOviNhqORkAc6+I2Go5GQBzr4jYajkZAHOviNhqORkAc6+I2Go5GQBzr4jYajkZAHOviNhqORkAc6+I2Go5GQBzr4jYajkZAHOviNhqORkAc6+I2Go5GQBzr4jYajkZAHOviNhqORkAc6+I2Go5GQKlQ3Vz8CUdAqVDdXPwJR0Ac6+I2Go5GQBzr4jYajkZAHOviNhqORkAc6+I2Go5GQBzr4jYajkZAHOviNhqORkAc6+I2Go5GQAQg7upVlkVABCDu6lWWRUAc6+I2Go5GQBzr4jYajkZAHOviNhqORkAc6+I2Go5GQBzr4jYajkZAHOviNhqORkAc6+I2Go5GQBzr4jYajkZAHOviNhqORkAc6+I2Go5GQBzr4jYajkZAHOviNhqORkAc6+I2Go5GQBzr4jYajkZAHOviNhqORkAc6+I2Go5GQBzr4jYajkZAHOviNhqORkAc6+I2Go5GQBzr4jYajkZAHOviNhqORkAc6+I2Go5GQBzr4jYajkZAHOviNhqORkAc6+I2Go5GQBzr4jYajkZAHOviNhqORkAc6+I2Go5GQKlQ3Vz8CUdAqVDdXPwJR0CpUN1c/AlHQBzr4jYajkZAHOviNhqORkAc6+I2Go5GQBzr4jYajkZAHOviNhqORkAc6+I2Go5GQBzr4jYajkZAHOviNhqORkAc6+I2Go5GQBzr4jYajkZAHOviNhqORkAc6+I2Go5GQBzr4jYajkZAHOviNhqORkAc6+I2Go5GQBzr4jYajkZAqVDdXPwJR0CpUN1c/AlHQBzr4jYajkZAqVDdXPwJR0CpUN1c/AlHQBzr4jYajkZAqVDdXPwJR0CpUN1c/AlHQBzr4jYajkZAHOviNhqORkAc6+I2Go5GQKlQ3Vz8CUdAqVDdXPwJR0CpUN1c/AlHQBzr4jYajkZAHOviNhqORkAc6+I2Go5GQBzr4jYajkZAHOviNhqORkCpUN1c/AlHQKlQ3Vz8CUdAHOviNhqORkAc6+I2Go5GQBzr4jYajkZAHOviNhqORkAc6+I2Go5GQBzr4jYajkZAHOviNhqORkCpUN1c/AlHQBzr4jYajkZAHOviNhqORkAc6+I2Go5GQBzr4jYajkZAHOviNhqORkAc6+I2Go5GQBzr4jYajkZAHOviNhqORkCpUN1c/AlHQKlQ3Vz8CUdAqVDdXPwJR0Ac6+I2Go5GQBzr4jYajkZAqVDdXPwJR0CpUN1c/AlHQKlQ3Vz8CUdAHOviNhqORkAc6+I2Go5GQKlQ3Vz8CUdAHOviNhqORkAc6+I2Go5GQBzr4jYajkZAHOviNhqORkAc6+I2Go5GQBzr4jYajkZAHOviNhqORkCpUN1c/AlHQKlQ3Vz8CUdAqVDdXPwJR0Ac6+I2Go5GQBzr4jYajkZAqVDdXPwJR0CpUN1c/AlHQBzr4jYajkZAHOviNhqORkCpUN1c/AlHQBzr4jYajkZAHOviNhqORkCpUN1c/AlHQKlQ3Vz8CUdAHOviNhqORkAc6+I2Go5GQKlQ3Vz8CUdAHOviNhqORkAc6+I2Go5GQBzr4jYajkZAHOviNhqORkAc6+I2Go5GQBzr4jYajkZAHOviNhqORkAc6+I2Go5GQBzr4jYajkZAHOviNhqORkAc6+I2Go5GQBzr4jYajkZAHOviNhqORkAc6+I2Go5GQBzr4jYajkZAqVDdXPwJR0CpUN1c/AlHQBzr4jYajkZAHOviNhqORkAc6+I2Go5GQBzr4jYajkZAHOviNhqORkAc6+I2Go5GQBzr4jYajkZAHOviNhqORkAc6+I2Go5GQBzr4jYajkZAHOviNhqORkAc6+I2Go5GQBzr4jYajkZAHOviNhqORkAc6+I2Go5GQBzr4jYajkZAHOviNhqORkAc6+I2Go5GQKlQ3Vz8CUdAqVDdXPwJR0CpUN1c/AlHQBzr4jYajkZAHOviNhqORkAc6+I2Go5GQBzr4jYajkZAHOviNhqORkAc6+I2Go5GQKlQ3Vz8CUdAqVDdXPwJR0Ac6+I2Go5GQBzr4jYajkZAHOviNhqORkCpUN1c/AlHQKlQ3Vz8CUdAqVDdXPwJR0CpUN1c/AlHQKlQ3Vz8CUdAqVDdXPwJR0CpUN1c/AlHQKlQ3Vz8CUdAqVDdXPwJR0CpUN1c/AlHQKlQ3Vz8CUdAqVDdXPwJR0Ac6+I2Go5GQKlQ3Vz8CUdAHOviNhqORkAc6+I2Go5GQBzr4jYajkZAHOviNhqORkCpUN1c/AlHQKlQ3Vz8CUdAqVDdXPwJR0CpUN1c/AlHQBzr4jYajkZAHOviNhqORkCpUN1c/AlHQKlQ3Vz8CUdAqVDdXPwJR0CpUN1c/AlHQKlQ3Vz8CUdAHOviNhqORkAc6+I2Go5GQBzr4jYajkZAHOviNhqORkAc6+I2Go5GQKlQ3Vz8CUdAqVDdXPwJR0Ac6+I2Go5GQBzr4jYajkZAqVDdXPwJR0Ac6+I2Go5GQBzr4jYajkZAqVDdXPwJR0CpUN1c/AlHQKlQ3Vz8CUdAqVDdXPwJR0CpUN1c/AlHQKlQ3Vz8CUdAqVDdXPwJR0Ac6+I2Go5GQBzr4jYajkZAHOviNhqORkAc6+I2Go5GQKlQ3Vz8CUdAqVDdXPwJR0Ac6+I2Go5GQBzr4jYajkZAqVDdXPwJR0Ac6+I2Go5GQBzr4jYajkZAHOviNhqORkAc6+I2Go5GQBzr4jYajkZAqVDdXPwJR0CpUN1c/AlHQKlQ3Vz8CUdAqVDdXPwJR0CpUN1c/AlHQKlQ3Vz8CUdAHOviNhqORkAc6+I2Go5GQKlQ3Vz8CUdAHOviNhqORkAc6+I2Go5GQKlQ3Vz8CUdAqVDdXPwJR0Ac6+I2Go5GQKlQ3Vz8CUdAHOviNhqORkCpUN1c/AlHQKlQ3Vz8CUdAHOviNhqORkAc6+I2Go5GQKlQ3Vz8CUdAqVDdXPwJR0CpUN1c/AlHQKlQ3Vz8CUdAHOviNhqORkAc6+I2Go5GQBzr4jYajkZAqVDdXPwJR0CpUN1c/AlHQBzr4jYajkZAHOviNhqORkAc6+I2Go5GQBzr4jYajkZAHOviNhqORkAc6+I2Go5GQBzr4jYajkZAHOviNhqORkCpUN1c/AlHQKlQ3Vz8CUdAqVDdXPwJR0Ac6+I2Go5GQBzr4jYajkZAHOviNhqORkCpUN1c/AlHQKlQ3Vz8CUdAHOviNhqORkAc6+I2Go5GQBzr4jYajkZAqVDdXPwJR0CpUN1c/AlHQBzr4jYajkZAHOviNhqORkCpUN1c/AlHQKlQ3Vz8CUdAqVDdXPwJR0CpUN1c/AlHQKlQ3Vz8CUdAHOviNhqORkAc6+I2Go5GQBzr4jYajkZAHOviNhqORkAc6+I2Go5GQBzr4jYajkZAHOviNhqORkAc6+I2Go5GQBzr4jYajkZAHOviNhqORkAc6+I2Go5GQBzr4jYajkZAHOviNhqORkAc6+I2Go5GQBzr4jYajkZAHOviNhqORkCpUN1c/AlHQKlQ3Vz8CUdAqVDdXPwJR0Ac6+I2Go5GQBzr4jYajkZAqVDdXPwJR0CpUN1c/AlHQBzr4jYajkZAHOviNhqORkCpUN1c/AlHQKlQ3Vz8CUdAqVDdXPwJR0CpUN1c/AlHQKlQ3Vz8CUdAHOviNhqORkAc6+I2Go5GQKlQ3Vz8CUdAqVDdXPwJR0Ac6+I2Go5GQBzr4jYajkZAHOviNhqORkAc6+I2Go5GQKlQ3Vz8CUdAHOviNhqORkAc6+I2Go5GQBzr4jYajkZAHOviNhqORkAc6+I2Go5GQBzr4jYajkZAqVDdXPwJR0CpUN1c/AlHQKlQ3Vz8CUdAqVDdXPwJR0Ac6+I2Go5GQKlQ3Vz8CUdAqVDdXPwJR0Ac6+I2Go5GQBzr4jYajkZAHOviNhqORkCpUN1c/AlHQKlQ3Vz8CUdAqVDdXPwJR0CpUN1c/AlHQKlQ3Vz8CUdAqVDdXPwJR0CpUN1c/AlHQKlQ3Vz8CUdAqVDdXPwJR0CpUN1c/AlHQKlQ3Vz8CUdAqVDdXPwJR0Ac6+I2Go5GQBzr4jYajkZAHOviNhqORkAc6+I2Go5GQBzr4jYajkZAHOviNhqORkAc6+I2Go5GQBzr4jYajkZAqVDdXPwJR0CpUN1c/AlHQKlQ3Vz8CUdAqVDdXPwJR0Ac6+I2Go5GQBzr4jYajkZAqVDdXPwJR0CpUN1c/AlHQKlQ3Vz8CUdAqVDdXPwJR0CpUN1c/AlHQKlQ3Vz8CUdAqVDdXPwJR0CpUN1c/AlHQKlQ3Vz8CUdAqVDdXPwJR0CpUN1c/AlHQKlQ3Vz8CUdAqVDdXPwJR0CpUN1c/AlHQKlQ3Vz8CUdAHOviNhqORkAc6+I2Go5GQKlQ3Vz8CUdAqVDdXPwJR0Ac6+I2Go5GQBzr4jYajkZAHOviNhqORkAc6+I2Go5GQKlQ3Vz8CUdAqVDdXPwJR0CpUN1c/AlHQKlQ3Vz8CUdAqVDdXPwJR0CpUN1c/AlHQKlQ3Vz8CUdAHOviNhqORkAc6+I2Go5GQBzr4jYajkZAHOviNhqORkAc6+I2Go5GQBzr4jYajkZAHOviNhqORkAc6+I2Go5GQBzr4jYajkZAHOviNhqORkAc6+I2Go5GQBzr4jYajkZAHOviNhqORkAc6+I2Go5GQBzr4jYajkZAHOviNhqORkAc6+I2Go5GQBzr4jYajkZAHOviNhqORkAc6+I2Go5GQBzr4jYajkZAHOviNhqORkAc6+I2Go5GQBzr4jYajkZAHOviNhqORkAc6+I2Go5GQBzr4jYajkZAHOviNhqORkAEIO7qVZZFQAQg7upVlkVABCDu6lWWRUAEIO7qVZZFQAQg7upVlkVABCDu6lWWRUAEIO7qVZZFQAQg7upVlkVABCDu6lWWRUAEIO7qVZZFQAQg7upVlkVABCDu6lWWRUAEIO7qVZZFQAQg7upVlkVABCDu6lWWRUAEIO7qVZZFQAQg7upVlkVABCDu6lWWRUAEIO7qVZZFQAQg7upVlkVABCDu6lWWRUAEIO7qVZZFQAQg7upVlkVABCDu6lWWRUAEIO7qVZZFQAQg7upVlkVABCDu6lWWRUAEIO7qVZZFQAQg7upVlkVABCDu6lWWRUAEIO7qVZZFQEg2V81zGkVASDZXzXMaRUAEIO7qVZZFQAQg7upVlkVASDZXzXMaRUBINlfNcxpFQEg2V81zGkVASDZXzXMaRUBINlfNcxpFQEg2V81zGkVASDZXzXMaRUBINlfNcxpFQEg2V81zGkVASDZXzXMaRUBINlfNcxpFQEg2V81zGkVASDZXzXMaRUBINlfNcxpFQEg2V81zGkVASDZXzXMaRUBINlfNcxpFQEg2V81zGkVABCDu6lWWRUBINlfNcxpFQEg2V81zGkVASDZXzXMaRUBINlfNcxpFQEg2V81zGkVASDZXzXMaRUBINlfNcxpFQEg2V81zGkVASDZXzXMaRUBINlfNcxpFQAQg7upVlkVABCDu6lWWRUBINlfNcxpFQEg2V81zGkVASDZXzXMaRUBINlfNcxpFQEg2V81zGkVASDZXzXMaRUBINlfNcxpFQEg2V81zGkVASDZXzXMaRUBINlfNcxpFQEg2V81zGkVASDZXzXMaRUBINlfNcxpFQEg2V81zGkVASDZXzXMaRUBINlfNcxpFQEg2V81zGkVASDZXzXMaRUBINlfNcxpFQAQg7upVlkVABCDu6lWWRUAEIO7qVZZFQAQg7upVlkVASDZXzXMaRUBINlfNcxpFQEg2V81zGkVASDZXzXMaRUBINlfNcxpFQEg2V81zGkVASDZXzXMaRUBINlfNcxpFQAQg7upVlkVABCDu6lWWRUAEIO7qVZZFQAQg7upVlkVABCDu6lWWRUAEIO7qVZZFQAQg7upVlkVABCDu6lWWRUBINlfNcxpFQEg2V81zGkVASDZXzXMaRUBINlfNcxpFQEg2V81zGkVASDZXzXMaRUAEIO7qVZZFQAQg7upVlkVABCDu6lWWRUAEIO7qVZZFQEg2V81zGkVASDZXzXMaRUBINlfNcxpFQEg2V81zGkVASDZXzXMaRUBINlfNcxpFQEg2V81zGkVABCDu6lWWRUAEIO7qVZZFQAQg7upVlkVABCDu6lWWRUAEIO7qVZZFQEg2V81zGkVASDZXzXMaRUBINlfNcxpFQEg2V81zGkVASDZXzXMaRUBINlfNcxpFQEg2V81zGkVASDZXzXMaRUBINlfNcxpFQEg2V81zGkVABCDu6lWWRUAEIO7qVZZFQAQg7upVlkVABCDu6lWWRUAEIO7qVZZFQAQg7upVlkVABCDu6lWWRUAEIO7qVZZFQAQg7upVlkVABCDu6lWWRUBINlfNcxpFQEg2V81zGkVASDZXzXMaRUBINlfNcxpFQEg2V81zGkVASDZXzXMaRUAEIO7qVZZFQAQg7upVlkVABCDu6lWWRUAEIO7qVZZFQAQg7upVlkVABCDu6lWWRUBINlfNcxpFQEg2V81zGkVABCDu6lWWRUAEIO7qVZZFQAQg7upVlkVABCDu6lWWRUBINlfNcxpFQEg2V81zGkVASDZXzXMaRUAEIO7qVZZFQAQg7upVlkVABCDu6lWWRUAEIO7qVZZFQAQg7upVlkVABCDu6lWWRUAEIO7qVZZFQAQg7upVlkVABCDu6lWWRUAEIO7qVZZFQAQg7upVlkVASDZXzXMaRUBINlfNcxpFQEg2V81zGkVASDZXzXMaRUBINlfNcxpFQEg2V81zGkVASDZXzXMaRUBINlfNcxpFQAQg7upVlkVASDZXzXMaRUBINlfNcxpFQEg2V81zGkVASDZXzXMaRUAEIO7qVZZFQAQg7upVlkVABCDu6lWWRUAEIO7qVZZFQEg2V81zGkVABCDu6lWWRUAEIO7qVZZFQEg2V81zGkVASDZXzXMaRUAEIO7qVZZFQAQg7upVlkVABCDu6lWWRUAEIO7qVZZFQAQg7upVlkVABCDu6lWWRUBINlfNcxpFQEg2V81zGkVABCDu6lWWRUAEIO7qVZZFQAQg7upVlkVABCDu6lWWRUAEIO7qVZZFQAQg7upVlkVABCDu6lWWRUAEIO7qVZZFQAQg7upVlkVABCDu6lWWRUBINlfNcxpFQEg2V81zGkVABCDu6lWWRUAEIO7qVZZFQAQg7upVlkVABCDu6lWWRUAEIO7qVZZFQAQg7upVlkVABCDu6lWWRUAEIO7qVZZFQEg2V81zGkVABCDu6lWWRUAEIO7qVZZFQAQg7upVlkVABCDu6lWWRUAEIO7qVZZFQEg2V81zGkVASDZXzXMaRUAEIO7qVZZFQAQg7upVlkVABCDu6lWWRUAEIO7qVZZFQAQg7upVlkVASDZXzXMaRUBINlfNcxpFQAQg7upVlkVABCDu6lWWRUAEIO7qVZZFQAQg7upVlkVASDZXzXMaRUBINlfNcxpFQEg2V81zGkVASDZXzXMaRUBINlfNcxpFQEg2V81zGkVASDZXzXMaRUAEIO7qVZZFQAQg7upVlkVABCDu6lWWRUAEIO7qVZZFQAQg7upVlkVABCDu6lWWRUAEIO7qVZZFQEg2V81zGkVASDZXzXMaRUBINlfNcxpFQEg2V81zGkVASDZXzXMaRUAEIO7qVZZFQAQg7upVlkVASDZXzXMaRUBINlfNcxpFQEg2V81zGkVASDZXzXMaRUBINlfNcxpFQEg2V81zGkVASDZXzXMaRUAEIO7qVZZFQAQg7upVlkVABCDu6lWWRUAEIO7qVZZFQAQg7upVlkVABCDu6lWWRUAEIO7qVZZFQAQg7upVlkVABCDu6lWWRUAEIO7qVZZFQAQg7upVlkVASDZXzXMaRUBINlfNcxpFQAQg7upVlkVABCDu6lWWRUAEIO7qVZZFQAQg7upVlkVABCDu6lWWRUBINlfNcxpFQEg2V81zGkVASDZXzXMaRUAEIO7qVZZFQAQg7upVlkVABCDu6lWWRUAEIO7qVZZFQAQg7upVlkVABCDu6lWWRUAEIO7qVZZFQEg2V81zGkVASDZXzXMaRUBINlfNcxpFQEg2V81zGkVASDZXzXMaRUBINlfNcxpFQEg2V81zGkVASDZXzXMaRUBINlfNcxpFQEg2V81zGkVABCDu6lWWRUBINlfNcxpFQEg2V81zGkVABCDu6lWWRUAEIO7qVZZFQEg2V81zGkVASDZXzXMaRUBINlfNcxpFQEg2V81zGkVASDZXzXMaRUBINlfNcxpFQEg2V81zGkVASDZXzXMaRUBINlfNcxpFQAQg7upVlkVABCDu6lWWRUBINlfNcxpFQEg2V81zGkVASDZXzXMaRUBINlfNcxpFQEg2V81zGkVASDZXzXMaRUBINlfNcxpFQEg2V81zGkVASDZXzXMaRUBINlfNcxpFQEg2V81zGkVASDZXzXMaRUBINlfNcxpFQEg2V81zGkVASDZXzXMaRUBINlfNcxpFQEg2V81zGkVASDZXzXMaRUBINlfNcxpFQEg2V81zGkVASDZXzXMaRUBINlfNcxpFQEg2V81zGkVASDZXzXMaRUBINlfNcxpFQEg2V81zGkVASDZXzXMaRUBINlfNcxpFQEg2V81zGkVASDZXzXMaRUBINlfNcxpFQEg2V81zGkVASDZXzXMaRUBSuvQvSfFJQFK69C9J8UlAmgmGcw3pSkCaCYZzDelKQMVU+glndUlAxVT6CWd1SUDFVPoJZ3VJQMVU+glndUlAfQVpxqJ9SEB9BWnGon1IQH0FacaifUhA8Z9uoMABSEDxn26gwAFIQPGfbqDAAUhA8Z9uoMABSEBkOnR63oVHQKlQ3Vz8CUdAqVDdXPwJR0CpUN1c/AlHQKlQ3Vz8CUdAHOviNhqORkAc6+I2Go5GQBzr4jYajkZAHOviNhqORkAc6+I2Go5GQBzr4jYajkZAHOviNhqORkAEIO7qVZZFQAQg7upVlkVABCDu6lWWRUAEIO7qVZZFQAQg7upVlkVABCDu6lWWRUAEIO7qVZZFQAQg7upVlkVABCDu6lWWRUAEIO7qVZZFQAQg7upVlkVABCDu6lWWRUBINlfNcxpFQEg2V81zGkVASDZXzXMaRUBINlfNcxpFQEg2V81zGkVASDZXzXMaRUBINlfNcxpFQEg2V81zGkVASDZXzXMaRUBINlfNcxpFQEg2V81zGkVASDZXzXMaRUBINlfNcxpFQEg2V81zGkVASDZXzXMaRUBINlfNcxpFQEg2V81zGkVASDZXzXMaRUBINlfNcxpFQEg2V81zGkVASDZXzXMaRUBINlfNcxpFQEg2V81zGkVASDZXzXMaRUBINlfNcxpFQEg2V81zGkVASDZXzXMaRUBINlfNcxpFQEg2V81zGkVASDZXzXMaRUBINlfNcxpFQEg2V81zGkVASDZXzXMaRUBINlfNcxpFQEg2V81zGkVASDZXzXMaRUBINlfNcxpFQEg2V81zGkVASDZXzXMaRUBINlfNcxpFQLvQXKeRnkRAu9Bcp5GeREC70FynkZ5EQLvQXKeRnkRAu9Bcp5GeREC70FynkZ5EQEg2V81zGkVAu9Bcp5GeREC70FynkZ5EQLvQXKeRnkRAu9Bcp5GeREC70FynkZ5EQLvQXKeRnkRAu9Bcp5GeREC70FynkZ5EQLvQXKeRnkRAu9Bcp5GeREC70FynkZ5EQLvQXKeRnkRAu9Bcp5GeREC70FynkZ5EQLvQXKeRnkRAu9Bcp5GeREAva2KBryJEQC9rYoGvIkRAL2tiga8iREAva2KBryJEQLvQXKeRnkRAL2tiga8iREAva2KBryJEQC9rYoGvIkRAL2tiga8iRECjBWhbzaZDQC9rYoGvIkRAL2tiga8iREAva2KBryJEQKMFaFvNpkNAowVoW82mQ0Ava2KBryJEQC9rYoGvIkRAL2tiga8iRECjBWhbzaZDQKMFaFvNpkNAowVoW82mQ0CjBWhbzaZDQKMFaFvNpkNAowVoW82mQ0CjBWhbzaZDQKMFaFvNpkNAowVoW82mQ0CjBWhbzaZDQKMFaFvNpkNAowVoW82mQ0CjBWhbzaZDQKMFaFvNpkNAowVoW82mQ0CjBWhbzaZDQKMFaFvNpkNAowVoW82mQ0CjBWhbzaZDQKMFaFvNpkNAowVoW82mQ0CjBWhbzaZDQKMFaFvNpkNAowVoW82mQ0CjBWhbzaZDQKMFaFvNpkNAowVoW82mQ0CjBWhbzaZDQKMFaFvNpkNAowVoW82mQ0CjBWhbzaZDQKMFaFvNpkNAowVoW82mQ0CjBWhbzaZDQKMFaFvNpkNAowVoW82mQ0CjBWhbzaZDQKMFaFvNpkNAowVoW82mQ0CjBWhbzaZDQKMFaFvNpkNAowVoW82mQ0CjBWhbzaZDQOcb0T3rKkNA5xvRPesqQ0DnG9E96ypDQOcb0T3rKkNA5xvRPesqQ0DnG9E96ypDQOcb0T3rKkNA5xvRPesqQ0DnG9E96ypDQOcb0T3rKkNA5xvRPesqQ0DnG9E96ypDQEg2V81zGkVASDZXzXMaRUBkOnR63oVHQGQ6dHrehUdAqVDdXPwJR0CpUN1c/AlHQKlQ3Vz8CUdAqVDdXPwJR0CpUN1c/AlHQAQg7upVlkVABCDu6lWWRUAEIO7qVZZFQEg2V81zGkVASDZXzXMaRUBINlfNcxpFQEg2V81zGkVASDZXzXMaRUBINlfNcxpFQEg2V81zGkVASDZXzXMaRUBINlfNcxpFQEg2V81zGkVASDZXzXMaRUBINlfNcxpFQEg2V81zGkVASDZXzXMaRUBINlfNcxpFQEg2V81zGkVASDZXzXMaRUBINlfNcxpFQEg2V81zGkVASDZXzXMaRUBINlfNcxpFQEg2V81zGkVASDZXzXMaRUBINlfNcxpFQEg2V81zGkVASDZXzXMaRUBINlfNcxpFQEg2V81zGkVASDZXzXMaRUBINlfNcxpFQEg2V81zGkVASDZXzXMaRUBINlfNcxpFQEg2V81zGkVAu9Bcp5GeREBINlfNcxpFQEg2V81zGkVASDZXzXMaRUC70FynkZ5EQLvQXKeRnkRASDZXzXMaRUBINlfNcxpFQEg2V81zGkVASDZXzXMaRUBINlfNcxpFQEg2V81zGkVASDZXzXMaRUBINlfNcxpFQEg2V81zGkVASDZXzXMaRUBINlfNcxpFQEg2V81zGkVASDZXzXMaRUBINlfNcxpFQEg2V81zGkVASDZXzXMaRUBINlfNcxpFQEg2V81zGkVASDZXzXMaRUBINlfNcxpFQEg2V81zGkVASDZXzXMaRUBINlfNcxpFQEg2V81zGkVASDZXzXMaRUBINlfNcxpFQEg2V81zGkVASDZXzXMaRUBINlfNcxpFQEg2V81zGkVASDZXzXMaRUBINlfNcxpFQEg2V81zGkVASDZXzXMaRUBINlfNcxpFQEg2V81zGkVASDZXzXMaRUBINlfNcxpFQEg2V81zGkVASDZXzXMaRUBINlfNcxpFQEg2V81zGkVASDZXzXMaRUBINlfNcxpFQEg2V81zGkVASDZXzXMaRUBINlfNcxpFQEg2V81zGkVASDZXzXMaRUBINlfNcxpFQEg2V81zGkVABCDu6lWWRUAEIO7qVZZFQEg2V81zGkVASDZXzXMaRUBINlfNcxpFQEg2V81zGkVABCDu6lWWRUAEIO7qVZZFQAQg7upVlkVABCDu6lWWRUBINlfNcxpFQEg2V81zGkVASDZXzXMaRUBINlfNcxpFQEg2V81zGkVABCDu6lWWRUAEIO7qVZZFQAQg7upVlkVABCDu6lWWRUAEIO7qVZZFQAQg7upVlkVABCDu6lWWRUAEIO7qVZZFQAQg7upVlkVABCDu6lWWRUAEIO7qVZZFQAQg7upVlkVABCDu6lWWRUAEIO7qVZZFQAQg7upVlkVABCDu6lWWRUAc6+I2Go5GQBzr4jYajkZABCDu6lWWRUAEIO7qVZZFQBzr4jYajkZAHOviNhqORkAc6+I2Go5GQBzr4jYajkZABCDu6lWWRUAEIO7qVZZFQAQg7upVlkVABCDu6lWWRUAc6+I2Go5GQBzr4jYajkZAHOviNhqORkAEIO7qVZZFQBzr4jYajkZAHOviNhqORkAc6+I2Go5GQBzr4jYajkZAHOviNhqORkAEIO7qVZZFQAQg7upVlkVABCDu6lWWRUAEIO7qVZZFQAQg7upVlkVABCDu6lWWRUAEIO7qVZZFQAQg7upVlkVABCDu6lWWRUAEIO7qVZZFQAQg7upVlkVASDZXzXMaRUBINlfNcxpFQAQg7upVlkVABCDu6lWWRUAEIO7qVZZFQAQg7upVlkVABCDu6lWWRUAEIO7qVZZFQAQg7upVlkVASDZXzXMaRUBINlfNcxpFQEg2V81zGkVABCDu6lWWRUAEIO7qVZZFQEg2V81zGkVABCDu6lWWRUAEIO7qVZZFQAQg7upVlkVABCDu6lWWRUAEIO7qVZZFQEg2V81zGkVASDZXzXMaRUBINlfNcxpFQEg2V81zGkVASDZXzXMaRUBINlfNcxpFQEg2V81zGkVASDZXzXMaRUBINlfNcxpFQEg2V81zGkVASDZXzXMaRUBINlfNcxpFQEg2V81zGkVASDZXzXMaRUBINlfNcxpFQEg2V81zGkVASDZXzXMaRUBINlfNcxpFQEg2V81zGkVASDZXzXMaRUBINlfNcxpFQAQg7upVlkVABCDu6lWWRUAEIO7qVZZFQAQg7upVlkVABCDu6lWWRUAEIO7qVZZFQEg2V81zGkVASDZXzXMaRUBINlfNcxpFQEg2V81zGkVASDZXzXMaRUBINlfNcxpFQEg2V81zGkVASDZXzXMaRUBINlfNcxpFQEg2V81zGkVABCDu6lWWRUAEIO7qVZZFQEg2V81zGkVASDZXzXMaRUBINlfNcxpFQEg2V81zGkVASDZXzXMaRUBINlfNcxpFQEg2V81zGkVASDZXzXMaRUAEIO7qVZZFQAQg7upVlkVABCDu6lWWRUAEIO7qVZZFQAQg7upVlkVABCDu6lWWRUAEIO7qVZZFQAQg7upVlkVABCDu6lWWRUAEIO7qVZZFQAQg7upVlkVABCDu6lWWRUAEIO7qVZZFQAQg7upVlkVABCDu6lWWRUAEIO7qVZZFQAQg7upVlkVABCDu6lWWRUAEIO7qVZZFQAQg7upVlkVABCDu6lWWRUAEIO7qVZZFQAQg7upVlkVABCDu6lWWRUAEIO7qVZZFQAQg7upVlkVABCDu6lWWRUAEIO7qVZZFQAQg7upVlkVABCDu6lWWRUAEIO7qVZZFQAQg7upVlkVASDZXzXMaRUBINlfNcxpFQEg2V81zGkVASDZXzXMaRUAEIO7qVZZFQAQg7upVlkVABCDu6lWWRUAEIO7qVZZFQAQg7upVlkVABCDu6lWWRUAEIO7qVZZFQEg2V81zGkVASDZXzXMaRUAEIO7qVZZFQAQg7upVlkVABCDu6lWWRUAEIO7qVZZFQAQg7upVlkVABCDu6lWWRUAEIO7qVZZFQAQg7upVlkVABCDu6lWWRUAEIO7qVZZFQAQg7upVlkVABCDu6lWWRUAEIO7qVZZFQAQg7upVlkVABCDu6lWWRUAEIO7qVZZFQAQg7upVlkVABCDu6lWWRUAEIO7qVZZFQAQg7upVlkVABCDu6lWWRUAEIO7qVZZFQAQg7upVlkVABCDu6lWWRUAEIO7qVZZFQAQg7upVlkVABCDu6lWWRUAEIO7qVZZFQAQg7upVlkVABCDu6lWWRUAEIO7qVZZFQAQg7upVlkVABCDu6lWWRUAEIO7qVZZFQAQg7upVlkVABCDu6lWWRUAEIO7qVZZFQAQg7upVlkVABCDu6lWWRUAEIO7qVZZFQAQg7upVlkVABCDu6lWWRUAEIO7qVZZFQAQg7upVlkVABCDu6lWWRUAc6+I2Go5GQBzr4jYajkZAHOviNhqORkAc6+I2Go5GQBzr4jYajkZAHOviNhqORkAc6+I2Go5GQBzr4jYajkZAHOviNhqORkAc6+I2Go5GQBzr4jYajkZAHOviNhqORkAc6+I2Go5GQBzr4jYajkZAHOviNhqORkAc6+I2Go5GQBzr4jYajkZABCDu6lWWRUAEIO7qVZZFQBzr4jYajkZAHOviNhqORkAc6+I2Go5GQBzr4jYajkZABCDu6lWWRUAc6+I2Go5GQBzr4jYajkZAHOviNhqORkAc6+I2Go5GQBzr4jYajkZAHOviNhqORkAc6+I2Go5GQBzr4jYajkZAHOviNhqORkAEIO7qVZZFQBzr4jYajkZAHOviNhqORkAc6+I2Go5GQBzr4jYajkZAqVDdXPwJR0CpUN1c/AlHQBzr4jYajkZAHOviNhqORkAc6+I2Go5GQBzr4jYajkZAHOviNhqORkAc6+I2Go5GQBzr4jYajkZAqVDdXPwJR0CpUN1c/AlHQKlQ3Vz8CUdAqVDdXPwJR0CpUN1c/AlHQKlQ3Vz8CUdAqVDdXPwJR0CpUN1c/AlHQKlQ3Vz8CUdAHOviNhqORkAc6+I2Go5GQBzr4jYajkZAqVDdXPwJR0CpUN1c/AlHQKlQ3Vz8CUdAqVDdXPwJR0Ac6+I2Go5GQBzr4jYajkZAqVDdXPwJR0CpUN1c/AlHQKlQ3Vz8CUdAqVDdXPwJR0CpUN1c/AlHQKlQ3Vz8CUdAqVDdXPwJR0CpUN1c/AlHQKlQ3Vz8CUdAqVDdXPwJR0Ac6+I2Go5GQBzr4jYajkZAHOviNhqORkAc6+I2Go5GQAQg7upVlkVABCDu6lWWRUAEIO7qVZZFQAQg7upVlkVABCDu6lWWRUAc6+I2Go5GQBzr4jYajkZAHOviNhqORkAEIO7qVZZFQAQg7upVlkVABCDu6lWWRUAEIO7qVZZFQAQg7upVlkVABCDu6lWWRUAEIO7qVZZFQAQg7upVlkVABCDu6lWWRUAEIO7qVZZFQEg2V81zGkVASDZXzXMaRUBINlfNcxpFQEg2V81zGkVASDZXzXMaRUBINlfNcxpFQEg2V81zGkVASDZXzXMaRUBINlfNcxpFQEg2V81zGkVASDZXzXMaRUBINlfNcxpFQAQg7upVlkVABCDu6lWWRUAEIO7qVZZFQEg2V81zGkVASDZXzXMaRUAEIO7qVZZFQAQg7upVlkVABCDu6lWWRUAEIO7qVZZFQAQg7upVlkVABCDu6lWWRUAEIO7qVZZFQAQg7upVlkVABCDu6lWWRUAEIO7qVZZFQAQg7upVlkVABCDu6lWWRUAEIO7qVZZFQEg2V81zGkVASDZXzXMaRUBINlfNcxpFQEg2V81zGkVASDZXzXMaRUBINlfNcxpFQEg2V81zGkVASDZXzXMaRUAEIO7qVZZFQAQg7upVlkVABCDu6lWWRUAEIO7qVZZFQEg2V81zGkVASDZXzXMaRUBINlfNcxpFQEg2V81zGkVASDZXzXMaRUBINlfNcxpFQEg2V81zGkVABCDu6lWWRUAEIO7qVZZFQAQg7upVlkVABCDu6lWWRUAEIO7qVZZFQAQg7upVlkVABCDu6lWWRUBINlfNcxpFQEg2V81zGkVASDZXzXMaRUBINlfNcxpFQEg2V81zGkVASDZXzXMaRUAEIO7qVZZFQAQg7upVlkVASDZXzXMaRUBINlfNcxpFQEg2V81zGkVASDZXzXMaRUBINlfNcxpFQEg2V81zGkVASDZXzXMaRUBINlfNcxpFQAQg7upVlkVABCDu6lWWRUBINlfNcxpFQEg2V81zGkVABCDu6lWWRUAEIO7qVZZFQEg2V81zGkVASDZXzXMaRUAEIO7qVZZFQAQg7upVlkVASDZXzXMaRUBINlfNcxpFQEg2V81zGkVASDZXzXMaRUBINlfNcxpFQEg2V81zGkVASDZXzXMaRUBINlfNcxpFQEg2V81zGkVASDZXzXMaRUBINlfNcxpFQEg2V81zGkVASDZXzXMaRUAEIO7qVZZFQEg2V81zGkVASDZXzXMaRUBINlfNcxpFQEg2V81zGkVASDZXzXMaRUBINlfNcxpFQEg2V81zGkVASDZXzXMaRUBINlfNcxpFQEg2V81zGkVASDZXzXMaRUBINlfNcxpFQEg2V81zGkVASDZXzXMaRUBINlfNcxpFQEg2V81zGkVASDZXzXMaRUBINlfNcxpFQEg2V81zGkVASDZXzXMaRUBINlfNcxpFQEg2V81zGkVASDZXzXMaRUBINlfNcxpFQEg2V81zGkVASDZXzXMaRUBINlfNcxpFQEg2V81zGkVASDZXzXMaRUBINlfNcxpFQEg2V81zGkVASDZXzXMaRUBINlfNcxpFQEg2V81zGkVASDZXzXMaRUBINlfNcxpFQEg2V81zGkVASDZXzXMaRUBINlfNcxpFQEg2V81zGkVASDZXzXMaRUBINlfNcxpFQEg2V81zGkVASDZXzXMaRUBINlfNcxpFQEg2V81zGkVASDZXzXMaRUBINlfNcxpFQEg2V81zGkVASDZXzXMaRUBINlfNcxpFQEg2V81zGkVASDZXzXMaRUBINlfNcxpFQEg2V81zGkVASDZXzXMaRUBINlfNcxpFQEg2V81zGkVASDZXzXMaRUC70FynkZ5EQLvQXKeRnkRAu9Bcp5GeREC70FynkZ5EQLvQXKeRnkRAu9Bcp5GeREC70FynkZ5EQLvQXKeRnkRAu9Bcp5GeREC70FynkZ5EQLvQXKeRnkRAu9Bcp5GeREC70FynkZ5EQLvQXKeRnkRAu9Bcp5GeREC70FynkZ5EQLvQXKeRnkRAu9Bcp5GeREC70FynkZ5EQLvQXKeRnkRAu9Bcp5GeREC70FynkZ5EQLvQXKeRnkRAu9Bcp5GeREC70FynkZ5EQLvQXKeRnkRAu9Bcp5GeREC70FynkZ5EQLvQXKeRnkRAu9Bcp5GeREC70FynkZ5EQLvQXKeRnkRAu9Bcp5GeREC70FynkZ5EQLvQXKeRnkRAu9Bcp5GeREC70FynkZ5EQLvQXKeRnkRAu9Bcp5GeREC70FynkZ5EQLvQXKeRnkRAu9Bcp5GeREC70FynkZ5EQLvQXKeRnkRAu9Bcp5GeREC70FynkZ5EQLvQXKeRnkRAu9Bcp5GeREAva2KBryJEQC9rYoGvIkRAL2tiga8iREAva2KBryJEQLvQXKeRnkRAL2tiga8iREAva2KBryJEQLvQXKeRnkRAu9Bcp5GeREC70FynkZ5EQLvQXKeRnkRAu9Bcp5GeREC70FynkZ5EQLvQXKeRnkRAu9Bcp5GeREAva2KBryJEQC9rYoGvIkRAu9Bcp5GeREC70FynkZ5EQLvQXKeRnkRAu9Bcp5GeREC70FynkZ5EQLvQXKeRnkRAu9Bcp5GeREC70FynkZ5EQLvQXKeRnkRAu9Bcp5GeREC70FynkZ5EQLvQXKeRnkRAu9Bcp5GeREC70FynkZ5EQLvQXKeRnkRASDZXzXMaRUBINlfNcxpFQLvQXKeRnkRAu9Bcp5GeREC70FynkZ5EQLvQXKeRnkRAu9Bcp5GeREC70FynkZ5EQLvQXKeRnkRAu9Bcp5GeREBINlfNcxpFQEg2V81zGkVASDZXzXMaRUC70FynkZ5EQLvQXKeRnkRAu9Bcp5GeREC70FynkZ5EQLvQXKeRnkRAu9Bcp5GeREBINlfNcxpFQLvQXKeRnkRAu9Bcp5GeREC70FynkZ5EQLvQXKeRnkRAu9Bcp5GeREC70FynkZ5EQLvQXKeRnkRAu9Bcp5GeREC70FynkZ5EQEg2V81zGkVASDZXzXMaRUBINlfNcxpFQLvQXKeRnkRAu9Bcp5GeREC70FynkZ5EQLvQXKeRnkRAu9Bcp5GeREC70FynkZ5EQLvQXKeRnkRAu9Bcp5GeREC70FynkZ5EQLvQXKeRnkRAu9Bcp5GeREC70FynkZ5EQLvQXKeRnkRAu9Bcp5GeREC70FynkZ5EQLvQXKeRnkRAu9Bcp5GeREC70FynkZ5EQLvQXKeRnkRAu9Bcp5GeREC70FynkZ5EQLvQXKeRnkRAu9Bcp5GeREC70FynkZ5EQEg2V81zGkVASDZXzXMaRUBINlfNcxpFQEg2V81zGkVAu9Bcp5GeREC70FynkZ5EQLvQXKeRnkRAu9Bcp5GeREC70FynkZ5EQLvQXKeRnkRAu9Bcp5GeREC70FynkZ5EQLvQXKeRnkRAu9Bcp5GeREC70FynkZ5EQLvQXKeRnkRAu9Bcp5GeREC70FynkZ5EQLvQXKeRnkRAu9Bcp5GeREC70FynkZ5EQLvQXKeRnkRAu9Bcp5GeREC70FynkZ5EQLvQXKeRnkRAu9Bcp5GeREC70FynkZ5EQLvQXKeRnkRASDZXzXMaRUBINlfNcxpFQLvQXKeRnkRAu9Bcp5GeREC70FynkZ5EQLvQXKeRnkRAu9Bcp5GeREC70FynkZ5EQLvQXKeRnkRASDZXzXMaRUC70FynkZ5EQLvQXKeRnkRAu9Bcp5GeREC70FynkZ5EQLvQXKeRnkRAu9Bcp5GeREC70FynkZ5EQLvQXKeRnkRAu9Bcp5GeREC70FynkZ5EQLvQXKeRnkRAu9Bcp5GeREBINlfNcxpFQEg2V81zGkVAu9Bcp5GeREC70FynkZ5EQLvQXKeRnkRAu9Bcp5GeREC70FynkZ5EQLvQXKeRnkRASDZXzXMaRUBINlfNcxpFQLvQXKeRnkRAu9Bcp5GeREBINlfNcxpFQLvQXKeRnkRASDZXzXMaRUBINlfNcxpFQEg2V81zGkVASDZXzXMaRUBINlfNcxpFQEg2V81zGkVASDZXzXMaRUBINlfNcxpFQEg2V81zGkVASDZXzXMaRUBINlfNcxpFQEg2V81zGkVASDZXzXMaRUBINlfNcxpFQEg2V81zGkVAu9Bcp5GeREC70FynkZ5EQLvQXKeRnkRAu9Bcp5GeREC70FynkZ5EQLvQXKeRnkRAu9Bcp5GeREC70FynkZ5EQLvQXKeRnkRAu9Bcp5GeREBINlfNcxpFQEg2V81zGkVAu9Bcp5GeREC70FynkZ5EQLvQXKeRnkRAu9Bcp5GeREC70FynkZ5EQEg2V81zGkVASDZXzXMaRUC70FynkZ5EQLvQXKeRnkRAu9Bcp5GeREC70FynkZ5EQEg2V81zGkVAu9Bcp5GeREBINlfNcxpFQEg2V81zGkVASDZXzXMaRUBINlfNcxpFQEg2V81zGkVASDZXzXMaRUBINlfNcxpFQEg2V81zGkVAu9Bcp5GeREBINlfNcxpFQLvQXKeRnkRASDZXzXMaRUBINlfNcxpFQEg2V81zGkVASDZXzXMaRUBINlfNcxpFQLvQXKeRnkRAu9Bcp5GeREC70FynkZ5EQEg2V81zGkVASDZXzXMaRUC70FynkZ5EQLvQXKeRnkRAu9Bcp5GeREC70FynkZ5EQEg2V81zGkVASDZXzXMaRUC70FynkZ5EQLvQXKeRnkRAu9Bcp5GeREC70FynkZ5EQEg2V81zGkVAu9Bcp5GeREC70FynkZ5EQLvQXKeRnkRASDZXzXMaRUBINlfNcxpFQEg2V81zGkVASDZXzXMaRUC70FynkZ5EQEg2V81zGkVAu9Bcp5GeREC70FynkZ5EQLvQXKeRnkRAu9Bcp5GeREC70FynkZ5EQLvQXKeRnkRASDZXzXMaRUBINlfNcxpFQLvQXKeRnkRASDZXzXMaRUBINlfNcxpFQLvQXKeRnkRAu9Bcp5GeREC70FynkZ5EQEg2V81zGkVASDZXzXMaRUBINlfNcxpFQEg2V81zGkVAu9Bcp5GeREBINlfNcxpFQEg2V81zGkVASDZXzXMaRUBINlfNcxpFQEg2V81zGkVASDZXzXMaRUBINlfNcxpFQEg2V81zGkVAu9Bcp5GeREC70FynkZ5EQLvQXKeRnkRAu9Bcp5GeREBINlfNcxpFQEg2V81zGkVASDZXzXMaRUBINlfNcxpFQEg2V81zGkVASDZXzXMaRUBINlfNcxpFQEg2V81zGkVASDZXzXMaRUC70FynkZ5EQLvQXKeRnkRASDZXzXMaRUBINlfNcxpFQLvQXKeRnkRAu9Bcp5GeREC70FynkZ5EQLvQXKeRnkRAu9Bcp5GeREBINlfNcxpFQEg2V81zGkVASDZXzXMaRUBINlfNcxpFQLvQXKeRnkRAu9Bcp5GeREC70FynkZ5EQLvQXKeRnkRAu9Bcp5GeREC70FynkZ5EQLvQXKeRnkRAu9Bcp5GeREBINlfNcxpFQEg2V81zGkVASDZXzXMaRUBINlfNcxpFQEg2V81zGkVASDZXzXMaRUC70FynkZ5EQLvQXKeRnkRAu9Bcp5GeREC70FynkZ5EQEg2V81zGkVASDZXzXMaRUBINlfNcxpFQLvQXKeRnkRAu9Bcp5GeREC70FynkZ5EQLvQXKeRnkRASDZXzXMaRUC70FynkZ5EQLvQXKeRnkRAu9Bcp5GeREBINlfNcxpFQEg2V81zGkVASDZXzXMaRUBINlfNcxpFQLvQXKeRnkRAu9Bcp5GeREC70FynkZ5EQLvQXKeRnkRAu9Bcp5GeREC70FynkZ5EQEg2V81zGkVASDZXzXMaRUC70FynkZ5EQLvQXKeRnkRAu9Bcp5GeREC70FynkZ5EQLvQXKeRnkRASDZXzXMaRUBINlfNcxpFQEg2V81zGkVASDZXzXMaRUBINlfNcxpFQEg2V81zGkVAu9Bcp5GeREC70FynkZ5EQEg2V81zGkVASDZXzXMaRUBINlfNcxpFQLvQXKeRnkRAu9Bcp5GeREC70FynkZ5EQLvQXKeRnkRAu9Bcp5GeREC70FynkZ5EQLvQXKeRnkRAu9Bcp5GeREC70FynkZ5EQLvQXKeRnkRASDZXzXMaRUBINlfNcxpFQLvQXKeRnkRAu9Bcp5GeREC70FynkZ5EQEg2V81zGkVASDZXzXMaRUC70FynkZ5EQLvQXKeRnkRAu9Bcp5GeREC70FynkZ5EQLvQXKeRnkRASDZXzXMaRUBINlfNcxpFQEg2V81zGkVASDZXzXMaRUBINlfNcxpFQLvQXKeRnkRAu9Bcp5GeREC70FynkZ5EQLvQXKeRnkRAu9Bcp5GeREC70FynkZ5EQEg2V81zGkVASDZXzXMaRUC70FynkZ5EQLvQXKeRnkRASDZXzXMaRUBINlfNcxpFQLvQXKeRnkRAu9Bcp5GeREC70FynkZ5EQLvQXKeRnkRASDZXzXMaRUBINlfNcxpFQEg2V81zGkVASDZXzXMaRUC70FynkZ5EQLvQXKeRnkRAu9Bcp5GeREC70FynkZ5EQLvQXKeRnkRAu9Bcp5GeREC70FynkZ5EQLvQXKeRnkRAu9Bcp5GeREC70FynkZ5EQLvQXKeRnkRAu9Bcp5GeREC70FynkZ5EQLvQXKeRnkRAu9Bcp5GeREC70FynkZ5EQLvQXKeRnkRAu9Bcp5GeREC70FynkZ5EQLvQXKeRnkRAu9Bcp5GeREC70FynkZ5EQLvQXKeRnkRAu9Bcp5GeREC70FynkZ5EQLvQXKeRnkRAu9Bcp5GeREC70FynkZ5EQLvQXKeRnkRAu9Bcp5GeREC70FynkZ5EQLvQXKeRnkRAu9Bcp5GeREC70FynkZ5EQLvQXKeRnkRAu9Bcp5GeREC70FynkZ5EQLvQXKeRnkRAu9Bcp5GeREC70FynkZ5EQEg2V81zGkVASDZXzXMaRUC70FynkZ5EQLvQXKeRnkRAu9Bcp5GeREC70FynkZ5EQLvQXKeRnkRAu9Bcp5GeREC70FynkZ5EQLvQXKeRnkRAu9Bcp5GeREC70FynkZ5EQLvQXKeRnkRAu9Bcp5GeREC70FynkZ5EQLvQXKeRnkRAu9Bcp5GeREC70FynkZ5EQLvQXKeRnkRAu9Bcp5GeREC70FynkZ5EQLvQXKeRnkRAu9Bcp5GeREC70FynkZ5EQLvQXKeRnkRAu9Bcp5GeREC70FynkZ5EQC9rYoGvIkRAu9Bcp5GeREC70FynkZ5EQLvQXKeRnkRAu9Bcp5GeREC70FynkZ5EQLvQXKeRnkRAu9Bcp5GeREC70FynkZ5EQLvQXKeRnkRAu9Bcp5GeREC70FynkZ5EQLvQXKeRnkRAu9Bcp5GeREC70FynkZ5EQLvQXKeRnkRAu9Bcp5GeREC70FynkZ5EQLvQXKeRnkRAu9Bcp5GeREC70FynkZ5EQLvQXKeRnkRAu9Bcp5GeREC70FynkZ5EQLvQXKeRnkRAu9Bcp5GeREAva2KBryJEQC9rYoGvIkRAL2tiga8iREC70FynkZ5EQLvQXKeRnkRAu9Bcp5GeREC70FynkZ5EQLvQXKeRnkRAu9Bcp5GeREC70FynkZ5EQLvQXKeRnkRAu9Bcp5GeREC70FynkZ5EQLvQXKeRnkRAL2tiga8iREAva2KBryJEQC9rYoGvIkRAL2tiga8iREC70FynkZ5EQLvQXKeRnkRAu9Bcp5GeREC70FynkZ5EQLvQXKeRnkRAL2tiga8iREAva2KBryJEQC9rYoGvIkRAL2tiga8iREAva2KBryJEQC9rYoGvIkRAu9Bcp5GeREC70FynkZ5EQLvQXKeRnkRAu9Bcp5GeREC70FynkZ5EQLvQXKeRnkRAu9Bcp5GeREC70FynkZ5EQLvQXKeRnkRAu9Bcp5GeREC70FynkZ5EQLvQXKeRnkRAu9Bcp5GeREC70FynkZ5EQC9rYoGvIkRAL2tiga8iREAva2KBryJEQLvQXKeRnkRAu9Bcp5GeREC70FynkZ5EQC9rYoGvIkRAL2tiga8iREAva2KBryJEQLvQXKeRnkRAu9Bcp5GeREAva2KBryJEQC9rYoGvIkRAL2tiga8iREAva2KBryJEQLvQXKeRnkRAu9Bcp5GeREC70FynkZ5EQLvQXKeRnkRAu9Bcp5GeREC70FynkZ5EQLvQXKeRnkRAL2tiga8iREAva2KBryJEQLvQXKeRnkRAu9Bcp5GeREC70FynkZ5EQLvQXKeRnkRAL2tiga8iREAva2KBryJEQLvQXKeRnkRAu9Bcp5GeREAva2KBryJEQC9rYoGvIkRAL2tiga8iREAva2KBryJEQC9rYoGvIkRAL2tiga8iREC70FynkZ5EQLvQXKeRnkRAL2tiga8iREAva2KBryJEQC9rYoGvIkRAu9Bcp5GeREC70FynkZ5EQLvQXKeRnkRAL2tiga8iREC70FynkZ5EQLvQXKeRnkRAu9Bcp5GeREAva2KBryJEQC9rYoGvIkRAL2tiga8iREC70FynkZ5EQLvQXKeRnkRAu9Bcp5GeREAva2KBryJEQC9rYoGvIkRAL2tiga8iREAva2KBryJEQC9rYoGvIkRAL2tiga8iREAva2KBryJEQC9rYoGvIkRAL2tiga8iREAva2KBryJEQC9rYoGvIkRAu9Bcp5GeREC70FynkZ5EQC9rYoGvIkRAL2tiga8iREAva2KBryJEQC9rYoGvIkRAL2tiga8iREAva2KBryJEQC9rYoGvIkRAL2tiga8iREAva2KBryJEQC9rYoGvIkRAL2tiga8iREC70FynkZ5EQLvQXKeRnkRAL2tiga8iREAva2KBryJEQC9rYoGvIkRAL2tiga8iREAva2KBryJEQC9rYoGvIkRAL2tiga8iREAva2KBryJEQC9rYoGvIkRAL2tiga8iREAva2KBryJEQC9rYoGvIkRAL2tiga8iREAva2KBryJEQLvQXKeRnkRAu9Bcp5GeREAva2KBryJEQC9rYoGvIkRAL2tiga8iREAva2KBryJEQC9rYoGvIkRAL2tiga8iREC70FynkZ5EQC9rYoGvIkRAL2tiga8iREAva2KBryJEQC9rYoGvIkRAL2tiga8iREAva2KBryJEQC9rYoGvIkRAL2tiga8iREAva2KBryJEQLvQXKeRnkRAu9Bcp5GeREAva2KBryJEQC9rYoGvIkRAL2tiga8iREAva2KBryJEQC9rYoGvIkRAL2tiga8iREAva2KBryJEQC9rYoGvIkRAL2tiga8iREC70FynkZ5EQLvQXKeRnkRAL2tiga8iREAva2KBryJEQC9rYoGvIkRAL2tiga8iREAva2KBryJEQC9rYoGvIkRAu9Bcp5GeREC70FynkZ5EQLvQXKeRnkRAL2tiga8iREAva2KBryJEQC9rYoGvIkRAL2tiga8iREAva2KBryJEQC9rYoGvIkRAL2tiga8iREC70FynkZ5EQC9rYoGvIkRAL2tiga8iREAva2KBryJEQC9rYoGvIkRAL2tiga8iREAva2KBryJEQC9rYoGvIkRAL2tiga8iREAva2KBryJEQC9rYoGvIkRAL2tiga8iREAva2KBryJEQC9rYoGvIkRAL2tiga8iREAva2KBryJEQLvQXKeRnkRAu9Bcp5GeREAva2KBryJEQC9rYoGvIkRAL2tiga8iREAva2KBryJEQC9rYoGvIkRAL2tiga8iREAva2KBryJEQC9rYoGvIkRAL2tiga8iREAva2KBryJEQC9rYoGvIkRAL2tiga8iREAva2KBryJEQC9rYoGvIkRAL2tiga8iREAva2KBryJEQC9rYoGvIkRAL2tiga8iREAva2KBryJEQC9rYoGvIkRAL2tiga8iREAva2KBryJEQC9rYoGvIkRAL2tiga8iREAva2KBryJEQLvQXKeRnkRAu9Bcp5GeREAva2KBryJEQC9rYoGvIkRAL2tiga8iREAva2KBryJEQC9rYoGvIkRAL2tiga8iREAva2KBryJEQC9rYoGvIkRAL2tiga8iREAva2KBryJEQC9rYoGvIkRAu9Bcp5GeREAva2KBryJEQC9rYoGvIkRAL2tiga8iREAva2KBryJEQC9rYoGvIkRAL2tiga8iREAva2KBryJEQC9rYoGvIkRAu9Bcp5GeREC70FynkZ5EQLvQXKeRnkRAL2tiga8iREAva2KBryJEQC9rYoGvIkRAu9Bcp5GeREAva2KBryJEQC9rYoGvIkRAL2tiga8iREAva2KBryJEQC9rYoGvIkRAL2tiga8iREAva2KBryJEQC9rYoGvIkRAL2tiga8iREAva2KBryJEQC9rYoGvIkRAL2tiga8iREC70FynkZ5EQLvQXKeRnkRAL2tiga8iREAva2KBryJEQC9rYoGvIkRAL2tiga8iREAva2KBryJEQC9rYoGvIkRAL2tiga8iREAva2KBryJEQC9rYoGvIkRAL2tiga8iREAva2KBryJEQC9rYoGvIkRAL2tiga8iREAva2KBryJEQC9rYoGvIkRAL2tiga8iREAva2KBryJEQC9rYoGvIkRAL2tiga8iREAva2KBryJEQC9rYoGvIkRAL2tiga8iREC70FynkZ5EQC9rYoGvIkRAL2tiga8iREAva2KBryJEQC9rYoGvIkRAu9Bcp5GeREC70FynkZ5EQC9rYoGvIkRAL2tiga8iREAva2KBryJEQC9rYoGvIkRAL2tiga8iREAva2KBryJEQLvQXKeRnkRAL2tiga8iREAva2KBryJEQC9rYoGvIkRAL2tiga8iREAva2KBryJEQC9rYoGvIkRAL2tiga8iREAva2KBryJEQC9rYoGvIkRAL2tiga8iREAva2KBryJEQC9rYoGvIkRAL2tiga8iREAva2KBryJEQC9rYoGvIkRAL2tiga8iREAva2KBryJEQC9rYoGvIkRAL2tiga8iREAva2KBryJEQC9rYoGvIkRAL2tiga8iREAva2KBryJEQLvQXKeRnkRAu9Bcp5GeREAva2KBryJEQC9rYoGvIkRAL2tiga8iREAva2KBryJEQC9rYoGvIkRAL2tiga8iREAva2KBryJEQC9rYoGvIkRAL2tiga8iREAva2KBryJEQLvQXKeRnkRAu9Bcp5GeREC70FynkZ5EQLvQXKeRnkRAu9Bcp5GeREC70FynkZ5EQLvQXKeRnkRAu9Bcp5GeREC70FynkZ5EQLvQXKeRnkRAL2tiga8iREAva2KBryJEQC9rYoGvIkRAL2tiga8iREC70FynkZ5EQLvQXKeRnkRAL2tiga8iREAva2KBryJEQLvQXKeRnkRAu9Bcp5GeREAva2KBryJEQC9rYoGvIkRAu9Bcp5GeREC70FynkZ5EQC9rYoGvIkRAL2tiga8iREAva2KBryJEQC9rYoGvIkRAL2tiga8iREAva2KBryJEQC9rYoGvIkRAL2tiga8iREC70FynkZ5EQLvQXKeRnkRAu9Bcp5GeREC70FynkZ5EQLvQXKeRnkRAu9Bcp5GeREC70FynkZ5EQC9rYoGvIkRAL2tiga8iREAva2KBryJEQC9rYoGvIkRAL2tiga8iREAva2KBryJEQC9rYoGvIkRAL2tiga8iREC70FynkZ5EQLvQXKeRnkRAu9Bcp5GeREC70FynkZ5EQLvQXKeRnkRAu9Bcp5GeREC70FynkZ5EQLvQXKeRnkRAL2tiga8iREAva2KBryJEQC9rYoGvIkRAL2tiga8iREAva2KBryJEQC9rYoGvIkRAL2tiga8iREC70FynkZ5EQLvQXKeRnkRAu9Bcp5GeREC70FynkZ5EQLvQXKeRnkRAu9Bcp5GeREAva2KBryJEQC9rYoGvIkRAL2tiga8iREAva2KBryJEQC9rYoGvIkRAL2tiga8iREAva2KBryJEQLvQXKeRnkRAu9Bcp5GeREAva2KBryJEQC9rYoGvIkRAu9Bcp5GeREC70FynkZ5EQC9rYoGvIkRAL2tiga8iREAva2KBryJEQC9rYoGvIkRAu9Bcp5GeREC70FynkZ5EQLvQXKeRnkRAu9Bcp5GeREC70FynkZ5EQLvQXKeRnkRAu9Bcp5GeREC70FynkZ5EQLvQXKeRnkRAu9Bcp5GeREAva2KBryJEQC9rYoGvIkRAL2tiga8iREAva2KBryJEQC9rYoGvIkRAL2tiga8iREC70FynkZ5EQLvQXKeRnkRAL2tiga8iREAva2KBryJEQC9rYoGvIkRAL2tiga8iREAva2KBryJEQC9rYoGvIkRAu9Bcp5GeREC70FynkZ5EQC9rYoGvIkRAL2tiga8iREAva2KBryJEQLvQXKeRnkRAu9Bcp5GeREAva2KBryJEQC9rYoGvIkRAL2tiga8iREAva2KBryJEQC9rYoGvIkRAL2tiga8iREAva2KBryJEQC9rYoGvIkRAL2tiga8iREAva2KBryJEQC9rYoGvIkRAL2tiga8iREAva2KBryJEQC9rYoGvIkRAL2tiga8iREAva2KBryJEQC9rYoGvIkRAL2tiga8iREAva2KBryJEQC9rYoGvIkRAL2tiga8iREAva2KBryJEQC9rYoGvIkRAL2tiga8iREAva2KBryJEQC9rYoGvIkRAL2tiga8iREAva2KBryJEQC9rYoGvIkRAL2tiga8iREAva2KBryJEQC9rYoGvIkRAL2tiga8iREAva2KBryJEQC9rYoGvIkRAL2tiga8iREAva2KBryJEQC9rYoGvIkRAL2tiga8iREAva2KBryJEQC9rYoGvIkRAL2tiga8iREAva2KBryJEQC9rYoGvIkRAL2tiga8iREAva2KBryJEQC9rYoGvIkRAL2tiga8iREAva2KBryJEQC9rYoGvIkRAL2tiga8iREAva2KBryJEQC9rYoGvIkRAL2tiga8iREAva2KBryJEQC9rYoGvIkRAL2tiga8iREAva2KBryJEQC9rYoGvIkRAL2tiga8iREAva2KBryJEQC9rYoGvIkRAL2tiga8iREAva2KBryJEQKMFaFvNpkNAL2tiga8iREAva2KBryJEQC9rYoGvIkRAL2tiga8iREAva2KBryJEQC9rYoGvIkRAL2tiga8iRECjBWhbzaZDQKMFaFvNpkNAL2tiga8iREAva2KBryJEQC9rYoGvIkRAL2tiga8iREAva2KBryJEQC9rYoGvIkRAL2tiga8iRECjBWhbzaZDQC9rYoGvIkRAL2tiga8iREAva2KBryJEQC9rYoGvIkRAL2tiga8iREAva2KBryJEQC9rYoGvIkRAL2tiga8iREAva2KBryJEQC9rYoGvIkRAL2tiga8iREAva2KBryJEQC9rYoGvIkRAL2tiga8iREAva2KBryJEQC9rYoGvIkRAL2tiga8iRECjBWhbzaZDQC9rYoGvIkRAL2tiga8iREAva2KBryJEQC9rYoGvIkRAowVoW82mQ0CjBWhbzaZDQC9rYoGvIkRAL2tiga8iREAva2KBryJEQC9rYoGvIkRAL2tiga8iREAva2KBryJEQC9rYoGvIkRAL2tiga8iREAva2KBryJEQC9rYoGvIkRAL2tiga8iRECjBWhbzaZDQKMFaFvNpkNAowVoW82mQ0CjBWhbzaZDQKMFaFvNpkNAowVoW82mQ0CjBWhbzaZDQC9rYoGvIkRAL2tiga8iREAva2KBryJEQC9rYoGvIkRAL2tiga8iREAva2KBryJEQC9rYoGvIkRAL2tiga8iREAva2KBryJEQC9rYoGvIkRAowVoW82mQ0CjBWhbzaZDQKMFaFvNpkNAL2tiga8iREAva2KBryJEQC9rYoGvIkRAL2tiga8iREAva2KBryJEQC9rYoGvIkRAL2tiga8iREAva2KBryJEQC9rYoGvIkRAL2tiga8iREAva2KBryJEQC9rYoGvIkRAL2tiga8iREAva2KBryJEQC9rYoGvIkRAL2tiga8iREAva2KBryJEQC9rYoGvIkRAL2tiga8iREAva2KBryJEQC9rYoGvIkRAL2tiga8iREAva2KBryJEQKMFaFvNpkNAowVoW82mQ0CjBWhbzaZDQC9rYoGvIkRAL2tiga8iREAva2KBryJEQC9rYoGvIkRAL2tiga8iREAva2KBryJEQC9rYoGvIkRAL2tiga8iREAva2KBryJEQC9rYoGvIkRAL2tiga8iREAva2KBryJEQC9rYoGvIkRAL2tiga8iREAva2KBryJEQC9rYoGvIkRAL2tiga8iREAva2KBryJEQC9rYoGvIkRAL2tiga8iREAva2KBryJEQC9rYoGvIkRAL2tiga8iREAva2KBryJEQLvQXKeRnkRAu9Bcp5GeREAva2KBryJEQC9rYoGvIkRAL2tiga8iREAva2KBryJEQC9rYoGvIkRAL2tiga8iREAva2KBryJEQC9rYoGvIkRAu9Bcp5GeREC70FynkZ5EQLvQXKeRnkRAL2tiga8iREAva2KBryJEQLvQXKeRnkRAu9Bcp5GeREC70FynkZ5EQC9rYoGvIkRAL2tiga8iREAva2KBryJEQC9rYoGvIkRAu9Bcp5GeREC70FynkZ5EQC9rYoGvIkRAL2tiga8iREAva2KBryJEQC9rYoGvIkRAL2tiga8iREC70FynkZ5EQC9rYoGvIkRAL2tiga8iREAva2KBryJEQC9rYoGvIkRAL2tiga8iREAva2KBryJEQC9rYoGvIkRAL2tiga8iREAva2KBryJEQLvQXKeRnkRAu9Bcp5GeREC70FynkZ5EQLvQXKeRnkRAu9Bcp5GeREAva2KBryJEQC9rYoGvIkRAu9Bcp5GeREC70FynkZ5EQLvQXKeRnkRAL2tiga8iREAva2KBryJEQC9rYoGvIkRAL2tiga8iREAva2KBryJEQC9rYoGvIkRAL2tiga8iREAva2KBryJEQC9rYoGvIkRAL2tiga8iREAva2KBryJEQLvQXKeRnkRAu9Bcp5GeREC70FynkZ5EQLvQXKeRnkRAu9Bcp5GeREAva2KBryJEQC9rYoGvIkRAL2tiga8iREC70FynkZ5EQLvQXKeRnkRAL2tiga8iREAva2KBryJEQC9rYoGvIkRAL2tiga8iREAva2KBryJEQLvQXKeRnkRAu9Bcp5GeREC70FynkZ5EQLvQXKeRnkRAu9Bcp5GeREC70FynkZ5EQC9rYoGvIkRAL2tiga8iREC70FynkZ5EQC9rYoGvIkRAL2tiga8iREC70FynkZ5EQC9rYoGvIkRAu9Bcp5GeREC70FynkZ5EQLvQXKeRnkRAL2tiga8iREAva2KBryJEQC9rYoGvIkRAL2tiga8iREC70FynkZ5EQLvQXKeRnkRAu9Bcp5GeREC70FynkZ5EQLvQXKeRnkRAL2tiga8iREAva2KBryJEQC9rYoGvIkRAL2tiga8iREC70FynkZ5EQLvQXKeRnkRAu9Bcp5GeREAva2KBryJEQC9rYoGvIkRAu9Bcp5GeREAva2KBryJEQC9rYoGvIkRAL2tiga8iREAva2KBryJEQC9rYoGvIkRAu9Bcp5GeREC70FynkZ5EQC9rYoGvIkRAu9Bcp5GeREC70FynkZ5EQC9rYoGvIkRAL2tiga8iREAva2KBryJEQC9rYoGvIkRAL2tiga8iREC70FynkZ5EQLvQXKeRnkRAu9Bcp5GeREC70FynkZ5EQLvQXKeRnkRAL2tiga8iREAva2KBryJEQC9rYoGvIkRAu9Bcp5GeREC70FynkZ5EQLvQXKeRnkRAu9Bcp5GeREC70FynkZ5EQC9rYoGvIkRAL2tiga8iREC70FynkZ5EQLvQXKeRnkRAu9Bcp5GeREC70FynkZ5EQC9rYoGvIkRAL2tiga8iREC70FynkZ5EQLvQXKeRnkRAu9Bcp5GeREC70FynkZ5EQLvQXKeRnkRAu9Bcp5GeREAva2KBryJEQC9rYoGvIkRAL2tiga8iREC70FynkZ5EQLvQXKeRnkRAu9Bcp5GeREC70FynkZ5EQLvQXKeRnkRAu9Bcp5GeREC70FynkZ5EQLvQXKeRnkRAu9Bcp5GeREC70FynkZ5EQC9rYoGvIkRAL2tiga8iREC70FynkZ5EQC9rYoGvIkRAL2tiga8iREC70FynkZ5EQLvQXKeRnkRAu9Bcp5GeREC70FynkZ5EQLvQXKeRnkRAu9Bcp5GeREAva2KBryJEQC9rYoGvIkRAu9Bcp5GeREC70FynkZ5EQC9rYoGvIkRAL2tiga8iREC70FynkZ5EQLvQXKeRnkRAu9Bcp5GeREC70FynkZ5EQLvQXKeRnkRAu9Bcp5GeREC70FynkZ5EQLvQXKeRnkRAL2tiga8iREAva2KBryJEQLvQXKeRnkRAu9Bcp5GeREC70FynkZ5EQLvQXKeRnkRAu9Bcp5GeREC70FynkZ5EQC9rYoGvIkRAL2tiga8iREAva2KBryJEQC9rYoGvIkRAL2tiga8iREAva2KBryJEQLvQXKeRnkRAu9Bcp5GeREC70FynkZ5EQC9rYoGvIkRAL2tiga8iREC70FynkZ5EQC9rYoGvIkRAL2tiga8iREC70FynkZ5EQLvQXKeRnkRAL2tiga8iREAva2KBryJEQLvQXKeRnkRAu9Bcp5GeREAva2KBryJEQLvQXKeRnkRAu9Bcp5GeREAva2KBryJEQC9rYoGvIkRAL2tiga8iREAva2KBryJEQC9rYoGvIkRAL2tiga8iREC70FynkZ5EQLvQXKeRnkRAu9Bcp5GeREC70FynkZ5EQC9rYoGvIkRAL2tiga8iREC70FynkZ5EQLvQXKeRnkRAu9Bcp5GeREC70FynkZ5EQC9rYoGvIkRAL2tiga8iREC70FynkZ5EQLvQXKeRnkRAu9Bcp5GeREC70FynkZ5EQLvQXKeRnkRAu9Bcp5GeREC70FynkZ5EQLvQXKeRnkRAu9Bcp5GeREC70FynkZ5EQLvQXKeRnkRAu9Bcp5GeREC70FynkZ5EQLvQXKeRnkRAu9Bcp5GeREC70FynkZ5EQLvQXKeRnkRAu9Bcp5GeREC70FynkZ5EQLvQXKeRnkRAu9Bcp5GeREC70FynkZ5EQLvQXKeRnkRAu9Bcp5GeREC70FynkZ5EQLvQXKeRnkRAu9Bcp5GeREC70FynkZ5EQLvQXKeRnkRAu9Bcp5GeREC70FynkZ5EQLvQXKeRnkRAu9Bcp5GeREAva2KBryJEQC9rYoGvIkRAu9Bcp5GeREC70FynkZ5EQLvQXKeRnkRAu9Bcp5GeREAva2KBryJEQC9rYoGvIkRAu9Bcp5GeREC70FynkZ5EQC9rYoGvIkRAL2tiga8iREAva2KBryJEQC9rYoGvIkRAL2tiga8iREC70FynkZ5EQLvQXKeRnkRAu9Bcp5GeREAva2KBryJEQC9rYoGvIkRAu9Bcp5GeREC70FynkZ5EQLvQXKeRnkRAu9Bcp5GeREC70FynkZ5EQLvQXKeRnkRAu9Bcp5GeREC70FynkZ5EQLvQXKeRnkRAu9Bcp5GeREAva2KBryJEQC9rYoGvIkRAu9Bcp5GeREC70FynkZ5EQC9rYoGvIkRAL2tiga8iREAva2KBryJEQC9rYoGvIkRAu9Bcp5GeREC70FynkZ5EQLvQXKeRnkRAL2tiga8iREAva2KBryJEQC9rYoGvIkRAL2tiga8iREAva2KBryJEQLvQXKeRnkRAu9Bcp5GeREAva2KBryJEQC9rYoGvIkRAu9Bcp5GeREC70FynkZ5EQLvQXKeRnkRAu9Bcp5GeREC70FynkZ5EQLvQXKeRnkRAu9Bcp5GeREAva2KBryJEQC9rYoGvIkRAu9Bcp5GeREC70FynkZ5EQLvQXKeRnkRAu9Bcp5GeREC70FynkZ5EQLvQXKeRnkRAu9Bcp5GeREC70FynkZ5EQLvQXKeRnkRAu9Bcp5GeREAva2KBryJEQC9rYoGvIkRAL2tiga8iREAva2KBryJEQLvQXKeRnkRAu9Bcp5GeREC70FynkZ5EQC9rYoGvIkRAL2tiga8iREAva2KBryJEQLvQXKeRnkRAL2tiga8iREAva2KBryJEQC9rYoGvIkRAL2tiga8iREAva2KBryJEQLvQXKeRnkRAu9Bcp5GeREAva2KBryJEQC9rYoGvIkRAL2tiga8iREAva2KBryJEQLvQXKeRnkRAu9Bcp5GeREC70FynkZ5EQLvQXKeRnkRAu9Bcp5GeREC70FynkZ5EQC9rYoGvIkRAu9Bcp5GeREC70FynkZ5EQLvQXKeRnkRAu9Bcp5GeREAva2KBryJEQC9rYoGvIkRAL2tiga8iREC70FynkZ5EQC9rYoGvIkRAL2tiga8iREC70FynkZ5EQLvQXKeRnkRAu9Bcp5GeREC70FynkZ5EQLvQXKeRnkRAu9Bcp5GeREC70FynkZ5EQLvQXKeRnkRAu9Bcp5GeREC70FynkZ5EQLvQXKeRnkRAL2tiga8iREC70FynkZ5EQLvQXKeRnkRAu9Bcp5GeREAva2KBryJEQC9rYoGvIkRAL2tiga8iREC70FynkZ5EQLvQXKeRnkRAu9Bcp5GeREC70FynkZ5EQC9rYoGvIkRAL2tiga8iREAva2KBryJEQC9rYoGvIkRAu9Bcp5GeREC70FynkZ5EQLvQXKeRnkRAu9Bcp5GeREC70FynkZ5EQLvQXKeRnkRAu9Bcp5GeREC70FynkZ5EQLvQXKeRnkRAL2tiga8iREAva2KBryJEQLvQXKeRnkRAu9Bcp5GeREAva2KBryJEQC9rYoGvIkRAL2tiga8iREAva2KBryJEQC9rYoGvIkRAL2tiga8iREAva2KBryJEQC9rYoGvIkRAu9Bcp5GeREC70FynkZ5EQLvQXKeRnkRAu9Bcp5GeREC70FynkZ5EQC9rYoGvIkRAL2tiga8iREAva2KBryJEQLvQXKeRnkRAu9Bcp5GeREAva2KBryJEQLvQXKeRnkRAu9Bcp5GeREC70FynkZ5EQC9rYoGvIkRAL2tiga8iREC70FynkZ5EQLvQXKeRnkRAL2tiga8iREAva2KBryJEQC9rYoGvIkRAL2tiga8iREAva2KBryJEQC9rYoGvIkRAL2tiga8iREC70FynkZ5EQLvQXKeRnkRAL2tiga8iREAva2KBryJEQC9rYoGvIkRAL2tiga8iREAva2KBryJEQC9rYoGvIkRAL2tiga8iREAva2KBryJEQC9rYoGvIkRAL2tiga8iREAva2KBryJEQC9rYoGvIkRAu9Bcp5GeREC70FynkZ5EQLvQXKeRnkRAL2tiga8iREAva2KBryJEQC9rYoGvIkRAL2tiga8iREAva2KBryJEQC9rYoGvIkRAu9Bcp5GeREC70FynkZ5EQLvQXKeRnkRAu9Bcp5GeREC70FynkZ5EQLvQXKeRnkRAL2tiga8iREAva2KBryJEQC9rYoGvIkRAL2tiga8iREAva2KBryJEQLvQXKeRnkRAu9Bcp5GeREC70FynkZ5EQC9rYoGvIkRAu9Bcp5GeREC70FynkZ5EQC9rYoGvIkRAL2tiga8iREAva2KBryJEQLvQXKeRnkRAL2tiga8iREAva2KBryJEQLvQXKeRnkRAL2tiga8iREAva2KBryJEQC9rYoGvIkRAL2tiga8iREAva2KBryJEQC9rYoGvIkRAL2tiga8iREAva2KBryJEQC9rYoGvIkRAL2tiga8iREC70FynkZ5EQLvQXKeRnkRAL2tiga8iREAva2KBryJEQLvQXKeRnkRAu9Bcp5GeREAva2KBryJEQC9rYoGvIkRAL2tiga8iREAva2KBryJEQC9rYoGvIkRAu9Bcp5GeREC70FynkZ5EQLvQXKeRnkRAL2tiga8iREAva2KBryJEQC9rYoGvIkRAL2tiga8iREAva2KBryJEQC9rYoGvIkRAL2tiga8iREAva2KBryJEQC9rYoGvIkRAL2tiga8iREC70FynkZ5EQLvQXKeRnkRAu9Bcp5GeREC70FynkZ5EQC9rYoGvIkRAL2tiga8iREAva2KBryJEQC9rYoGvIkRAL2tiga8iREAva2KBryJEQC9rYoGvIkRAL2tiga8iREAva2KBryJEQC9rYoGvIkRAL2tiga8iREAva2KBryJEQC9rYoGvIkRAL2tiga8iREC70FynkZ5EQC9rYoGvIkRAL2tiga8iREAva2KBryJEQC9rYoGvIkRAL2tiga8iREAva2KBryJEQC9rYoGvIkRAL2tiga8iREAva2KBryJEQC9rYoGvIkRAL2tiga8iREAva2KBryJEQC9rYoGvIkRAL2tiga8iREAva2KBryJEQC9rYoGvIkRAL2tiga8iREAva2KBryJEQC9rYoGvIkRAL2tiga8iREC70FynkZ5EQC9rYoGvIkRAL2tiga8iREAva2KBryJEQC9rYoGvIkRAL2tiga8iREC70FynkZ5EQLvQXKeRnkRAu9Bcp5GeREAva2KBryJEQC9rYoGvIkRAu9Bcp5GeREC70FynkZ5EQC9rYoGvIkRAL2tiga8iREAva2KBryJEQC9rYoGvIkRAL2tiga8iREAva2KBryJEQC9rYoGvIkRAL2tiga8iREAva2KBryJEQC9rYoGvIkRAL2tiga8iREAva2KBryJEQC9rYoGvIkRAu9Bcp5GeREAva2KBryJEQC9rYoGvIkRAL2tiga8iREAva2KBryJEQC9rYoGvIkRAL2tiga8iREAva2KBryJEQC9rYoGvIkRAL2tiga8iRECjBWhbzaZDQC9rYoGvIkRAL2tiga8iREAva2KBryJEQC9rYoGvIkRAL2tiga8iREAva2KBryJEQC9rYoGvIkRAL2tiga8iREAva2KBryJEQC9rYoGvIkRAL2tiga8iREAva2KBryJEQC9rYoGvIkRAL2tiga8iREAva2KBryJEQC9rYoGvIkRAL2tiga8iRECjBWhbzaZDQC9rYoGvIkRAL2tiga8iRECjBWhbzaZDQKMFaFvNpkNAL2tiga8iRECjBWhbzaZDQC9rYoGvIkRAL2tiga8iREAva2KBryJEQC9rYoGvIkRAL2tiga8iREAva2KBryJEQC9rYoGvIkRAL2tiga8iREAva2KBryJEQKMFaFvNpkNAowVoW82mQ0CjBWhbzaZDQC9rYoGvIkRAL2tiga8iREAva2KBryJEQKMFaFvNpkNAowVoW82mQ0Ava2KBryJEQC9rYoGvIkRAL2tiga8iREAva2KBryJEQC9rYoGvIkRAL2tiga8iREAva2KBryJEQC9rYoGvIkRAL2tiga8iREAva2KBryJEQC9rYoGvIkRAL2tiga8iREAva2KBryJEQC9rYoGvIkRAL2tiga8iREAva2KBryJEQC9rYoGvIkRAL2tiga8iREAva2KBryJEQC9rYoGvIkRAL2tiga8iREAva2KBryJEQC9rYoGvIkRAL2tiga8iRECjBWhbzaZDQKMFaFvNpkNAowVoW82mQ0CjBWhbzaZDQC9rYoGvIkRAL2tiga8iREAva2KBryJEQC9rYoGvIkRAowVoW82mQ0CjBWhbzaZDQC9rYoGvIkRAL2tiga8iREAva2KBryJEQC9rYoGvIkRAL2tiga8iREAva2KBryJEQC9rYoGvIkRAL2tiga8iREAva2KBryJEQKMFaFvNpkNAowVoW82mQ0CjBWhbzaZDQKMFaFvNpkNAL2tiga8iREAva2KBryJEQC9rYoGvIkRAL2tiga8iRECjBWhbzaZDQKMFaFvNpkNAowVoW82mQ0CjBWhbzaZDQC9rYoGvIkRAL2tiga8iREAva2KBryJEQC9rYoGvIkRAL2tiga8iREAva2KBryJEQC9rYoGvIkRAL2tiga8iREAva2KBryJEQKMFaFvNpkNAowVoW82mQ0Ava2KBryJEQC9rYoGvIkRAL2tiga8iREAva2KBryJEQC9rYoGvIkRAowVoW82mQ0CjBWhbzaZDQKMFaFvNpkNAL2tiga8iREAva2KBryJEQC9rYoGvIkRAL2tiga8iREAva2KBryJEQC9rYoGvIkRAL2tiga8iREAva2KBryJEQC9rYoGvIkRAL2tiga8iREAva2KBryJEQC9rYoGvIkRAowVoW82mQ0Ava2KBryJEQC9rYoGvIkRAL2tiga8iRECjBWhbzaZDQKMFaFvNpkNAowVoW82mQ0Ava2KBryJEQKMFaFvNpkNAL2tiga8iRECjBWhbzaZDQKMFaFvNpkNAowVoW82mQ0CjBWhbzaZDQKMFaFvNpkNAowVoW82mQ0CjBWhbzaZDQKMFaFvNpkNAowVoW82mQ0CjBWhbzaZDQC9rYoGvIkRAL2tiga8iRECjBWhbzaZDQKMFaFvNpkNAowVoW82mQ0CjBWhbzaZDQKMFaFvNpkNAL2tiga8iREAva2KBryJEQC9rYoGvIkRAL2tiga8iRECjBWhbzaZDQKMFaFvNpkNAowVoW82mQ0CjBWhbzaZDQKMFaFvNpkNAowVoW82mQ0CjBWhbzaZDQKMFaFvNpkNAowVoW82mQ0CjBWhbzaZDQKMFaFvNpkNAowVoW82mQ0Ava2KBryJEQC9rYoGvIkRAL2tiga8iREAva2KBryJEQC9rYoGvIkRAL2tiga8iREAva2KBryJEQKMFaFvNpkNAowVoW82mQ0CjBWhbzaZDQKMFaFvNpkNAowVoW82mQ0CjBWhbzaZDQKMFaFvNpkNAowVoW82mQ0CjBWhbzaZDQKMFaFvNpkNAowVoW82mQ0CjBWhbzaZDQC9rYoGvIkRAowVoW82mQ0CjBWhbzaZDQC9rYoGvIkRAowVoW82mQ0CjBWhbzaZDQKMFaFvNpkNAowVoW82mQ0CjBWhbzaZDQKMFaFvNpkNAowVoW82mQ0CjBWhbzaZDQC9rYoGvIkRAL2tiga8iRECjBWhbzaZDQKMFaFvNpkNAowVoW82mQ0CjBWhbzaZDQKMFaFvNpkNAowVoW82mQ0CjBWhbzaZDQKMFaFvNpkNAL2tiga8iREAva2KBryJEQKMFaFvNpkNAL2tiga8iREAva2KBryJEQC9rYoGvIkRAowVoW82mQ0CjBWhbzaZDQKMFaFvNpkNAL2tiga8iREAva2KBryJEQKMFaFvNpkNAowVoW82mQ0CjBWhbzaZDQKMFaFvNpkNAowVoW82mQ0CjBWhbzaZDQKMFaFvNpkNAowVoW82mQ0Ava2KBryJEQC9rYoGvIkRAL2tiga8iRECjBWhbzaZDQKMFaFvNpkNAowVoW82mQ0Ava2KBryJEQKMFaFvNpkNAowVoW82mQ0CjBWhbzaZDQKMFaFvNpkNAowVoW82mQ0CjBWhbzaZDQKMFaFvNpkNAowVoW82mQ0CjBWhbzaZDQKMFaFvNpkNAowVoW82mQ0CjBWhbzaZDQKMFaFvNpkNAowVoW82mQ0CjBWhbzaZDQKMFaFvNpkNAowVoW82mQ0Ava2KBryJEQC9rYoGvIkRAowVoW82mQ0CjBWhbzaZDQKMFaFvNpkNAowVoW82mQ0CjBWhbzaZDQKMFaFvNpkNAowVoW82mQ0CjBWhbzaZDQKMFaFvNpkNAowVoW82mQ0CjBWhbzaZDQKMFaFvNpkNAowVoW82mQ0CjBWhbzaZDQKMFaFvNpkNAowVoW82mQ0CjBWhbzaZDQKMFaFvNpkNAowVoW82mQ0CjBWhbzaZDQKMFaFvNpkNAowVoW82mQ0CjBWhbzaZDQKMFaFvNpkNAowVoW82mQ0CjBWhbzaZDQKMFaFvNpkNAowVoW82mQ0CjBWhbzaZDQC9rYoGvIkRAowVoW82mQ0CjBWhbzaZDQKMFaFvNpkNAowVoW82mQ0CjBWhbzaZDQKMFaFvNpkNAowVoW82mQ0CjBWhbzaZDQKMFaFvNpkNAowVoW82mQ0CjBWhbzaZDQKMFaFvNpkNAowVoW82mQ0CjBWhbzaZDQKMFaFvNpkNAowVoW82mQ0CjBWhbzaZDQKMFaFvNpkNAowVoW82mQ0CjBWhbzaZDQKMFaFvNpkNAowVoW82mQ0CjBWhbzaZDQKMFaFvNpkNAowVoW82mQ0CjBWhbzaZDQKMFaFvNpkNAowVoW82mQ0CjBWhbzaZDQKMFaFvNpkNAowVoW82mQ0CjBWhbzaZDQKMFaFvNpkNAowVoW82mQ0CjBWhbzaZDQKMFaFvNpkNAowVoW82mQ0CjBWhbzaZDQKMFaFvNpkNAowVoW82mQ0CjBWhbzaZDQKMFaFvNpkNAowVoW82mQ0CjBWhbzaZDQKMFaFvNpkNAowVoW82mQ0CjBWhbzaZDQKMFaFvNpkNAowVoW82mQ0CjBWhbzaZDQKMFaFvNpkNAowVoW82mQ0CjBWhbzaZDQKMFaFvNpkNAowVoW82mQ0CjBWhbzaZDQKMFaFvNpkNAowVoW82mQ0CjBWhbzaZDQKMFaFvNpkNAowVoW82mQ0CjBWhbzaZDQKMFaFvNpkNAowVoW82mQ0CjBWhbzaZDQKMFaFvNpkNAowVoW82mQ0CjBWhbzaZDQKMFaFvNpkNAowVoW82mQ0CjBWhbzaZDQKMFaFvNpkNAowVoW82mQ0CjBWhbzaZDQKMFaFvNpkNAowVoW82mQ0CjBWhbzaZDQKMFaFvNpkNAowVoW82mQ0CjBWhbzaZDQKMFaFvNpkNAowVoW82mQ0CjBWhbzaZDQKMFaFvNpkNAowVoW82mQ0CjBWhbzaZDQKMFaFvNpkNAowVoW82mQ0CjBWhbzaZDQKMFaFvNpkNAowVoW82mQ0CjBWhbzaZDQKMFaFvNpkNAowVoW82mQ0CjBWhbzaZDQKMFaFvNpkNAowVoW82mQ0CjBWhbzaZDQKMFaFvNpkNAowVoW82mQ0CjBWhbzaZDQKMFaFvNpkNAowVoW82mQ0CjBWhbzaZDQKMFaFvNpkNAowVoW82mQ0CjBWhbzaZDQKMFaFvNpkNAowVoW82mQ0CjBWhbzaZDQKMFaFvNpkNAowVoW82mQ0CjBWhbzaZDQKMFaFvNpkNAowVoW82mQ0CjBWhbzaZDQKMFaFvNpkNAowVoW82mQ0CjBWhbzaZDQKMFaFvNpkNAowVoW82mQ0CjBWhbzaZDQKMFaFvNpkNAowVoW82mQ0CjBWhbzaZDQKMFaFvNpkNAowVoW82mQ0CjBWhbzaZDQKMFaFvNpkNAowVoW82mQ0CjBWhbzaZDQKMFaFvNpkNAowVoW82mQ0CjBWhbzaZDQKMFaFvNpkNAowVoW82mQ0CjBWhbzaZDQKMFaFvNpkNAowVoW82mQ0CjBWhbzaZDQKMFaFvNpkNAowVoW82mQ0CjBWhbzaZDQKMFaFvNpkNAowVoW82mQ0DnG9E96ypDQOcb0T3rKkNAowVoW82mQ0CjBWhbzaZDQKMFaFvNpkNAowVoW82mQ0CjBWhbzaZDQKMFaFvNpkNAowVoW82mQ0CjBWhbzaZDQKMFaFvNpkNAowVoW82mQ0CjBWhbzaZDQOcb0T3rKkNAowVoW82mQ0CjBWhbzaZDQKMFaFvNpkNAowVoW82mQ0CjBWhbzaZDQOcb0T3rKkNA5xvRPesqQ0DnG9E96ypDQOcb0T3rKkNAowVoW82mQ0DnG9E96ypDQOcb0T3rKkNA5xvRPesqQ0DnG9E96ypDQKMFaFvNpkNAowVoW82mQ0CjBWhbzaZDQOcb0T3rKkNA5xvRPesqQ0CjBWhbzaZDQKMFaFvNpkNAowVoW82mQ0DnG9E96ypDQOcb0T3rKkNAowVoW82mQ0CjBWhbzaZDQKMFaFvNpkNA5xvRPesqQ0DnG9E96ypDQOcb0T3rKkNA5xvRPesqQ0DnG9E96ypDQKMFaFvNpkNAowVoW82mQ0CjBWhbzaZDQKMFaFvNpkNA5xvRPesqQ0DnG9E96ypDQOcb0T3rKkNA5xvRPesqQ0DnG9E96ypDQOcb0T3rKkNA5xvRPesqQ0DnG9E96ypDQOcb0T3rKkNAowVoW82mQ0CjBWhbzaZDQOcb0T3rKkNA5xvRPesqQ0DnG9E96ypDQKMFaFvNpkNAowVoW82mQ0DnG9E96ypDQOcb0T3rKkNA5xvRPesqQ0DnG9E96ypDQOcb0T3rKkNA5xvRPesqQ0DnG9E96ypDQOcb0T3rKkNA5xvRPesqQ0DnG9E96ypDQOcb0T3rKkNA5xvRPesqQ0DnG9E96ypDQOcb0T3rKkNA5xvRPesqQ0DnG9E96ypDQOcb0T3rKkNA5xvRPesqQ0DnG9E96ypDQOcb0T3rKkNA5xvRPesqQ0DnG9E96ypDQOcb0T3rKkNA5xvRPesqQ0DnG9E96ypDQOcb0T3rKkNA5xvRPesqQ0DnG9E96ypDQOcb0T3rKkNA5xvRPesqQ0CjBWhbzaZDQKMFaFvNpkNA5xvRPesqQ0DnG9E96ypDQFu21hcJr0JAW7bWFwmvQkDnG9E96ypDQOcb0T3rKkNA5xvRPesqQ0DnG9E96ypDQOcb0T3rKkNA5xvRPesqQ0DnG9E96ypDQOcb0T3rKkNA5xvRPesqQ0DnG9E96ypDQOcb0T3rKkNAW7bWFwmvQkBbttYXCa9CQFu21hcJr0JAW7bWFwmvQkBbttYXCa9CQOcb0T3rKkNA5xvRPesqQ0DnG9E96ypDQOcb0T3rKkNA5xvRPesqQ0BbttYXCa9CQOcb0T3rKkNA5xvRPesqQ0DnG9E96ypDQFu21hcJr0JAW7bWFwmvQkDnG9E96ypDQOcb0T3rKkNA5xvRPesqQ0DnG9E96ypDQOcb0T3rKkNA5xvRPesqQ0DnG9E96ypDQOcb0T3rKkNAW7bWFwmvQkBbttYXCa9CQFu21hcJr0JA5xvRPesqQ0BbttYXCa9CQFu21hcJr0JA5xvRPesqQ0DnG9E96ypDQFu21hcJr0JA5xvRPesqQ0BbttYXCa9CQFu21hcJr0JA5xvRPesqQ0DnG9E96ypDQOcb0T3rKkNA5xvRPesqQ0DnG9E96ypDQOcb0T3rKkNA5xvRPesqQ0DnG9E96ypDQOcb0T3rKkNA5xvRPesqQ0BbttYXCa9CQFu21hcJr0JA5xvRPesqQ0DnG9E96ypDQFu21hcJr0JAW7bWFwmvQkDnG9E96ypDQOcb0T3rKkNA5xvRPesqQ0DnG9E96ypDQOcb0T3rKkNA5xvRPesqQ0DnG9E96ypDQOcb0T3rKkNA5xvRPesqQ0DnG9E96ypDQOcb0T3rKkNA5xvRPesqQ0DnG9E96ypDQOcb0T3rKkNA5xvRPesqQ0DnG9E96ypDQFu21hcJr0JAW7bWFwmvQkBbttYXCa9CQOcb0T3rKkNA5xvRPesqQ0DnG9E96ypDQOcb0T3rKkNA5xvRPesqQ0DnG9E96ypDQOcb0T3rKkNA5xvRPesqQ0DnG9E96ypDQFu21hcJr0JAW7bWFwmvQkBbttYXCa9CQFu21hcJr0JAW7bWFwmvQkDnG9E96ypDQOcb0T3rKkNA5xvRPesqQ0DnG9E96ypDQOcb0T3rKkNA5xvRPesqQ0DnG9E96ypDQOcb0T3rKkNAW7bWFwmvQkBbttYXCa9CQOcb0T3rKkNA5xvRPesqQ0DnG9E96ypDQOcb0T3rKkNA5xvRPesqQ0DnG9E96ypDQOcb0T3rKkNA5xvRPesqQ0DnG9E96ypDQOcb0T3rKkNA5xvRPesqQ0DnG9E96ypDQOcb0T3rKkNAW7bWFwmvQkBbttYXCa9CQOcb0T3rKkNA5xvRPesqQ0DnG9E96ypDQOcb0T3rKkNA5xvRPesqQ0DnG9E96ypDQOcb0T3rKkNA5xvRPesqQ0BbttYXCa9CQOcb0T3rKkNA5xvRPesqQ0DnG9E96ypDQOcb0T3rKkNA5xvRPesqQ0BbttYXCa9CQFu21hcJr0JAW7bWFwmvQkBbttYXCa9CQFu21hcJr0JA5xvRPesqQ0DnG9E96ypDQFu21hcJr0JAW7bWFwmvQkDnG9E96ypDQOcb0T3rKkNA5xvRPesqQ0DnG9E96ypDQOcb0T3rKkNA5xvRPesqQ0BbttYXCa9CQFu21hcJr0JA5xvRPesqQ0DnG9E96ypDQOcb0T3rKkNA5xvRPesqQ0DnG9E96ypDQOcb0T3rKkNA5xvRPesqQ0DnG9E96ypDQOcb0T3rKkNA5xvRPesqQ0DnG9E96ypDQOcb0T3rKkNA5xvRPesqQ0DnG9E96ypDQOcb0T3rKkNA5xvRPesqQ0BbttYXCa9CQFu21hcJr0JAW7bWFwmvQkBbttYXCa9CQFu21hcJr0JAW7bWFwmvQkBbttYXCa9CQFu21hcJr0JA5xvRPesqQ0DnG9E96ypDQOcb0T3rKkNA5xvRPesqQ0DnG9E96ypDQOcb0T3rKkNA5xvRPesqQ0BbttYXCa9CQOcb0T3rKkNA5xvRPesqQ0DnG9E96ypDQOcb0T3rKkNA5xvRPesqQ0DnG9E96ypDQOcb0T3rKkNA5xvRPesqQ0DnG9E96ypDQOcb0T3rKkNA5xvRPesqQ0BbttYXCa9CQFu21hcJr0JA5xvRPesqQ0DnG9E96ypDQOcb0T3rKkNA5xvRPesqQ0DnG9E96ypDQOcb0T3rKkNA5xvRPesqQ0DnG9E96ypDQFu21hcJr0JAW7bWFwmvQkDnG9E96ypDQOcb0T3rKkNA5xvRPesqQ0DnG9E96ypDQOcb0T3rKkNA5xvRPesqQ0BbttYXCa9CQFu21hcJr0JA5xvRPesqQ0DnG9E96ypDQOcb0T3rKkNA5xvRPesqQ0DnG9E96ypDQOcb0T3rKkNA5xvRPesqQ0DnG9E96ypDQOcb0T3rKkNA5xvRPesqQ0DnG9E96ypDQOcb0T3rKkNA5xvRPesqQ0DnG9E96ypDQOcb0T3rKkNA5xvRPesqQ0DnG9E96ypDQOcb0T3rKkNA5xvRPesqQ0DnG9E96ypDQOcb0T3rKkNA5xvRPesqQ0DnG9E96ypDQOcb0T3rKkNA5xvRPesqQ0DnG9E96ypDQFu21hcJr0JAW7bWFwmvQkBbttYXCa9CQFu21hcJr0JAW7bWFwmvQkDnG9E96ypDQOcb0T3rKkNA5xvRPesqQ0DnG9E96ypDQOcb0T3rKkNA5xvRPesqQ0DnG9E96ypDQOcb0T3rKkNA5xvRPesqQ0BbttYXCa9CQOcb0T3rKkNA5xvRPesqQ0DnG9E96ypDQOcb0T3rKkNA5xvRPesqQ0DnG9E96ypDQOcb0T3rKkNA5xvRPesqQ0DnG9E96ypDQOcb0T3rKkNA5xvRPesqQ0DnG9E96ypDQOcb0T3rKkNA5xvRPesqQ0DnG9E96ypDQOcb0T3rKkNA5xvRPesqQ0DnG9E96ypDQOcb0T3rKkNA5xvRPesqQ0DnG9E96ypDQOcb0T3rKkNA5xvRPesqQ0DnG9E96ypDQOcb0T3rKkNA5xvRPesqQ0DnG9E96ypDQOcb0T3rKkNA5xvRPesqQ0DnG9E96ypDQOcb0T3rKkNA5xvRPesqQ0DnG9E96ypDQOcb0T3rKkNA5xvRPesqQ0DnG9E96ypDQOcb0T3rKkNA5xvRPesqQ0DnG9E96ypDQOcb0T3rKkNA5xvRPesqQ0DnG9E96ypDQOcb0T3rKkNA5xvRPesqQ0DnG9E96ypDQOcb0T3rKkNA5xvRPesqQ0DnG9E96ypDQOcb0T3rKkNA5xvRPesqQ0DnG9E96ypDQOcb0T3rKkNA5xvRPesqQ0CjBWhbzaZDQKMFaFvNpkNAowVoW82mQ0CjBWhbzaZDQKMFaFvNpkNA5xvRPesqQ0DnG9E96ypDQKMFaFvNpkNAowVoW82mQ0CjBWhbzaZDQKMFaFvNpkNA5xvRPesqQ0DnG9E96ypDQOcb0T3rKkNA5xvRPesqQ0DnG9E96ypDQOcb0T3rKkNA5xvRPesqQ0DnG9E96ypDQOcb0T3rKkNA5xvRPesqQ0CjBWhbzaZDQKMFaFvNpkNAowVoW82mQ0DnG9E96ypDQOcb0T3rKkNAowVoW82mQ0DnG9E96ypDQOcb0T3rKkNA5xvRPesqQ0DnG9E96ypDQOcb0T3rKkNA5xvRPesqQ0DnG9E96ypDQOcb0T3rKkNA5xvRPesqQ0DnG9E96ypDQKMFaFvNpkNAowVoW82mQ0DnG9E96ypDQOcb0T3rKkNAowVoW82mQ0CjBWhbzaZDQKMFaFvNpkNA5xvRPesqQ0DnG9E96ypDQOcb0T3rKkNA5xvRPesqQ0DnG9E96ypDQOcb0T3rKkNA5xvRPesqQ0DnG9E96ypDQOcb0T3rKkNAowVoW82mQ0CjBWhbzaZDQOcb0T3rKkNA5xvRPesqQ0DnG9E96ypDQOcb0T3rKkNA5xvRPesqQ0DnG9E96ypDQOcb0T3rKkNA5xvRPesqQ0CjBWhbzaZDQKMFaFvNpkNA5xvRPesqQ0DnG9E96ypDQOcb0T3rKkNA5xvRPesqQ0DnG9E96ypDQOcb0T3rKkNA5xvRPesqQ0DnG9E96ypDQOcb0T3rKkNA5xvRPesqQ0DnG9E96ypDQOcb0T3rKkNA5xvRPesqQ0DnG9E96ypDQOcb0T3rKkNA5xvRPesqQ0DnG9E96ypDQOcb0T3rKkNA5xvRPesqQ0DnG9E96ypDQOcb0T3rKkNA5xvRPesqQ0DnG9E96ypDQOcb0T3rKkNA5xvRPesqQ0DnG9E96ypDQOcb0T3rKkNA5xvRPesqQ0DnG9E96ypDQOcb0T3rKkNA5xvRPesqQ0DnG9E96ypDQOcb0T3rKkNA5xvRPesqQ0DnG9E96ypDQOcb0T3rKkNA5xvRPesqQ0DnG9E96ypDQOcb0T3rKkNA5xvRPesqQ0DnG9E96ypDQOcb0T3rKkNA5xvRPesqQ0DnG9E96ypDQOcb0T3rKkNA5xvRPesqQ0DnG9E96ypDQFu21hcJr0JAW7bWFwmvQkBbttYXCa9CQFu21hcJr0JA5xvRPesqQ0DnG9E96ypDQFu21hcJr0JAW7bWFwmvQkDnG9E96ypDQOcb0T3rKkNA5xvRPesqQ0DnG9E96ypDQOcb0T3rKkNA5xvRPesqQ0DnG9E96ypDQOcb0T3rKkNA5xvRPesqQ0BbttYXCa9CQFu21hcJr0JAW7bWFwmvQkDnG9E96ypDQOcb0T3rKkNA5xvRPesqQ0BbttYXCa9CQFu21hcJr0JA5xvRPesqQ0DnG9E96ypDQOcb0T3rKkNA5xvRPesqQ0DnG9E96ypDQOcb0T3rKkNA5xvRPesqQ0DnG9E96ypDQFu21hcJr0JAW7bWFwmvQkDnG9E96ypDQOcb0T3rKkNA5xvRPesqQ0DnG9E96ypDQFu21hcJr0JAW7bWFwmvQkBbttYXCa9CQFu21hcJr0JA5xvRPesqQ0DnG9E96ypDQOcb0T3rKkNA5xvRPesqQ0DnG9E96ypDQOcb0T3rKkNA5xvRPesqQ0DnG9E96ypDQOcb0T3rKkNA5xvRPesqQ0DnG9E96ypDQOcb0T3rKkNAW7bWFwmvQkBbttYXCa9CQOcb0T3rKkNA5xvRPesqQ0DnG9E96ypDQFu21hcJr0JA5xvRPesqQ0DnG9E96ypDQFu21hcJr0JAW7bWFwmvQkDnG9E96ypDQOcb0T3rKkNA5xvRPesqQ0DnG9E96ypDQOcb0T3rKkNAW7bWFwmvQkBbttYXCa9CQFu21hcJr0JA5xvRPesqQ0DnG9E96ypDQOcb0T3rKkNAW7bWFwmvQkBbttYXCa9CQOcb0T3rKkNAW7bWFwmvQkBbttYXCa9CQFu21hcJr0JAW7bWFwmvQkBbttYXCa9CQFu21hcJr0JAW7bWFwmvQkBbttYXCa9CQFu21hcJr0JA5xvRPesqQ0BbttYXCa9CQFu21hcJr0JA5xvRPesqQ0DnG9E96ypDQFu21hcJr0JAW7bWFwmvQkDnG9E96ypDQFu21hcJr0JAW7bWFwmvQkDnG9E96ypDQOcb0T3rKkNAW7bWFwmvQkBbttYXCa9CQFu21hcJr0JA5xvRPesqQ0BbttYXCa9CQFu21hcJr0JA5xvRPesqQ0DnG9E96ypDQOcb0T3rKkNA5xvRPesqQ0DnG9E96ypDQOcb0T3rKkNA5xvRPesqQ0DnG9E96ypDQOcb0T3rKkNAW7bWFwmvQkBbttYXCa9CQOcb0T3rKkNA5xvRPesqQ0DnG9E96ypDQOcb0T3rKkNA5xvRPesqQ0DnG9E96ypDQFu21hcJr0JAW7bWFwmvQkBbttYXCa9CQFu21hcJr0JAW7bWFwmvQkBbttYXCa9CQOcb0T3rKkNA5xvRPesqQ0BbttYXCa9CQFu21hcJr0JA5xvRPesqQ0DnG9E96ypDQFu21hcJr0JAW7bWFwmvQkBbttYXCa9CQFu21hcJr0JA5xvRPesqQ0DnG9E96ypDQFu21hcJr0JAW7bWFwmvQkDnG9E96ypDQOcb0T3rKkNAW7bWFwmvQkBbttYXCa9CQFu21hcJr0JAW7bWFwmvQkBbttYXCa9CQFu21hcJr0JAW7bWFwmvQkBbttYXCa9CQFu21hcJr0JA5xvRPesqQ0DnG9E96ypDQOcb0T3rKkNA5xvRPesqQ0BbttYXCa9CQFu21hcJr0JAW7bWFwmvQkBbttYXCa9CQFu21hcJr0JAW7bWFwmvQkBbttYXCa9CQFu21hcJr0JAW7bWFwmvQkBbttYXCa9CQFu21hcJr0JAW7bWFwmvQkBbttYXCa9CQFu21hcJr0JAW7bWFwmvQkBbttYXCa9CQFu21hcJr0JAW7bWFwmvQkBbttYXCa9CQFu21hcJr0JAW7bWFwmvQkBbttYXCa9CQFu21hcJr0JAW7bWFwmvQkBbttYXCa9CQFu21hcJr0JAW7bWFwmvQkBbttYXCa9CQFu21hcJr0JAW7bWFwmvQkBbttYXCa9CQFu21hcJr0JAW7bWFwmvQkBbttYXCa9CQFu21hcJr0JAW7bWFwmvQkBbttYXCa9CQFu21hcJr0JAW7bWFwmvQkBbttYXCa9CQFu21hcJr0JAW7bWFwmvQkBbttYXCa9CQFu21hcJr0JAW7bWFwmvQkBbttYXCa9CQFu21hcJr0JAW7bWFwmvQkBbttYXCa9CQFu21hcJr0JAW7bWFwmvQkBbttYXCa9CQFu21hcJr0JAW7bWFwmvQkBbttYXCa9CQFu21hcJr0JAW7bWFwmvQkBbttYXCa9CQFu21hcJr0JAW7bWFwmvQkBbttYXCa9CQFu21hcJr0JAW7bWFwmvQkBbttYXCa9CQFu21hcJr0JAW7bWFwmvQkBbttYXCa9CQFu21hcJr0JAW7bWFwmvQkBbttYXCa9CQFu21hcJr0JAW7bWFwmvQkBbttYXCa9CQFu21hcJr0JAW7bWFwmvQkBbttYXCa9CQFu21hcJr0JAW7bWFwmvQkBbttYXCa9CQFu21hcJr0JAW7bWFwmvQkBbttYXCa9CQFu21hcJr0JAW7bWFwmvQkBbttYXCa9CQFu21hcJr0JAW7bWFwmvQkBbttYXCa9CQFu21hcJr0JAW7bWFwmvQkBbttYXCa9CQFu21hcJr0JAW7bWFwmvQkBbttYXCa9CQFu21hcJr0JAW7bWFwmvQkBbttYXCa9CQFu21hcJr0JAW7bWFwmvQkBbttYXCa9CQFu21hcJr0JAW7bWFwmvQkBbttYXCa9CQFu21hcJr0JAW7bWFwmvQkBbttYXCa9CQFu21hcJr0JAW7bWFwmvQkBbttYXCa9CQFu21hcJr0JAW7bWFwmvQkBbttYXCa9CQFu21hcJr0JAW7bWFwmvQkBbttYXCa9CQFu21hcJr0JAW7bWFwmvQkBbttYXCa9CQFu21hcJr0JAW7bWFwmvQkBbttYXCa9CQFu21hcJr0JAW7bWFwmvQkBbttYXCa9CQFu21hcJr0JAW7bWFwmvQkBbttYXCa9CQFu21hcJr0JAW7bWFwmvQkBbttYXCa9CQFu21hcJr0JAW7bWFwmvQkBbttYXCa9CQFu21hcJr0JAW7bWFwmvQkBbttYXCa9CQFu21hcJr0JAW7bWFwmvQkBbttYXCa9CQFu21hcJr0JAW7bWFwmvQkBbttYXCa9CQFu21hcJr0JAW7bWFwmvQkBbttYXCa9CQFu21hcJr0JAW7bWFwmvQkBbttYXCa9CQFu21hcJr0JAW7bWFwmvQkBbttYXCa9CQFu21hcJr0JAW7bWFwmvQkBbttYXCa9CQFu21hcJr0JAW7bWFwmvQkBbttYXCa9CQFu21hcJr0JAW7bWFwmvQkBbttYXCa9CQFu21hcJr0JAW7bWFwmvQkBbttYXCa9CQFu21hcJr0JAW7bWFwmvQkBbttYXCa9CQFu21hcJr0JAW7bWFwmvQkBbttYXCa9CQFu21hcJr0JAW7bWFwmvQkBbttYXCa9CQFu21hcJr0JAW7bWFwmvQkBbttYXCa9CQFu21hcJr0JAW7bWFwmvQkBbttYXCa9CQFu21hcJr0JAW7bWFwmvQkBbttYXCa9CQFu21hcJr0JAW7bWFwmvQkBbttYXCa9CQFu21hcJr0JAW7bWFwmvQkBbttYXCa9CQFu21hcJr0JAW7bWFwmvQkBbttYXCa9CQFu21hcJr0JAW7bWFwmvQkBbttYXCa9CQFu21hcJr0JAW7bWFwmvQkDOUNzxJjNCQM5Q3PEmM0JAW7bWFwmvQkBbttYXCa9CQFu21hcJr0JAzlDc8SYzQkDOUNzxJjNCQFu21hcJr0JAW7bWFwmvQkBbttYXCa9CQFu21hcJr0JAzlDc8SYzQkBbttYXCa9CQFu21hcJr0JAW7bWFwmvQkBbttYXCa9CQFu21hcJr0JAW7bWFwmvQkBbttYXCa9CQFu21hcJr0JAW7bWFwmvQkDOUNzxJjNCQFu21hcJr0JAW7bWFwmvQkBbttYXCa9CQFu21hcJr0JAW7bWFwmvQkDOUNzxJjNCQM5Q3PEmM0JAzlDc8SYzQkBbttYXCa9CQM5Q3PEmM0JAzlDc8SYzQkDOUNzxJjNCQM5Q3PEmM0JAzlDc8SYzQkDOUNzxJjNCQM5Q3PEmM0JAW7bWFwmvQkBbttYXCa9CQFu21hcJr0JAW7bWFwmvQkBbttYXCa9CQFu21hcJr0JAW7bWFwmvQkBbttYXCa9CQFu21hcJr0JAW7bWFwmvQkBbttYXCa9CQFu21hcJr0JAW7bWFwmvQkBbttYXCa9CQFu21hcJr0JAW7bWFwmvQkBbttYXCa9CQFu21hcJr0JAW7bWFwmvQkBbttYXCa9CQFu21hcJr0JAW7bWFwmvQkDOUNzxJjNCQFu21hcJr0JAW7bWFwmvQkBbttYXCa9CQM5Q3PEmM0JA",
          "dtype": "f8"
         },
         "yaxis": "y"
        },
        {
         "line": {
          "color": "red",
          "width": 4
         },
         "mode": "lines",
         "name": "Drop (Bold)",
         "type": "scatter",
         "x": [
          4921.376666666667,
          6209.231666666667
         ],
         "y": [
          36.399626,
          36.399626
         ]
        }
       ],
       "layout": {
        "legend": {
         "title": {
          "text": "Legend"
         },
         "tracegroupgap": 0,
         "x": 0.99,
         "xanchor": "right",
         "y": 0.99,
         "yanchor": "top"
        },
        "shapes": [
         {
          "fillcolor": "red",
          "layer": "below",
          "line": {
           "width": 0
          },
          "name": "Drop",
          "opacity": 0.3,
          "type": "rect",
          "x0": 4921.376666666667,
          "x1": 6209.231666666667,
          "xref": "x",
          "y0": 0,
          "y1": 1,
          "yref": "y domain"
         }
        ],
        "template": {
         "data": {
          "bar": [
           {
            "error_x": {
             "color": "#2a3f5f"
            },
            "error_y": {
             "color": "#2a3f5f"
            },
            "marker": {
             "line": {
              "color": "white",
              "width": 0.5
             },
             "pattern": {
              "fillmode": "overlay",
              "size": 10,
              "solidity": 0.2
             }
            },
            "type": "bar"
           }
          ],
          "barpolar": [
           {
            "marker": {
             "line": {
              "color": "white",
              "width": 0.5
             },
             "pattern": {
              "fillmode": "overlay",
              "size": 10,
              "solidity": 0.2
             }
            },
            "type": "barpolar"
           }
          ],
          "carpet": [
           {
            "aaxis": {
             "endlinecolor": "#2a3f5f",
             "gridcolor": "#C8D4E3",
             "linecolor": "#C8D4E3",
             "minorgridcolor": "#C8D4E3",
             "startlinecolor": "#2a3f5f"
            },
            "baxis": {
             "endlinecolor": "#2a3f5f",
             "gridcolor": "#C8D4E3",
             "linecolor": "#C8D4E3",
             "minorgridcolor": "#C8D4E3",
             "startlinecolor": "#2a3f5f"
            },
            "type": "carpet"
           }
          ],
          "choropleth": [
           {
            "colorbar": {
             "outlinewidth": 0,
             "ticks": ""
            },
            "type": "choropleth"
           }
          ],
          "contour": [
           {
            "colorbar": {
             "outlinewidth": 0,
             "ticks": ""
            },
            "colorscale": [
             [
              0,
              "#0d0887"
             ],
             [
              0.1111111111111111,
              "#46039f"
             ],
             [
              0.2222222222222222,
              "#7201a8"
             ],
             [
              0.3333333333333333,
              "#9c179e"
             ],
             [
              0.4444444444444444,
              "#bd3786"
             ],
             [
              0.5555555555555556,
              "#d8576b"
             ],
             [
              0.6666666666666666,
              "#ed7953"
             ],
             [
              0.7777777777777778,
              "#fb9f3a"
             ],
             [
              0.8888888888888888,
              "#fdca26"
             ],
             [
              1,
              "#f0f921"
             ]
            ],
            "type": "contour"
           }
          ],
          "contourcarpet": [
           {
            "colorbar": {
             "outlinewidth": 0,
             "ticks": ""
            },
            "type": "contourcarpet"
           }
          ],
          "heatmap": [
           {
            "colorbar": {
             "outlinewidth": 0,
             "ticks": ""
            },
            "colorscale": [
             [
              0,
              "#0d0887"
             ],
             [
              0.1111111111111111,
              "#46039f"
             ],
             [
              0.2222222222222222,
              "#7201a8"
             ],
             [
              0.3333333333333333,
              "#9c179e"
             ],
             [
              0.4444444444444444,
              "#bd3786"
             ],
             [
              0.5555555555555556,
              "#d8576b"
             ],
             [
              0.6666666666666666,
              "#ed7953"
             ],
             [
              0.7777777777777778,
              "#fb9f3a"
             ],
             [
              0.8888888888888888,
              "#fdca26"
             ],
             [
              1,
              "#f0f921"
             ]
            ],
            "type": "heatmap"
           }
          ],
          "histogram": [
           {
            "marker": {
             "pattern": {
              "fillmode": "overlay",
              "size": 10,
              "solidity": 0.2
             }
            },
            "type": "histogram"
           }
          ],
          "histogram2d": [
           {
            "colorbar": {
             "outlinewidth": 0,
             "ticks": ""
            },
            "colorscale": [
             [
              0,
              "#0d0887"
             ],
             [
              0.1111111111111111,
              "#46039f"
             ],
             [
              0.2222222222222222,
              "#7201a8"
             ],
             [
              0.3333333333333333,
              "#9c179e"
             ],
             [
              0.4444444444444444,
              "#bd3786"
             ],
             [
              0.5555555555555556,
              "#d8576b"
             ],
             [
              0.6666666666666666,
              "#ed7953"
             ],
             [
              0.7777777777777778,
              "#fb9f3a"
             ],
             [
              0.8888888888888888,
              "#fdca26"
             ],
             [
              1,
              "#f0f921"
             ]
            ],
            "type": "histogram2d"
           }
          ],
          "histogram2dcontour": [
           {
            "colorbar": {
             "outlinewidth": 0,
             "ticks": ""
            },
            "colorscale": [
             [
              0,
              "#0d0887"
             ],
             [
              0.1111111111111111,
              "#46039f"
             ],
             [
              0.2222222222222222,
              "#7201a8"
             ],
             [
              0.3333333333333333,
              "#9c179e"
             ],
             [
              0.4444444444444444,
              "#bd3786"
             ],
             [
              0.5555555555555556,
              "#d8576b"
             ],
             [
              0.6666666666666666,
              "#ed7953"
             ],
             [
              0.7777777777777778,
              "#fb9f3a"
             ],
             [
              0.8888888888888888,
              "#fdca26"
             ],
             [
              1,
              "#f0f921"
             ]
            ],
            "type": "histogram2dcontour"
           }
          ],
          "mesh3d": [
           {
            "colorbar": {
             "outlinewidth": 0,
             "ticks": ""
            },
            "type": "mesh3d"
           }
          ],
          "parcoords": [
           {
            "line": {
             "colorbar": {
              "outlinewidth": 0,
              "ticks": ""
             }
            },
            "type": "parcoords"
           }
          ],
          "pie": [
           {
            "automargin": true,
            "type": "pie"
           }
          ],
          "scatter": [
           {
            "fillpattern": {
             "fillmode": "overlay",
             "size": 10,
             "solidity": 0.2
            },
            "type": "scatter"
           }
          ],
          "scatter3d": [
           {
            "line": {
             "colorbar": {
              "outlinewidth": 0,
              "ticks": ""
             }
            },
            "marker": {
             "colorbar": {
              "outlinewidth": 0,
              "ticks": ""
             }
            },
            "type": "scatter3d"
           }
          ],
          "scattercarpet": [
           {
            "marker": {
             "colorbar": {
              "outlinewidth": 0,
              "ticks": ""
             }
            },
            "type": "scattercarpet"
           }
          ],
          "scattergeo": [
           {
            "marker": {
             "colorbar": {
              "outlinewidth": 0,
              "ticks": ""
             }
            },
            "type": "scattergeo"
           }
          ],
          "scattergl": [
           {
            "marker": {
             "colorbar": {
              "outlinewidth": 0,
              "ticks": ""
             }
            },
            "type": "scattergl"
           }
          ],
          "scattermap": [
           {
            "marker": {
             "colorbar": {
              "outlinewidth": 0,
              "ticks": ""
             }
            },
            "type": "scattermap"
           }
          ],
          "scattermapbox": [
           {
            "marker": {
             "colorbar": {
              "outlinewidth": 0,
              "ticks": ""
             }
            },
            "type": "scattermapbox"
           }
          ],
          "scatterpolar": [
           {
            "marker": {
             "colorbar": {
              "outlinewidth": 0,
              "ticks": ""
             }
            },
            "type": "scatterpolar"
           }
          ],
          "scatterpolargl": [
           {
            "marker": {
             "colorbar": {
              "outlinewidth": 0,
              "ticks": ""
             }
            },
            "type": "scatterpolargl"
           }
          ],
          "scatterternary": [
           {
            "marker": {
             "colorbar": {
              "outlinewidth": 0,
              "ticks": ""
             }
            },
            "type": "scatterternary"
           }
          ],
          "surface": [
           {
            "colorbar": {
             "outlinewidth": 0,
             "ticks": ""
            },
            "colorscale": [
             [
              0,
              "#0d0887"
             ],
             [
              0.1111111111111111,
              "#46039f"
             ],
             [
              0.2222222222222222,
              "#7201a8"
             ],
             [
              0.3333333333333333,
              "#9c179e"
             ],
             [
              0.4444444444444444,
              "#bd3786"
             ],
             [
              0.5555555555555556,
              "#d8576b"
             ],
             [
              0.6666666666666666,
              "#ed7953"
             ],
             [
              0.7777777777777778,
              "#fb9f3a"
             ],
             [
              0.8888888888888888,
              "#fdca26"
             ],
             [
              1,
              "#f0f921"
             ]
            ],
            "type": "surface"
           }
          ],
          "table": [
           {
            "cells": {
             "fill": {
              "color": "#EBF0F8"
             },
             "line": {
              "color": "white"
             }
            },
            "header": {
             "fill": {
              "color": "#C8D4E3"
             },
             "line": {
              "color": "white"
             }
            },
            "type": "table"
           }
          ]
         },
         "layout": {
          "annotationdefaults": {
           "arrowcolor": "#2a3f5f",
           "arrowhead": 0,
           "arrowwidth": 1
          },
          "autotypenumbers": "strict",
          "coloraxis": {
           "colorbar": {
            "outlinewidth": 0,
            "ticks": ""
           }
          },
          "colorscale": {
           "diverging": [
            [
             0,
             "#8e0152"
            ],
            [
             0.1,
             "#c51b7d"
            ],
            [
             0.2,
             "#de77ae"
            ],
            [
             0.3,
             "#f1b6da"
            ],
            [
             0.4,
             "#fde0ef"
            ],
            [
             0.5,
             "#f7f7f7"
            ],
            [
             0.6,
             "#e6f5d0"
            ],
            [
             0.7,
             "#b8e186"
            ],
            [
             0.8,
             "#7fbc41"
            ],
            [
             0.9,
             "#4d9221"
            ],
            [
             1,
             "#276419"
            ]
           ],
           "sequential": [
            [
             0,
             "#0d0887"
            ],
            [
             0.1111111111111111,
             "#46039f"
            ],
            [
             0.2222222222222222,
             "#7201a8"
            ],
            [
             0.3333333333333333,
             "#9c179e"
            ],
            [
             0.4444444444444444,
             "#bd3786"
            ],
            [
             0.5555555555555556,
             "#d8576b"
            ],
            [
             0.6666666666666666,
             "#ed7953"
            ],
            [
             0.7777777777777778,
             "#fb9f3a"
            ],
            [
             0.8888888888888888,
             "#fdca26"
            ],
            [
             1,
             "#f0f921"
            ]
           ],
           "sequentialminus": [
            [
             0,
             "#0d0887"
            ],
            [
             0.1111111111111111,
             "#46039f"
            ],
            [
             0.2222222222222222,
             "#7201a8"
            ],
            [
             0.3333333333333333,
             "#9c179e"
            ],
            [
             0.4444444444444444,
             "#bd3786"
            ],
            [
             0.5555555555555556,
             "#d8576b"
            ],
            [
             0.6666666666666666,
             "#ed7953"
            ],
            [
             0.7777777777777778,
             "#fb9f3a"
            ],
            [
             0.8888888888888888,
             "#fdca26"
            ],
            [
             1,
             "#f0f921"
            ]
           ]
          },
          "colorway": [
           "#636efa",
           "#EF553B",
           "#00cc96",
           "#ab63fa",
           "#FFA15A",
           "#19d3f3",
           "#FF6692",
           "#B6E880",
           "#FF97FF",
           "#FECB52"
          ],
          "font": {
           "color": "#2a3f5f"
          },
          "geo": {
           "bgcolor": "white",
           "lakecolor": "white",
           "landcolor": "white",
           "showlakes": true,
           "showland": true,
           "subunitcolor": "#C8D4E3"
          },
          "hoverlabel": {
           "align": "left"
          },
          "hovermode": "closest",
          "mapbox": {
           "style": "light"
          },
          "paper_bgcolor": "white",
          "plot_bgcolor": "white",
          "polar": {
           "angularaxis": {
            "gridcolor": "#EBF0F8",
            "linecolor": "#EBF0F8",
            "ticks": ""
           },
           "bgcolor": "white",
           "radialaxis": {
            "gridcolor": "#EBF0F8",
            "linecolor": "#EBF0F8",
            "ticks": ""
           }
          },
          "scene": {
           "xaxis": {
            "backgroundcolor": "white",
            "gridcolor": "#DFE8F3",
            "gridwidth": 2,
            "linecolor": "#EBF0F8",
            "showbackground": true,
            "ticks": "",
            "zerolinecolor": "#EBF0F8"
           },
           "yaxis": {
            "backgroundcolor": "white",
            "gridcolor": "#DFE8F3",
            "gridwidth": 2,
            "linecolor": "#EBF0F8",
            "showbackground": true,
            "ticks": "",
            "zerolinecolor": "#EBF0F8"
           },
           "zaxis": {
            "backgroundcolor": "white",
            "gridcolor": "#DFE8F3",
            "gridwidth": 2,
            "linecolor": "#EBF0F8",
            "showbackground": true,
            "ticks": "",
            "zerolinecolor": "#EBF0F8"
           }
          },
          "shapedefaults": {
           "line": {
            "color": "#2a3f5f"
           }
          },
          "ternary": {
           "aaxis": {
            "gridcolor": "#DFE8F3",
            "linecolor": "#A2B1C6",
            "ticks": ""
           },
           "baxis": {
            "gridcolor": "#DFE8F3",
            "linecolor": "#A2B1C6",
            "ticks": ""
           },
           "bgcolor": "white",
           "caxis": {
            "gridcolor": "#DFE8F3",
            "linecolor": "#A2B1C6",
            "ticks": ""
           }
          },
          "title": {
           "x": 0.05
          },
          "xaxis": {
           "automargin": true,
           "gridcolor": "#EBF0F8",
           "linecolor": "#EBF0F8",
           "ticks": "",
           "title": {
            "standoff": 15
           },
           "zerolinecolor": "#EBF0F8",
           "zerolinewidth": 2
          },
          "yaxis": {
           "automargin": true,
           "gridcolor": "#EBF0F8",
           "linecolor": "#EBF0F8",
           "ticks": "",
           "title": {
            "standoff": 15
           },
           "zerolinecolor": "#EBF0F8",
           "zerolinewidth": 2
          }
         }
        },
        "title": {
         "text": "Visualization of 01a530d3-6496-4515-9fbb-4f44e298fd29 (Reduced Data)"
        },
        "xaxis": {
         "anchor": "y",
         "domain": [
          0,
          1
         ],
         "rangeslider": {
          "visible": true
         },
         "title": {
          "text": "Time"
         },
         "type": "linear"
        },
        "yaxis": {
         "anchor": "x",
         "domain": [
          0,
          1
         ],
         "fixedrange": false,
         "title": {
          "text": "Pressure"
         }
        }
       }
      }
     },
     "metadata": {},
     "output_type": "display_data"
    }
   ],
   "source": [
    "plot_annotated_data(df, gt_df, selected_file)"
   ]
  },
  {
   "cell_type": "code",
   "execution_count": 135,
   "metadata": {},
   "outputs": [
    {
     "data": {
      "application/vnd.plotly.v1+json": {
       "config": {
        "plotlyServerURL": "https://plot.ly"
       },
       "data": [
        {
         "hovertemplate": "time=%{x}<br>pressure=%{y}<extra></extra>",
         "legendgroup": "",
         "line": {
          "color": "#636efa",
          "dash": "solid"
         },
         "marker": {
          "symbol": "circle"
         },
         "mode": "lines+markers",
         "name": "",
         "showlegend": false,
         "type": "scattergl",
         "x": {
          "bdata": "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",
          "dtype": "f8"
         },
         "xaxis": "x",
         "y": {
          "bdata": "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",
          "dtype": "f8"
         },
         "yaxis": "y"
        },
        {
         "line": {
          "color": "red",
          "width": 4
         },
         "mode": "lines",
         "name": "Drop (Bold)",
         "type": "scatter",
         "x": [
          4921.376666666667,
          6209.231666666667
         ],
         "y": [
          36.399626,
          36.399626
         ]
        }
       ],
       "layout": {
        "legend": {
         "title": {
          "text": "Legend"
         },
         "tracegroupgap": 0,
         "x": 0.99,
         "xanchor": "right",
         "y": 0.99,
         "yanchor": "top"
        },
        "shapes": [
         {
          "fillcolor": "red",
          "layer": "below",
          "line": {
           "width": 0
          },
          "name": "Drop",
          "opacity": 0.3,
          "type": "rect",
          "x0": 4921.376666666667,
          "x1": 6209.231666666667,
          "xref": "x",
          "y0": 0,
          "y1": 1,
          "yref": "y domain"
         }
        ],
        "template": {
         "data": {
          "bar": [
           {
            "error_x": {
             "color": "#2a3f5f"
            },
            "error_y": {
             "color": "#2a3f5f"
            },
            "marker": {
             "line": {
              "color": "white",
              "width": 0.5
             },
             "pattern": {
              "fillmode": "overlay",
              "size": 10,
              "solidity": 0.2
             }
            },
            "type": "bar"
           }
          ],
          "barpolar": [
           {
            "marker": {
             "line": {
              "color": "white",
              "width": 0.5
             },
             "pattern": {
              "fillmode": "overlay",
              "size": 10,
              "solidity": 0.2
             }
            },
            "type": "barpolar"
           }
          ],
          "carpet": [
           {
            "aaxis": {
             "endlinecolor": "#2a3f5f",
             "gridcolor": "#C8D4E3",
             "linecolor": "#C8D4E3",
             "minorgridcolor": "#C8D4E3",
             "startlinecolor": "#2a3f5f"
            },
            "baxis": {
             "endlinecolor": "#2a3f5f",
             "gridcolor": "#C8D4E3",
             "linecolor": "#C8D4E3",
             "minorgridcolor": "#C8D4E3",
             "startlinecolor": "#2a3f5f"
            },
            "type": "carpet"
           }
          ],
          "choropleth": [
           {
            "colorbar": {
             "outlinewidth": 0,
             "ticks": ""
            },
            "type": "choropleth"
           }
          ],
          "contour": [
           {
            "colorbar": {
             "outlinewidth": 0,
             "ticks": ""
            },
            "colorscale": [
             [
              0,
              "#0d0887"
             ],
             [
              0.1111111111111111,
              "#46039f"
             ],
             [
              0.2222222222222222,
              "#7201a8"
             ],
             [
              0.3333333333333333,
              "#9c179e"
             ],
             [
              0.4444444444444444,
              "#bd3786"
             ],
             [
              0.5555555555555556,
              "#d8576b"
             ],
             [
              0.6666666666666666,
              "#ed7953"
             ],
             [
              0.7777777777777778,
              "#fb9f3a"
             ],
             [
              0.8888888888888888,
              "#fdca26"
             ],
             [
              1,
              "#f0f921"
             ]
            ],
            "type": "contour"
           }
          ],
          "contourcarpet": [
           {
            "colorbar": {
             "outlinewidth": 0,
             "ticks": ""
            },
            "type": "contourcarpet"
           }
          ],
          "heatmap": [
           {
            "colorbar": {
             "outlinewidth": 0,
             "ticks": ""
            },
            "colorscale": [
             [
              0,
              "#0d0887"
             ],
             [
              0.1111111111111111,
              "#46039f"
             ],
             [
              0.2222222222222222,
              "#7201a8"
             ],
             [
              0.3333333333333333,
              "#9c179e"
             ],
             [
              0.4444444444444444,
              "#bd3786"
             ],
             [
              0.5555555555555556,
              "#d8576b"
             ],
             [
              0.6666666666666666,
              "#ed7953"
             ],
             [
              0.7777777777777778,
              "#fb9f3a"
             ],
             [
              0.8888888888888888,
              "#fdca26"
             ],
             [
              1,
              "#f0f921"
             ]
            ],
            "type": "heatmap"
           }
          ],
          "histogram": [
           {
            "marker": {
             "pattern": {
              "fillmode": "overlay",
              "size": 10,
              "solidity": 0.2
             }
            },
            "type": "histogram"
           }
          ],
          "histogram2d": [
           {
            "colorbar": {
             "outlinewidth": 0,
             "ticks": ""
            },
            "colorscale": [
             [
              0,
              "#0d0887"
             ],
             [
              0.1111111111111111,
              "#46039f"
             ],
             [
              0.2222222222222222,
              "#7201a8"
             ],
             [
              0.3333333333333333,
              "#9c179e"
             ],
             [
              0.4444444444444444,
              "#bd3786"
             ],
             [
              0.5555555555555556,
              "#d8576b"
             ],
             [
              0.6666666666666666,
              "#ed7953"
             ],
             [
              0.7777777777777778,
              "#fb9f3a"
             ],
             [
              0.8888888888888888,
              "#fdca26"
             ],
             [
              1,
              "#f0f921"
             ]
            ],
            "type": "histogram2d"
           }
          ],
          "histogram2dcontour": [
           {
            "colorbar": {
             "outlinewidth": 0,
             "ticks": ""
            },
            "colorscale": [
             [
              0,
              "#0d0887"
             ],
             [
              0.1111111111111111,
              "#46039f"
             ],
             [
              0.2222222222222222,
              "#7201a8"
             ],
             [
              0.3333333333333333,
              "#9c179e"
             ],
             [
              0.4444444444444444,
              "#bd3786"
             ],
             [
              0.5555555555555556,
              "#d8576b"
             ],
             [
              0.6666666666666666,
              "#ed7953"
             ],
             [
              0.7777777777777778,
              "#fb9f3a"
             ],
             [
              0.8888888888888888,
              "#fdca26"
             ],
             [
              1,
              "#f0f921"
             ]
            ],
            "type": "histogram2dcontour"
           }
          ],
          "mesh3d": [
           {
            "colorbar": {
             "outlinewidth": 0,
             "ticks": ""
            },
            "type": "mesh3d"
           }
          ],
          "parcoords": [
           {
            "line": {
             "colorbar": {
              "outlinewidth": 0,
              "ticks": ""
             }
            },
            "type": "parcoords"
           }
          ],
          "pie": [
           {
            "automargin": true,
            "type": "pie"
           }
          ],
          "scatter": [
           {
            "fillpattern": {
             "fillmode": "overlay",
             "size": 10,
             "solidity": 0.2
            },
            "type": "scatter"
           }
          ],
          "scatter3d": [
           {
            "line": {
             "colorbar": {
              "outlinewidth": 0,
              "ticks": ""
             }
            },
            "marker": {
             "colorbar": {
              "outlinewidth": 0,
              "ticks": ""
             }
            },
            "type": "scatter3d"
           }
          ],
          "scattercarpet": [
           {
            "marker": {
             "colorbar": {
              "outlinewidth": 0,
              "ticks": ""
             }
            },
            "type": "scattercarpet"
           }
          ],
          "scattergeo": [
           {
            "marker": {
             "colorbar": {
              "outlinewidth": 0,
              "ticks": ""
             }
            },
            "type": "scattergeo"
           }
          ],
          "scattergl": [
           {
            "marker": {
             "colorbar": {
              "outlinewidth": 0,
              "ticks": ""
             }
            },
            "type": "scattergl"
           }
          ],
          "scattermap": [
           {
            "marker": {
             "colorbar": {
              "outlinewidth": 0,
              "ticks": ""
             }
            },
            "type": "scattermap"
           }
          ],
          "scattermapbox": [
           {
            "marker": {
             "colorbar": {
              "outlinewidth": 0,
              "ticks": ""
             }
            },
            "type": "scattermapbox"
           }
          ],
          "scatterpolar": [
           {
            "marker": {
             "colorbar": {
              "outlinewidth": 0,
              "ticks": ""
             }
            },
            "type": "scatterpolar"
           }
          ],
          "scatterpolargl": [
           {
            "marker": {
             "colorbar": {
              "outlinewidth": 0,
              "ticks": ""
             }
            },
            "type": "scatterpolargl"
           }
          ],
          "scatterternary": [
           {
            "marker": {
             "colorbar": {
              "outlinewidth": 0,
              "ticks": ""
             }
            },
            "type": "scatterternary"
           }
          ],
          "surface": [
           {
            "colorbar": {
             "outlinewidth": 0,
             "ticks": ""
            },
            "colorscale": [
             [
              0,
              "#0d0887"
             ],
             [
              0.1111111111111111,
              "#46039f"
             ],
             [
              0.2222222222222222,
              "#7201a8"
             ],
             [
              0.3333333333333333,
              "#9c179e"
             ],
             [
              0.4444444444444444,
              "#bd3786"
             ],
             [
              0.5555555555555556,
              "#d8576b"
             ],
             [
              0.6666666666666666,
              "#ed7953"
             ],
             [
              0.7777777777777778,
              "#fb9f3a"
             ],
             [
              0.8888888888888888,
              "#fdca26"
             ],
             [
              1,
              "#f0f921"
             ]
            ],
            "type": "surface"
           }
          ],
          "table": [
           {
            "cells": {
             "fill": {
              "color": "#EBF0F8"
             },
             "line": {
              "color": "white"
             }
            },
            "header": {
             "fill": {
              "color": "#C8D4E3"
             },
             "line": {
              "color": "white"
             }
            },
            "type": "table"
           }
          ]
         },
         "layout": {
          "annotationdefaults": {
           "arrowcolor": "#2a3f5f",
           "arrowhead": 0,
           "arrowwidth": 1
          },
          "autotypenumbers": "strict",
          "coloraxis": {
           "colorbar": {
            "outlinewidth": 0,
            "ticks": ""
           }
          },
          "colorscale": {
           "diverging": [
            [
             0,
             "#8e0152"
            ],
            [
             0.1,
             "#c51b7d"
            ],
            [
             0.2,
             "#de77ae"
            ],
            [
             0.3,
             "#f1b6da"
            ],
            [
             0.4,
             "#fde0ef"
            ],
            [
             0.5,
             "#f7f7f7"
            ],
            [
             0.6,
             "#e6f5d0"
            ],
            [
             0.7,
             "#b8e186"
            ],
            [
             0.8,
             "#7fbc41"
            ],
            [
             0.9,
             "#4d9221"
            ],
            [
             1,
             "#276419"
            ]
           ],
           "sequential": [
            [
             0,
             "#0d0887"
            ],
            [
             0.1111111111111111,
             "#46039f"
            ],
            [
             0.2222222222222222,
             "#7201a8"
            ],
            [
             0.3333333333333333,
             "#9c179e"
            ],
            [
             0.4444444444444444,
             "#bd3786"
            ],
            [
             0.5555555555555556,
             "#d8576b"
            ],
            [
             0.6666666666666666,
             "#ed7953"
            ],
            [
             0.7777777777777778,
             "#fb9f3a"
            ],
            [
             0.8888888888888888,
             "#fdca26"
            ],
            [
             1,
             "#f0f921"
            ]
           ],
           "sequentialminus": [
            [
             0,
             "#0d0887"
            ],
            [
             0.1111111111111111,
             "#46039f"
            ],
            [
             0.2222222222222222,
             "#7201a8"
            ],
            [
             0.3333333333333333,
             "#9c179e"
            ],
            [
             0.4444444444444444,
             "#bd3786"
            ],
            [
             0.5555555555555556,
             "#d8576b"
            ],
            [
             0.6666666666666666,
             "#ed7953"
            ],
            [
             0.7777777777777778,
             "#fb9f3a"
            ],
            [
             0.8888888888888888,
             "#fdca26"
            ],
            [
             1,
             "#f0f921"
            ]
           ]
          },
          "colorway": [
           "#636efa",
           "#EF553B",
           "#00cc96",
           "#ab63fa",
           "#FFA15A",
           "#19d3f3",
           "#FF6692",
           "#B6E880",
           "#FF97FF",
           "#FECB52"
          ],
          "font": {
           "color": "#2a3f5f"
          },
          "geo": {
           "bgcolor": "white",
           "lakecolor": "white",
           "landcolor": "white",
           "showlakes": true,
           "showland": true,
           "subunitcolor": "#C8D4E3"
          },
          "hoverlabel": {
           "align": "left"
          },
          "hovermode": "closest",
          "mapbox": {
           "style": "light"
          },
          "paper_bgcolor": "white",
          "plot_bgcolor": "white",
          "polar": {
           "angularaxis": {
            "gridcolor": "#EBF0F8",
            "linecolor": "#EBF0F8",
            "ticks": ""
           },
           "bgcolor": "white",
           "radialaxis": {
            "gridcolor": "#EBF0F8",
            "linecolor": "#EBF0F8",
            "ticks": ""
           }
          },
          "scene": {
           "xaxis": {
            "backgroundcolor": "white",
            "gridcolor": "#DFE8F3",
            "gridwidth": 2,
            "linecolor": "#EBF0F8",
            "showbackground": true,
            "ticks": "",
            "zerolinecolor": "#EBF0F8"
           },
           "yaxis": {
            "backgroundcolor": "white",
            "gridcolor": "#DFE8F3",
            "gridwidth": 2,
            "linecolor": "#EBF0F8",
            "showbackground": true,
            "ticks": "",
            "zerolinecolor": "#EBF0F8"
           },
           "zaxis": {
            "backgroundcolor": "white",
            "gridcolor": "#DFE8F3",
            "gridwidth": 2,
            "linecolor": "#EBF0F8",
            "showbackground": true,
            "ticks": "",
            "zerolinecolor": "#EBF0F8"
           }
          },
          "shapedefaults": {
           "line": {
            "color": "#2a3f5f"
           }
          },
          "ternary": {
           "aaxis": {
            "gridcolor": "#DFE8F3",
            "linecolor": "#A2B1C6",
            "ticks": ""
           },
           "baxis": {
            "gridcolor": "#DFE8F3",
            "linecolor": "#A2B1C6",
            "ticks": ""
           },
           "bgcolor": "white",
           "caxis": {
            "gridcolor": "#DFE8F3",
            "linecolor": "#A2B1C6",
            "ticks": ""
           }
          },
          "title": {
           "x": 0.05
          },
          "xaxis": {
           "automargin": true,
           "gridcolor": "#EBF0F8",
           "linecolor": "#EBF0F8",
           "ticks": "",
           "title": {
            "standoff": 15
           },
           "zerolinecolor": "#EBF0F8",
           "zerolinewidth": 2
          },
          "yaxis": {
           "automargin": true,
           "gridcolor": "#EBF0F8",
           "linecolor": "#EBF0F8",
           "ticks": "",
           "title": {
            "standoff": 15
           },
           "zerolinecolor": "#EBF0F8",
           "zerolinewidth": 2
          }
         }
        },
        "title": {
         "text": "Visualization of 01a530d3-6496-4515-9fbb-4f44e298fd29 (Reduced Data)"
        },
        "xaxis": {
         "anchor": "y",
         "domain": [
          0,
          1
         ],
         "rangeslider": {
          "visible": true
         },
         "title": {
          "text": "Time"
         },
         "type": "linear"
        },
        "yaxis": {
         "anchor": "x",
         "domain": [
          0,
          1
         ],
         "fixedrange": false,
         "title": {
          "text": "Pressure"
         }
        }
       }
      }
     },
     "metadata": {},
     "output_type": "display_data"
    }
   ],
   "source": [
    "plot_annotated_data(df_reduced, gt_df, selected_file)"
   ]
  },
  {
   "cell_type": "code",
   "execution_count": 139,
   "metadata": {},
   "outputs": [
    {
     "data": {
      "text/html": [
       "<div>\n",
       "<style scoped>\n",
       "    .dataframe tbody tr th:only-of-type {\n",
       "        vertical-align: middle;\n",
       "    }\n",
       "\n",
       "    .dataframe tbody tr th {\n",
       "        vertical-align: top;\n",
       "    }\n",
       "\n",
       "    .dataframe thead th {\n",
       "        text-align: right;\n",
       "    }\n",
       "</style>\n",
       "<table border=\"1\" class=\"dataframe\">\n",
       "  <thead>\n",
       "    <tr style=\"text-align: right;\">\n",
       "      <th></th>\n",
       "      <th>time</th>\n",
       "      <th>pressure</th>\n",
       "    </tr>\n",
       "  </thead>\n",
       "  <tbody>\n",
       "    <tr>\n",
       "      <th>290</th>\n",
       "      <td>132.229167</td>\n",
       "      <td>39.303142</td>\n",
       "    </tr>\n",
       "    <tr>\n",
       "      <th>318</th>\n",
       "      <td>144.786111</td>\n",
       "      <td>38.335304</td>\n",
       "    </tr>\n",
       "    <tr>\n",
       "      <th>334</th>\n",
       "      <td>153.322778</td>\n",
       "      <td>39.303142</td>\n",
       "    </tr>\n",
       "    <tr>\n",
       "      <th>370</th>\n",
       "      <td>169.757222</td>\n",
       "      <td>38.335304</td>\n",
       "    </tr>\n",
       "    <tr>\n",
       "      <th>407</th>\n",
       "      <td>186.985833</td>\n",
       "      <td>39.303142</td>\n",
       "    </tr>\n",
       "    <tr>\n",
       "      <th>...</th>\n",
       "      <td>...</td>\n",
       "      <td>...</td>\n",
       "    </tr>\n",
       "    <tr>\n",
       "      <th>16895</th>\n",
       "      <td>8908.046389</td>\n",
       "      <td>36.399626</td>\n",
       "    </tr>\n",
       "    <tr>\n",
       "      <th>16902</th>\n",
       "      <td>8910.796389</td>\n",
       "      <td>37.367465</td>\n",
       "    </tr>\n",
       "    <tr>\n",
       "      <th>16924</th>\n",
       "      <td>8923.243333</td>\n",
       "      <td>36.399626</td>\n",
       "    </tr>\n",
       "    <tr>\n",
       "      <th>16925</th>\n",
       "      <td>8924.030556</td>\n",
       "      <td>37.367465</td>\n",
       "    </tr>\n",
       "    <tr>\n",
       "      <th>16928</th>\n",
       "      <td>8925.823056</td>\n",
       "      <td>36.399626</td>\n",
       "    </tr>\n",
       "  </tbody>\n",
       "</table>\n",
       "<p>1462 rows × 2 columns</p>\n",
       "</div>"
      ],
      "text/plain": [
       "              time   pressure\n",
       "290     132.229167  39.303142\n",
       "318     144.786111  38.335304\n",
       "334     153.322778  39.303142\n",
       "370     169.757222  38.335304\n",
       "407     186.985833  39.303142\n",
       "...            ...        ...\n",
       "16895  8908.046389  36.399626\n",
       "16902  8910.796389  37.367465\n",
       "16924  8923.243333  36.399626\n",
       "16925  8924.030556  37.367465\n",
       "16928  8925.823056  36.399626\n",
       "\n",
       "[1462 rows x 2 columns]"
      ]
     },
     "execution_count": 139,
     "metadata": {},
     "output_type": "execute_result"
    }
   ],
   "source": [
    "df_reduced"
   ]
  },
  {
   "cell_type": "code",
   "execution_count": 140,
   "metadata": {},
   "outputs": [
    {
     "data": {
      "text/html": [
       "<div>\n",
       "<style scoped>\n",
       "    .dataframe tbody tr th:only-of-type {\n",
       "        vertical-align: middle;\n",
       "    }\n",
       "\n",
       "    .dataframe tbody tr th {\n",
       "        vertical-align: top;\n",
       "    }\n",
       "\n",
       "    .dataframe thead th {\n",
       "        text-align: right;\n",
       "    }\n",
       "</style>\n",
       "<table border=\"1\" class=\"dataframe\">\n",
       "  <thead>\n",
       "    <tr style=\"text-align: right;\">\n",
       "      <th></th>\n",
       "      <th>time</th>\n",
       "      <th>pressure</th>\n",
       "    </tr>\n",
       "  </thead>\n",
       "  <tbody>\n",
       "    <tr>\n",
       "      <th>0</th>\n",
       "      <td>0.000000</td>\n",
       "      <td>38.335304</td>\n",
       "    </tr>\n",
       "    <tr>\n",
       "      <th>1</th>\n",
       "      <td>0.031111</td>\n",
       "      <td>38.335304</td>\n",
       "    </tr>\n",
       "    <tr>\n",
       "      <th>2</th>\n",
       "      <td>0.823889</td>\n",
       "      <td>38.335304</td>\n",
       "    </tr>\n",
       "    <tr>\n",
       "      <th>3</th>\n",
       "      <td>0.840000</td>\n",
       "      <td>38.335304</td>\n",
       "    </tr>\n",
       "    <tr>\n",
       "      <th>4</th>\n",
       "      <td>1.606944</td>\n",
       "      <td>38.335304</td>\n",
       "    </tr>\n",
       "    <tr>\n",
       "      <th>...</th>\n",
       "      <td>...</td>\n",
       "      <td>...</td>\n",
       "    </tr>\n",
       "    <tr>\n",
       "      <th>16924</th>\n",
       "      <td>8923.243333</td>\n",
       "      <td>36.399626</td>\n",
       "    </tr>\n",
       "    <tr>\n",
       "      <th>16925</th>\n",
       "      <td>8924.030556</td>\n",
       "      <td>37.367465</td>\n",
       "    </tr>\n",
       "    <tr>\n",
       "      <th>16926</th>\n",
       "      <td>8924.867222</td>\n",
       "      <td>37.367465</td>\n",
       "    </tr>\n",
       "    <tr>\n",
       "      <th>16927</th>\n",
       "      <td>8924.885556</td>\n",
       "      <td>37.367465</td>\n",
       "    </tr>\n",
       "    <tr>\n",
       "      <th>16928</th>\n",
       "      <td>8925.823056</td>\n",
       "      <td>36.399626</td>\n",
       "    </tr>\n",
       "  </tbody>\n",
       "</table>\n",
       "<p>16929 rows × 2 columns</p>\n",
       "</div>"
      ],
      "text/plain": [
       "              time   pressure\n",
       "0         0.000000  38.335304\n",
       "1         0.031111  38.335304\n",
       "2         0.823889  38.335304\n",
       "3         0.840000  38.335304\n",
       "4         1.606944  38.335304\n",
       "...            ...        ...\n",
       "16924  8923.243333  36.399626\n",
       "16925  8924.030556  37.367465\n",
       "16926  8924.867222  37.367465\n",
       "16927  8924.885556  37.367465\n",
       "16928  8925.823056  36.399626\n",
       "\n",
       "[16929 rows x 2 columns]"
      ]
     },
     "execution_count": 140,
     "metadata": {},
     "output_type": "execute_result"
    }
   ],
   "source": [
    "df"
   ]
  },
  {
   "cell_type": "code",
   "execution_count": null,
   "metadata": {},
   "outputs": [],
   "source": []
  }
 ],
 "metadata": {
  "kernelspec": {
   "display_name": "Python 3",
   "language": "python",
   "name": "python3"
  },
  "language_info": {
   "codemirror_mode": {
    "name": "ipython",
    "version": 3
   },
   "file_extension": ".py",
   "mimetype": "text/x-python",
   "name": "python",
   "nbconvert_exporter": "python",
   "pygments_lexer": "ipython3",
   "version": "3.13.2"
  }
 },
 "nbformat": 4,
 "nbformat_minor": 2
}
