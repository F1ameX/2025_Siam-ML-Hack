{
 "cells": [
  {
   "cell_type": "code",
   "execution_count": null,
   "metadata": {},
   "outputs": [],
   "source": [
    "import os\n",
    "import torch\n",
    "import warnings\n",
    "import tqdm\n",
    "import pandas as pd\n",
    "import numpy as np\n",
    "import gym\n",
    "import torch.nn as nn\n",
    "from gym import spaces\n",
    "from torch.utils.data import Dataset, DataLoader\n",
    "from stable_baselines3 import PPO\n",
    "from stable_baselines3.common.policies import ActorCriticPolicy\n",
    "from transformers import BertModel\n",
    "from stable_baselines3 import PPO"
   ]
  },
  {
   "cell_type": "code",
   "execution_count": null,
   "metadata": {},
   "outputs": [],
   "source": [
    "device = \"cuda\" if torch.cuda.is_available() else \"cpu\"\n",
    "torch.cuda.empty_cache()\n",
    "torch.cuda.ipc_collect()\n",
    "torch.cuda.set_per_process_memory_fraction(0.75, device = 0)\n",
    "warnings.filterwarnings('ignore')\n",
    "torch.manual_seed(52)\n",
    "np.random.seed(52)"
   ]
  },
  {
   "cell_type": "code",
   "execution_count": null,
   "metadata": {},
   "outputs": [],
   "source": [
    "class TransformerFeatureExtractor(nn.Module):\n",
    "    def __init__(self, input_dim, hidden_dim):\n",
    "        super(TransformerFeatureExtractor, self).__init__()\n",
    "        self.transformer = BertModel.from_pretrained(\"bert-base-uncased\")  \n",
    "        self.fc = nn.Linear(hidden_dim, hidden_dim)  \n",
    "\n",
    "    def forward(self, x):\n",
    "        x = self.transformer(x).last_hidden_state\n",
    "        x = self.fc(x[:, -1, :])  \n",
    "        return x\n",
    "\n",
    "class CustomTransformerPolicy(ActorCriticPolicy):\n",
    "    def __init__(self, *args, **kwargs):\n",
    "        super(CustomTransformerPolicy, self).__init__(*args, **kwargs)\n",
    "        self.feature_extractor = TransformerFeatureExtractor(self.features_dim, 128)\n",
    "        self.fc = nn.Linear(128, self.features_dim)\n",
    "\n",
    "    def forward(self, features):\n",
    "        transformer_out = self.feature_extractor(features)\n",
    "        return self.fc(transformer_out)"
   ]
  },
  {
   "cell_type": "code",
   "execution_count": null,
   "metadata": {},
   "outputs": [],
   "source": [
    "class TimeSeriesEnv(gym.Env):\n",
    "    def __init__(self, data, labels=None):\n",
    "        super(TimeSeriesEnv, self).__init__()\n",
    "\n",
    "        self.data = data\n",
    "        self.labels = labels\n",
    "        self.current_step = 0\n",
    "\n",
    "        observation_space = spaces.Box(low = 0.0, high = 1.0, shape = (100, 1), dtype = np.float32)\n",
    "        self.action_space = spaces.Discrete(3)  \n",
    "\n",
    "    def reset(self):\n",
    "        self.current_step = 0\n",
    "        return self.data[self.current_step]\n",
    "\n",
    "    def step(self, action):\n",
    "        reward = self.get_reward(action)\n",
    "        self.current_step += 1\n",
    "        done = self.current_step >= len(self.data) - 1\n",
    "        return self.data[self.current_step], reward, done, {}\n",
    "\n",
    "    def get_reward(self, action):\n",
    "        if self.labels is not None:\n",
    "            true_label = self.labels[self.current_step]\n",
    "            if action == true_label:\n",
    "                return 1\n",
    "            else:\n",
    "                return -1     \n",
    "        return 0"
   ]
  }
 ],
 "metadata": {
  "kernelspec": {
   "display_name": "Python 3",
   "language": "python",
   "name": "python3"
  },
  "language_info": {
   "codemirror_mode": {
    "name": "ipython",
    "version": 3
   },
   "file_extension": ".py",
   "mimetype": "text/x-python",
   "name": "python",
   "nbconvert_exporter": "python",
   "pygments_lexer": "ipython3",
   "version": "3.12.0"
  }
 },
 "nbformat": 4,
 "nbformat_minor": 2
}
